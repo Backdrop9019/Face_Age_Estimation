{
  "nbformat": 4,
  "nbformat_minor": 0,
  "metadata": {
    "colab": {
      "name": "lg 1.ipynb",
      "provenance": []
    },
    "kernelspec": {
      "name": "python3",
      "display_name": "Python 3"
    },
    "accelerator": "GPU"
  },
  "cells": [
    {
      "cell_type": "markdown",
      "metadata": {
        "id": "SAaJ3TwuxAw_"
      },
      "source": [
        "lg 품질 감지\n",
        "\n",
        "여러가지 시도\n"
      ]
    },
    {
      "cell_type": "code",
      "metadata": {
        "id": "5V9Pf6SwaRH5",
        "colab": {
          "base_uri": "https://localhost:8080/"
        },
        "outputId": "3b1d032c-ac34-422e-e954-16a2e3f74988"
      },
      "source": [
        "# from pycaret.classification import *\n",
        "import pandas as pd\n",
        "import numpy as np\n",
        "import datetime as dt\n",
        "import matplotlib.pyplot as plt\n",
        "from tqdm import tqdm\n",
        "import seaborn as sns\n",
        "from torch.utils.data import Dataset, DataLoader\n",
        "\n",
        "\n",
        "import torch\n",
        "import torch.nn as nn\n",
        "import torch.optim as optim\n",
        "\n",
        "import gc\n",
        "import random\n",
        "import lightgbm as lgb\n",
        "import re\n",
        "from sklearn.metrics import *\n",
        "from sklearn.model_selection import KFold\n",
        "import warnings\n",
        "warnings.filterwarnings(action='ignore')\n",
        "from sklearn.preprocessing import MinMaxScaler    \n",
        "from sklearn.model_selection import train_test_split\n",
        "from sklearn.metrics import mean_squared_error, r2_score\n",
        "from google.colab import drive\n",
        "\n",
        "drive.mount('/content/drive')\n",
        "\n",
        "\n",
        "PATH = '/content/drive/My Drive/Colab Notebooks/data/시스템품질변화/'"
      ],
      "execution_count": null,
      "outputs": [
        {
          "output_type": "stream",
          "text": [
            "Mounted at /content/drive\n"
          ],
          "name": "stdout"
        }
      ]
    },
    {
      "cell_type": "code",
      "metadata": {
        "id": "HnieSFWRwc_G"
      },
      "source": [
        "\n",
        "import matplotlib.pyplot as plt\n",
        "from matplotlib.ticker import MaxNLocator\n",
        "plt.style.use('ggplot') # default plot style.\n",
        "\n",
        "from scipy import stats\n",
        "from scipy.stats import norm\n",
        "\n",
        "\n",
        "from sklearn.preprocessing import LabelEncoder \n",
        "from sklearn.preprocessing import OneHotEncoder\n",
        "from sklearn.compose import ColumnTransformer \n",
        "\n"
      ],
      "execution_count": null,
      "outputs": []
    },
    {
      "cell_type": "code",
      "metadata": {
        "id": "OnMgcCFj8qFE"
      },
      "source": [
        "train_err  = pd.read_csv(PATH+'train/train_err_data.csv')\n",
        "train_quality  = pd.read_csv(PATH+'train/train_quality_data.csv')\n",
        "train_problem  = pd.read_csv(PATH+'train/train_problem_data.csv')\n",
        "# submission  = pd.read_csv(PATH+'sample_submission.csv ')\n",
        "\n",
        "test_err  = pd.read_csv(PATH+'test/test_err_data.csv')\n",
        "test_quality  = pd.read_csv(PATH+'test/test_quality_data.csv')"
      ],
      "execution_count": null,
      "outputs": []
    },
    {
      "cell_type": "code",
      "metadata": {
        "colab": {
          "base_uri": "https://localhost:8080/",
          "height": 307
        },
        "id": "aDgPwVyn_uWY",
        "outputId": "e5001f06-c47a-4936-a0d1-accb4e4121f6"
      },
      "source": [
        "plt.plot(train_err[\"time\"])"
      ],
      "execution_count": null,
      "outputs": [
        {
          "output_type": "execute_result",
          "data": {
            "text/plain": [
              "[<matplotlib.lines.Line2D at 0x7fcbc1af6c18>]"
            ]
          },
          "metadata": {
            "tags": []
          },
          "execution_count": 8
        },
        {
          "output_type": "display_data",
          "data": {
            "image/png": "[encoded data removed]",
            "text/plain": [
              "<Figure size 432x288 with 1 Axes>"
            ]
          },
          "metadata": {
            "tags": [],
            "needs_background": "light"
          }
        }
      ]
    },
    {
      "cell_type": "code",
      "metadata": {
        "colab": {
          "base_uri": "https://localhost:8080/",
          "height": 198
        },
        "id": "VYwhk7-o_V3f",
        "outputId": "e8e462fa-7137-4903-ef99-71ec64476042"
      },
      "source": [
        "train_err.head()"
      ],
      "execution_count": null,
      "outputs": [
        {
          "output_type": "execute_result",
          "data": {
            "text/html": [
              "<div>\n",
              "<style scoped>\n",
              "    .dataframe tbody tr th:only-of-type {\n",
              "        vertical-align: middle;\n",
              "    }\n",
              "\n",
              "    .dataframe tbody tr th {\n",
              "        vertical-align: top;\n",
              "    }\n",
              "\n",
              "    .dataframe thead th {\n",
              "        text-align: right;\n",
              "    }\n",
              "</style>\n",
              "<table border=\"1\" class=\"dataframe\">\n",
              "  <thead>\n",
              "    <tr style=\"text-align: right;\">\n",
              "      <th></th>\n",
              "      <th>user_id</th>\n",
              "      <th>time</th>\n",
              "      <th>model_nm</th>\n",
              "      <th>fwver</th>\n",
              "      <th>errtype</th>\n",
              "      <th>errcode</th>\n",
              "    </tr>\n",
              "  </thead>\n",
              "  <tbody>\n",
              "    <tr>\n",
              "      <th>0</th>\n",
              "      <td>10000</td>\n",
              "      <td>20201101025616</td>\n",
              "      <td>model_3</td>\n",
              "      <td>05.15.2138</td>\n",
              "      <td>15</td>\n",
              "      <td>1</td>\n",
              "    </tr>\n",
              "    <tr>\n",
              "      <th>1</th>\n",
              "      <td>10000</td>\n",
              "      <td>20201101030309</td>\n",
              "      <td>model_3</td>\n",
              "      <td>05.15.2138</td>\n",
              "      <td>12</td>\n",
              "      <td>1</td>\n",
              "    </tr>\n",
              "    <tr>\n",
              "      <th>2</th>\n",
              "      <td>10000</td>\n",
              "      <td>20201101030309</td>\n",
              "      <td>model_3</td>\n",
              "      <td>05.15.2138</td>\n",
              "      <td>11</td>\n",
              "      <td>1</td>\n",
              "    </tr>\n",
              "    <tr>\n",
              "      <th>3</th>\n",
              "      <td>10000</td>\n",
              "      <td>20201101050514</td>\n",
              "      <td>model_3</td>\n",
              "      <td>05.15.2138</td>\n",
              "      <td>16</td>\n",
              "      <td>1</td>\n",
              "    </tr>\n",
              "    <tr>\n",
              "      <th>4</th>\n",
              "      <td>10000</td>\n",
              "      <td>20201101050515</td>\n",
              "      <td>model_3</td>\n",
              "      <td>05.15.2138</td>\n",
              "      <td>4</td>\n",
              "      <td>0</td>\n",
              "    </tr>\n",
              "  </tbody>\n",
              "</table>\n",
              "</div>"
            ],
            "text/plain": [
              "   user_id            time model_nm       fwver  errtype errcode\n",
              "0    10000  20201101025616  model_3  05.15.2138       15       1\n",
              "1    10000  20201101030309  model_3  05.15.2138       12       1\n",
              "2    10000  20201101030309  model_3  05.15.2138       11       1\n",
              "3    10000  20201101050514  model_3  05.15.2138       16       1\n",
              "4    10000  20201101050515  model_3  05.15.2138        4       0"
            ]
          },
          "metadata": {
            "tags": []
          },
          "execution_count": 7
        }
      ]
    },
    {
      "cell_type": "code",
      "metadata": {
        "colab": {
          "base_uri": "https://localhost:8080/",
          "height": 198
        },
        "id": "Us2_TSXMfcl-",
        "outputId": "f236a1c9-0d0c-4599-f54a-703a02dba9b0"
      },
      "source": [
        "train_problem.head()"
      ],
      "execution_count": null,
      "outputs": [
        {
          "output_type": "execute_result",
          "data": {
            "text/html": [
              "<div>\n",
              "<style scoped>\n",
              "    .dataframe tbody tr th:only-of-type {\n",
              "        vertical-align: middle;\n",
              "    }\n",
              "\n",
              "    .dataframe tbody tr th {\n",
              "        vertical-align: top;\n",
              "    }\n",
              "\n",
              "    .dataframe thead th {\n",
              "        text-align: right;\n",
              "    }\n",
              "</style>\n",
              "<table border=\"1\" class=\"dataframe\">\n",
              "  <thead>\n",
              "    <tr style=\"text-align: right;\">\n",
              "      <th></th>\n",
              "      <th>user_id</th>\n",
              "      <th>time</th>\n",
              "    </tr>\n",
              "  </thead>\n",
              "  <tbody>\n",
              "    <tr>\n",
              "      <th>0</th>\n",
              "      <td>19224</td>\n",
              "      <td>20201102200000</td>\n",
              "    </tr>\n",
              "    <tr>\n",
              "      <th>1</th>\n",
              "      <td>23664</td>\n",
              "      <td>20201116140000</td>\n",
              "    </tr>\n",
              "    <tr>\n",
              "      <th>2</th>\n",
              "      <td>15166</td>\n",
              "      <td>20201114130000</td>\n",
              "    </tr>\n",
              "    <tr>\n",
              "      <th>3</th>\n",
              "      <td>12590</td>\n",
              "      <td>20201108210000</td>\n",
              "    </tr>\n",
              "    <tr>\n",
              "      <th>4</th>\n",
              "      <td>15932</td>\n",
              "      <td>20201103210000</td>\n",
              "    </tr>\n",
              "  </tbody>\n",
              "</table>\n",
              "</div>"
            ],
            "text/plain": [
              "   user_id            time\n",
              "0    19224  20201102200000\n",
              "1    23664  20201116140000\n",
              "2    15166  20201114130000\n",
              "3    12590  20201108210000\n",
              "4    15932  20201103210000"
            ]
          },
          "metadata": {
            "tags": []
          },
          "execution_count": 6
        }
      ]
    },
    {
      "cell_type": "code",
      "metadata": {
        "colab": {
          "base_uri": "https://localhost:8080/"
        },
        "id": "qthu-bNG9Y9b",
        "outputId": "4ec9f567-541f-4371-c246-ed44538b6b21"
      },
      "source": [
        "train_err.info()"
      ],
      "execution_count": null,
      "outputs": [
        {
          "output_type": "stream",
          "text": [
            "<class 'pandas.core.frame.DataFrame'>\n",
            "RangeIndex: 16554663 entries, 0 to 16554662\n",
            "Data columns (total 6 columns):\n",
            " #   Column    Dtype \n",
            "---  ------    ----- \n",
            " 0   user_id   int64 \n",
            " 1   time      int64 \n",
            " 2   model_nm  object\n",
            " 3   fwver     object\n",
            " 4   errtype   int64 \n",
            " 5   errcode   object\n",
            "dtypes: int64(3), object(3)\n",
            "memory usage: 757.8+ MB\n"
          ],
          "name": "stdout"
        }
      ]
    },
    {
      "cell_type": "code",
      "metadata": {
        "colab": {
          "base_uri": "https://localhost:8080/",
          "height": 1000
        },
        "id": "y_YOp_2hYr2a",
        "outputId": "3b440947-eab6-4626-b161-3653209ef7ea"
      },
      "source": [
        "user_id = 10006\n",
        "for user_id in set(train_problem[\"user_id\"]):\n",
        "  display(\n",
        "  train_err.loc[(train_err[\"user_id\"] == user_id) &\n",
        "              (train_err[\"time\"] <train_problem.loc[train_problem[\"user_id\"] == user_id].iloc[0][\"time\"])].iloc[-30:]\n",
        "  )\n",
        "\n",
        "  display(train_problem.loc[train_problem[\"user_id\"] == user_id].iloc[:][\"time\"])\n",
        "\n",
        "  temp = train_err.loc[(train_err[\"user_id\"] == user_id) &\n",
        "              (train_err[\"time\"] <train_problem.loc[train_problem[\"user_id\"] == user_id].iloc[0][\"time\"])]"
      ],
      "execution_count": null,
      "outputs": [
        {
          "output_type": "display_data",
          "data": {
            "text/html": [
              "<div>\n",
              "<style scoped>\n",
              "    .dataframe tbody tr th:only-of-type {\n",
              "        vertical-align: middle;\n",
              "    }\n",
              "\n",
              "    .dataframe tbody tr th {\n",
              "        vertical-align: top;\n",
              "    }\n",
              "\n",
              "    .dataframe thead th {\n",
              "        text-align: right;\n",
              "    }\n",
              "</style>\n",
              "<table border=\"1\" class=\"dataframe\">\n",
              "  <thead>\n",
              "    <tr style=\"text-align: right;\">\n",
              "      <th></th>\n",
              "      <th>user_id</th>\n",
              "      <th>time</th>\n",
              "      <th>model_nm</th>\n",
              "      <th>fwver</th>\n",
              "      <th>errtype</th>\n",
              "      <th>errcode</th>\n",
              "    </tr>\n",
              "  </thead>\n",
              "  <tbody>\n",
              "    <tr>\n",
              "      <th>4900</th>\n",
              "      <td>10006</td>\n",
              "      <td>20201109144238</td>\n",
              "      <td>model_1</td>\n",
              "      <td>04.16.3553</td>\n",
              "      <td>34</td>\n",
              "      <td>1</td>\n",
              "    </tr>\n",
              "    <tr>\n",
              "      <th>4901</th>\n",
              "      <td>10006</td>\n",
              "      <td>20201109144238</td>\n",
              "      <td>model_1</td>\n",
              "      <td>04.16.3553</td>\n",
              "      <td>16</td>\n",
              "      <td>1</td>\n",
              "    </tr>\n",
              "    <tr>\n",
              "      <th>4902</th>\n",
              "      <td>10006</td>\n",
              "      <td>20201109144238</td>\n",
              "      <td>model_1</td>\n",
              "      <td>04.16.3553</td>\n",
              "      <td>34</td>\n",
              "      <td>1</td>\n",
              "    </tr>\n",
              "    <tr>\n",
              "      <th>4903</th>\n",
              "      <td>10006</td>\n",
              "      <td>20201109144238</td>\n",
              "      <td>model_1</td>\n",
              "      <td>04.16.3553</td>\n",
              "      <td>31</td>\n",
              "      <td>1</td>\n",
              "    </tr>\n",
              "    <tr>\n",
              "      <th>4904</th>\n",
              "      <td>10006</td>\n",
              "      <td>20201109144253</td>\n",
              "      <td>model_1</td>\n",
              "      <td>04.16.3553</td>\n",
              "      <td>31</td>\n",
              "      <td>0</td>\n",
              "    </tr>\n",
              "    <tr>\n",
              "      <th>4905</th>\n",
              "      <td>10006</td>\n",
              "      <td>20201109164544</td>\n",
              "      <td>model_1</td>\n",
              "      <td>04.16.3553</td>\n",
              "      <td>34</td>\n",
              "      <td>1</td>\n",
              "    </tr>\n",
              "    <tr>\n",
              "      <th>4906</th>\n",
              "      <td>10006</td>\n",
              "      <td>20201109164546</td>\n",
              "      <td>model_1</td>\n",
              "      <td>04.16.3553</td>\n",
              "      <td>34</td>\n",
              "      <td>1</td>\n",
              "    </tr>\n",
              "    <tr>\n",
              "      <th>4907</th>\n",
              "      <td>10006</td>\n",
              "      <td>20201109164548</td>\n",
              "      <td>model_1</td>\n",
              "      <td>04.16.3553</td>\n",
              "      <td>34</td>\n",
              "      <td>1</td>\n",
              "    </tr>\n",
              "    <tr>\n",
              "      <th>4908</th>\n",
              "      <td>10006</td>\n",
              "      <td>20201109164549</td>\n",
              "      <td>model_1</td>\n",
              "      <td>04.16.3553</td>\n",
              "      <td>34</td>\n",
              "      <td>1</td>\n",
              "    </tr>\n",
              "    <tr>\n",
              "      <th>4909</th>\n",
              "      <td>10006</td>\n",
              "      <td>20201109164550</td>\n",
              "      <td>model_1</td>\n",
              "      <td>04.16.3553</td>\n",
              "      <td>15</td>\n",
              "      <td>1</td>\n",
              "    </tr>\n",
              "    <tr>\n",
              "      <th>4910</th>\n",
              "      <td>10006</td>\n",
              "      <td>20201109164551</td>\n",
              "      <td>model_1</td>\n",
              "      <td>04.16.3553</td>\n",
              "      <td>34</td>\n",
              "      <td>1</td>\n",
              "    </tr>\n",
              "    <tr>\n",
              "      <th>4911</th>\n",
              "      <td>10006</td>\n",
              "      <td>20201109164551</td>\n",
              "      <td>model_1</td>\n",
              "      <td>04.16.3553</td>\n",
              "      <td>34</td>\n",
              "      <td>1</td>\n",
              "    </tr>\n",
              "    <tr>\n",
              "      <th>4912</th>\n",
              "      <td>10006</td>\n",
              "      <td>20201109164551</td>\n",
              "      <td>model_1</td>\n",
              "      <td>04.16.3553</td>\n",
              "      <td>16</td>\n",
              "      <td>1</td>\n",
              "    </tr>\n",
              "    <tr>\n",
              "      <th>4913</th>\n",
              "      <td>10006</td>\n",
              "      <td>20201109164551</td>\n",
              "      <td>model_1</td>\n",
              "      <td>04.16.3553</td>\n",
              "      <td>31</td>\n",
              "      <td>1</td>\n",
              "    </tr>\n",
              "    <tr>\n",
              "      <th>4914</th>\n",
              "      <td>10006</td>\n",
              "      <td>20201109164554</td>\n",
              "      <td>model_1</td>\n",
              "      <td>04.16.3553</td>\n",
              "      <td>34</td>\n",
              "      <td>1</td>\n",
              "    </tr>\n",
              "    <tr>\n",
              "      <th>4915</th>\n",
              "      <td>10006</td>\n",
              "      <td>20201109164557</td>\n",
              "      <td>model_1</td>\n",
              "      <td>04.16.3553</td>\n",
              "      <td>34</td>\n",
              "      <td>1</td>\n",
              "    </tr>\n",
              "    <tr>\n",
              "      <th>4916</th>\n",
              "      <td>10006</td>\n",
              "      <td>20201109164558</td>\n",
              "      <td>model_1</td>\n",
              "      <td>04.16.3553</td>\n",
              "      <td>34</td>\n",
              "      <td>1</td>\n",
              "    </tr>\n",
              "    <tr>\n",
              "      <th>4917</th>\n",
              "      <td>10006</td>\n",
              "      <td>20201109164559</td>\n",
              "      <td>model_1</td>\n",
              "      <td>04.16.3553</td>\n",
              "      <td>34</td>\n",
              "      <td>1</td>\n",
              "    </tr>\n",
              "    <tr>\n",
              "      <th>4918</th>\n",
              "      <td>10006</td>\n",
              "      <td>20201109164606</td>\n",
              "      <td>model_1</td>\n",
              "      <td>04.16.3553</td>\n",
              "      <td>31</td>\n",
              "      <td>0</td>\n",
              "    </tr>\n",
              "    <tr>\n",
              "      <th>4919</th>\n",
              "      <td>10006</td>\n",
              "      <td>20201109195130</td>\n",
              "      <td>model_1</td>\n",
              "      <td>04.16.3553</td>\n",
              "      <td>33</td>\n",
              "      <td>1</td>\n",
              "    </tr>\n",
              "    <tr>\n",
              "      <th>4920</th>\n",
              "      <td>10006</td>\n",
              "      <td>20201109195130</td>\n",
              "      <td>model_1</td>\n",
              "      <td>04.16.3553</td>\n",
              "      <td>31</td>\n",
              "      <td>1</td>\n",
              "    </tr>\n",
              "    <tr>\n",
              "      <th>4921</th>\n",
              "      <td>10006</td>\n",
              "      <td>20201109195131</td>\n",
              "      <td>model_1</td>\n",
              "      <td>04.16.3553</td>\n",
              "      <td>16</td>\n",
              "      <td>1</td>\n",
              "    </tr>\n",
              "    <tr>\n",
              "      <th>4922</th>\n",
              "      <td>10006</td>\n",
              "      <td>20201109195139</td>\n",
              "      <td>model_1</td>\n",
              "      <td>04.16.3553</td>\n",
              "      <td>31</td>\n",
              "      <td>0</td>\n",
              "    </tr>\n",
              "    <tr>\n",
              "      <th>4923</th>\n",
              "      <td>10006</td>\n",
              "      <td>20201109195222</td>\n",
              "      <td>model_1</td>\n",
              "      <td>04.16.3553</td>\n",
              "      <td>12</td>\n",
              "      <td>1</td>\n",
              "    </tr>\n",
              "    <tr>\n",
              "      <th>4924</th>\n",
              "      <td>10006</td>\n",
              "      <td>20201109195222</td>\n",
              "      <td>model_1</td>\n",
              "      <td>04.16.3553</td>\n",
              "      <td>11</td>\n",
              "      <td>1</td>\n",
              "    </tr>\n",
              "    <tr>\n",
              "      <th>4925</th>\n",
              "      <td>10006</td>\n",
              "      <td>20201109211642</td>\n",
              "      <td>model_1</td>\n",
              "      <td>04.16.3553</td>\n",
              "      <td>35</td>\n",
              "      <td>1</td>\n",
              "    </tr>\n",
              "    <tr>\n",
              "      <th>4926</th>\n",
              "      <td>10006</td>\n",
              "      <td>20201109211645</td>\n",
              "      <td>model_1</td>\n",
              "      <td>04.16.3553</td>\n",
              "      <td>6</td>\n",
              "      <td>14</td>\n",
              "    </tr>\n",
              "    <tr>\n",
              "      <th>4927</th>\n",
              "      <td>10006</td>\n",
              "      <td>20201109211651</td>\n",
              "      <td>model_1</td>\n",
              "      <td>04.16.3553</td>\n",
              "      <td>7</td>\n",
              "      <td>14</td>\n",
              "    </tr>\n",
              "    <tr>\n",
              "      <th>4928</th>\n",
              "      <td>10006</td>\n",
              "      <td>20201109211701</td>\n",
              "      <td>model_1</td>\n",
              "      <td>04.16.3553</td>\n",
              "      <td>14</td>\n",
              "      <td>14</td>\n",
              "    </tr>\n",
              "    <tr>\n",
              "      <th>4929</th>\n",
              "      <td>10006</td>\n",
              "      <td>20201109235511</td>\n",
              "      <td>model_1</td>\n",
              "      <td>04.16.3553</td>\n",
              "      <td>15</td>\n",
              "      <td>1</td>\n",
              "    </tr>\n",
              "  </tbody>\n",
              "</table>\n",
              "</div>"
            ],
            "text/plain": [
              "      user_id            time model_nm       fwver  errtype errcode\n",
              "4900    10006  20201109144238  model_1  04.16.3553       34       1\n",
              "4901    10006  20201109144238  model_1  04.16.3553       16       1\n",
              "4902    10006  20201109144238  model_1  04.16.3553       34       1\n",
              "4903    10006  20201109144238  model_1  04.16.3553       31       1\n",
              "4904    10006  20201109144253  model_1  04.16.3553       31       0\n",
              "4905    10006  20201109164544  model_1  04.16.3553       34       1\n",
              "4906    10006  20201109164546  model_1  04.16.3553       34       1\n",
              "4907    10006  20201109164548  model_1  04.16.3553       34       1\n",
              "4908    10006  20201109164549  model_1  04.16.3553       34       1\n",
              "4909    10006  20201109164550  model_1  04.16.3553       15       1\n",
              "4910    10006  20201109164551  model_1  04.16.3553       34       1\n",
              "4911    10006  20201109164551  model_1  04.16.3553       34       1\n",
              "4912    10006  20201109164551  model_1  04.16.3553       16       1\n",
              "4913    10006  20201109164551  model_1  04.16.3553       31       1\n",
              "4914    10006  20201109164554  model_1  04.16.3553       34       1\n",
              "4915    10006  20201109164557  model_1  04.16.3553       34       1\n",
              "4916    10006  20201109164558  model_1  04.16.3553       34       1\n",
              "4917    10006  20201109164559  model_1  04.16.3553       34       1\n",
              "4918    10006  20201109164606  model_1  04.16.3553       31       0\n",
              "4919    10006  20201109195130  model_1  04.16.3553       33       1\n",
              "4920    10006  20201109195130  model_1  04.16.3553       31       1\n",
              "4921    10006  20201109195131  model_1  04.16.3553       16       1\n",
              "4922    10006  20201109195139  model_1  04.16.3553       31       0\n",
              "4923    10006  20201109195222  model_1  04.16.3553       12       1\n",
              "4924    10006  20201109195222  model_1  04.16.3553       11       1\n",
              "4925    10006  20201109211642  model_1  04.16.3553       35       1\n",
              "4926    10006  20201109211645  model_1  04.16.3553        6      14\n",
              "4927    10006  20201109211651  model_1  04.16.3553        7      14\n",
              "4928    10006  20201109211701  model_1  04.16.3553       14      14\n",
              "4929    10006  20201109235511  model_1  04.16.3553       15       1"
            ]
          },
          "metadata": {
            "tags": []
          }
        },
        {
          "output_type": "display_data",
          "data": {
            "text/plain": [
              "414     20201110170000\n",
              "3826    20201110180000\n",
              "3939    20201113160000\n",
              "Name: time, dtype: int64"
            ]
          },
          "metadata": {
            "tags": []
          }
        }
      ]
    },
    {
      "cell_type": "code",
      "metadata": {
        "colab": {
          "base_uri": "https://localhost:8080/"
        },
        "id": "BAjFPtaLcCiF",
        "outputId": "829aa0fd-a8e5-4924-e587-3ba2d75fc680"
      },
      "source": [
        "for i in range(1):\n",
        "  print(set(train_err.loc[train_err['model_nm'] == f'model_{i}',\"errcode\"]))"
      ],
      "execution_count": null,
      "outputs": [
        {
          "output_type": "stream",
          "text": [
            "{'76', '8087', '5843', '5215', '8059', '11886', '10980', '3376', '3500', '118518', '5478', '3747', '5924', '3200', '3824', '3386', '31398', '6778', '5813', '3203', '3672', '5497', '5972', '3498', '3391', '5459', '36541', '3197', '5863', '3079', '3075', '5287', '5431', '6048', '95', '5860', '8077', '3270', '3514', '5694', '3084', '5411', '3980', '3048', '5555', '8944', '5768', '36506', '5714', '3538', '3059', '3565', '10190', '3669', '3420', 'P-44010 ', '5688', '3129', '3074', '5429', '3823', '77', 'U-82026', '3744', '3098', '3977', '6042', '5792', '3288', '4478', '3783', '21725', '41376', '3275', '5584', '5559', '3578', '8851', '20868', '3128', '3967', '20920', '3251', '14', '72038', '5393', '5974', '3558', '3310', '5421', '4807', 'connectionterminated by local host', '5407', '5502', '3301', '5629', '5465', '5542', '5854', '3065', '5510', '3132', '5646', '3250', '5978', '3532', '5915', '6030', '5826', '1', '3325', '3360', '5894', '3723', '3987', '5744', '3691', '3110', '6711', '2', 'standby', 'V-21004', '5585', '5382', '4204', '5747', '3187', '5545', '15900', '3229', '5933', '7797', '5441', '3348', '5543', '3038', '5898', 'B-51042', '5764', '90', '3121', 'V-21008', '5603', '5947', '4254', '5808', '3246', '5690', '105690', '24122', 'H-51049', '89', '3286', '17502', '3787', '8549', '9354', '7972', '21417', '3102', '3101', '5326', '97985', '3581', '3166', '3144', '3405', '5689', '5476', '3366', '3002', '25962', '5728', '3155', '5722', '8.0', 'M-99999', '41623', '12308', '3746', '5507', '5486', '5805', '4567', '3718', '8022', '5780', '20', '5799', '3430', '3299', '36317', '3688', '5844', '695552', '5389', '5090', '3150', '5851', '20885', '5533', '7168', '72442', '3139', '3193', '9883', '5457', '3859', '3752', '3312', '3241', '5699', '5444', '3593', '5208', '3298', '7090', '5144', '3345', '4067', '5724', '5452', '3103', '6062', '3094', 'scanning timeout', '5858', '5487', '11033', '3064', '6177', '6053', 'active', '25987', '5683', '3812', '6140', '7052', '5640', '59951', '10267', '5424', '459578', '5725', '5803', '5', '4804', '3432', '5908', '67245', '3249', '3269', '5911', '3966', '3499', '5449', '5873', '6014', '10908', '7751', '3242', '3531', '5815', '6010', '3260', '21339', '3684', '17456', '64013', 'P-41011 ', '5845', '14739', '5412', '5878', '5914', '5591', '9288', '3403', '5759', '5327', '5990', '3610', 'UNKNOWN', '733608', '5761', '36252', '10630', '5777', '15720', '4036', '5637', '13', '3606', '8699', '3004', 'C-14014', '3367', '3099', '5751', '3238', '3076', '6028', '5729', '3306', '3424', '5897', '956350', '5796', 'J-40011', '8738', '5607', '26145', '6065', '3292', '3649', 'En00402', '5419', '5774', 'PUBLIC_ERR', '5522', '8819', '3126', '4930', '5388', '5473', '3658', '5930', '5993', '0', '5795', '11146', '3577', '28506', '3953', '5836', '3201', '5698', '5612', '3431', '214873', '5404', '3462', '3303', '5430', '5503', '3071', '4102', 'Y-00005', '16017', '3282', '3173', '5420', '5855', '3641', '10803', '3259', '3156', '5634', '3444', '3050', '5470', '5638', '5766', '4577', '8731', '3073', '5750', '3328', '5527', '5736', '3372', '5797', '3016', '5969', '8645', '3221', '3446', '4000', '3089', '3147', '5641', '5552', '5709', '5048', '3280', '3104', '5927', '5791', '8488', '3194', '5344', '3545', '5748', '85', '4123', '3347', '3392', '5398', '8592', '3511', '5508', '3009', '3479', '5967', '3018', '3579', 'B-A8002', '6520', '10760', '16860', '8258', '11108', '5988', '15989', '5913', '3191', '47209', '3683', 'S-64002', '5754', '5950', '3454', '7744', '5513', '3566', '5530', '5821', '5910', 'Y-00008', '7742', '5717', '3090', '5439', '3096', '5912', '3359', '3473', '6364', '5819', '5772', '5647', '3400', '10749', '8937', '5971', '5489', '78', '4621', '5787', '3141', '3291', '4894', '5455', '5631', '3383', '6023', '3490', '3788', '4956', '5959', '13171', '6020', '3253', '5517', '5583', '5528', '5975', '5876', '3026', '3244', '5824', '3373', '5850', '5810', '5943', '5539', '5586', '5767', '3295', '3652', '3318', '3497', '66986', '5132', '5936', '5046', '700001', 'U-81009', '3388', '3382', '181089', '5663', '3505', '3195', '22838', '5820', '5977', '5991', '3855', '4759', '5379', '5773', '6852', '6316', '83', '5920', '3434', '5553', '3014', '3425', '3364', '61653', '8760', '40590', '25999', '5875', 'Y-00004', '30415', '5828', '3277', '5691', 'C-13053', '5362', '7989', '5882', '5989', '5151', '5463', '5480', '6402', 'H-51046', '79', '5676', '11259', '3265', '15303', '3810', '3455', '5809', '25990', '3202', '3168', 'J-30010', '3410', '14044', '5953', '3694', '5794', '5626', '3178', '8056', '5727', 'PHONE_ERR', '86', '5658', '5581', '5996', '3590', '5595', '5980', '5872', '10612', '4568866', '3548', '5602', '5827', '6166', '3627', '5453', '10898', '3767', '5776', '6285', '5957', '3555', '6696', '3559', '15890', '3407', '3778', '3510', '5847', '8442', '92862', '12265', '6186', '5342', '5482', '51803', '7110', '3356', '3402', '4280', '5997', '3273', '21', '15700', '6726', '36326', '5702', 'P-41007 ', '5523', '5874', '3309', '5842', '5685', '3212', '9519', '3773', '5460', '4463', '10839', '5554', '3107', '230685', '5451', '13394', '71924', '3401', '9683', '5961', '20985', '5732', '3095', '5893', '5645', '3278', 'U-82024', '8843', '27553', '3523', '5970', '5891', '5715', '3413', '6039', '3470', '4978', '5904', '10676', '3375', '32238', '25957', '3140', '26347', '11070', '3741', 'M-51007', '3136', '5925', 'V-21005', '3035', '5469', '21026', '82', '3598', '8522', '6009', 'V-21002', '5537', '7873', '17722', '3027', '8054', '5657', '5443', '36960', '5466', '5811', '10955', '3536', '3585', '5570', '5985', '3307', '74943', '6388', '5550', '5837', '9033', '15748', '3043', '4002', '5406', '3329', '5668', '74', '5610', '5437', '16153', '31632', '3134', '15979', '3106', '23866', 'M-51020', '25372', '4886', '5741', '10907', '3138', '5494', '5464', '5963', '3182', '94', '5775', '5367', '5461', '3448', '3569', '5477', '3237', '3353', '6192', '5562', '7904', '62270', '3025', '5524', '3', '3120', '56946', '5954', '2276093', '26057', '5784', '26171', '3330', '7654', '3436', '46679', '5931', '3116', '6095', '21164', '10833', '5692', '5633', '3568', '5600', '5521', '3184', '61989', '8271', '5561', '8473', '5499', '3093', '3761', '5755', '3650', '3677', '3007', '5765', '6024', '968075', 'J-20029', '100', '3727', '30531', '11717', '3553', '5491', '6091', '81', '6021', '3323', '3015', '9906', 'H-51042', '7962', '3961', 'S-65002', '5934', '5852', '5391', '5514', '52002', 'V-21010', '3584', '3519', '3078', '5511', '5944', '5740', '3380', '3339', '6111', '7784', '3645', '3437', '3304', '5447', '3393', '5903', '3052', '5708', '5712', '3160', '5422', '5501', '3032', '3284', '5848', '5758', '5438', '3042', '8053', '7358', 'H-51048', '15850', '3192', '3087', '5624', '5905', '3839', '5841', '3440', '5986', '3644', '3302', '3086', '5886', '5516', '6592', '26246', '3948', '8255', '16098', '25947', 'connection fail for LMP response timout', '5697', '3703', '5783', '3058', '3599', '20911', '5541', '5789', 'J-30021', '12952', '5392', '5737', '5485', '3137', '8840', '3271', '3724', '6104', '9311', '5509', '3210', '6000', '5660', '5979', '5456', '9032', '97883', '3586', '5498', '3338', '3822', '15800', '5496', '5563', '3625', '3592', '5949', '3258', '5374', '14757', '46900', '5701', '48317', '43451', '31460', '5558', '10807', '5620', '5822', '16352', '3600', '5471', '1174404', 'connection timeout', '7918', '3305', '5871', '3240', '5401', '5588', '3567', '5786', '3085', '5984', '3198', '3487', '3394', '3262', '5958', '5483', '20859', '3806', '5995', '3031', '3267', '5493', '16241', '3186', '6081', '3183', '5757', '80', '5830', '5917', '5956', '13162', '8637', '3131', '3589', 'NFANDROID2', '5396', '5506', '5512', '4515', '419439', '3630', '5575', '3081', '5726', '6361', 'terminate by peer user', '16123', '20816', '7679', '3346', '11007', '6206', '21210', '3582', '3883', '3722', '5962', '5734', '3045', '3214', '4044', '5454', '5567', '5458', '17233', '8356', '5721', '3188', '3522', '88', '3922', '5467', '9462', '3537', '5665', '3324', '7746', '49781', '6011', '5166', '3925', '3279', '892446', '15715', '3457', '5695', '5942', '3483', '18664', '99', '5785', '10995', '5677', '3206', '3124', '3233', '5426', '41677', '5859', '16126', '3862', '10894', '6038', '6904', '8136', '3571', '41356', '8372', '6837', '6345', '46825', '5576', '5707', '37747', '3543', '3133', '46616', '5551', '85885', '3591', 'En00409', '5573', '5705', '5519', '5906', '3283', '3340', '6', '5973', '5625', '3535', '8459', '6035', '21254', '18770', '5877', '4182', '5835', '4038', 'connection fail to establish', '5816', '3704', '3463', '5814', '5504', '4108', '6025', '5869', '6405', '7712', '6485', '3336', '5887', '3632', '7187', '6158', '11674', '3152', '3726', '5733', '3013', '5654', '6148', '4', '3226', '5937', '6036', '5492', '3415', '3379', '5418', '5928', '75', '5442', '5427', '5955', '6064', '3130', '3721', '5484', '3886', '7756', '6412', '3276', '3266', '6272', '3663', '7927', '3145', '5994', '6004', '4842', '7917', '3077', '5529', '3205', '3118', '4332', '87', '11078', 'U-82004', '3769', '8398', '113066', '8855', '7497', '3001', 'C-11017', '4054', '3412', '5753', '3614', '5762', '3699', '8172', '4943', '3006', '3344', '3056', '5608', '5941', '97772', '3290', '5423', '4986', '3308', '7708', '5536', '3041', '3542', '5667', 'C-12032', 'S-61001', '11100', '5474', '5948', '5684', '4189', '3227', '3021', '5935', '5415', '3404', '3574', '3148', '7288', '3008', '11751', '4461', '5923', '3690', '3245', '3055', '5823', '5798', '3485', '57293', '5932', '5752', '5710', '3409', '5440', '3489', '5870', '3287', '24001', '3122', '3142', '3496', '8061', '5572', '134588', '13995', '3576', '3196', '51324', '1166733', '5807', '3480', '3167', '84', '4865', '15874', '6090', '3190'}\n"
          ],
          "name": "stdout"
        }
      ]
    },
    {
      "cell_type": "code",
      "metadata": {
        "colab": {
          "base_uri": "https://localhost:8080/"
        },
        "id": "FOvHoj9_bgOI",
        "outputId": "7d2be1ae-8cde-458f-f469-5db85d166d9e"
      },
      "source": [
        "temp[\"errcode\"][-30:]"
      ],
      "execution_count": null,
      "outputs": [
        {
          "output_type": "execute_result",
          "data": {
            "text/plain": [
              "4282    connection timeout\n",
              "4283                     1\n",
              "4284    connection timeout\n",
              "4285                     1\n",
              "4286    connection timeout\n",
              "4287                     1\n",
              "4288    connection timeout\n",
              "4289    connection timeout\n",
              "4290                     1\n",
              "4291                     1\n",
              "4292                     1\n",
              "4293                     1\n",
              "4294                     0\n",
              "4295    connection timeout\n",
              "4296                     1\n",
              "4297                     1\n",
              "4298    connection timeout\n",
              "4299            NFANDROID2\n",
              "4300    connection timeout\n",
              "4301                     1\n",
              "4302    connection timeout\n",
              "4303                     1\n",
              "4304                     1\n",
              "4305                     1\n",
              "4306                     2\n",
              "4307                     1\n",
              "4308                     1\n",
              "4309                     1\n",
              "4310                     1\n",
              "4311                     1\n",
              "Name: errcode, dtype: object"
            ]
          },
          "metadata": {
            "tags": []
          },
          "execution_count": 73
        }
      ]
    },
    {
      "cell_type": "markdown",
      "metadata": {
        "id": "3YA-NwPdFn_E"
      },
      "source": [
        "## data setting"
      ]
    },
    {
      "cell_type": "code",
      "metadata": {
        "id": "IVh7Amx3Jr7z"
      },
      "source": [
        "def func(user_id):\n",
        "\n",
        "  display(train_err.loc[train_err[\"user_id\"] == user_id])\n",
        "  # display(train_quality.loc[train_quality[\"user_id\"] == user_id])\n",
        "  display(train_problem.loc[train_problem[\"user_id\"] == user_id])\n",
        "  train_err.loc[(train_err[\"user_id\"] == user_id) & (train_err[\"time\"] <train_problem.loc[train_problem[\"user_id\"] == user_id][-1][\"time\"])]\n",
        "# display(train_quality.loc[train_quality[\"user_id\"]==10003])\n",
        "\n",
        "func(10004)"
      ],
      "execution_count": null,
      "outputs": []
    },
    {
      "cell_type": "code",
      "metadata": {
        "colab": {
          "base_uri": "https://localhost:8080/"
        },
        "id": "Pus2YpNgWaA3",
        "outputId": "bf07ed8e-13a1-4dc8-a86c-796218890294"
      },
      "source": [
        "set(train_err[\"model_nm\"])"
      ],
      "execution_count": null,
      "outputs": [
        {
          "output_type": "execute_result",
          "data": {
            "text/plain": [
              "{'model_0',\n",
              " 'model_1',\n",
              " 'model_2',\n",
              " 'model_3',\n",
              " 'model_4',\n",
              " 'model_5',\n",
              " 'model_6',\n",
              " 'model_7',\n",
              " 'model_8'}"
            ]
          },
          "metadata": {
            "tags": []
          },
          "execution_count": 51
        }
      ]
    },
    {
      "cell_type": "code",
      "metadata": {
        "id": "wteN3tLh9BSi"
      },
      "source": [
        "# group by\n",
        "\n",
        "train_err_group = train_err.groupby(['user_id']).count().sort_values(by=['time'])[[\"model_nm\"]]\n",
        "train_problem_group= train_problem.groupby(['user_id']).count().sort_values(by=['time'])"
      ],
      "execution_count": null,
      "outputs": []
    },
    {
      "cell_type": "code",
      "metadata": {
        "colab": {
          "base_uri": "https://localhost:8080/",
          "height": 437
        },
        "id": "EFibdIbieyjV",
        "outputId": "d62359ad-3d8d-4fc9-efa1-b3228013a096"
      },
      "source": [
        "train_err.groupby(['user_id']).count()"
      ],
      "execution_count": null,
      "outputs": [
        {
          "output_type": "execute_result",
          "data": {
            "text/html": [
              "<div>\n",
              "<style scoped>\n",
              "    .dataframe tbody tr th:only-of-type {\n",
              "        vertical-align: middle;\n",
              "    }\n",
              "\n",
              "    .dataframe tbody tr th {\n",
              "        vertical-align: top;\n",
              "    }\n",
              "\n",
              "    .dataframe thead th {\n",
              "        text-align: right;\n",
              "    }\n",
              "</style>\n",
              "<table border=\"1\" class=\"dataframe\">\n",
              "  <thead>\n",
              "    <tr style=\"text-align: right;\">\n",
              "      <th></th>\n",
              "      <th>time</th>\n",
              "      <th>model_nm</th>\n",
              "      <th>fwver</th>\n",
              "      <th>errtype</th>\n",
              "      <th>errcode</th>\n",
              "    </tr>\n",
              "    <tr>\n",
              "      <th>user_id</th>\n",
              "      <th></th>\n",
              "      <th></th>\n",
              "      <th></th>\n",
              "      <th></th>\n",
              "      <th></th>\n",
              "    </tr>\n",
              "  </thead>\n",
              "  <tbody>\n",
              "    <tr>\n",
              "      <th>10000</th>\n",
              "      <td>317</td>\n",
              "      <td>317</td>\n",
              "      <td>317</td>\n",
              "      <td>317</td>\n",
              "      <td>317</td>\n",
              "    </tr>\n",
              "    <tr>\n",
              "      <th>10001</th>\n",
              "      <td>2365</td>\n",
              "      <td>2365</td>\n",
              "      <td>2365</td>\n",
              "      <td>2365</td>\n",
              "      <td>2365</td>\n",
              "    </tr>\n",
              "    <tr>\n",
              "      <th>10002</th>\n",
              "      <td>306</td>\n",
              "      <td>306</td>\n",
              "      <td>306</td>\n",
              "      <td>306</td>\n",
              "      <td>306</td>\n",
              "    </tr>\n",
              "    <tr>\n",
              "      <th>10003</th>\n",
              "      <td>306</td>\n",
              "      <td>306</td>\n",
              "      <td>306</td>\n",
              "      <td>306</td>\n",
              "      <td>306</td>\n",
              "    </tr>\n",
              "    <tr>\n",
              "      <th>10004</th>\n",
              "      <td>777</td>\n",
              "      <td>777</td>\n",
              "      <td>777</td>\n",
              "      <td>777</td>\n",
              "      <td>777</td>\n",
              "    </tr>\n",
              "    <tr>\n",
              "      <th>...</th>\n",
              "      <td>...</td>\n",
              "      <td>...</td>\n",
              "      <td>...</td>\n",
              "      <td>...</td>\n",
              "      <td>...</td>\n",
              "    </tr>\n",
              "    <tr>\n",
              "      <th>24995</th>\n",
              "      <td>194</td>\n",
              "      <td>194</td>\n",
              "      <td>194</td>\n",
              "      <td>194</td>\n",
              "      <td>194</td>\n",
              "    </tr>\n",
              "    <tr>\n",
              "      <th>24996</th>\n",
              "      <td>4</td>\n",
              "      <td>4</td>\n",
              "      <td>4</td>\n",
              "      <td>4</td>\n",
              "      <td>4</td>\n",
              "    </tr>\n",
              "    <tr>\n",
              "      <th>24997</th>\n",
              "      <td>826</td>\n",
              "      <td>826</td>\n",
              "      <td>826</td>\n",
              "      <td>826</td>\n",
              "      <td>826</td>\n",
              "    </tr>\n",
              "    <tr>\n",
              "      <th>24998</th>\n",
              "      <td>155</td>\n",
              "      <td>155</td>\n",
              "      <td>155</td>\n",
              "      <td>155</td>\n",
              "      <td>155</td>\n",
              "    </tr>\n",
              "    <tr>\n",
              "      <th>24999</th>\n",
              "      <td>570</td>\n",
              "      <td>570</td>\n",
              "      <td>570</td>\n",
              "      <td>570</td>\n",
              "      <td>570</td>\n",
              "    </tr>\n",
              "  </tbody>\n",
              "</table>\n",
              "<p>15000 rows × 5 columns</p>\n",
              "</div>"
            ],
            "text/plain": [
              "         time  model_nm  fwver  errtype  errcode\n",
              "user_id                                         \n",
              "10000     317       317    317      317      317\n",
              "10001    2365      2365   2365     2365     2365\n",
              "10002     306       306    306      306      306\n",
              "10003     306       306    306      306      306\n",
              "10004     777       777    777      777      777\n",
              "...       ...       ...    ...      ...      ...\n",
              "24995     194       194    194      194      194\n",
              "24996       4         4      4        4        4\n",
              "24997     826       826    826      826      826\n",
              "24998     155       155    155      155      155\n",
              "24999     570       570    570      570      570\n",
              "\n",
              "[15000 rows x 5 columns]"
            ]
          },
          "metadata": {
            "tags": []
          },
          "execution_count": 86
        }
      ]
    },
    {
      "cell_type": "markdown",
      "metadata": {
        "id": "CggnL9zQw89x"
      },
      "source": [
        "모델별 err count"
      ]
    },
    {
      "cell_type": "code",
      "metadata": {
        "colab": {
          "base_uri": "https://localhost:8080/",
          "height": 1000
        },
        "id": "bBgXZrGfeN7R",
        "outputId": "bc6d8122-2e5f-46ff-cffa-f5c1e6fc717d"
      },
      "source": [
        "temp = train_err.groupby([train_err['user_id'],train_err['model_nm']]).mean()\n",
        "\n",
        "temp.reset_index(level=1, inplace=True)\n",
        "temp.reset_index(level=0, inplace=True)\n",
        "temp.drop(columns=[\"time\",'errtype'],inplace=True)\n",
        "user_model = temp\n",
        "display(temp[:35])\n",
        "\n",
        "display(temp.groupby(temp['model_nm']).count())\n",
        "temp2 = temp.groupby(temp['user_id']).count()\n",
        "\n",
        "print(\"\\n\\n\\n모델 두개이상 가진 user\")\n",
        "display(temp2[temp2['model_nm']!=1].sort_values(by=\"model_nm\",ascending=False))"
      ],
      "execution_count": null,
      "outputs": [
        {
          "output_type": "display_data",
          "data": {
            "text/html": [
              "<div>\n",
              "<style scoped>\n",
              "    .dataframe tbody tr th:only-of-type {\n",
              "        vertical-align: middle;\n",
              "    }\n",
              "\n",
              "    .dataframe tbody tr th {\n",
              "        vertical-align: top;\n",
              "    }\n",
              "\n",
              "    .dataframe thead th {\n",
              "        text-align: right;\n",
              "    }\n",
              "</style>\n",
              "<table border=\"1\" class=\"dataframe\">\n",
              "  <thead>\n",
              "    <tr style=\"text-align: right;\">\n",
              "      <th></th>\n",
              "      <th>user_id</th>\n",
              "      <th>model_nm</th>\n",
              "    </tr>\n",
              "  </thead>\n",
              "  <tbody>\n",
              "    <tr>\n",
              "      <th>0</th>\n",
              "      <td>10000</td>\n",
              "      <td>model_3</td>\n",
              "    </tr>\n",
              "    <tr>\n",
              "      <th>1</th>\n",
              "      <td>10001</td>\n",
              "      <td>model_2</td>\n",
              "    </tr>\n",
              "    <tr>\n",
              "      <th>2</th>\n",
              "      <td>10002</td>\n",
              "      <td>model_3</td>\n",
              "    </tr>\n",
              "    <tr>\n",
              "      <th>3</th>\n",
              "      <td>10003</td>\n",
              "      <td>model_2</td>\n",
              "    </tr>\n",
              "    <tr>\n",
              "      <th>4</th>\n",
              "      <td>10004</td>\n",
              "      <td>model_0</td>\n",
              "    </tr>\n",
              "    <tr>\n",
              "      <th>5</th>\n",
              "      <td>10005</td>\n",
              "      <td>model_0</td>\n",
              "    </tr>\n",
              "    <tr>\n",
              "      <th>6</th>\n",
              "      <td>10006</td>\n",
              "      <td>model_1</td>\n",
              "    </tr>\n",
              "    <tr>\n",
              "      <th>7</th>\n",
              "      <td>10006</td>\n",
              "      <td>model_2</td>\n",
              "    </tr>\n",
              "    <tr>\n",
              "      <th>8</th>\n",
              "      <td>10007</td>\n",
              "      <td>model_0</td>\n",
              "    </tr>\n",
              "    <tr>\n",
              "      <th>9</th>\n",
              "      <td>10008</td>\n",
              "      <td>model_0</td>\n",
              "    </tr>\n",
              "    <tr>\n",
              "      <th>10</th>\n",
              "      <td>10009</td>\n",
              "      <td>model_1</td>\n",
              "    </tr>\n",
              "    <tr>\n",
              "      <th>11</th>\n",
              "      <td>10010</td>\n",
              "      <td>model_1</td>\n",
              "    </tr>\n",
              "    <tr>\n",
              "      <th>12</th>\n",
              "      <td>10011</td>\n",
              "      <td>model_0</td>\n",
              "    </tr>\n",
              "    <tr>\n",
              "      <th>13</th>\n",
              "      <td>10012</td>\n",
              "      <td>model_2</td>\n",
              "    </tr>\n",
              "    <tr>\n",
              "      <th>14</th>\n",
              "      <td>10013</td>\n",
              "      <td>model_0</td>\n",
              "    </tr>\n",
              "    <tr>\n",
              "      <th>15</th>\n",
              "      <td>10014</td>\n",
              "      <td>model_2</td>\n",
              "    </tr>\n",
              "    <tr>\n",
              "      <th>16</th>\n",
              "      <td>10015</td>\n",
              "      <td>model_0</td>\n",
              "    </tr>\n",
              "    <tr>\n",
              "      <th>17</th>\n",
              "      <td>10016</td>\n",
              "      <td>model_3</td>\n",
              "    </tr>\n",
              "    <tr>\n",
              "      <th>18</th>\n",
              "      <td>10017</td>\n",
              "      <td>model_2</td>\n",
              "    </tr>\n",
              "    <tr>\n",
              "      <th>19</th>\n",
              "      <td>10018</td>\n",
              "      <td>model_3</td>\n",
              "    </tr>\n",
              "    <tr>\n",
              "      <th>20</th>\n",
              "      <td>10019</td>\n",
              "      <td>model_3</td>\n",
              "    </tr>\n",
              "    <tr>\n",
              "      <th>21</th>\n",
              "      <td>10020</td>\n",
              "      <td>model_2</td>\n",
              "    </tr>\n",
              "    <tr>\n",
              "      <th>22</th>\n",
              "      <td>10021</td>\n",
              "      <td>model_1</td>\n",
              "    </tr>\n",
              "    <tr>\n",
              "      <th>23</th>\n",
              "      <td>10022</td>\n",
              "      <td>model_2</td>\n",
              "    </tr>\n",
              "    <tr>\n",
              "      <th>24</th>\n",
              "      <td>10023</td>\n",
              "      <td>model_1</td>\n",
              "    </tr>\n",
              "    <tr>\n",
              "      <th>25</th>\n",
              "      <td>10024</td>\n",
              "      <td>model_2</td>\n",
              "    </tr>\n",
              "    <tr>\n",
              "      <th>26</th>\n",
              "      <td>10025</td>\n",
              "      <td>model_0</td>\n",
              "    </tr>\n",
              "    <tr>\n",
              "      <th>27</th>\n",
              "      <td>10026</td>\n",
              "      <td>model_3</td>\n",
              "    </tr>\n",
              "    <tr>\n",
              "      <th>28</th>\n",
              "      <td>10027</td>\n",
              "      <td>model_3</td>\n",
              "    </tr>\n",
              "    <tr>\n",
              "      <th>29</th>\n",
              "      <td>10028</td>\n",
              "      <td>model_2</td>\n",
              "    </tr>\n",
              "    <tr>\n",
              "      <th>30</th>\n",
              "      <td>10029</td>\n",
              "      <td>model_0</td>\n",
              "    </tr>\n",
              "    <tr>\n",
              "      <th>31</th>\n",
              "      <td>10030</td>\n",
              "      <td>model_3</td>\n",
              "    </tr>\n",
              "    <tr>\n",
              "      <th>32</th>\n",
              "      <td>10031</td>\n",
              "      <td>model_1</td>\n",
              "    </tr>\n",
              "    <tr>\n",
              "      <th>33</th>\n",
              "      <td>10031</td>\n",
              "      <td>model_2</td>\n",
              "    </tr>\n",
              "    <tr>\n",
              "      <th>34</th>\n",
              "      <td>10032</td>\n",
              "      <td>model_1</td>\n",
              "    </tr>\n",
              "  </tbody>\n",
              "</table>\n",
              "</div>"
            ],
            "text/plain": [
              "    user_id model_nm\n",
              "0     10000  model_3\n",
              "1     10001  model_2\n",
              "2     10002  model_3\n",
              "3     10003  model_2\n",
              "4     10004  model_0\n",
              "5     10005  model_0\n",
              "6     10006  model_1\n",
              "7     10006  model_2\n",
              "8     10007  model_0\n",
              "9     10008  model_0\n",
              "10    10009  model_1\n",
              "11    10010  model_1\n",
              "12    10011  model_0\n",
              "13    10012  model_2\n",
              "14    10013  model_0\n",
              "15    10014  model_2\n",
              "16    10015  model_0\n",
              "17    10016  model_3\n",
              "18    10017  model_2\n",
              "19    10018  model_3\n",
              "20    10019  model_3\n",
              "21    10020  model_2\n",
              "22    10021  model_1\n",
              "23    10022  model_2\n",
              "24    10023  model_1\n",
              "25    10024  model_2\n",
              "26    10025  model_0\n",
              "27    10026  model_3\n",
              "28    10027  model_3\n",
              "29    10028  model_2\n",
              "30    10029  model_0\n",
              "31    10030  model_3\n",
              "32    10031  model_1\n",
              "33    10031  model_2\n",
              "34    10032  model_1"
            ]
          },
          "metadata": {
            "tags": []
          }
        },
        {
          "output_type": "display_data",
          "data": {
            "text/html": [
              "<div>\n",
              "<style scoped>\n",
              "    .dataframe tbody tr th:only-of-type {\n",
              "        vertical-align: middle;\n",
              "    }\n",
              "\n",
              "    .dataframe tbody tr th {\n",
              "        vertical-align: top;\n",
              "    }\n",
              "\n",
              "    .dataframe thead th {\n",
              "        text-align: right;\n",
              "    }\n",
              "</style>\n",
              "<table border=\"1\" class=\"dataframe\">\n",
              "  <thead>\n",
              "    <tr style=\"text-align: right;\">\n",
              "      <th></th>\n",
              "      <th>user_id</th>\n",
              "    </tr>\n",
              "    <tr>\n",
              "      <th>model_nm</th>\n",
              "      <th></th>\n",
              "    </tr>\n",
              "  </thead>\n",
              "  <tbody>\n",
              "    <tr>\n",
              "      <th>model_0</th>\n",
              "      <td>4360</td>\n",
              "    </tr>\n",
              "    <tr>\n",
              "      <th>model_1</th>\n",
              "      <td>2842</td>\n",
              "    </tr>\n",
              "    <tr>\n",
              "      <th>model_2</th>\n",
              "      <td>4493</td>\n",
              "    </tr>\n",
              "    <tr>\n",
              "      <th>model_3</th>\n",
              "      <td>3105</td>\n",
              "    </tr>\n",
              "    <tr>\n",
              "      <th>model_4</th>\n",
              "      <td>689</td>\n",
              "    </tr>\n",
              "    <tr>\n",
              "      <th>model_5</th>\n",
              "      <td>40</td>\n",
              "    </tr>\n",
              "    <tr>\n",
              "      <th>model_6</th>\n",
              "      <td>66</td>\n",
              "    </tr>\n",
              "    <tr>\n",
              "      <th>model_7</th>\n",
              "      <td>61</td>\n",
              "    </tr>\n",
              "    <tr>\n",
              "      <th>model_8</th>\n",
              "      <td>48</td>\n",
              "    </tr>\n",
              "  </tbody>\n",
              "</table>\n",
              "</div>"
            ],
            "text/plain": [
              "          user_id\n",
              "model_nm         \n",
              "model_0      4360\n",
              "model_1      2842\n",
              "model_2      4493\n",
              "model_3      3105\n",
              "model_4       689\n",
              "model_5        40\n",
              "model_6        66\n",
              "model_7        61\n",
              "model_8        48"
            ]
          },
          "metadata": {
            "tags": []
          }
        },
        {
          "output_type": "stream",
          "text": [
            "\n",
            "\n",
            "\n",
            "모델 두개이상 가진 user\n"
          ],
          "name": "stdout"
        },
        {
          "output_type": "display_data",
          "data": {
            "text/html": [
              "<div>\n",
              "<style scoped>\n",
              "    .dataframe tbody tr th:only-of-type {\n",
              "        vertical-align: middle;\n",
              "    }\n",
              "\n",
              "    .dataframe tbody tr th {\n",
              "        vertical-align: top;\n",
              "    }\n",
              "\n",
              "    .dataframe thead th {\n",
              "        text-align: right;\n",
              "    }\n",
              "</style>\n",
              "<table border=\"1\" class=\"dataframe\">\n",
              "  <thead>\n",
              "    <tr style=\"text-align: right;\">\n",
              "      <th></th>\n",
              "      <th>model_nm</th>\n",
              "    </tr>\n",
              "    <tr>\n",
              "      <th>user_id</th>\n",
              "      <th></th>\n",
              "    </tr>\n",
              "  </thead>\n",
              "  <tbody>\n",
              "    <tr>\n",
              "      <th>18525</th>\n",
              "      <td>3</td>\n",
              "    </tr>\n",
              "    <tr>\n",
              "      <th>10006</th>\n",
              "      <td>2</td>\n",
              "    </tr>\n",
              "    <tr>\n",
              "      <th>20189</th>\n",
              "      <td>2</td>\n",
              "    </tr>\n",
              "    <tr>\n",
              "      <th>19976</th>\n",
              "      <td>2</td>\n",
              "    </tr>\n",
              "    <tr>\n",
              "      <th>20001</th>\n",
              "      <td>2</td>\n",
              "    </tr>\n",
              "    <tr>\n",
              "      <th>...</th>\n",
              "      <td>...</td>\n",
              "    </tr>\n",
              "    <tr>\n",
              "      <th>15256</th>\n",
              "      <td>2</td>\n",
              "    </tr>\n",
              "    <tr>\n",
              "      <th>15272</th>\n",
              "      <td>2</td>\n",
              "    </tr>\n",
              "    <tr>\n",
              "      <th>15293</th>\n",
              "      <td>2</td>\n",
              "    </tr>\n",
              "    <tr>\n",
              "      <th>15301</th>\n",
              "      <td>2</td>\n",
              "    </tr>\n",
              "    <tr>\n",
              "      <th>24984</th>\n",
              "      <td>2</td>\n",
              "    </tr>\n",
              "  </tbody>\n",
              "</table>\n",
              "<p>703 rows × 1 columns</p>\n",
              "</div>"
            ],
            "text/plain": [
              "         model_nm\n",
              "user_id          \n",
              "18525           3\n",
              "10006           2\n",
              "20189           2\n",
              "19976           2\n",
              "20001           2\n",
              "...           ...\n",
              "15256           2\n",
              "15272           2\n",
              "15293           2\n",
              "15301           2\n",
              "24984           2\n",
              "\n",
              "[703 rows x 1 columns]"
            ]
          },
          "metadata": {
            "tags": []
          }
        }
      ]
    },
    {
      "cell_type": "code",
      "metadata": {
        "colab": {
          "base_uri": "https://localhost:8080/",
          "height": 407
        },
        "id": "JQgT26TC6DgQ",
        "outputId": "86366ede-e0b3-42e2-c913-c0102f8b5bbd"
      },
      "source": [
        "train_problem.sort_values(by= \"user_id\")"
      ],
      "execution_count": null,
      "outputs": [
        {
          "output_type": "execute_result",
          "data": {
            "text/html": [
              "<div>\n",
              "<style scoped>\n",
              "    .dataframe tbody tr th:only-of-type {\n",
              "        vertical-align: middle;\n",
              "    }\n",
              "\n",
              "    .dataframe tbody tr th {\n",
              "        vertical-align: top;\n",
              "    }\n",
              "\n",
              "    .dataframe thead th {\n",
              "        text-align: right;\n",
              "    }\n",
              "</style>\n",
              "<table border=\"1\" class=\"dataframe\">\n",
              "  <thead>\n",
              "    <tr style=\"text-align: right;\">\n",
              "      <th></th>\n",
              "      <th>user_id</th>\n",
              "      <th>time</th>\n",
              "    </tr>\n",
              "  </thead>\n",
              "  <tbody>\n",
              "    <tr>\n",
              "      <th>1116</th>\n",
              "      <td>10001</td>\n",
              "      <td>20201113190000</td>\n",
              "    </tr>\n",
              "    <tr>\n",
              "      <th>492</th>\n",
              "      <td>10004</td>\n",
              "      <td>20201104120000</td>\n",
              "    </tr>\n",
              "    <tr>\n",
              "      <th>3857</th>\n",
              "      <td>10005</td>\n",
              "      <td>20201113120000</td>\n",
              "    </tr>\n",
              "    <tr>\n",
              "      <th>3826</th>\n",
              "      <td>10006</td>\n",
              "      <td>20201110180000</td>\n",
              "    </tr>\n",
              "    <tr>\n",
              "      <th>414</th>\n",
              "      <td>10006</td>\n",
              "      <td>20201110170000</td>\n",
              "    </tr>\n",
              "    <tr>\n",
              "      <th>...</th>\n",
              "      <td>...</td>\n",
              "      <td>...</td>\n",
              "    </tr>\n",
              "    <tr>\n",
              "      <th>3870</th>\n",
              "      <td>24983</td>\n",
              "      <td>20201123230000</td>\n",
              "    </tr>\n",
              "    <tr>\n",
              "      <th>2378</th>\n",
              "      <td>24984</td>\n",
              "      <td>20201130150000</td>\n",
              "    </tr>\n",
              "    <tr>\n",
              "      <th>3829</th>\n",
              "      <td>24990</td>\n",
              "      <td>20201121170000</td>\n",
              "    </tr>\n",
              "    <tr>\n",
              "      <th>2799</th>\n",
              "      <td>24997</td>\n",
              "      <td>20201115150000</td>\n",
              "    </tr>\n",
              "    <tr>\n",
              "      <th>4306</th>\n",
              "      <td>24998</td>\n",
              "      <td>20201110210000</td>\n",
              "    </tr>\n",
              "  </tbody>\n",
              "</table>\n",
              "<p>5429 rows × 2 columns</p>\n",
              "</div>"
            ],
            "text/plain": [
              "      user_id            time\n",
              "1116    10001  20201113190000\n",
              "492     10004  20201104120000\n",
              "3857    10005  20201113120000\n",
              "3826    10006  20201110180000\n",
              "414     10006  20201110170000\n",
              "...       ...             ...\n",
              "3870    24983  20201123230000\n",
              "2378    24984  20201130150000\n",
              "3829    24990  20201121170000\n",
              "2799    24997  20201115150000\n",
              "4306    24998  20201110210000\n",
              "\n",
              "[5429 rows x 2 columns]"
            ]
          },
          "metadata": {
            "tags": []
          },
          "execution_count": 68
        }
      ]
    },
    {
      "cell_type": "code",
      "metadata": {
        "id": "zabqd_Y0smlv"
      },
      "source": [
        "have_2models = set(temp2[temp2['model_nm']!=1].sort_values(by=\"model_nm\",ascending=False).index)"
      ],
      "execution_count": null,
      "outputs": []
    },
    {
      "cell_type": "markdown",
      "metadata": {
        "id": "czEiWKM04cPB"
      },
      "source": [
        "모델이 2개이상인사람은 90%이상 접수했다. \n",
        "\n",
        "아무래도 모델 두개있있고 에러두배로뜨니까 대충 그런거겠지?\n",
        "\n"
      ]
    },
    {
      "cell_type": "code",
      "metadata": {
        "colab": {
          "base_uri": "https://localhost:8080/"
        },
        "id": "vvaJ3gmM1HX_",
        "outputId": "f53d29ee-80ed-4381-9057-63dc00f9562a"
      },
      "source": [
        "print(len(train_problem))\n",
        "print(len(set(train_problem[\"user_id\"])))\n",
        "print(len(set(train_problem[\"user_id\"]) - have_2models))"
      ],
      "execution_count": null,
      "outputs": [
        {
          "output_type": "stream",
          "text": [
            "5429\n",
            "5000\n",
            "4357\n"
          ],
          "name": "stdout"
        }
      ]
    },
    {
      "cell_type": "markdown",
      "metadata": {
        "id": "aHS1XGiv6OXO"
      },
      "source": [
        "모델 한개인사람들 "
      ]
    },
    {
      "cell_type": "code",
      "metadata": {
        "id": "KQWunALj1ctx"
      },
      "source": [
        "train_problem_have1model = train_problem.loc[train_problem[\"user_id\"].isin((set(train_problem[\"user_id\"]) - have_2models))].sort_values(by = \"user_id\")"
      ],
      "execution_count": null,
      "outputs": []
    },
    {
      "cell_type": "code",
      "metadata": {
        "colab": {
          "base_uri": "https://localhost:8080/",
          "height": 797
        },
        "id": "CBI7916B68DX",
        "outputId": "566a09f7-9a04-4bfd-d214-6abe6109c359"
      },
      "source": [
        "temp = train_err.groupby([train_err['user_id'],train_err['model_nm']]).mean()\n",
        "\n",
        "temp.reset_index(level=1, inplace=True)\n",
        "temp.reset_index(level=0, inplace=True)\n",
        "temp.drop(columns=[\"time\",'errtype'],inplace=True)\n",
        "\n",
        "display(train_problem_have1model)\n",
        "display(temp)"
      ],
      "execution_count": null,
      "outputs": [
        {
          "output_type": "display_data",
          "data": {
            "text/html": [
              "<div>\n",
              "<style scoped>\n",
              "    .dataframe tbody tr th:only-of-type {\n",
              "        vertical-align: middle;\n",
              "    }\n",
              "\n",
              "    .dataframe tbody tr th {\n",
              "        vertical-align: top;\n",
              "    }\n",
              "\n",
              "    .dataframe thead th {\n",
              "        text-align: right;\n",
              "    }\n",
              "</style>\n",
              "<table border=\"1\" class=\"dataframe\">\n",
              "  <thead>\n",
              "    <tr style=\"text-align: right;\">\n",
              "      <th></th>\n",
              "      <th>user_id</th>\n",
              "      <th>time</th>\n",
              "    </tr>\n",
              "  </thead>\n",
              "  <tbody>\n",
              "    <tr>\n",
              "      <th>1116</th>\n",
              "      <td>10001</td>\n",
              "      <td>20201113190000</td>\n",
              "    </tr>\n",
              "    <tr>\n",
              "      <th>492</th>\n",
              "      <td>10004</td>\n",
              "      <td>20201104120000</td>\n",
              "    </tr>\n",
              "    <tr>\n",
              "      <th>3857</th>\n",
              "      <td>10005</td>\n",
              "      <td>20201113120000</td>\n",
              "    </tr>\n",
              "    <tr>\n",
              "      <th>4243</th>\n",
              "      <td>10008</td>\n",
              "      <td>20201124130000</td>\n",
              "    </tr>\n",
              "    <tr>\n",
              "      <th>4735</th>\n",
              "      <td>10009</td>\n",
              "      <td>20201125150000</td>\n",
              "    </tr>\n",
              "    <tr>\n",
              "      <th>...</th>\n",
              "      <td>...</td>\n",
              "      <td>...</td>\n",
              "    </tr>\n",
              "    <tr>\n",
              "      <th>403</th>\n",
              "      <td>24983</td>\n",
              "      <td>20201123220000</td>\n",
              "    </tr>\n",
              "    <tr>\n",
              "      <th>3870</th>\n",
              "      <td>24983</td>\n",
              "      <td>20201123230000</td>\n",
              "    </tr>\n",
              "    <tr>\n",
              "      <th>3829</th>\n",
              "      <td>24990</td>\n",
              "      <td>20201121170000</td>\n",
              "    </tr>\n",
              "    <tr>\n",
              "      <th>2799</th>\n",
              "      <td>24997</td>\n",
              "      <td>20201115150000</td>\n",
              "    </tr>\n",
              "    <tr>\n",
              "      <th>4306</th>\n",
              "      <td>24998</td>\n",
              "      <td>20201110210000</td>\n",
              "    </tr>\n",
              "  </tbody>\n",
              "</table>\n",
              "<p>4709 rows × 2 columns</p>\n",
              "</div>"
            ],
            "text/plain": [
              "      user_id            time\n",
              "1116    10001  20201113190000\n",
              "492     10004  20201104120000\n",
              "3857    10005  20201113120000\n",
              "4243    10008  20201124130000\n",
              "4735    10009  20201125150000\n",
              "...       ...             ...\n",
              "403     24983  20201123220000\n",
              "3870    24983  20201123230000\n",
              "3829    24990  20201121170000\n",
              "2799    24997  20201115150000\n",
              "4306    24998  20201110210000\n",
              "\n",
              "[4709 rows x 2 columns]"
            ]
          },
          "metadata": {
            "tags": []
          }
        },
        {
          "output_type": "display_data",
          "data": {
            "text/html": [
              "<div>\n",
              "<style scoped>\n",
              "    .dataframe tbody tr th:only-of-type {\n",
              "        vertical-align: middle;\n",
              "    }\n",
              "\n",
              "    .dataframe tbody tr th {\n",
              "        vertical-align: top;\n",
              "    }\n",
              "\n",
              "    .dataframe thead th {\n",
              "        text-align: right;\n",
              "    }\n",
              "</style>\n",
              "<table border=\"1\" class=\"dataframe\">\n",
              "  <thead>\n",
              "    <tr style=\"text-align: right;\">\n",
              "      <th></th>\n",
              "      <th>user_id</th>\n",
              "      <th>model_nm</th>\n",
              "    </tr>\n",
              "  </thead>\n",
              "  <tbody>\n",
              "    <tr>\n",
              "      <th>0</th>\n",
              "      <td>10000</td>\n",
              "      <td>model_3</td>\n",
              "    </tr>\n",
              "    <tr>\n",
              "      <th>1</th>\n",
              "      <td>10001</td>\n",
              "      <td>model_2</td>\n",
              "    </tr>\n",
              "    <tr>\n",
              "      <th>2</th>\n",
              "      <td>10002</td>\n",
              "      <td>model_3</td>\n",
              "    </tr>\n",
              "    <tr>\n",
              "      <th>3</th>\n",
              "      <td>10003</td>\n",
              "      <td>model_2</td>\n",
              "    </tr>\n",
              "    <tr>\n",
              "      <th>4</th>\n",
              "      <td>10004</td>\n",
              "      <td>model_0</td>\n",
              "    </tr>\n",
              "    <tr>\n",
              "      <th>...</th>\n",
              "      <td>...</td>\n",
              "      <td>...</td>\n",
              "    </tr>\n",
              "    <tr>\n",
              "      <th>15699</th>\n",
              "      <td>24995</td>\n",
              "      <td>model_2</td>\n",
              "    </tr>\n",
              "    <tr>\n",
              "      <th>15700</th>\n",
              "      <td>24996</td>\n",
              "      <td>model_3</td>\n",
              "    </tr>\n",
              "    <tr>\n",
              "      <th>15701</th>\n",
              "      <td>24997</td>\n",
              "      <td>model_0</td>\n",
              "    </tr>\n",
              "    <tr>\n",
              "      <th>15702</th>\n",
              "      <td>24998</td>\n",
              "      <td>model_0</td>\n",
              "    </tr>\n",
              "    <tr>\n",
              "      <th>15703</th>\n",
              "      <td>24999</td>\n",
              "      <td>model_3</td>\n",
              "    </tr>\n",
              "  </tbody>\n",
              "</table>\n",
              "<p>15704 rows × 2 columns</p>\n",
              "</div>"
            ],
            "text/plain": [
              "       user_id model_nm\n",
              "0        10000  model_3\n",
              "1        10001  model_2\n",
              "2        10002  model_3\n",
              "3        10003  model_2\n",
              "4        10004  model_0\n",
              "...        ...      ...\n",
              "15699    24995  model_2\n",
              "15700    24996  model_3\n",
              "15701    24997  model_0\n",
              "15702    24998  model_0\n",
              "15703    24999  model_3\n",
              "\n",
              "[15704 rows x 2 columns]"
            ]
          },
          "metadata": {
            "tags": []
          }
        }
      ]
    },
    {
      "cell_type": "code",
      "metadata": {
        "colab": {
          "base_uri": "https://localhost:8080/",
          "height": 738
        },
        "id": "IA1Qo4zb6XB-",
        "outputId": "eb9b8ae0-a72a-4df2-8a84-b7aad3dfae3e"
      },
      "source": [
        "problem = pd.merge(train_problem_have1model, temp,how='left', on = 'user_id')\n",
        "display(problem)\n",
        "problem.groupby(problem[\"model_nm\"]).count()\n",
        "\n",
        "\n"
      ],
      "execution_count": null,
      "outputs": [
        {
          "output_type": "display_data",
          "data": {
            "text/html": [
              "<div>\n",
              "<style scoped>\n",
              "    .dataframe tbody tr th:only-of-type {\n",
              "        vertical-align: middle;\n",
              "    }\n",
              "\n",
              "    .dataframe tbody tr th {\n",
              "        vertical-align: top;\n",
              "    }\n",
              "\n",
              "    .dataframe thead th {\n",
              "        text-align: right;\n",
              "    }\n",
              "</style>\n",
              "<table border=\"1\" class=\"dataframe\">\n",
              "  <thead>\n",
              "    <tr style=\"text-align: right;\">\n",
              "      <th></th>\n",
              "      <th>user_id</th>\n",
              "      <th>time</th>\n",
              "      <th>model_nm</th>\n",
              "    </tr>\n",
              "  </thead>\n",
              "  <tbody>\n",
              "    <tr>\n",
              "      <th>0</th>\n",
              "      <td>10001</td>\n",
              "      <td>20201113190000</td>\n",
              "      <td>model_2</td>\n",
              "    </tr>\n",
              "    <tr>\n",
              "      <th>1</th>\n",
              "      <td>10004</td>\n",
              "      <td>20201104120000</td>\n",
              "      <td>model_0</td>\n",
              "    </tr>\n",
              "    <tr>\n",
              "      <th>2</th>\n",
              "      <td>10005</td>\n",
              "      <td>20201113120000</td>\n",
              "      <td>model_0</td>\n",
              "    </tr>\n",
              "    <tr>\n",
              "      <th>3</th>\n",
              "      <td>10008</td>\n",
              "      <td>20201124130000</td>\n",
              "      <td>model_0</td>\n",
              "    </tr>\n",
              "    <tr>\n",
              "      <th>4</th>\n",
              "      <td>10009</td>\n",
              "      <td>20201125150000</td>\n",
              "      <td>model_1</td>\n",
              "    </tr>\n",
              "    <tr>\n",
              "      <th>...</th>\n",
              "      <td>...</td>\n",
              "      <td>...</td>\n",
              "      <td>...</td>\n",
              "    </tr>\n",
              "    <tr>\n",
              "      <th>4704</th>\n",
              "      <td>24983</td>\n",
              "      <td>20201123220000</td>\n",
              "      <td>model_0</td>\n",
              "    </tr>\n",
              "    <tr>\n",
              "      <th>4705</th>\n",
              "      <td>24983</td>\n",
              "      <td>20201123230000</td>\n",
              "      <td>model_0</td>\n",
              "    </tr>\n",
              "    <tr>\n",
              "      <th>4706</th>\n",
              "      <td>24990</td>\n",
              "      <td>20201121170000</td>\n",
              "      <td>model_4</td>\n",
              "    </tr>\n",
              "    <tr>\n",
              "      <th>4707</th>\n",
              "      <td>24997</td>\n",
              "      <td>20201115150000</td>\n",
              "      <td>model_0</td>\n",
              "    </tr>\n",
              "    <tr>\n",
              "      <th>4708</th>\n",
              "      <td>24998</td>\n",
              "      <td>20201110210000</td>\n",
              "      <td>model_0</td>\n",
              "    </tr>\n",
              "  </tbody>\n",
              "</table>\n",
              "<p>4709 rows × 3 columns</p>\n",
              "</div>"
            ],
            "text/plain": [
              "      user_id            time model_nm\n",
              "0       10001  20201113190000  model_2\n",
              "1       10004  20201104120000  model_0\n",
              "2       10005  20201113120000  model_0\n",
              "3       10008  20201124130000  model_0\n",
              "4       10009  20201125150000  model_1\n",
              "...       ...             ...      ...\n",
              "4704    24983  20201123220000  model_0\n",
              "4705    24983  20201123230000  model_0\n",
              "4706    24990  20201121170000  model_4\n",
              "4707    24997  20201115150000  model_0\n",
              "4708    24998  20201110210000  model_0\n",
              "\n",
              "[4709 rows x 3 columns]"
            ]
          },
          "metadata": {
            "tags": []
          }
        },
        {
          "output_type": "execute_result",
          "data": {
            "text/html": [
              "<div>\n",
              "<style scoped>\n",
              "    .dataframe tbody tr th:only-of-type {\n",
              "        vertical-align: middle;\n",
              "    }\n",
              "\n",
              "    .dataframe tbody tr th {\n",
              "        vertical-align: top;\n",
              "    }\n",
              "\n",
              "    .dataframe thead th {\n",
              "        text-align: right;\n",
              "    }\n",
              "</style>\n",
              "<table border=\"1\" class=\"dataframe\">\n",
              "  <thead>\n",
              "    <tr style=\"text-align: right;\">\n",
              "      <th></th>\n",
              "      <th>user_id</th>\n",
              "      <th>time</th>\n",
              "    </tr>\n",
              "    <tr>\n",
              "      <th>model_nm</th>\n",
              "      <th></th>\n",
              "      <th></th>\n",
              "    </tr>\n",
              "  </thead>\n",
              "  <tbody>\n",
              "    <tr>\n",
              "      <th>model_0</th>\n",
              "      <td>1763</td>\n",
              "      <td>1763</td>\n",
              "    </tr>\n",
              "    <tr>\n",
              "      <th>model_1</th>\n",
              "      <td>785</td>\n",
              "      <td>785</td>\n",
              "    </tr>\n",
              "    <tr>\n",
              "      <th>model_2</th>\n",
              "      <td>1204</td>\n",
              "      <td>1204</td>\n",
              "    </tr>\n",
              "    <tr>\n",
              "      <th>model_3</th>\n",
              "      <td>728</td>\n",
              "      <td>728</td>\n",
              "    </tr>\n",
              "    <tr>\n",
              "      <th>model_4</th>\n",
              "      <td>144</td>\n",
              "      <td>144</td>\n",
              "    </tr>\n",
              "    <tr>\n",
              "      <th>model_5</th>\n",
              "      <td>22</td>\n",
              "      <td>22</td>\n",
              "    </tr>\n",
              "    <tr>\n",
              "      <th>model_6</th>\n",
              "      <td>10</td>\n",
              "      <td>10</td>\n",
              "    </tr>\n",
              "    <tr>\n",
              "      <th>model_7</th>\n",
              "      <td>30</td>\n",
              "      <td>30</td>\n",
              "    </tr>\n",
              "    <tr>\n",
              "      <th>model_8</th>\n",
              "      <td>23</td>\n",
              "      <td>23</td>\n",
              "    </tr>\n",
              "  </tbody>\n",
              "</table>\n",
              "</div>"
            ],
            "text/plain": [
              "          user_id  time\n",
              "model_nm               \n",
              "model_0      1763  1763\n",
              "model_1       785   785\n",
              "model_2      1204  1204\n",
              "model_3       728   728\n",
              "model_4       144   144\n",
              "model_5        22    22\n",
              "model_6        10    10\n",
              "model_7        30    30\n",
              "model_8        23    23"
            ]
          },
          "metadata": {
            "tags": []
          },
          "execution_count": 77
        }
      ]
    },
    {
      "cell_type": "code",
      "metadata": {
        "colab": {
          "base_uri": "https://localhost:8080/",
          "height": 437
        },
        "id": "Qj1ndc3usVve",
        "outputId": "a1ab5b28-f564-4d4b-eb16-bfd05ff6de53"
      },
      "source": [
        "train_err_group"
      ],
      "execution_count": null,
      "outputs": [
        {
          "output_type": "execute_result",
          "data": {
            "text/html": [
              "<div>\n",
              "<style scoped>\n",
              "    .dataframe tbody tr th:only-of-type {\n",
              "        vertical-align: middle;\n",
              "    }\n",
              "\n",
              "    .dataframe tbody tr th {\n",
              "        vertical-align: top;\n",
              "    }\n",
              "\n",
              "    .dataframe thead th {\n",
              "        text-align: right;\n",
              "    }\n",
              "</style>\n",
              "<table border=\"1\" class=\"dataframe\">\n",
              "  <thead>\n",
              "    <tr style=\"text-align: right;\">\n",
              "      <th></th>\n",
              "      <th>model_nm</th>\n",
              "    </tr>\n",
              "    <tr>\n",
              "      <th>user_id</th>\n",
              "      <th></th>\n",
              "    </tr>\n",
              "  </thead>\n",
              "  <tbody>\n",
              "    <tr>\n",
              "      <th>15605</th>\n",
              "      <td>1</td>\n",
              "    </tr>\n",
              "    <tr>\n",
              "      <th>21076</th>\n",
              "      <td>1</td>\n",
              "    </tr>\n",
              "    <tr>\n",
              "      <th>12367</th>\n",
              "      <td>1</td>\n",
              "    </tr>\n",
              "    <tr>\n",
              "      <th>12470</th>\n",
              "      <td>1</td>\n",
              "    </tr>\n",
              "    <tr>\n",
              "      <th>13525</th>\n",
              "      <td>1</td>\n",
              "    </tr>\n",
              "    <tr>\n",
              "      <th>...</th>\n",
              "      <td>...</td>\n",
              "    </tr>\n",
              "    <tr>\n",
              "      <th>11041</th>\n",
              "      <td>66093</td>\n",
              "    </tr>\n",
              "    <tr>\n",
              "      <th>20352</th>\n",
              "      <td>83680</td>\n",
              "    </tr>\n",
              "    <tr>\n",
              "      <th>15570</th>\n",
              "      <td>175730</td>\n",
              "    </tr>\n",
              "    <tr>\n",
              "      <th>20546</th>\n",
              "      <td>195538</td>\n",
              "    </tr>\n",
              "    <tr>\n",
              "      <th>24934</th>\n",
              "      <td>222186</td>\n",
              "    </tr>\n",
              "  </tbody>\n",
              "</table>\n",
              "<p>15000 rows × 1 columns</p>\n",
              "</div>"
            ],
            "text/plain": [
              "         model_nm\n",
              "user_id          \n",
              "15605           1\n",
              "21076           1\n",
              "12367           1\n",
              "12470           1\n",
              "13525           1\n",
              "...           ...\n",
              "11041       66093\n",
              "20352       83680\n",
              "15570      175730\n",
              "20546      195538\n",
              "24934      222186\n",
              "\n",
              "[15000 rows x 1 columns]"
            ]
          },
          "metadata": {
            "tags": []
          },
          "execution_count": 4
        }
      ]
    },
    {
      "cell_type": "code",
      "metadata": {
        "colab": {
          "base_uri": "https://localhost:8080/",
          "height": 48
        },
        "id": "Yv607Z5w93gr",
        "outputId": "727805db-fcb0-4c0d-f80c-9c4260056cbd"
      },
      "source": [
        "train_problem.loc[train_problem[\"user_id\"]== 11041]"
      ],
      "execution_count": null,
      "outputs": [
        {
          "output_type": "execute_result",
          "data": {
            "text/html": [
              "<div>\n",
              "<style scoped>\n",
              "    .dataframe tbody tr th:only-of-type {\n",
              "        vertical-align: middle;\n",
              "    }\n",
              "\n",
              "    .dataframe tbody tr th {\n",
              "        vertical-align: top;\n",
              "    }\n",
              "\n",
              "    .dataframe thead th {\n",
              "        text-align: right;\n",
              "    }\n",
              "</style>\n",
              "<table border=\"1\" class=\"dataframe\">\n",
              "  <thead>\n",
              "    <tr style=\"text-align: right;\">\n",
              "      <th></th>\n",
              "      <th>user_id</th>\n",
              "      <th>time</th>\n",
              "    </tr>\n",
              "  </thead>\n",
              "  <tbody>\n",
              "  </tbody>\n",
              "</table>\n",
              "</div>"
            ],
            "text/plain": [
              "Empty DataFrame\n",
              "Columns: [user_id, time]\n",
              "Index: []"
            ]
          },
          "metadata": {
            "tags": []
          },
          "execution_count": 14
        }
      ]
    },
    {
      "cell_type": "code",
      "metadata": {
        "colab": {
          "base_uri": "https://localhost:8080/",
          "height": 427
        },
        "id": "q65D68aFHg2U",
        "outputId": "9a78b12a-ce16-40a9-b6f6-c6fc31f7527e"
      },
      "source": [
        "train_quality"
      ],
      "execution_count": null,
      "outputs": [
        {
          "output_type": "execute_result",
          "data": {
            "text/html": [
              "<div>\n",
              "<style scoped>\n",
              "    .dataframe tbody tr th:only-of-type {\n",
              "        vertical-align: middle;\n",
              "    }\n",
              "\n",
              "    .dataframe tbody tr th {\n",
              "        vertical-align: top;\n",
              "    }\n",
              "\n",
              "    .dataframe thead th {\n",
              "        text-align: right;\n",
              "    }\n",
              "</style>\n",
              "<table border=\"1\" class=\"dataframe\">\n",
              "  <thead>\n",
              "    <tr style=\"text-align: right;\">\n",
              "      <th></th>\n",
              "      <th>time</th>\n",
              "      <th>user_id</th>\n",
              "      <th>fwver</th>\n",
              "      <th>quality_0</th>\n",
              "      <th>quality_1</th>\n",
              "      <th>quality_2</th>\n",
              "      <th>quality_3</th>\n",
              "      <th>quality_4</th>\n",
              "      <th>quality_5</th>\n",
              "      <th>quality_6</th>\n",
              "      <th>quality_7</th>\n",
              "      <th>quality_8</th>\n",
              "      <th>quality_9</th>\n",
              "      <th>quality_10</th>\n",
              "      <th>quality_11</th>\n",
              "      <th>quality_12</th>\n",
              "    </tr>\n",
              "  </thead>\n",
              "  <tbody>\n",
              "    <tr>\n",
              "      <th>0</th>\n",
              "      <td>20201129090000</td>\n",
              "      <td>10000</td>\n",
              "      <td>05.15.2138</td>\n",
              "      <td>0.0</td>\n",
              "      <td>0</td>\n",
              "      <td>0.0</td>\n",
              "      <td>0</td>\n",
              "      <td>0</td>\n",
              "      <td>0</td>\n",
              "      <td>0</td>\n",
              "      <td>0</td>\n",
              "      <td>0</td>\n",
              "      <td>0</td>\n",
              "      <td>4</td>\n",
              "      <td>0</td>\n",
              "      <td>0</td>\n",
              "    </tr>\n",
              "    <tr>\n",
              "      <th>1</th>\n",
              "      <td>20201129090000</td>\n",
              "      <td>10000</td>\n",
              "      <td>05.15.2138</td>\n",
              "      <td>0.0</td>\n",
              "      <td>0</td>\n",
              "      <td>0.0</td>\n",
              "      <td>0</td>\n",
              "      <td>0</td>\n",
              "      <td>0</td>\n",
              "      <td>0</td>\n",
              "      <td>0</td>\n",
              "      <td>0</td>\n",
              "      <td>0</td>\n",
              "      <td>4</td>\n",
              "      <td>0</td>\n",
              "      <td>0</td>\n",
              "    </tr>\n",
              "    <tr>\n",
              "      <th>2</th>\n",
              "      <td>20201129090000</td>\n",
              "      <td>10000</td>\n",
              "      <td>05.15.2138</td>\n",
              "      <td>0.0</td>\n",
              "      <td>0</td>\n",
              "      <td>0.0</td>\n",
              "      <td>0</td>\n",
              "      <td>0</td>\n",
              "      <td>0</td>\n",
              "      <td>0</td>\n",
              "      <td>0</td>\n",
              "      <td>0</td>\n",
              "      <td>0</td>\n",
              "      <td>4</td>\n",
              "      <td>0</td>\n",
              "      <td>0</td>\n",
              "    </tr>\n",
              "    <tr>\n",
              "      <th>3</th>\n",
              "      <td>20201129090000</td>\n",
              "      <td>10000</td>\n",
              "      <td>05.15.2138</td>\n",
              "      <td>0.0</td>\n",
              "      <td>0</td>\n",
              "      <td>0.0</td>\n",
              "      <td>0</td>\n",
              "      <td>0</td>\n",
              "      <td>0</td>\n",
              "      <td>0</td>\n",
              "      <td>0</td>\n",
              "      <td>0</td>\n",
              "      <td>0</td>\n",
              "      <td>4</td>\n",
              "      <td>0</td>\n",
              "      <td>0</td>\n",
              "    </tr>\n",
              "    <tr>\n",
              "      <th>4</th>\n",
              "      <td>20201129090000</td>\n",
              "      <td>10000</td>\n",
              "      <td>05.15.2138</td>\n",
              "      <td>0.0</td>\n",
              "      <td>0</td>\n",
              "      <td>0.0</td>\n",
              "      <td>0</td>\n",
              "      <td>0</td>\n",
              "      <td>0</td>\n",
              "      <td>0</td>\n",
              "      <td>0</td>\n",
              "      <td>0</td>\n",
              "      <td>0</td>\n",
              "      <td>4</td>\n",
              "      <td>0</td>\n",
              "      <td>0</td>\n",
              "    </tr>\n",
              "    <tr>\n",
              "      <th>...</th>\n",
              "      <td>...</td>\n",
              "      <td>...</td>\n",
              "      <td>...</td>\n",
              "      <td>...</td>\n",
              "      <td>...</td>\n",
              "      <td>...</td>\n",
              "      <td>...</td>\n",
              "      <td>...</td>\n",
              "      <td>...</td>\n",
              "      <td>...</td>\n",
              "      <td>...</td>\n",
              "      <td>...</td>\n",
              "      <td>...</td>\n",
              "      <td>...</td>\n",
              "      <td>...</td>\n",
              "      <td>...</td>\n",
              "    </tr>\n",
              "    <tr>\n",
              "      <th>828619</th>\n",
              "      <td>20201124033000</td>\n",
              "      <td>24997</td>\n",
              "      <td>04.22.1778</td>\n",
              "      <td>0.0</td>\n",
              "      <td>0</td>\n",
              "      <td>0.0</td>\n",
              "      <td>0</td>\n",
              "      <td>0</td>\n",
              "      <td>1</td>\n",
              "      <td>0</td>\n",
              "      <td>0</td>\n",
              "      <td>0</td>\n",
              "      <td>0</td>\n",
              "      <td>17</td>\n",
              "      <td>0</td>\n",
              "      <td>0</td>\n",
              "    </tr>\n",
              "    <tr>\n",
              "      <th>828620</th>\n",
              "      <td>20201124033000</td>\n",
              "      <td>24997</td>\n",
              "      <td>04.22.1778</td>\n",
              "      <td>0.0</td>\n",
              "      <td>0</td>\n",
              "      <td>0.0</td>\n",
              "      <td>0</td>\n",
              "      <td>0</td>\n",
              "      <td>0</td>\n",
              "      <td>0</td>\n",
              "      <td>0</td>\n",
              "      <td>0</td>\n",
              "      <td>0</td>\n",
              "      <td>17</td>\n",
              "      <td>0</td>\n",
              "      <td>0</td>\n",
              "    </tr>\n",
              "    <tr>\n",
              "      <th>828621</th>\n",
              "      <td>20201124033000</td>\n",
              "      <td>24997</td>\n",
              "      <td>04.22.1778</td>\n",
              "      <td>0.0</td>\n",
              "      <td>0</td>\n",
              "      <td>0.0</td>\n",
              "      <td>0</td>\n",
              "      <td>0</td>\n",
              "      <td>3</td>\n",
              "      <td>0</td>\n",
              "      <td>0</td>\n",
              "      <td>0</td>\n",
              "      <td>0</td>\n",
              "      <td>17</td>\n",
              "      <td>0</td>\n",
              "      <td>0</td>\n",
              "    </tr>\n",
              "    <tr>\n",
              "      <th>828622</th>\n",
              "      <td>20201124033000</td>\n",
              "      <td>24997</td>\n",
              "      <td>04.22.1778</td>\n",
              "      <td>0.0</td>\n",
              "      <td>0</td>\n",
              "      <td>0.0</td>\n",
              "      <td>0</td>\n",
              "      <td>0</td>\n",
              "      <td>0</td>\n",
              "      <td>0</td>\n",
              "      <td>0</td>\n",
              "      <td>0</td>\n",
              "      <td>0</td>\n",
              "      <td>17</td>\n",
              "      <td>0</td>\n",
              "      <td>0</td>\n",
              "    </tr>\n",
              "    <tr>\n",
              "      <th>828623</th>\n",
              "      <td>20201124033000</td>\n",
              "      <td>24997</td>\n",
              "      <td>04.22.1778</td>\n",
              "      <td>0.0</td>\n",
              "      <td>0</td>\n",
              "      <td>0.0</td>\n",
              "      <td>0</td>\n",
              "      <td>0</td>\n",
              "      <td>9</td>\n",
              "      <td>0</td>\n",
              "      <td>0</td>\n",
              "      <td>0</td>\n",
              "      <td>0</td>\n",
              "      <td>17</td>\n",
              "      <td>0</td>\n",
              "      <td>0</td>\n",
              "    </tr>\n",
              "  </tbody>\n",
              "</table>\n",
              "<p>828624 rows × 16 columns</p>\n",
              "</div>"
            ],
            "text/plain": [
              "                  time  user_id       fwver  ...  quality_10  quality_11  quality_12\n",
              "0       20201129090000    10000  05.15.2138  ...           4           0           0\n",
              "1       20201129090000    10000  05.15.2138  ...           4           0           0\n",
              "2       20201129090000    10000  05.15.2138  ...           4           0           0\n",
              "3       20201129090000    10000  05.15.2138  ...           4           0           0\n",
              "4       20201129090000    10000  05.15.2138  ...           4           0           0\n",
              "...                ...      ...         ...  ...         ...         ...         ...\n",
              "828619  20201124033000    24997  04.22.1778  ...          17           0           0\n",
              "828620  20201124033000    24997  04.22.1778  ...          17           0           0\n",
              "828621  20201124033000    24997  04.22.1778  ...          17           0           0\n",
              "828622  20201124033000    24997  04.22.1778  ...          17           0           0\n",
              "828623  20201124033000    24997  04.22.1778  ...          17           0           0\n",
              "\n",
              "[828624 rows x 16 columns]"
            ]
          },
          "metadata": {
            "tags": []
          },
          "execution_count": 47
        }
      ]
    },
    {
      "cell_type": "code",
      "metadata": {
        "colab": {
          "base_uri": "https://localhost:8080/"
        },
        "id": "sFpSePkw-o8L",
        "outputId": "674ecc2d-f605-46c1-dd45-21215f278c50"
      },
      "source": [
        "len(set(train_quality[\"user_id\"]) -set(train_problem[\"user_id\"]))"
      ],
      "execution_count": null,
      "outputs": [
        {
          "output_type": "execute_result",
          "data": {
            "text/plain": [
              "5114"
            ]
          },
          "metadata": {
            "tags": []
          },
          "execution_count": 49
        }
      ]
    },
    {
      "cell_type": "code",
      "metadata": {
        "colab": {
          "base_uri": "https://localhost:8080/"
        },
        "id": "TjdxYGrrCZOj",
        "outputId": "dbef44cd-6b03-4127-d40b-04e1dff6ebd3"
      },
      "source": [
        " set(train_problem[\"user_id\"]) - set(train_err[\"user_id\"])"
      ],
      "execution_count": null,
      "outputs": [
        {
          "output_type": "execute_result",
          "data": {
            "text/plain": [
              "set()"
            ]
          },
          "metadata": {
            "tags": []
          },
          "execution_count": 22
        }
      ]
    },
    {
      "cell_type": "markdown",
      "metadata": {
        "id": "r6EIMWKB-whr"
      },
      "source": [
        "15000명 중에 \n",
        "\n",
        "8천명이 problem quanlity\n",
        "\n",
        "5천명이 문제있다고 답함\n",
        "\n",
        "둘은 꼭 부분집합 관계는 아님\n"
      ]
    },
    {
      "cell_type": "code",
      "metadata": {
        "id": "tn64tHg3DN9c"
      },
      "source": [
        "temp = train_err_group.join(train_problem_group,how='left')"
      ],
      "execution_count": null,
      "outputs": []
    },
    {
      "cell_type": "code",
      "metadata": {
        "id": "-MOcvEF9uHaf"
      },
      "source": [
        "temp.fillna(0,inplace=True)"
      ],
      "execution_count": null,
      "outputs": []
    },
    {
      "cell_type": "code",
      "metadata": {
        "colab": {
          "base_uri": "https://localhost:8080/",
          "height": 437
        },
        "id": "uU-kmHhIuOFn",
        "outputId": "fd91fcf1-c24d-4ca4-f29a-f7e33cba951e"
      },
      "source": [
        "temp.sort_values(by=['time'],ascending=False)"
      ],
      "execution_count": null,
      "outputs": [
        {
          "output_type": "execute_result",
          "data": {
            "text/html": [
              "<div>\n",
              "<style scoped>\n",
              "    .dataframe tbody tr th:only-of-type {\n",
              "        vertical-align: middle;\n",
              "    }\n",
              "\n",
              "    .dataframe tbody tr th {\n",
              "        vertical-align: top;\n",
              "    }\n",
              "\n",
              "    .dataframe thead th {\n",
              "        text-align: right;\n",
              "    }\n",
              "</style>\n",
              "<table border=\"1\" class=\"dataframe\">\n",
              "  <thead>\n",
              "    <tr style=\"text-align: right;\">\n",
              "      <th></th>\n",
              "      <th>model_nm</th>\n",
              "      <th>time</th>\n",
              "    </tr>\n",
              "    <tr>\n",
              "      <th>user_id</th>\n",
              "      <th></th>\n",
              "      <th></th>\n",
              "    </tr>\n",
              "  </thead>\n",
              "  <tbody>\n",
              "    <tr>\n",
              "      <th>24407</th>\n",
              "      <td>1910</td>\n",
              "      <td>5.0</td>\n",
              "    </tr>\n",
              "    <tr>\n",
              "      <th>24138</th>\n",
              "      <td>564</td>\n",
              "      <td>4.0</td>\n",
              "    </tr>\n",
              "    <tr>\n",
              "      <th>11016</th>\n",
              "      <td>607</td>\n",
              "      <td>4.0</td>\n",
              "    </tr>\n",
              "    <tr>\n",
              "      <th>11528</th>\n",
              "      <td>544</td>\n",
              "      <td>4.0</td>\n",
              "    </tr>\n",
              "    <tr>\n",
              "      <th>20636</th>\n",
              "      <td>1563</td>\n",
              "      <td>4.0</td>\n",
              "    </tr>\n",
              "    <tr>\n",
              "      <th>...</th>\n",
              "      <td>...</td>\n",
              "      <td>...</td>\n",
              "    </tr>\n",
              "    <tr>\n",
              "      <th>23030</th>\n",
              "      <td>356</td>\n",
              "      <td>0.0</td>\n",
              "    </tr>\n",
              "    <tr>\n",
              "      <th>12226</th>\n",
              "      <td>695</td>\n",
              "      <td>0.0</td>\n",
              "    </tr>\n",
              "    <tr>\n",
              "      <th>12706</th>\n",
              "      <td>695</td>\n",
              "      <td>0.0</td>\n",
              "    </tr>\n",
              "    <tr>\n",
              "      <th>16726</th>\n",
              "      <td>695</td>\n",
              "      <td>0.0</td>\n",
              "    </tr>\n",
              "    <tr>\n",
              "      <th>15605</th>\n",
              "      <td>1</td>\n",
              "      <td>0.0</td>\n",
              "    </tr>\n",
              "  </tbody>\n",
              "</table>\n",
              "<p>15000 rows × 2 columns</p>\n",
              "</div>"
            ],
            "text/plain": [
              "         model_nm  time\n",
              "user_id                \n",
              "24407        1910   5.0\n",
              "24138         564   4.0\n",
              "11016         607   4.0\n",
              "11528         544   4.0\n",
              "20636        1563   4.0\n",
              "...           ...   ...\n",
              "23030         356   0.0\n",
              "12226         695   0.0\n",
              "12706         695   0.0\n",
              "16726         695   0.0\n",
              "15605           1   0.0\n",
              "\n",
              "[15000 rows x 2 columns]"
            ]
          },
          "metadata": {
            "tags": []
          },
          "execution_count": 12
        }
      ]
    },
    {
      "cell_type": "code",
      "metadata": {
        "id": "8rJYClrBuuAA"
      },
      "source": [
        "temp.rename(columns = {'time' : 'target','model_nm' : 'count'}, inplace = True)\n"
      ],
      "execution_count": null,
      "outputs": []
    },
    {
      "cell_type": "code",
      "metadata": {
        "colab": {
          "base_uri": "https://localhost:8080/",
          "height": 283
        },
        "id": "wa63sPUZu5Zg",
        "outputId": "dd28b69c-0edd-4b65-d66a-52324b3686bc"
      },
      "source": [
        "plt.scatter(temp['count'],temp['target'].apply(lambda x : 1 if x >1 else x ),s = 0.1)"
      ],
      "execution_count": null,
      "outputs": [
        {
          "output_type": "execute_result",
          "data": {
            "text/plain": [
              "<matplotlib.collections.PathCollection at 0x7fedcdf943c8>"
            ]
          },
          "metadata": {
            "tags": []
          },
          "execution_count": 19
        },
        {
          "output_type": "display_data",
          "data": {
            "image/png": "[encoded data removed]",
            "text/plain": [
              "<Figure size 432x288 with 1 Axes>"
            ]
          },
          "metadata": {
            "tags": [],
            "needs_background": "light"
          }
        }
      ]
    },
    {
      "cell_type": "markdown",
      "metadata": {
        "id": "Q9XwYtiI4wVi"
      },
      "source": [
        "##dataset"
      ]
    },
    {
      "cell_type": "code",
      "metadata": {
        "id": "V78ddQbPwZuT"
      },
      "source": [
        ""
      ],
      "execution_count": null,
      "outputs": []
    },
    {
      "cell_type": "code",
      "metadata": {
        "id": "XOmyHRSv4xOw"
      },
      "source": [
        "X = temp.iloc[:, 0:-1]\n",
        "y = temp.iloc[:, -1]"
      ],
      "execution_count": null,
      "outputs": []
    },
    {
      "cell_type": "code",
      "metadata": {
        "id": "NFJDRauE6H2W"
      },
      "source": [
        "# Train - Test\n",
        "X_train, X_val, y_train, y_val = train_test_split(X, y, test_size=0.2, random_state=69)"
      ],
      "execution_count": null,
      "outputs": []
    },
    {
      "cell_type": "markdown",
      "metadata": {
        "id": "BSb-Z9UN7zFi"
      },
      "source": [
        "scaler"
      ]
    },
    {
      "cell_type": "code",
      "metadata": {
        "id": "fmLYpAxH66l6"
      },
      "source": [
        "scaler = MinMaxScaler()\n",
        "X_train = scaler.fit_transform(X_train)\n",
        "X_val = scaler.transform(X_val)\n",
        "\n",
        "X_train, y_train = np.array(X_train), np.array(y_train)\n",
        "X_val, y_val = np.array(X_val), np.array(y_val)"
      ],
      "execution_count": null,
      "outputs": []
    },
    {
      "cell_type": "code",
      "metadata": {
        "colab": {
          "base_uri": "https://localhost:8080/",
          "height": 283
        },
        "id": "bIeiKWIt76wK",
        "outputId": "5fef5e16-0b5f-45d3-d96b-ebdeb38ca091"
      },
      "source": [
        "plt.scatter(X_train,y_train)"
      ],
      "execution_count": null,
      "outputs": [
        {
          "output_type": "execute_result",
          "data": {
            "text/plain": [
              "<matplotlib.collections.PathCollection at 0x7fedcdd60588>"
            ]
          },
          "metadata": {
            "tags": []
          },
          "execution_count": 37
        },
        {
          "output_type": "display_data",
          "data": {
            "image/png": "[encoded data removed]",
            "text/plain": [
              "<Figure size 432x288 with 1 Axes>"
            ]
          },
          "metadata": {
            "tags": [],
            "needs_background": "light"
          }
        }
      ]
    },
    {
      "cell_type": "code",
      "metadata": {
        "id": "zdFakSS48a7e"
      },
      "source": [
        "class RegressionDataset(Dataset):\n",
        "    \n",
        "    def __init__(self, X_data, y_data):\n",
        "        self.X_data = X_data\n",
        "        self.y_data = y_data\n",
        "        \n",
        "    def __getitem__(self, index):\n",
        "        return self.X_data[index], self.y_data[index]\n",
        "        \n",
        "    def __len__ (self):\n",
        "        return len(self.X_data)\n",
        "train_dataset = RegressionDataset(torch.from_numpy(X_train).float(), torch.from_numpy(y_train).float())\n",
        "val_dataset = RegressionDataset(torch.from_numpy(X_val).float(), torch.from_numpy(y_val).float())"
      ],
      "execution_count": null,
      "outputs": []
    },
    {
      "cell_type": "code",
      "metadata": {
        "id": "1WNr74tHF50N"
      },
      "source": [
        "EPOCHS = 150\n",
        "BATCH_SIZE = 64\n",
        "LEARNING_RATE = 0.001\n",
        "NUM_FEATURES = len(X.columns)"
      ],
      "execution_count": null,
      "outputs": []
    },
    {
      "cell_type": "code",
      "metadata": {
        "id": "QEAHRhlTF7MK"
      },
      "source": [
        "train_loader = DataLoader(dataset=train_dataset, batch_size=BATCH_SIZE, shuffle=True)\n",
        "val_loader = DataLoader(dataset=val_dataset, batch_size=1)"
      ],
      "execution_count": null,
      "outputs": []
    },
    {
      "cell_type": "code",
      "metadata": {
        "id": "C5b0kqsMFviz"
      },
      "source": [
        "class MultipleRegression(nn.Module):\n",
        "    def __init__(self, num_features):\n",
        "        super(MultipleRegression, self).__init__()\n",
        "        \n",
        "        self.layer_1 = nn.Linear(num_features, 16)\n",
        "        self.layer_2 = nn.Linear(16, 32)\n",
        "        self.layer_3 = nn.Linear(32, 16)\n",
        "        self.layer_out = nn.Linear(16, 1)\n",
        "        \n",
        "        self.relu = nn.ReLU()\n",
        "    def forward(self, inputs):\n",
        "        x = self.relu(self.layer_1(inputs))\n",
        "        x = self.relu(self.layer_2(x))\n",
        "        x = self.relu(self.layer_3(x))\n",
        "        x = self.layer_out(x)\n",
        "        return (x)\n",
        "    def predict(self, test_inputs):\n",
        "        x = self.relu(self.layer_1(test_inputs))\n",
        "        x = self.relu(self.layer_2(x))\n",
        "        x = self.relu(self.layer_3(x))\n",
        "        x = self.layer_out(x)\n",
        "        return (x)"
      ],
      "execution_count": null,
      "outputs": []
    },
    {
      "cell_type": "code",
      "metadata": {
        "id": "ODUG_4xYFyvM"
      },
      "source": [
        ""
      ],
      "execution_count": null,
      "outputs": []
    },
    {
      "cell_type": "code",
      "metadata": {
        "id": "zjvCDFaJwaZ6"
      },
      "source": [
        ""
      ],
      "execution_count": null,
      "outputs": []
    },
    {
      "cell_type": "markdown",
      "metadata": {
        "id": "lMO7uH3OwcjK"
      },
      "source": [
        "## 해볼거 : model 0 번껄로 접수하기전에 여러가지 테스트해보자\n"
      ]
    },
    {
      "cell_type": "markdown",
      "metadata": {
        "id": "ylk-slFHwnbi"
      },
      "source": [
        "1. 모델 여러개 가진 사용자는 일단 삭제하자"
      ]
    },
    {
      "cell_type": "code",
      "metadata": {
        "colab": {
          "base_uri": "https://localhost:8080/",
          "height": 437
        },
        "id": "6iLY2OHPwdO6",
        "outputId": "7ac47f9d-0af8-4f1d-b7ec-7e4fea4f6ec3"
      },
      "source": [
        "train_err[['user_id','model_nm']].groupby([train_err['user_id'],train_err['model_nm']]).mean()"
      ],
      "execution_count": null,
      "outputs": [
        {
          "output_type": "execute_result",
          "data": {
            "text/html": [
              "<div>\n",
              "<style scoped>\n",
              "    .dataframe tbody tr th:only-of-type {\n",
              "        vertical-align: middle;\n",
              "    }\n",
              "\n",
              "    .dataframe tbody tr th {\n",
              "        vertical-align: top;\n",
              "    }\n",
              "\n",
              "    .dataframe thead th {\n",
              "        text-align: right;\n",
              "    }\n",
              "</style>\n",
              "<table border=\"1\" class=\"dataframe\">\n",
              "  <thead>\n",
              "    <tr style=\"text-align: right;\">\n",
              "      <th></th>\n",
              "      <th></th>\n",
              "      <th>user_id</th>\n",
              "    </tr>\n",
              "    <tr>\n",
              "      <th>user_id</th>\n",
              "      <th>model_nm</th>\n",
              "      <th></th>\n",
              "    </tr>\n",
              "  </thead>\n",
              "  <tbody>\n",
              "    <tr>\n",
              "      <th>10000</th>\n",
              "      <th>model_3</th>\n",
              "      <td>10000</td>\n",
              "    </tr>\n",
              "    <tr>\n",
              "      <th>10001</th>\n",
              "      <th>model_2</th>\n",
              "      <td>10001</td>\n",
              "    </tr>\n",
              "    <tr>\n",
              "      <th>10002</th>\n",
              "      <th>model_3</th>\n",
              "      <td>10002</td>\n",
              "    </tr>\n",
              "    <tr>\n",
              "      <th>10003</th>\n",
              "      <th>model_2</th>\n",
              "      <td>10003</td>\n",
              "    </tr>\n",
              "    <tr>\n",
              "      <th>10004</th>\n",
              "      <th>model_0</th>\n",
              "      <td>10004</td>\n",
              "    </tr>\n",
              "    <tr>\n",
              "      <th>...</th>\n",
              "      <th>...</th>\n",
              "      <td>...</td>\n",
              "    </tr>\n",
              "    <tr>\n",
              "      <th>24995</th>\n",
              "      <th>model_2</th>\n",
              "      <td>24995</td>\n",
              "    </tr>\n",
              "    <tr>\n",
              "      <th>24996</th>\n",
              "      <th>model_3</th>\n",
              "      <td>24996</td>\n",
              "    </tr>\n",
              "    <tr>\n",
              "      <th>24997</th>\n",
              "      <th>model_0</th>\n",
              "      <td>24997</td>\n",
              "    </tr>\n",
              "    <tr>\n",
              "      <th>24998</th>\n",
              "      <th>model_0</th>\n",
              "      <td>24998</td>\n",
              "    </tr>\n",
              "    <tr>\n",
              "      <th>24999</th>\n",
              "      <th>model_3</th>\n",
              "      <td>24999</td>\n",
              "    </tr>\n",
              "  </tbody>\n",
              "</table>\n",
              "<p>15704 rows × 1 columns</p>\n",
              "</div>"
            ],
            "text/plain": [
              "                  user_id\n",
              "user_id model_nm         \n",
              "10000   model_3     10000\n",
              "10001   model_2     10001\n",
              "10002   model_3     10002\n",
              "10003   model_2     10003\n",
              "10004   model_0     10004\n",
              "...                   ...\n",
              "24995   model_2     24995\n",
              "24996   model_3     24996\n",
              "24997   model_0     24997\n",
              "24998   model_0     24998\n",
              "24999   model_3     24999\n",
              "\n",
              "[15704 rows x 1 columns]"
            ]
          },
          "metadata": {
            "tags": []
          },
          "execution_count": 104
        }
      ]
    }
  ]
}