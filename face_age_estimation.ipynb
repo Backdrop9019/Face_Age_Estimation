{
  "nbformat": 4,
  "nbformat_minor": 0,
  "metadata": {
    "colab": {
      "name": "3조 소스코드.ipynb",
      "provenance": [],
      "collapsed_sections": [
        "N1h7dD7g1a_M",
        "pM3Wkg09zyG4",
        "SdOHcyi9z5IB"
      ]
    },
    "kernelspec": {
      "name": "python3",
      "display_name": "Python 3"
    },
    "language_info": {
      "name": "python"
    },
    "accelerator": "GPU"
  },
  "cells": [
    {
      "cell_type": "markdown",
      "metadata": {
        "id": "Ycb2aQOtcJNT"
      },
      "source": [
        "실전기계 학습 Face Age Estimation\n",
        "\n",
        "한정된 parameter에서 최고의 성능을 높이는 competition이었다.\n",
        "\n",
        "시도한 방법은\n",
        "\n",
        "1. 다양한 모델 (ResNet, Pre-Activation ResNet, WideResNet)\n",
        "\n",
        "2. kfold\n",
        "\n",
        "3. bsconv(경량화 conv 사용)\n",
        "\n",
        "4. ensemble\n",
        "\n",
        "5. optimizer 변경 (radam, adam, sgd)\n",
        "\n",
        "6. 스케쥴러 변경 (CosineAnnealingWarmupRestarts, multi step etc)\n",
        "\n",
        "7. 전처리 (dataset balance를 위해 upsample)\n",
        "\n",
        "8. data augmentation, albumentations 사용\n",
        "\n",
        "그중 3번 4번 8번이 가장 효과가 좋았다.\n",
        "\n",
        "\n"
      ]
    },
    {
      "cell_type": "code",
      "metadata": {
        "colab": {
          "base_uri": "https://localhost:8080/"
        },
        "id": "nW-ku5BrRh0r",
        "outputId": "31a82c5a-8705-4e76-9d6d-b767f2544efd"
      },
      "source": [
        "!nvidia-smi"
      ],
      "execution_count": null,
      "outputs": [
        {
          "output_type": "stream",
          "text": [
            "Sat Jun 12 07:48:54 2021       \n",
            "+-----------------------------------------------------------------------------+\n",
            "| NVIDIA-SMI 465.27       Driver Version: 460.32.03    CUDA Version: 11.2     |\n",
            "|-------------------------------+----------------------+----------------------+\n",
            "| GPU  Name        Persistence-M| Bus-Id        Disp.A | Volatile Uncorr. ECC |\n",
            "| Fan  Temp  Perf  Pwr:Usage/Cap|         Memory-Usage | GPU-Util  Compute M. |\n",
            "|                               |                      |               MIG M. |\n",
            "|===============================+======================+======================|\n",
            "|   0  Tesla P100-PCIE...  Off  | 00000000:00:04.0 Off |                    0 |\n",
            "| N/A   38C    P0    27W / 250W |      0MiB / 16280MiB |      0%      Default |\n",
            "|                               |                      |                  N/A |\n",
            "+-------------------------------+----------------------+----------------------+\n",
            "                                                                               \n",
            "+-----------------------------------------------------------------------------+\n",
            "| Processes:                                                                  |\n",
            "|  GPU   GI   CI        PID   Type   Process name                  GPU Memory |\n",
            "|        ID   ID                                                   Usage      |\n",
            "|=============================================================================|\n",
            "|  No running processes found                                                 |\n",
            "+-----------------------------------------------------------------------------+\n"
          ],
          "name": "stdout"
        }
      ]
    },
    {
      "cell_type": "code",
      "metadata": {
        "colab": {
          "base_uri": "https://localhost:8080/"
        },
        "id": "d7lSurxQyvLl",
        "outputId": "0bfa1585-ff96-4cc4-f3c5-70f02fe2e6c5"
      },
      "source": [
        "from google.colab import drive\n",
        "drive.mount('/content/drive')"
      ],
      "execution_count": null,
      "outputs": [
        {
          "output_type": "stream",
          "text": [
            "Mounted at /content/drive\n"
          ],
          "name": "stdout"
        }
      ]
    },
    {
      "cell_type": "code",
      "metadata": {
        "id": "-_GzktGo0Iy2"
      },
      "source": [
        "!mkdir ./dataset\n",
        "!unzip /content/drive/MyDrive/FaceAge.zip -d ./dataset"
      ],
      "execution_count": null,
      "outputs": []
    },
    {
      "cell_type": "markdown",
      "metadata": {
        "id": "N1h7dD7g1a_M"
      },
      "source": [
        "##**Import all neceassary packages**\n"
      ]
    },
    {
      "cell_type": "code",
      "metadata": {
        "colab": {
          "base_uri": "https://localhost:8080/"
        },
        "id": "LoBDhGbdAhV4",
        "outputId": "0792114b-7d09-46a9-ddba-e81e01ac76eb"
      },
      "source": [
        "!pip install --upgrade bsconv\n",
        "!pip install -U albumentations\n",
        "!pip install pytorchcv torch>=0.4.0\n"
      ],
      "execution_count": null,
      "outputs": [
        {
          "output_type": "stream",
          "text": [
            "Collecting bsconv\n",
            "  Downloading https://files.pythonhosted.org/packages/ab/2b/c1e85d364217884e13809649150e3e790f0a79fdb576bdbbae6745c34e58/bsconv-0.4.0-py3-none-any.whl\n",
            "Installing collected packages: bsconv\n",
            "Successfully installed bsconv-0.4.0\n",
            "Collecting albumentations\n",
            "\u001b[?25l  Downloading https://files.pythonhosted.org/packages/b0/be/3db3cd8af771988748f69eace42047d5edebf01eaa7e1293f3b3f75f989e/albumentations-1.0.0-py3-none-any.whl (98kB)\n",
            "\u001b[K     |████████████████████████████████| 102kB 8.0MB/s \n",
            "\u001b[?25hRequirement already satisfied, skipping upgrade: scipy in /usr/local/lib/python3.7/dist-packages (from albumentations) (1.4.1)\n",
            "Collecting opencv-python-headless>=4.1.1\n",
            "\u001b[?25l  Downloading https://files.pythonhosted.org/packages/c3/35/bfc76533f2274cd3da4e2cf255cd13ab9d7f6fc8990c06911e7f8fcc2130/opencv_python_headless-4.5.2.54-cp37-cp37m-manylinux2014_x86_64.whl (38.2MB)\n",
            "\u001b[K     |████████████████████████████████| 38.2MB 1.3MB/s \n",
            "\u001b[?25hRequirement already satisfied, skipping upgrade: numpy>=1.11.1 in /usr/local/lib/python3.7/dist-packages (from albumentations) (1.19.5)\n",
            "Requirement already satisfied, skipping upgrade: PyYAML in /usr/local/lib/python3.7/dist-packages (from albumentations) (3.13)\n",
            "Requirement already satisfied, skipping upgrade: scikit-image>=0.16.1 in /usr/local/lib/python3.7/dist-packages (from albumentations) (0.16.2)\n",
            "Requirement already satisfied, skipping upgrade: pillow>=4.3.0 in /usr/local/lib/python3.7/dist-packages (from scikit-image>=0.16.1->albumentations) (7.1.2)\n",
            "Requirement already satisfied, skipping upgrade: imageio>=2.3.0 in /usr/local/lib/python3.7/dist-packages (from scikit-image>=0.16.1->albumentations) (2.4.1)\n",
            "Requirement already satisfied, skipping upgrade: networkx>=2.0 in /usr/local/lib/python3.7/dist-packages (from scikit-image>=0.16.1->albumentations) (2.5.1)\n",
            "Requirement already satisfied, skipping upgrade: PyWavelets>=0.4.0 in /usr/local/lib/python3.7/dist-packages (from scikit-image>=0.16.1->albumentations) (1.1.1)\n",
            "Requirement already satisfied, skipping upgrade: matplotlib!=3.0.0,>=2.0.0 in /usr/local/lib/python3.7/dist-packages (from scikit-image>=0.16.1->albumentations) (3.2.2)\n",
            "Requirement already satisfied, skipping upgrade: decorator<5,>=4.3 in /usr/local/lib/python3.7/dist-packages (from networkx>=2.0->scikit-image>=0.16.1->albumentations) (4.4.2)\n",
            "Requirement already satisfied, skipping upgrade: kiwisolver>=1.0.1 in /usr/local/lib/python3.7/dist-packages (from matplotlib!=3.0.0,>=2.0.0->scikit-image>=0.16.1->albumentations) (1.3.1)\n",
            "Requirement already satisfied, skipping upgrade: pyparsing!=2.0.4,!=2.1.2,!=2.1.6,>=2.0.1 in /usr/local/lib/python3.7/dist-packages (from matplotlib!=3.0.0,>=2.0.0->scikit-image>=0.16.1->albumentations) (2.4.7)\n",
            "Requirement already satisfied, skipping upgrade: python-dateutil>=2.1 in /usr/local/lib/python3.7/dist-packages (from matplotlib!=3.0.0,>=2.0.0->scikit-image>=0.16.1->albumentations) (2.8.1)\n",
            "Requirement already satisfied, skipping upgrade: cycler>=0.10 in /usr/local/lib/python3.7/dist-packages (from matplotlib!=3.0.0,>=2.0.0->scikit-image>=0.16.1->albumentations) (0.10.0)\n",
            "Requirement already satisfied, skipping upgrade: six>=1.5 in /usr/local/lib/python3.7/dist-packages (from python-dateutil>=2.1->matplotlib!=3.0.0,>=2.0.0->scikit-image>=0.16.1->albumentations) (1.15.0)\n",
            "Installing collected packages: opencv-python-headless, albumentations\n",
            "  Found existing installation: albumentations 0.1.12\n",
            "    Uninstalling albumentations-0.1.12:\n",
            "      Successfully uninstalled albumentations-0.1.12\n",
            "Successfully installed albumentations-1.0.0 opencv-python-headless-4.5.2.54\n"
          ],
          "name": "stdout"
        }
      ]
    },
    {
      "cell_type": "code",
      "metadata": {
        "id": "_iXqzVdl1W7g"
      },
      "source": [
        "import os\n",
        "import sys\n",
        "import time\n",
        "import torch\n",
        "import numpy as np\n",
        "from glob import glob\n",
        "from PIL import Image\n",
        "\n",
        "import torch.nn as nn\n",
        "import torch.nn.functional as F\n",
        "import torch.backends.cudnn as cudnn\n",
        "\n",
        "from torch.autograd import Variable\n",
        "from torch.optim.lr_scheduler import MultiStepLR\n",
        "from torch.utils.data import Dataset\n",
        "from torchvision import transforms\n",
        "from tqdm.notebook import tqdm as tqdm\n",
        "\n",
        "from sklearn.model_selection import KFold\n",
        "import bsconv.pytorch\n",
        "import albumentations as A\n",
        "import cv2\n",
        "from albumentations.pytorch import ToTensorV2\n",
        "\n"
      ],
      "execution_count": null,
      "outputs": []
    },
    {
      "cell_type": "markdown",
      "metadata": {
        "id": "pM3Wkg09zyG4"
      },
      "source": [
        "##**Utils**"
      ]
    },
    {
      "cell_type": "code",
      "metadata": {
        "id": "CyNtqlF4zv0Y"
      },
      "source": [
        "class AverageMeter(object):\n",
        "    r\"\"\"Computes and stores the average and current value\n",
        "    \"\"\"\n",
        "    def __init__(self, name, fmt=':f'):\n",
        "        self.name = name\n",
        "        self.fmt = fmt\n",
        "        self.reset()\n",
        "\n",
        "    def reset(self):\n",
        "        self.val = 0\n",
        "        self.avg = 0\n",
        "        self.sum = 0\n",
        "        self.count = 0\n",
        "\n",
        "    def update(self, val, n=1):\n",
        "        self.val = val\n",
        "        self.sum += val * n\n",
        "        self.count += n\n",
        "        self.avg = self.sum / self.count\n",
        "\n",
        "    def __str__(self):\n",
        "        fmtstr = '{name} {val' + self.fmt + '} ({avg' + self.fmt + '})'\n",
        "        return fmtstr.format(**self.__dict__)\n",
        "\n",
        "\n",
        "class ProgressMeter(object):\n",
        "    def __init__(self, num_batches, *meters, prefix=\"\"):\n",
        "        self.batch_fmtstr = self._get_batch_fmtstr(num_batches)\n",
        "        self.meters = meters\n",
        "        self.prefix = prefix\n",
        "\n",
        "    def print(self, batch):\n",
        "        entries = [self.prefix + self.batch_fmtstr.format(batch)]\n",
        "        entries += [str(meter) for meter in self.meters]\n",
        "        print('\\t'.join(entries))\n",
        "\n",
        "    def _get_batch_fmtstr(self, num_batches):\n",
        "        num_digits = len(str(num_batches // 1))\n",
        "        fmt = '{:' + str(num_digits) + 'd}'\n",
        "        return '[' + fmt + '/' + fmt.format(num_batches) + ']'\n",
        "\n",
        "\n",
        "# def accuracy(output, target, topk=(1,)):\n",
        "#     r\"\"\"Computes the accuracy over the $k$ top predictions for the specified values of k\n",
        "#     \"\"\"\n",
        "#     with torch.no_grad():\n",
        "#         maxk = max(topk)\n",
        "#         batch_size = target.size(0)\n",
        "\n",
        "#         # _, pred = output.topk(maxk, 1, True, True)\n",
        "#         # pred = pred.t()\n",
        "#         # correct = pred.eq(target.view(1, -1).expand_as(pred))\n",
        "\n",
        "#         # faster topk (ref: https://github.com/pytorch/pytorch/issues/22812)\n",
        "#         _, idx = output.sort(descending=True)\n",
        "#         pred = idx[:,:maxk]\n",
        "#         pred = pred.t()\n",
        "#         correct = pred.eq(target.view(1, -1).expand_as(pred))\n",
        "\n",
        "#         res = []\n",
        "#         for k in topk:\n",
        "#             correct_k = correct[:k].reshape(-1).float().sum(0, keepdim=True)\n",
        "#             res.append(correct_k.mul_(100.0 / batch_size))\n",
        "#         return res"
      ],
      "execution_count": null,
      "outputs": []
    },
    {
      "cell_type": "code",
      "metadata": {
        "id": "0c_r2ihZmf2U"
      },
      "source": [
        "import random\n",
        "def seed_everything(seed: int = 42):\n",
        "    random.seed(seed)\n",
        "    np.random.seed(seed)\n",
        "    torch.manual_seed(seed)\n",
        "    torch.cuda.manual_seed(seed)  # type: ignore\n",
        "    torch.backends.cudnn.deterministic = True  # type: ignore\n",
        "    torch.backends.cudnn.benchmark = True  # type: ignore"
      ],
      "execution_count": null,
      "outputs": []
    },
    {
      "cell_type": "code",
      "metadata": {
        "id": "EvMAGIFk1e-G"
      },
      "source": [
        "def mixup_data(x, y, alpha=1.0, use_cuda=True):\n",
        "    '''Returns mixed inputs, pairs of targets, and lambda'''\n",
        "    if alpha > 0:\n",
        "        lam = np.random.beta(alpha, alpha)\n",
        "    else:\n",
        "        lam = 1\n",
        "\n",
        "    batch_size = x.size()[0]\n",
        "    if use_cuda:\n",
        "        index = torch.randperm(batch_size).cuda()\n",
        "    else:\n",
        "        index = torch.randperm(batch_size)\n",
        "\n",
        "    mixed_x = lam * x + (1 - lam) * x[index, :]\n",
        "    y_a, y_b = y, y[index]\n",
        "    return mixed_x, y_a, y_b, lam\n",
        "\n",
        "\n",
        "def mixup_criterion(criterion, pred, y_a, y_b, lam):\n",
        "    return lam * criterion(pred, y_a) + (1 - lam) * criterion(pred, y_b)"
      ],
      "execution_count": null,
      "outputs": []
    },
    {
      "cell_type": "code",
      "metadata": {
        "id": "zi6qeD0l2_Pl"
      },
      "source": [
        "import math\n",
        "import torch\n",
        "from torch.optim.lr_scheduler import _LRScheduler\n",
        "\n",
        "class CosineAnnealingWarmupRestarts(_LRScheduler):\n",
        "    \"\"\"\n",
        "        optimizer (Optimizer): Wrapped optimizer.\n",
        "        first_cycle_steps (int): First cycle step size.\n",
        "        cycle_mult(float): Cycle steps magnification. Default: -1.\n",
        "        max_lr(float): First cycle's max learning rate. Default: 0.1.\n",
        "        min_lr(float): Min learning rate. Default: 0.001.\n",
        "        warmup_steps(int): Linear warmup step size. Default: 0.\n",
        "        gamma(float): Decrease rate of max learning rate by cycle. Default: 1.\n",
        "        last_epoch (int): The index of last epoch. Default: -1.\n",
        "    \"\"\"\n",
        "    \n",
        "    def __init__(self,\n",
        "                 optimizer : torch.optim.Optimizer,\n",
        "                 first_cycle_steps : int,\n",
        "                 cycle_mult : float = 1.,\n",
        "                 max_lr : float = 0.1,\n",
        "                 min_lr : float = 0.001,\n",
        "                 warmup_steps : int = 0,\n",
        "                 gamma : float = 1.,\n",
        "                 last_epoch : int = -1\n",
        "        ):\n",
        "        assert warmup_steps < first_cycle_steps\n",
        "        \n",
        "        self.first_cycle_steps = first_cycle_steps # first cycle step size\n",
        "        self.cycle_mult = cycle_mult # cycle steps magnification\n",
        "        self.base_max_lr = max_lr # first max learning rate\n",
        "        self.max_lr = max_lr # max learning rate in the current cycle\n",
        "        self.min_lr = min_lr # min learning rate\n",
        "        self.warmup_steps = warmup_steps # warmup step size\n",
        "        self.gamma = gamma # decrease rate of max learning rate by cycle\n",
        "        \n",
        "        self.cur_cycle_steps = first_cycle_steps # first cycle step size\n",
        "        self.cycle = 0 # cycle count\n",
        "        self.step_in_cycle = last_epoch # step size of the current cycle\n",
        "        \n",
        "        super(CosineAnnealingWarmupRestarts, self).__init__(optimizer, last_epoch)\n",
        "        \n",
        "        # set learning rate min_lr\n",
        "        self.init_lr()\n",
        "    \n",
        "    def init_lr(self):\n",
        "        self.base_lrs = []\n",
        "        for param_group in self.optimizer.param_groups:\n",
        "            param_group['lr'] = self.min_lr\n",
        "            self.base_lrs.append(self.min_lr)\n",
        "    \n",
        "    def get_lr(self):\n",
        "        if self.step_in_cycle == -1:\n",
        "            return self.base_lrs\n",
        "        elif self.step_in_cycle < self.warmup_steps:\n",
        "            return [(self.max_lr - base_lr)*self.step_in_cycle / self.warmup_steps + base_lr for base_lr in self.base_lrs]\n",
        "        else:\n",
        "            return [base_lr + (self.max_lr - base_lr) \\\n",
        "                    * (1 + math.cos(math.pi * (self.step_in_cycle-self.warmup_steps) \\\n",
        "                                    / (self.cur_cycle_steps - self.warmup_steps))) / 2\n",
        "                    for base_lr in self.base_lrs]\n",
        "\n",
        "    def step(self, epoch=None):\n",
        "        if epoch is None:\n",
        "            epoch = self.last_epoch + 1\n",
        "            self.step_in_cycle = self.step_in_cycle + 1\n",
        "            if self.step_in_cycle >= self.cur_cycle_steps:\n",
        "                self.cycle += 1\n",
        "                self.step_in_cycle = self.step_in_cycle - self.cur_cycle_steps\n",
        "                self.cur_cycle_steps = int((self.cur_cycle_steps - self.warmup_steps) * self.cycle_mult) + self.warmup_steps\n",
        "        else:\n",
        "            if epoch >= self.first_cycle_steps:\n",
        "                if self.cycle_mult == 1.:\n",
        "                    self.step_in_cycle = epoch % self.first_cycle_steps\n",
        "                    self.cycle = epoch // self.first_cycle_steps\n",
        "                else:\n",
        "                    n = int(math.log((epoch / self.first_cycle_steps * (self.cycle_mult - 1) + 1), self.cycle_mult))\n",
        "                    self.cycle = n\n",
        "                    self.step_in_cycle = epoch - int(self.first_cycle_steps * (self.cycle_mult ** n - 1) / (self.cycle_mult - 1))\n",
        "                    self.cur_cycle_steps = self.first_cycle_steps * self.cycle_mult ** (n)\n",
        "            else:\n",
        "                self.cur_cycle_steps = self.first_cycle_steps\n",
        "                self.step_in_cycle = epoch\n",
        "                \n",
        "        self.max_lr = self.base_max_lr * (self.gamma**self.cycle)\n",
        "        self.last_epoch = math.floor(epoch)\n",
        "        for param_group, lr in zip(self.optimizer.param_groups, self.get_lr()):\n",
        "            param_group['lr'] = lr"
      ],
      "execution_count": null,
      "outputs": []
    },
    {
      "cell_type": "code",
      "metadata": {
        "id": "yHo4rPXoC_Sx"
      },
      "source": [
        "import math\n",
        "import torch\n",
        "from torch.optim.optimizer import Optimizer, required\n",
        "\n",
        "class RAdam(Optimizer):\n",
        "\n",
        "    def __init__(self, params, lr=1e-3, betas=(0.9, 0.999), eps=1e-8, weight_decay=0, degenerated_to_sgd=True):\n",
        "        if not 0.0 <= lr:\n",
        "            raise ValueError(\"Invalid learning rate: {}\".format(lr))\n",
        "        if not 0.0 <= eps:\n",
        "            raise ValueError(\"Invalid epsilon value: {}\".format(eps))\n",
        "        if not 0.0 <= betas[0] < 1.0:\n",
        "            raise ValueError(\"Invalid beta parameter at index 0: {}\".format(betas[0]))\n",
        "        if not 0.0 <= betas[1] < 1.0:\n",
        "            raise ValueError(\"Invalid beta parameter at index 1: {}\".format(betas[1]))\n",
        "        \n",
        "        self.degenerated_to_sgd = degenerated_to_sgd\n",
        "        if isinstance(params, (list, tuple)) and len(params) > 0 and isinstance(params[0], dict):\n",
        "            for param in params:\n",
        "                if 'betas' in param and (param['betas'][0] != betas[0] or param['betas'][1] != betas[1]):\n",
        "                    param['buffer'] = [[None, None, None] for _ in range(10)]\n",
        "        defaults = dict(lr=lr, betas=betas, eps=eps, weight_decay=weight_decay, buffer=[[None, None, None] for _ in range(10)])\n",
        "        super(RAdam, self).__init__(params, defaults)\n",
        "\n",
        "    def __setstate__(self, state):\n",
        "        super(RAdam, self).__setstate__(state)\n",
        "\n",
        "    def step(self, closure=None):\n",
        "\n",
        "        loss = None\n",
        "        if closure is not None:\n",
        "            loss = closure()\n",
        "\n",
        "        for group in self.param_groups:\n",
        "\n",
        "            for p in group['params']:\n",
        "                if p.grad is None:\n",
        "                    continue\n",
        "                grad = p.grad.data.float()\n",
        "                if grad.is_sparse:\n",
        "                    raise RuntimeError('RAdam does not support sparse gradients')\n",
        "\n",
        "                p_data_fp32 = p.data.float()\n",
        "\n",
        "                state = self.state[p]\n",
        "\n",
        "                if len(state) == 0:\n",
        "                    state['step'] = 0\n",
        "                    state['exp_avg'] = torch.zeros_like(p_data_fp32)\n",
        "                    state['exp_avg_sq'] = torch.zeros_like(p_data_fp32)\n",
        "                else:\n",
        "                    state['exp_avg'] = state['exp_avg'].type_as(p_data_fp32)\n",
        "                    state['exp_avg_sq'] = state['exp_avg_sq'].type_as(p_data_fp32)\n",
        "\n",
        "                exp_avg, exp_avg_sq = state['exp_avg'], state['exp_avg_sq']\n",
        "                beta1, beta2 = group['betas']\n",
        "\n",
        "                exp_avg_sq.mul_(beta2).addcmul_(1 - beta2, grad, grad)\n",
        "                exp_avg.mul_(beta1).add_(1 - beta1, grad)\n",
        "\n",
        "                state['step'] += 1\n",
        "                buffered = group['buffer'][int(state['step'] % 10)]\n",
        "                if state['step'] == buffered[0]:\n",
        "                    N_sma, step_size = buffered[1], buffered[2]\n",
        "                else:\n",
        "                    buffered[0] = state['step']\n",
        "                    beta2_t = beta2 ** state['step']\n",
        "                    N_sma_max = 2 / (1 - beta2) - 1\n",
        "                    N_sma = N_sma_max - 2 * state['step'] * beta2_t / (1 - beta2_t)\n",
        "                    buffered[1] = N_sma\n",
        "\n",
        "                    # more conservative since it's an approximated value\n",
        "                    if N_sma >= 5:\n",
        "                        step_size = math.sqrt((1 - beta2_t) * (N_sma - 4) / (N_sma_max - 4) * (N_sma - 2) / N_sma * N_sma_max / (N_sma_max - 2)) / (1 - beta1 ** state['step'])\n",
        "                    elif self.degenerated_to_sgd:\n",
        "                        step_size = 1.0 / (1 - beta1 ** state['step'])\n",
        "                    else:\n",
        "                        step_size = -1\n",
        "                    buffered[2] = step_size\n",
        "\n",
        "                # more conservative since it's an approximated value\n",
        "                if N_sma >= 5:\n",
        "                    if group['weight_decay'] != 0:\n",
        "                        p_data_fp32.add_(-group['weight_decay'] * group['lr'], p_data_fp32)\n",
        "                    denom = exp_avg_sq.sqrt().add_(group['eps'])\n",
        "                    p_data_fp32.addcdiv_(-step_size * group['lr'], exp_avg, denom)\n",
        "                    p.data.copy_(p_data_fp32)\n",
        "                elif step_size > 0:\n",
        "                    if group['weight_decay'] != 0:\n",
        "                        p_data_fp32.add_(-group['weight_decay'] * group['lr'], p_data_fp32)\n",
        "                    p_data_fp32.add_(-step_size * group['lr'], exp_avg)\n",
        "                    p.data.copy_(p_data_fp32)\n",
        "\n",
        "        return loss"
      ],
      "execution_count": null,
      "outputs": []
    },
    {
      "cell_type": "markdown",
      "metadata": {
        "id": "RY35l51Oz1LI"
      },
      "source": [
        "##**Parameter Settings**"
      ]
    },
    {
      "cell_type": "code",
      "metadata": {
        "id": "KthoIw1bz16r"
      },
      "source": [
        "batch_size = 32  # Input batch size for training (default: 128)\n",
        "epochs = 100 # Number of epochs to train (default: 100)\n",
        "print_freq = 200\n",
        "num_workers = 4\n",
        "train_size = 0.9 #valid 10%\n",
        "patience = 8\n",
        "image_size = 48\n",
        "seed_everything(84465)"
      ],
      "execution_count": null,
      "outputs": []
    },
    {
      "cell_type": "markdown",
      "metadata": {
        "id": "SdOHcyi9z5IB"
      },
      "source": [
        "##**Load and preprocess data**"
      ]
    },
    {
      "cell_type": "code",
      "metadata": {
        "id": "I7Gu0sRd8wGs"
      },
      "source": [
        "\n",
        "train_transform = A.Compose(\n",
        "    [\n",
        "        A.Resize(image_size, image_size), \n",
        "        A.ShiftScaleRotate(shift_limit=0.05, scale_limit=0.05, rotate_limit=15, p=0.5),\n",
        "        A.RGBShift(r_shift_limit=15, g_shift_limit=15, b_shift_limit=15, p=0.5),\n",
        "        A.RandomBrightnessContrast(p=0.5),\n",
        "        # A.Normalize(mean=(0.485, 0.456, 0.406), std=(0.229, 0.224, 0.225)),\n",
        "\n",
        "        A.CoarseDropout(max_holes= 4,max_height=8,max_width=8),\n",
        "        # A.RandomGamma(),\n",
        "        # A.GridDistortion(distort_limit=(-0.3, 0.3), border_mode=cv2.BORDER_CONSTANT, p=0.5),\n",
        "        A.ElasticTransform(alpha_affine=2, border_mode=cv2.BORDER_CONSTANT, p=0.5),\n",
        "\n",
        "        # A.geometric.rotate.Rotate(limit=30),\n",
        "        ToTensorV2(),\n",
        "    ]\n",
        ")\n",
        "\n",
        "\n",
        "\n",
        "\n",
        "test_transform = A.Compose(\n",
        "    [\n",
        "         A.Resize(48, 48), \n",
        "        # A.Normalize(mean=(0.485, 0.456, 0.406), std=(0.229, 0.224, 0.225)),\n",
        "        ToTensorV2(),\n",
        "    ]\n",
        ")"
      ],
      "execution_count": null,
      "outputs": []
    },
    {
      "cell_type": "code",
      "metadata": {
        "id": "m9COdKRKByQy"
      },
      "source": [
        "from torch.utils.data import Dataset,Subset\n",
        "\n",
        "\n",
        "class FacialDataset(Dataset):\n",
        "    def __init__(self, data_path,transform):\n",
        "        if not os.path.exists(data_path):\n",
        "            raise Exception(f\"[!] {data_path} not existed\")\n",
        "\n",
        "        self.transform = transform\n",
        "        self.data_path = data_path\n",
        "        self.age_path = sorted(glob(os.path.join(data_path, \"*.*\")))\n",
        "    def __getitem__(self, idx):\n",
        "        image_filepath = self.age_path[idx]\n",
        "\n",
        "        image = cv2.imread(image_filepath)\n",
        "        image = cv2.cvtColor(image, cv2.COLOR_BGR2RGB)\n",
        "        label = int(image_filepath.split('_')[0].split('/')[-1])\n",
        "\n",
        "\n",
        "        if self.transform is not None:\n",
        "            image = self.transform(image=image)[\"image\"]\n",
        "        return image, label\n",
        "\n",
        "\n",
        "\n",
        "    def __len__(self):\n",
        "        return len(self.age_path)\n",
        "\n",
        "data_path =\"/content/dataset/train\"\n",
        "train_dataset = FacialDataset(data_path,train_transform)\n",
        "valid_dataset = FacialDataset(data_path,test_transform)\n",
        "\n",
        "num_train = len(train_dataset)\n",
        "indices = list(range(num_train))\n",
        "split = int(np.floor(train_size * num_train))\n",
        "np.random.shuffle(indices)\n",
        "train_idx, valid_idx = indices[:split], indices[split:]\n",
        "\n",
        "traindata = Subset(train_dataset, indices=train_idx)\n",
        "valdata = Subset(valid_dataset, indices=valid_idx)\n",
        "\n",
        "\n",
        "train_loader = torch.utils.data.DataLoader(dataset=traindata,batch_size=batch_size,shuffle=True)\n",
        "val_loader = torch.utils.data.DataLoader(dataset=valdata,batch_size=batch_size,shuffle=False)\n"
      ],
      "execution_count": null,
      "outputs": []
    },
    {
      "cell_type": "code",
      "metadata": {
        "colab": {
          "base_uri": "https://localhost:8080/"
        },
        "id": "b_TpgM8NM86e",
        "outputId": "fa686263-c74a-48dc-9287-d96dbd4eb83a"
      },
      "source": [
        "train_loader.sampler"
      ],
      "execution_count": null,
      "outputs": [
        {
          "output_type": "execute_result",
          "data": {
            "text/plain": [
              "<torch.utils.data.sampler.RandomSampler at 0x7f22f40a9290>"
            ]
          },
          "metadata": {
            "tags": []
          },
          "execution_count": 29
        }
      ]
    },
    {
      "cell_type": "code",
      "metadata": {
        "id": "6FaaVWe1EinH",
        "colab": {
          "base_uri": "https://localhost:8080/"
        },
        "outputId": "357144d8-f949-4e5c-db6e-55c7f21ded91"
      },
      "source": [
        "import matplotlib.pyplot as plt\n",
        "import numpy as np\n",
        "import torchvision\n",
        "# functions to show an image\n",
        "%matplotlib inline\n",
        "\n",
        "def imshow(img):\n",
        "    # img = img / 2 + 0.5     # unnormalize\n",
        "    npimg = img.numpy()\n",
        "    plt.imshow(np.transpose(npimg, (1, 2, 0)))\n",
        "\n",
        "\n",
        "# get some random training images\n",
        "dataiter = iter(train_loader)\n",
        "images, labels = dataiter.next()\n",
        "\n",
        "\n",
        "# show images\n",
        "imshow(torchvision.utils.make_grid(images[0],nrow=20))"
      ],
      "execution_count": null,
      "outputs": [
        {
          "output_type": "display_data",
          "data": {
            "image/png": "[encoded data removed]",
            "text/plain": [
              "<Figure size 432x288 with 1 Axes>"
            ]
          },
          "metadata": {
            "tags": [],
            "needs_background": "light"
          }
        }
      ]
    },
    {
      "cell_type": "markdown",
      "metadata": {
        "id": "_YjQ5H163hQi"
      },
      "source": [
        "##**Main Training**"
      ]
    },
    {
      "cell_type": "code",
      "metadata": {
        "id": "oDJX_-Qy3gup"
      },
      "source": [
        "def train(train_loader, epoch, model, optimizer):\n",
        "    batch_time = AverageMeter('Time', ':6.3f')\n",
        "    l2 = AverageMeter('L2 Loss', ':.4f')\n",
        "    rmse = AverageMeter('RMSE Loss', ':.4f')\n",
        "    progress = ProgressMeter(len(train_loader), batch_time, l2,rmse, prefix=\"Epoch: [{}]\".format(epoch))\n",
        "    # switch to train mode\n",
        "    model.train()\n",
        "    l2_criterion = nn.MSELoss().cuda()\n",
        "    end = time.time()\n",
        "    for i, (input, label) in enumerate(train_loader):\n",
        "        # measure data loading time\n",
        "        input = input.float().cuda()\n",
        "        label = label.float().flatten().cuda()\n",
        "\n",
        "        # compute output\n",
        "        output = model(input).flatten()\n",
        "  \n",
        "        loss = l2_criterion(output, label)\n",
        "        rmse_loss = torch.sqrt(loss)\n",
        "\n",
        "\n",
        "        #BSconv-s\n",
        "        # loss +=model.reg_loss(alpha=0.1)\n",
        "\n",
        "        # compute gradient and do SGD step\n",
        "        optimizer.zero_grad()\n",
        "        rmse_loss.backward()\n",
        "        optimizer.step()\n",
        "\n",
        "        # measure elapsed time\n",
        "        batch_time.update(time.time() - end)\n",
        "        end = time.time()\n",
        "\n",
        "        #loss updaet\n",
        "        l2.update(loss.item(), input.size(0))\n",
        "        rmse.update(rmse_loss.item(), input.size(0))\n",
        "        \n",
        "\n",
        "        if i % print_freq == 0:\n",
        "            progress.print(i)\n",
        "\n",
        "\n",
        "\n",
        "    \n",
        "\n",
        "def validation(val_loader,epoch, model):\n",
        "    print(\"Vlaid \",end=\"\")\n",
        "    model.eval()\n",
        "    l2_criterion = nn.MSELoss().cuda()\n",
        "\n",
        "    l2 = AverageMeter('L2 Loss', ':.4f')\n",
        "    rmse = AverageMeter('RMSE Loss', ':.4f')\n",
        "    progress = ProgressMeter(len(val_loader), l2,rmse,  prefix=\"Epoch: [{}]\".format(epoch))\n",
        "\n",
        "    correct = 0\n",
        "\n",
        "    with torch.no_grad():\n",
        "\n",
        "      for i,(input,label) in enumerate(val_loader):\n",
        "          input = input.float().cuda()\n",
        "          label = label.float().flatten().cuda()\n",
        "          output = model(input).flatten()\n",
        "          l2_ = l2_criterion(output, label)\n",
        "          table = (torch.round(output) == label)\n",
        "          correct += (table).float().sum()\n",
        "          l2.update(l2_.item(), input.size(0))\n",
        "          rmse.update(torch.sqrt(l2_).item(), input.size(0))\n",
        "\n",
        "      progress.print(len(val_loader))\n",
        "      return rmse.avg\n"
      ],
      "execution_count": null,
      "outputs": []
    },
    {
      "cell_type": "markdown",
      "metadata": {
        "id": "X5fc6anbkjG-"
      },
      "source": [
        "## train"
      ]
    },
    {
      "cell_type": "code",
      "metadata": {
        "id": "8FQhbWspS2bD"
      },
      "source": [
        "\n",
        "\n",
        "model  = bsconv.pytorch.get_model('cifar_wrn40_4_bsconvu', num_classes=1).cuda()\n",
        "optimizer = torch.optim.Adam(model.parameters(), 1e-3)\n",
        "scheduler = torch.optim.lr_scheduler.ReduceLROnPlateau(\n",
        "    optimizer=optimizer,\n",
        "    mode='min',\n",
        "    patience=2,\n",
        "    factor=0.5,\n",
        "    verbose=True\n",
        "    )\n",
        "\n",
        "\n",
        "pytorch_total_params = sum(p.numel() for p in model.parameters())\n",
        "print(f\"Number of parameters: {pytorch_total_params}\")\n",
        "if int(pytorch_total_params) > 2000000:\n",
        "    print('Your model has the number of parameters more than 2 millions..')\n",
        "    sys.exit()\n",
        "\n",
        "loss = 1e5\n",
        "_patience = 0\n",
        "\n",
        "for epoch in range(epochs):\n",
        "    print(\"\\n----- epoch: {}, lr: {} -----\".format(\n",
        "        epoch, optimizer.param_groups[0][\"lr\"]))\n",
        "\n",
        "    # train for one epoch\n",
        "    start_time = time.time()\n",
        "\n",
        "    train(train_loader, epoch, model, optimizer)\n",
        "    val_loss = validation(val_loader,epoch,model)\n",
        "\n",
        "\n",
        "    elapsed_time = time.time() - start_time\n",
        "    print('==> {:.2f} seconds to train this epoch\\n'.format(elapsed_time))\n",
        "    # learning rate scheduling\n",
        "    scheduler.step(val_loss)\n",
        "    \n",
        "    # Save model for best \n",
        "    if loss > val_loss:\n",
        "        loss = val_loss\n",
        "        print(f\"Best model save | loss : {loss:.4f}\")\n",
        "        torch.save(model.state_dict(), 'model_best.pt')\n",
        "        _patience = 0\n",
        "    else:\n",
        "        _patience += 1\n",
        "        if _patience > patience - 1:\n",
        "            print('=======' * 10)\n",
        "            print(\"[Info message] Early stopper is activated\")\n",
        "            break\n",
        "\n",
        "    torch.save(model.state_dict(),'model_latest.pt')\n",
        "print(f\"Best RMSE loss: {loss}\")\n"
      ],
      "execution_count": null,
      "outputs": []
    },
    {
      "cell_type": "markdown",
      "metadata": {
        "id": "zEjjfaddeQT7"
      },
      "source": [
        "## Make an evalutation csv file\n",
        "\n",
        "This code makes an evaluation csv file for Competition submission.\n",
        "\n",
        "**Don't change below code!!!**"
      ]
    },
    {
      "cell_type": "code",
      "metadata": {
        "id": "2RShha2GePNH",
        "colab": {
          "base_uri": "https://localhost:8080/",
          "height": 54
        },
        "outputId": "bea1d6c9-a6ab-4dc4-aa2b-545f441fc34e"
      },
      "source": [
        "class FacialDataset_test(Dataset):\n",
        "    def __init__(self, data_path,transform):\n",
        "        if not os.path.exists(data_path):\n",
        "            raise Exception(f\"[!] {data_path} not existed\")\n",
        "\n",
        "        self.transform = transform\n",
        "        self.data_path = data_path\n",
        "        self.age_path = sorted(glob(os.path.join(data_path, \"*.*\")))\n",
        "    def __getitem__(self, idx):\n",
        "        image_filepath = self.age_path[idx]\n",
        "\n",
        "        image = cv2.imread(image_filepath)\n",
        "        image = cv2.cvtColor(image, cv2.COLOR_BGR2RGB)\n",
        "\n",
        "        if self.transform is not None:\n",
        "            image = self.transform(image=image)[\"image\"]\n",
        "        return image\n",
        "\n",
        "\n",
        "\n",
        "    def __len__(self):\n",
        "        return len(self.age_path)\n",
        "\n",
        "\n",
        "import torch\n",
        "import pandas as pd\n",
        "import argparse\n",
        "import time\n",
        "import torchvision\n",
        "import torchvision.transforms as transforms\n",
        "from torch.utils.data import Dataset, DataLoader\n",
        "from google.colab import files\n",
        "\n",
        "\n",
        "\n",
        "def eval():\n",
        "    test_dataset = FacialDataset_test(\"/content/dataset/test\",test_transform)\n",
        "    test_loader = torch.utils.data.DataLoader(dataset=test_dataset,batch_size=1,shuffle=False)\n",
        "\n",
        "    model  = bsconv.pytorch.get_model('cifar_wrn40_4_bsconvu', num_classes=1).cuda()\n",
        "  \n",
        "    model.load_state_dict(torch.load('/content/model_best.pt'))\n",
        "    model.eval()\n",
        "    \n",
        "    print('Make an evaluation csv file for submission...')\n",
        "    Category = []\n",
        "    for input in test_loader:\n",
        "        input = input.float().cuda()\n",
        "        output = [model(input).item()]\n",
        "        # output = torch.argmax(output, dim=1)\n",
        "        Category = Category + output\n",
        "\n",
        "    Id = list(range(0, len(test_loader)))\n",
        "    samples = {\n",
        "       'Id': Id,\n",
        "       'Category': Category \n",
        "    }\n",
        "    df = pd.DataFrame(samples, columns=['Id', 'Category'])\n",
        "\n",
        "    df.to_csv('/content/submission_best.csv', index=False)\n",
        "    print('Done!!')\n",
        "\n",
        "  \n",
        "if __name__ == \"__main__\":\n",
        "    eval()\n",
        "    files.download('submission_best.csv') \n",
        "    files.download('model_best.pt') \n"
      ],
      "execution_count": null,
      "outputs": [
        {
          "output_type": "stream",
          "text": [
            "Make an evaluation csv file for submission...\n",
            "Done!!\n"
          ],
          "name": "stdout"
        },
        {
          "output_type": "display_data",
          "data": {
            "application/javascript": [
              "\n",
              "    async function download(id, filename, size) {\n",
              "      if (!google.colab.kernel.accessAllowed) {\n",
              "        return;\n",
              "      }\n",
              "      const div = document.createElement('div');\n",
              "      const label = document.createElement('label');\n",
              "      label.textContent = `Downloading \"${filename}\": `;\n",
              "      div.appendChild(label);\n",
              "      const progress = document.createElement('progress');\n",
              "      progress.max = size;\n",
              "      div.appendChild(progress);\n",
              "      document.body.appendChild(div);\n",
              "\n",
              "      const buffers = [];\n",
              "      let downloaded = 0;\n",
              "\n",
              "      const channel = await google.colab.kernel.comms.open(id);\n",
              "      // Send a message to notify the kernel that we're ready.\n",
              "      channel.send({})\n",
              "\n",
              "      for await (const message of channel.messages) {\n",
              "        // Send a message to notify the kernel that we're ready.\n",
              "        channel.send({})\n",
              "        if (message.buffers) {\n",
              "          for (const buffer of message.buffers) {\n",
              "            buffers.push(buffer);\n",
              "            downloaded += buffer.byteLength;\n",
              "            progress.value = downloaded;\n",
              "          }\n",
              "        }\n",
              "      }\n",
              "      const blob = new Blob(buffers, {type: 'application/binary'});\n",
              "      const a = document.createElement('a');\n",
              "      a.href = window.URL.createObjectURL(blob);\n",
              "      a.download = filename;\n",
              "      div.appendChild(a);\n",
              "      a.click();\n",
              "      div.remove();\n",
              "    }\n",
              "  "
            ],
            "text/plain": [
              "<IPython.core.display.Javascript object>"
            ]
          },
          "metadata": {
            "tags": []
          }
        },
        {
          "output_type": "display_data",
          "data": {
            "application/javascript": [
              "download(\"download_fcd0cfad-c142-443c-be0f-8f10fcc5da3f\", \"submission_best.csv\", 254066)"
            ],
            "text/plain": [
              "<IPython.core.display.Javascript object>"
            ]
          },
          "metadata": {
            "tags": []
          }
        },
        {
          "output_type": "display_data",
          "data": {
            "application/javascript": [
              "\n",
              "    async function download(id, filename, size) {\n",
              "      if (!google.colab.kernel.accessAllowed) {\n",
              "        return;\n",
              "      }\n",
              "      const div = document.createElement('div');\n",
              "      const label = document.createElement('label');\n",
              "      label.textContent = `Downloading \"${filename}\": `;\n",
              "      div.appendChild(label);\n",
              "      const progress = document.createElement('progress');\n",
              "      progress.max = size;\n",
              "      div.appendChild(progress);\n",
              "      document.body.appendChild(div);\n",
              "\n",
              "      const buffers = [];\n",
              "      let downloaded = 0;\n",
              "\n",
              "      const channel = await google.colab.kernel.comms.open(id);\n",
              "      // Send a message to notify the kernel that we're ready.\n",
              "      channel.send({})\n",
              "\n",
              "      for await (const message of channel.messages) {\n",
              "        // Send a message to notify the kernel that we're ready.\n",
              "        channel.send({})\n",
              "        if (message.buffers) {\n",
              "          for (const buffer of message.buffers) {\n",
              "            buffers.push(buffer);\n",
              "            downloaded += buffer.byteLength;\n",
              "            progress.value = downloaded;\n",
              "          }\n",
              "        }\n",
              "      }\n",
              "      const blob = new Blob(buffers, {type: 'application/binary'});\n",
              "      const a = document.createElement('a');\n",
              "      a.href = window.URL.createObjectURL(blob);\n",
              "      a.download = filename;\n",
              "      div.appendChild(a);\n",
              "      a.click();\n",
              "      div.remove();\n",
              "    }\n",
              "  "
            ],
            "text/plain": [
              "<IPython.core.display.Javascript object>"
            ]
          },
          "metadata": {
            "tags": []
          }
        },
        {
          "output_type": "display_data",
          "data": {
            "application/javascript": [
              "download(\"download_061bb18f-12fe-40c2-ad25-f99a17879809\", \"model_best.pt\", 4510052)"
            ],
            "text/plain": [
              "<IPython.core.display.Javascript object>"
            ]
          },
          "metadata": {
            "tags": []
          }
        }
      ]
    }
  ]
}