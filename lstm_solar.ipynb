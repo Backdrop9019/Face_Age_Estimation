{
  "nbformat": 4,
  "nbformat_minor": 0,
  "metadata": {
    "accelerator": "GPU",
    "colab": {
      "name": "lstm_solar.ipynb",
      "provenance": [],
      "collapsed_sections": [
        "BQIw0R038gZR",
        "XRKr4Nm7bVki",
        "KH01jiuoJrwI"
      ],
      "machine_shape": "hm"
    },
    "kernelspec": {
      "display_name": "Python 3",
      "name": "python3"
    }
  },
  "cells": [
    {
      "cell_type": "markdown",
      "metadata": {
        "id": "H81owA1irg6R"
      },
      "source": [
        "Dacon 태양광 발전량 예측\n",
        "\n",
        "https://dacon.io/competitions/official/235680/overview/description\n",
        "\n",
        "lstm 사용\n",
        "\n",
        "boosting, decision tree 말고 NN으로 해결해보고 싶었는데 lstm을 사용했을때 lgbm과 제일 비슷하게 나왔다.\n",
        "\n"
      ]
    },
    {
      "cell_type": "code",
      "metadata": {
        "colab": {
          "base_uri": "https://localhost:8080/"
        },
        "id": "5n7UKspiX7J7",
        "outputId": "8c5f51cc-af2a-4baa-8d57-e6e8bbf45192"
      },
      "source": [
        "gpu_info = !nvidia-smi\n",
        "gpu_info = '\\n'.join(gpu_info)\n",
        "if gpu_info.find('failed') >= 0:\n",
        "  print('Select the Runtime > \"Change runtime type\" menu to enable a GPU accelerator, ')\n",
        "  print('and then re-execute this cell.')\n",
        "else:\n",
        "  print(gpu_info)"
      ],
      "execution_count": null,
      "outputs": [
        {
          "output_type": "stream",
          "text": [
            "Mon Jan 25 09:27:42 2021       \n",
            "+-----------------------------------------------------------------------------+\n",
            "| NVIDIA-SMI 460.32.03    Driver Version: 418.67       CUDA Version: 10.1     |\n",
            "|-------------------------------+----------------------+----------------------+\n",
            "| GPU  Name        Persistence-M| Bus-Id        Disp.A | Volatile Uncorr. ECC |\n",
            "| Fan  Temp  Perf  Pwr:Usage/Cap|         Memory-Usage | GPU-Util  Compute M. |\n",
            "|                               |                      |               MIG M. |\n",
            "|===============================+======================+======================|\n",
            "|   0  Tesla V100-SXM2...  Off  | 00000000:00:04.0 Off |                    0 |\n",
            "| N/A   31C    P0    23W / 300W |      0MiB / 16130MiB |      0%      Default |\n",
            "|                               |                      |                 ERR! |\n",
            "+-------------------------------+----------------------+----------------------+\n",
            "                                                                               \n",
            "+-----------------------------------------------------------------------------+\n",
            "| Processes:                                                                  |\n",
            "|  GPU   GI   CI        PID   Type   Process name                  GPU Memory |\n",
            "|        ID   ID                                                   Usage      |\n",
            "|=============================================================================|\n",
            "|  No running processes found                                                 |\n",
            "+-----------------------------------------------------------------------------+\n"
          ],
          "name": "stdout"
        }
      ]
    },
    {
      "cell_type": "code",
      "metadata": {
        "colab": {
          "base_uri": "https://localhost:8080/"
        },
        "id": "lLjo8V4QKAbw",
        "outputId": "414a76dd-8ac3-4848-d2ed-4c43878a0c0f"
      },
      "source": [
        "import matplotlib.pyplot as plt\n",
        "import numpy as np\n",
        "import pandas as pd\n",
        "from google.colab import drive\n",
        "import torch.nn.functional as F\n",
        "\n",
        "import matplotlib.pyplot as plt\n",
        "import seaborn as sns\n",
        "import warnings\n",
        "warnings.filterwarnings('ignore')\n",
        "from datetime import datetime, timedelta \n",
        "from tqdm.notebook import tqdm_notebook as tqdm\n",
        "import datetime as dt\n",
        "from torch.autograd import Variable\n",
        "import random \n",
        "import os\n",
        "from matplotlib.pyplot import figure\n",
        "from fastprogress import master_bar, progress_bar\n",
        "import torch\n",
        "import torch.nn as nn\n",
        "from sklearn.preprocessing import MinMaxScaler\n",
        "from torch.utils.data import Dataset\n",
        "from sklearn.metrics import mean_squared_error\n",
        "import torch \n",
        "drive.mount('/content/drive')\n",
        "path = '/content/drive/My Drive/Colab Notebooks/data/날씨/'\n",
        "\n",
        "df = pd.read_csv(path+'train/train.csv')\n",
        "\n",
        "\n",
        "SAVEPATH = '/content/drive/My Drive/Colab Notebooks/대회/dacon 태양광/'\n",
        "\n",
        "#test 가져오기\n",
        "df_test = []\n",
        "\n",
        "## 마지막 7일치만 가져오자\n",
        "def preprocess_data(day,data):\n",
        "\ttemp = data.copy()\n",
        "\treturn temp.iloc[day * -48:, :]\n",
        "\n",
        "for i in range(81):\n",
        "  file_path = path+'test/' + str(i) + '.csv'\n",
        "  temp = pd.read_csv(file_path)\n",
        "  temp = preprocess_data(7,temp)\n",
        "  df_test.append(temp)\n",
        "device = 'cuda'\n",
        "\n",
        "# test = pd.concat(df_test)\n",
        "# Attach padding dummy time series\n",
        "# X_test = X_test.append(X_test[-96:])\n",
        "# test.shape\n",
        "\n",
        "#submission\n",
        "submission = pd.read_csv(path+'sample_submission.csv')\n"
      ],
      "execution_count": null,
      "outputs": [
        {
          "output_type": "stream",
          "text": [
            "Drive already mounted at /content/drive; to attempt to forcibly remount, call drive.mount(\"/content/drive\", force_remount=True).\n"
          ],
          "name": "stdout"
        }
      ]
    },
    {
      "cell_type": "code",
      "metadata": {
        "id": "ap8W9Nn-tAFR"
      },
      "source": [
        "## \n",
        "\n",
        "temp = pd.read_csv(SAVEPATH+'filename (18).csv')\n"
      ],
      "execution_count": null,
      "outputs": []
    },
    {
      "cell_type": "code",
      "metadata": {
        "colab": {
          "base_uri": "https://localhost:8080/",
          "height": 407
        },
        "id": "cymprLgVtRlk",
        "outputId": "06ec6c10-8621-4543-a8a6-374dcd317b0e"
      },
      "source": [
        "temp = submission.iloc[:,1:]\n",
        "temp[temp < 0.3] = 0 "
      ],
      "execution_count": null,
      "outputs": [
        {
          "output_type": "execute_result",
          "data": {
            "text/html": [
              "<div>\n",
              "<style scoped>\n",
              "    .dataframe tbody tr th:only-of-type {\n",
              "        vertical-align: middle;\n",
              "    }\n",
              "\n",
              "    .dataframe tbody tr th {\n",
              "        vertical-align: top;\n",
              "    }\n",
              "\n",
              "    .dataframe thead th {\n",
              "        text-align: right;\n",
              "    }\n",
              "</style>\n",
              "<table border=\"1\" class=\"dataframe\">\n",
              "  <thead>\n",
              "    <tr style=\"text-align: right;\">\n",
              "      <th></th>\n",
              "      <th>id</th>\n",
              "      <th>q_0.1</th>\n",
              "      <th>q_0.2</th>\n",
              "      <th>q_0.3</th>\n",
              "      <th>q_0.4</th>\n",
              "      <th>q_0.5</th>\n",
              "      <th>q_0.6</th>\n",
              "      <th>q_0.7</th>\n",
              "      <th>q_0.8</th>\n",
              "      <th>q_0.9</th>\n",
              "    </tr>\n",
              "  </thead>\n",
              "  <tbody>\n",
              "    <tr>\n",
              "      <th>0</th>\n",
              "      <td>0.csv_Day7_0h00m</td>\n",
              "      <td>0.0</td>\n",
              "      <td>0.000970</td>\n",
              "      <td>-0.003137</td>\n",
              "      <td>0.000392</td>\n",
              "      <td>0.0</td>\n",
              "      <td>0.0</td>\n",
              "      <td>-0.014649</td>\n",
              "      <td>0.000959</td>\n",
              "      <td>-0.000553</td>\n",
              "    </tr>\n",
              "    <tr>\n",
              "      <th>1</th>\n",
              "      <td>0.csv_Day7_0h30m</td>\n",
              "      <td>0.0</td>\n",
              "      <td>-0.000133</td>\n",
              "      <td>0.001243</td>\n",
              "      <td>-0.001592</td>\n",
              "      <td>0.0</td>\n",
              "      <td>0.0</td>\n",
              "      <td>0.001681</td>\n",
              "      <td>0.000391</td>\n",
              "      <td>0.030167</td>\n",
              "    </tr>\n",
              "    <tr>\n",
              "      <th>2</th>\n",
              "      <td>0.csv_Day7_1h00m</td>\n",
              "      <td>0.0</td>\n",
              "      <td>-0.006992</td>\n",
              "      <td>-0.000287</td>\n",
              "      <td>-0.000845</td>\n",
              "      <td>0.0</td>\n",
              "      <td>0.0</td>\n",
              "      <td>0.076413</td>\n",
              "      <td>0.011586</td>\n",
              "      <td>-0.000740</td>\n",
              "    </tr>\n",
              "    <tr>\n",
              "      <th>3</th>\n",
              "      <td>0.csv_Day7_1h30m</td>\n",
              "      <td>0.0</td>\n",
              "      <td>-0.000236</td>\n",
              "      <td>-0.034953</td>\n",
              "      <td>-0.001794</td>\n",
              "      <td>0.0</td>\n",
              "      <td>0.0</td>\n",
              "      <td>-0.024947</td>\n",
              "      <td>0.001566</td>\n",
              "      <td>0.005791</td>\n",
              "    </tr>\n",
              "    <tr>\n",
              "      <th>4</th>\n",
              "      <td>0.csv_Day7_2h00m</td>\n",
              "      <td>0.0</td>\n",
              "      <td>0.000498</td>\n",
              "      <td>-0.059209</td>\n",
              "      <td>0.000504</td>\n",
              "      <td>0.0</td>\n",
              "      <td>0.0</td>\n",
              "      <td>-0.015525</td>\n",
              "      <td>0.002466</td>\n",
              "      <td>-0.001152</td>\n",
              "    </tr>\n",
              "    <tr>\n",
              "      <th>...</th>\n",
              "      <td>...</td>\n",
              "      <td>...</td>\n",
              "      <td>...</td>\n",
              "      <td>...</td>\n",
              "      <td>...</td>\n",
              "      <td>...</td>\n",
              "      <td>...</td>\n",
              "      <td>...</td>\n",
              "      <td>...</td>\n",
              "      <td>...</td>\n",
              "    </tr>\n",
              "    <tr>\n",
              "      <th>7771</th>\n",
              "      <td>80.csv_Day8_21h30m</td>\n",
              "      <td>0.0</td>\n",
              "      <td>0.000042</td>\n",
              "      <td>-0.000058</td>\n",
              "      <td>0.010951</td>\n",
              "      <td>0.0</td>\n",
              "      <td>0.0</td>\n",
              "      <td>0.024903</td>\n",
              "      <td>0.031059</td>\n",
              "      <td>0.002718</td>\n",
              "    </tr>\n",
              "    <tr>\n",
              "      <th>7772</th>\n",
              "      <td>80.csv_Day8_22h00m</td>\n",
              "      <td>0.0</td>\n",
              "      <td>-0.000133</td>\n",
              "      <td>0.000121</td>\n",
              "      <td>0.023814</td>\n",
              "      <td>0.0</td>\n",
              "      <td>0.0</td>\n",
              "      <td>0.084256</td>\n",
              "      <td>0.035062</td>\n",
              "      <td>0.000344</td>\n",
              "    </tr>\n",
              "    <tr>\n",
              "      <th>7773</th>\n",
              "      <td>80.csv_Day8_22h30m</td>\n",
              "      <td>0.0</td>\n",
              "      <td>-0.000012</td>\n",
              "      <td>-0.000113</td>\n",
              "      <td>0.023454</td>\n",
              "      <td>0.0</td>\n",
              "      <td>0.0</td>\n",
              "      <td>0.094950</td>\n",
              "      <td>0.028037</td>\n",
              "      <td>0.001852</td>\n",
              "    </tr>\n",
              "    <tr>\n",
              "      <th>7774</th>\n",
              "      <td>80.csv_Day8_23h00m</td>\n",
              "      <td>0.0</td>\n",
              "      <td>-0.000729</td>\n",
              "      <td>-0.000392</td>\n",
              "      <td>-0.046756</td>\n",
              "      <td>0.0</td>\n",
              "      <td>0.0</td>\n",
              "      <td>0.027964</td>\n",
              "      <td>0.004882</td>\n",
              "      <td>0.014268</td>\n",
              "    </tr>\n",
              "    <tr>\n",
              "      <th>7775</th>\n",
              "      <td>80.csv_Day8_23h30m</td>\n",
              "      <td>0.0</td>\n",
              "      <td>-0.004266</td>\n",
              "      <td>-0.000424</td>\n",
              "      <td>-0.024700</td>\n",
              "      <td>0.0</td>\n",
              "      <td>0.0</td>\n",
              "      <td>-0.008765</td>\n",
              "      <td>0.003061</td>\n",
              "      <td>0.001252</td>\n",
              "    </tr>\n",
              "  </tbody>\n",
              "</table>\n",
              "<p>7776 rows × 10 columns</p>\n",
              "</div>"
            ],
            "text/plain": [
              "                      id  q_0.1     q_0.2  ...     q_0.7     q_0.8     q_0.9\n",
              "0       0.csv_Day7_0h00m    0.0  0.000970  ... -0.014649  0.000959 -0.000553\n",
              "1       0.csv_Day7_0h30m    0.0 -0.000133  ...  0.001681  0.000391  0.030167\n",
              "2       0.csv_Day7_1h00m    0.0 -0.006992  ...  0.076413  0.011586 -0.000740\n",
              "3       0.csv_Day7_1h30m    0.0 -0.000236  ... -0.024947  0.001566  0.005791\n",
              "4       0.csv_Day7_2h00m    0.0  0.000498  ... -0.015525  0.002466 -0.001152\n",
              "...                  ...    ...       ...  ...       ...       ...       ...\n",
              "7771  80.csv_Day8_21h30m    0.0  0.000042  ...  0.024903  0.031059  0.002718\n",
              "7772  80.csv_Day8_22h00m    0.0 -0.000133  ...  0.084256  0.035062  0.000344\n",
              "7773  80.csv_Day8_22h30m    0.0 -0.000012  ...  0.094950  0.028037  0.001852\n",
              "7774  80.csv_Day8_23h00m    0.0 -0.000729  ...  0.027964  0.004882  0.014268\n",
              "7775  80.csv_Day8_23h30m    0.0 -0.004266  ... -0.008765  0.003061  0.001252\n",
              "\n",
              "[7776 rows x 10 columns]"
            ]
          },
          "metadata": {
            "tags": []
          },
          "execution_count": 22
        }
      ]
    },
    {
      "cell_type": "code",
      "metadata": {
        "id": "s-QAZmn8we9c"
      },
      "source": [
        "for j in range(170):  \n",
        "  for i in range(11):\n",
        "    temp.iloc[48*j+i,1:] = 0\n",
        "    temp.iloc[48*j+37+i,1:] = 0"
      ],
      "execution_count": null,
      "outputs": []
    },
    {
      "cell_type": "markdown",
      "metadata": {
        "id": "E7pHT-vsowpV"
      },
      "source": [
        "## normalize"
      ]
    },
    {
      "cell_type": "code",
      "metadata": {
        "id": "xPWZ95EvntXz"
      },
      "source": [
        "def z_score_normalize(lst):\n",
        "    normalized = []\n",
        "    for value in lst:\n",
        "        normalized_num = (value - np.mean(lst)) / np.std(lst)\n",
        "        normalized.append(normalized_num)\n",
        "    return normalized"
      ],
      "execution_count": null,
      "outputs": []
    },
    {
      "cell_type": "code",
      "metadata": {
        "id": "-LJuuI87nuTX"
      },
      "source": [
        "temp = (z_score_normalize(df[\"DNI\"].values))\n"
      ],
      "execution_count": null,
      "outputs": []
    },
    {
      "cell_type": "code",
      "metadata": {
        "id": "-XnQ9fyLoF3Z"
      },
      "source": [
        "normalized_df =  pd.DataFrame(data = temp,columns = [\"DNI\"])"
      ],
      "execution_count": null,
      "outputs": []
    },
    {
      "cell_type": "code",
      "metadata": {
        "id": "FHF6mbyhn7xY"
      },
      "source": [
        "normalized_df[\"DHI\"] = z_score_normalize(df[\"DHI\"].values)\n",
        "normalized_df[\"TARGET\"] = z_score_normalize(df[\"TARGET\"].values)"
      ],
      "execution_count": null,
      "outputs": []
    },
    {
      "cell_type": "code",
      "metadata": {
        "colab": {
          "base_uri": "https://localhost:8080/",
          "height": 407
        },
        "id": "xngVSfFfo5xB",
        "outputId": "8e0dd476-0b78-4ffd-ede4-aaa67368794d"
      },
      "source": [
        "normalized_df"
      ],
      "execution_count": null,
      "outputs": [
        {
          "output_type": "execute_result",
          "data": {
            "text/html": [
              "<div>\n",
              "<style scoped>\n",
              "    .dataframe tbody tr th:only-of-type {\n",
              "        vertical-align: middle;\n",
              "    }\n",
              "\n",
              "    .dataframe tbody tr th {\n",
              "        vertical-align: top;\n",
              "    }\n",
              "\n",
              "    .dataframe thead th {\n",
              "        text-align: right;\n",
              "    }\n",
              "</style>\n",
              "<table border=\"1\" class=\"dataframe\">\n",
              "  <thead>\n",
              "    <tr style=\"text-align: right;\">\n",
              "      <th></th>\n",
              "      <th>DNI</th>\n",
              "      <th>DHI</th>\n",
              "      <th>TARGET</th>\n",
              "    </tr>\n",
              "  </thead>\n",
              "  <tbody>\n",
              "    <tr>\n",
              "      <th>0</th>\n",
              "      <td>-0.671447</td>\n",
              "      <td>-0.619312</td>\n",
              "      <td>-0.690638</td>\n",
              "    </tr>\n",
              "    <tr>\n",
              "      <th>1</th>\n",
              "      <td>-0.671447</td>\n",
              "      <td>-0.619312</td>\n",
              "      <td>-0.690638</td>\n",
              "    </tr>\n",
              "    <tr>\n",
              "      <th>2</th>\n",
              "      <td>-0.671447</td>\n",
              "      <td>-0.619312</td>\n",
              "      <td>-0.690638</td>\n",
              "    </tr>\n",
              "    <tr>\n",
              "      <th>3</th>\n",
              "      <td>-0.671447</td>\n",
              "      <td>-0.619312</td>\n",
              "      <td>-0.690638</td>\n",
              "    </tr>\n",
              "    <tr>\n",
              "      <th>4</th>\n",
              "      <td>-0.671447</td>\n",
              "      <td>-0.619312</td>\n",
              "      <td>-0.690638</td>\n",
              "    </tr>\n",
              "    <tr>\n",
              "      <th>...</th>\n",
              "      <td>...</td>\n",
              "      <td>...</td>\n",
              "      <td>...</td>\n",
              "    </tr>\n",
              "    <tr>\n",
              "      <th>52555</th>\n",
              "      <td>-0.671447</td>\n",
              "      <td>-0.619312</td>\n",
              "      <td>-0.690638</td>\n",
              "    </tr>\n",
              "    <tr>\n",
              "      <th>52556</th>\n",
              "      <td>-0.671447</td>\n",
              "      <td>-0.619312</td>\n",
              "      <td>-0.690638</td>\n",
              "    </tr>\n",
              "    <tr>\n",
              "      <th>52557</th>\n",
              "      <td>-0.671447</td>\n",
              "      <td>-0.619312</td>\n",
              "      <td>-0.690638</td>\n",
              "    </tr>\n",
              "    <tr>\n",
              "      <th>52558</th>\n",
              "      <td>-0.671447</td>\n",
              "      <td>-0.619312</td>\n",
              "      <td>-0.690638</td>\n",
              "    </tr>\n",
              "    <tr>\n",
              "      <th>52559</th>\n",
              "      <td>-0.671447</td>\n",
              "      <td>-0.619312</td>\n",
              "      <td>-0.690638</td>\n",
              "    </tr>\n",
              "  </tbody>\n",
              "</table>\n",
              "<p>52560 rows × 3 columns</p>\n",
              "</div>"
            ],
            "text/plain": [
              "            DNI       DHI    TARGET\n",
              "0     -0.671447 -0.619312 -0.690638\n",
              "1     -0.671447 -0.619312 -0.690638\n",
              "2     -0.671447 -0.619312 -0.690638\n",
              "3     -0.671447 -0.619312 -0.690638\n",
              "4     -0.671447 -0.619312 -0.690638\n",
              "...         ...       ...       ...\n",
              "52555 -0.671447 -0.619312 -0.690638\n",
              "52556 -0.671447 -0.619312 -0.690638\n",
              "52557 -0.671447 -0.619312 -0.690638\n",
              "52558 -0.671447 -0.619312 -0.690638\n",
              "52559 -0.671447 -0.619312 -0.690638\n",
              "\n",
              "[52560 rows x 3 columns]"
            ]
          },
          "metadata": {
            "tags": []
          },
          "execution_count": 63
        }
      ]
    },
    {
      "cell_type": "code",
      "metadata": {
        "colab": {
          "base_uri": "https://localhost:8080/"
        },
        "id": "l3VXHty8ybvc",
        "outputId": "c818cdc8-b39d-4c96-e703-0644f45cdfd0"
      },
      "source": [
        "df.loc[(df['Hour'] > 19 )   & (df[\"TARGET\"] != 0) , \"TARGET\"]\n",
        "\n",
        "\n",
        "#5시부터 19시까지만 잡힌다."
      ],
      "execution_count": null,
      "outputs": [
        {
          "output_type": "execute_result",
          "data": {
            "text/plain": [
              "Series([], Name: TARGET, dtype: float64)"
            ]
          },
          "metadata": {
            "tags": []
          },
          "execution_count": 3
        }
      ]
    },
    {
      "cell_type": "code",
      "metadata": {
        "id": "mXhWPyBmMb78"
      },
      "source": [
        "df[\"GHI\"] = df[\"DHI\"]+df[\"DNI\"]"
      ],
      "execution_count": null,
      "outputs": []
    },
    {
      "cell_type": "code",
      "metadata": {
        "colab": {
          "base_uri": "https://localhost:8080/",
          "height": 407
        },
        "id": "47n2oaGNMMX2",
        "outputId": "7203c8d2-0d60-408a-e78b-4bcb60d73dc4"
      },
      "source": [
        "df.loc[df['Minute']==30,'Hour'] +=0.5\n",
        "df.drop(['Minute'],axis=1,inplace=True)\n",
        "df"
      ],
      "execution_count": null,
      "outputs": [
        {
          "output_type": "execute_result",
          "data": {
            "text/html": [
              "<div>\n",
              "<style scoped>\n",
              "    .dataframe tbody tr th:only-of-type {\n",
              "        vertical-align: middle;\n",
              "    }\n",
              "\n",
              "    .dataframe tbody tr th {\n",
              "        vertical-align: top;\n",
              "    }\n",
              "\n",
              "    .dataframe thead th {\n",
              "        text-align: right;\n",
              "    }\n",
              "</style>\n",
              "<table border=\"1\" class=\"dataframe\">\n",
              "  <thead>\n",
              "    <tr style=\"text-align: right;\">\n",
              "      <th></th>\n",
              "      <th>Day</th>\n",
              "      <th>Hour</th>\n",
              "      <th>DHI</th>\n",
              "      <th>DNI</th>\n",
              "      <th>WS</th>\n",
              "      <th>RH</th>\n",
              "      <th>T</th>\n",
              "      <th>TARGET</th>\n",
              "      <th>GHI</th>\n",
              "    </tr>\n",
              "  </thead>\n",
              "  <tbody>\n",
              "    <tr>\n",
              "      <th>0</th>\n",
              "      <td>0</td>\n",
              "      <td>0.0</td>\n",
              "      <td>0</td>\n",
              "      <td>0</td>\n",
              "      <td>1.5</td>\n",
              "      <td>69.08</td>\n",
              "      <td>-12</td>\n",
              "      <td>0.0</td>\n",
              "      <td>0</td>\n",
              "    </tr>\n",
              "    <tr>\n",
              "      <th>1</th>\n",
              "      <td>0</td>\n",
              "      <td>0.5</td>\n",
              "      <td>0</td>\n",
              "      <td>0</td>\n",
              "      <td>1.5</td>\n",
              "      <td>69.06</td>\n",
              "      <td>-12</td>\n",
              "      <td>0.0</td>\n",
              "      <td>0</td>\n",
              "    </tr>\n",
              "    <tr>\n",
              "      <th>2</th>\n",
              "      <td>0</td>\n",
              "      <td>1.0</td>\n",
              "      <td>0</td>\n",
              "      <td>0</td>\n",
              "      <td>1.6</td>\n",
              "      <td>71.78</td>\n",
              "      <td>-12</td>\n",
              "      <td>0.0</td>\n",
              "      <td>0</td>\n",
              "    </tr>\n",
              "    <tr>\n",
              "      <th>3</th>\n",
              "      <td>0</td>\n",
              "      <td>1.5</td>\n",
              "      <td>0</td>\n",
              "      <td>0</td>\n",
              "      <td>1.6</td>\n",
              "      <td>71.75</td>\n",
              "      <td>-12</td>\n",
              "      <td>0.0</td>\n",
              "      <td>0</td>\n",
              "    </tr>\n",
              "    <tr>\n",
              "      <th>4</th>\n",
              "      <td>0</td>\n",
              "      <td>2.0</td>\n",
              "      <td>0</td>\n",
              "      <td>0</td>\n",
              "      <td>1.6</td>\n",
              "      <td>75.20</td>\n",
              "      <td>-12</td>\n",
              "      <td>0.0</td>\n",
              "      <td>0</td>\n",
              "    </tr>\n",
              "    <tr>\n",
              "      <th>...</th>\n",
              "      <td>...</td>\n",
              "      <td>...</td>\n",
              "      <td>...</td>\n",
              "      <td>...</td>\n",
              "      <td>...</td>\n",
              "      <td>...</td>\n",
              "      <td>...</td>\n",
              "      <td>...</td>\n",
              "      <td>...</td>\n",
              "    </tr>\n",
              "    <tr>\n",
              "      <th>52555</th>\n",
              "      <td>1094</td>\n",
              "      <td>21.5</td>\n",
              "      <td>0</td>\n",
              "      <td>0</td>\n",
              "      <td>2.4</td>\n",
              "      <td>70.70</td>\n",
              "      <td>-4</td>\n",
              "      <td>0.0</td>\n",
              "      <td>0</td>\n",
              "    </tr>\n",
              "    <tr>\n",
              "      <th>52556</th>\n",
              "      <td>1094</td>\n",
              "      <td>22.0</td>\n",
              "      <td>0</td>\n",
              "      <td>0</td>\n",
              "      <td>2.4</td>\n",
              "      <td>66.79</td>\n",
              "      <td>-4</td>\n",
              "      <td>0.0</td>\n",
              "      <td>0</td>\n",
              "    </tr>\n",
              "    <tr>\n",
              "      <th>52557</th>\n",
              "      <td>1094</td>\n",
              "      <td>22.5</td>\n",
              "      <td>0</td>\n",
              "      <td>0</td>\n",
              "      <td>2.2</td>\n",
              "      <td>66.78</td>\n",
              "      <td>-4</td>\n",
              "      <td>0.0</td>\n",
              "      <td>0</td>\n",
              "    </tr>\n",
              "    <tr>\n",
              "      <th>52558</th>\n",
              "      <td>1094</td>\n",
              "      <td>23.0</td>\n",
              "      <td>0</td>\n",
              "      <td>0</td>\n",
              "      <td>2.1</td>\n",
              "      <td>67.72</td>\n",
              "      <td>-4</td>\n",
              "      <td>0.0</td>\n",
              "      <td>0</td>\n",
              "    </tr>\n",
              "    <tr>\n",
              "      <th>52559</th>\n",
              "      <td>1094</td>\n",
              "      <td>23.5</td>\n",
              "      <td>0</td>\n",
              "      <td>0</td>\n",
              "      <td>2.1</td>\n",
              "      <td>67.70</td>\n",
              "      <td>-4</td>\n",
              "      <td>0.0</td>\n",
              "      <td>0</td>\n",
              "    </tr>\n",
              "  </tbody>\n",
              "</table>\n",
              "<p>52560 rows × 9 columns</p>\n",
              "</div>"
            ],
            "text/plain": [
              "        Day  Hour  DHI  DNI   WS     RH   T  TARGET  GHI\n",
              "0         0   0.0    0    0  1.5  69.08 -12     0.0    0\n",
              "1         0   0.5    0    0  1.5  69.06 -12     0.0    0\n",
              "2         0   1.0    0    0  1.6  71.78 -12     0.0    0\n",
              "3         0   1.5    0    0  1.6  71.75 -12     0.0    0\n",
              "4         0   2.0    0    0  1.6  75.20 -12     0.0    0\n",
              "...     ...   ...  ...  ...  ...    ...  ..     ...  ...\n",
              "52555  1094  21.5    0    0  2.4  70.70  -4     0.0    0\n",
              "52556  1094  22.0    0    0  2.4  66.79  -4     0.0    0\n",
              "52557  1094  22.5    0    0  2.2  66.78  -4     0.0    0\n",
              "52558  1094  23.0    0    0  2.1  67.72  -4     0.0    0\n",
              "52559  1094  23.5    0    0  2.1  67.70  -4     0.0    0\n",
              "\n",
              "[52560 rows x 9 columns]"
            ]
          },
          "metadata": {
            "tags": []
          },
          "execution_count": 3
        }
      ]
    },
    {
      "cell_type": "code",
      "metadata": {
        "colab": {
          "base_uri": "https://localhost:8080/",
          "height": 168
        },
        "id": "eYdi-2NZARi2",
        "outputId": "85709b3b-240e-4226-a5f8-6992bf3f0f63"
      },
      "source": [
        "df[[\"Day\",'DHI']][0:4]"
      ],
      "execution_count": null,
      "outputs": [
        {
          "output_type": "execute_result",
          "data": {
            "text/html": [
              "<div>\n",
              "<style scoped>\n",
              "    .dataframe tbody tr th:only-of-type {\n",
              "        vertical-align: middle;\n",
              "    }\n",
              "\n",
              "    .dataframe tbody tr th {\n",
              "        vertical-align: top;\n",
              "    }\n",
              "\n",
              "    .dataframe thead th {\n",
              "        text-align: right;\n",
              "    }\n",
              "</style>\n",
              "<table border=\"1\" class=\"dataframe\">\n",
              "  <thead>\n",
              "    <tr style=\"text-align: right;\">\n",
              "      <th></th>\n",
              "      <th>Day</th>\n",
              "      <th>DHI</th>\n",
              "    </tr>\n",
              "  </thead>\n",
              "  <tbody>\n",
              "    <tr>\n",
              "      <th>0</th>\n",
              "      <td>0</td>\n",
              "      <td>0</td>\n",
              "    </tr>\n",
              "    <tr>\n",
              "      <th>1</th>\n",
              "      <td>0</td>\n",
              "      <td>0</td>\n",
              "    </tr>\n",
              "    <tr>\n",
              "      <th>2</th>\n",
              "      <td>0</td>\n",
              "      <td>0</td>\n",
              "    </tr>\n",
              "    <tr>\n",
              "      <th>3</th>\n",
              "      <td>0</td>\n",
              "      <td>0</td>\n",
              "    </tr>\n",
              "  </tbody>\n",
              "</table>\n",
              "</div>"
            ],
            "text/plain": [
              "   Day  DHI\n",
              "0    0    0\n",
              "1    0    0\n",
              "2    0    0\n",
              "3    0    0"
            ]
          },
          "metadata": {
            "tags": []
          },
          "execution_count": 18
        }
      ]
    },
    {
      "cell_type": "markdown",
      "metadata": {
        "id": "rIdokpg1WYjo"
      },
      "source": [
        "## DATA\n",
        "\n",
        "\n",
        "시간별 target으로만 target 유추\n",
        "\n",
        "input 3 days\n",
        "\n",
        "output 2 days"
      ]
    },
    {
      "cell_type": "code",
      "metadata": {
        "id": "NM7si4ZSMfGO"
      },
      "source": [
        "from numpy import array\n",
        "from keras.models import Sequential\n",
        "from keras.layers import LSTM\n",
        "from keras.layers import Dense\n",
        "# split a univariate sequence into samples\n",
        "def split_sequence(sequence, n_steps_in, n_steps_out):\n",
        "  X, y = list(), list()\n",
        "  for i in range(len(sequence)):\n",
        "\n",
        "  # find the end of this pattern\n",
        "    i *= 48\n",
        "    end_ix = i + n_steps_in\n",
        "    out_end_ix = end_ix + n_steps_out\n",
        "    # check if we are beyond the sequence\n",
        "    if out_end_ix > len(sequence):\n",
        "      break\n",
        "  # gather input and output parts of the pattern\n",
        "    # seq_x, seq_y = temp[[\"DNI\",\"DHI\",\"TARGET\"]][i:end_ix], sequence[\"TARGET\"][end_ix:out_end_ix]\n",
        "    seq_x, seq_y = sequence[[\"DNI\",\"DHI\",\"TARGET\"]][i:end_ix], sequence[\"TARGET\"][end_ix:out_end_ix]\n",
        "    seq_x, seq_y = sequence[\"TARGET\"][i:end_ix], sequence[\"TARGET\"][end_ix:out_end_ix]\n",
        "    X.append(seq_x)\n",
        "    y.append(seq_y)\n",
        "  return array(X), array(y)\n",
        "\n",
        "raw_seq = df\n",
        "# choose a number of time steps\n",
        "day = 7\n",
        "n_steps_in, n_steps_out = 48*day, 96\n",
        "# split into samples\n",
        "X, y = split_sequence(raw_seq, n_steps_in, n_steps_out)\n"
      ],
      "execution_count": null,
      "outputs": []
    },
    {
      "cell_type": "code",
      "metadata": {
        "id": "4xUjqWbr3WKZ"
      },
      "source": [
        "from sklearn.model_selection import train_test_split\n",
        "\n",
        "X_train, X_test, y_train, y_test = train_test_split(X, y, test_size=0.1)\n"
      ],
      "execution_count": null,
      "outputs": []
    },
    {
      "cell_type": "code",
      "metadata": {
        "colab": {
          "base_uri": "https://localhost:8080/"
        },
        "id": "R7M7RkE_It68",
        "outputId": "77744ce3-6c84-4c93-ec85-05fd4d4e7444"
      },
      "source": [
        "X.shape"
      ],
      "execution_count": null,
      "outputs": [
        {
          "output_type": "execute_result",
          "data": {
            "text/plain": [
              "(1087, 336, 3)"
            ]
          },
          "metadata": {
            "tags": []
          },
          "execution_count": 39
        }
      ]
    },
    {
      "cell_type": "markdown",
      "metadata": {
        "id": "UM4Fpiky2IuD"
      },
      "source": [
        "## 정규화"
      ]
    },
    {
      "cell_type": "code",
      "metadata": {
        "colab": {
          "base_uri": "https://localhost:8080/"
        },
        "id": "wRjeFtjzUu7V",
        "outputId": "2e1a52a6-b6a9-4c60-decd-fb1be1ab196d"
      },
      "source": [
        "X_train.shape"
      ],
      "execution_count": null,
      "outputs": [
        {
          "output_type": "execute_result",
          "data": {
            "text/plain": [
              "torch.Size([978, 336, 2])"
            ]
          },
          "metadata": {
            "tags": []
          },
          "execution_count": 41
        }
      ]
    },
    {
      "cell_type": "code",
      "metadata": {
        "id": "5qhUxyeBUsfN"
      },
      "source": [
        "data = np.array(X_train)\n",
        "scaler = MinMaxScaler(feature_range=(-1, 1))\n",
        "train_data_normalized = scaler.fit_transform(data.reshape(-1, 1))"
      ],
      "execution_count": null,
      "outputs": []
    },
    {
      "cell_type": "code",
      "metadata": {
        "colab": {
          "base_uri": "https://localhost:8080/"
        },
        "id": "SWUX3TE8LJGz",
        "outputId": "23a5201f-d3d9-4d13-8b81-e21a6954d799"
      },
      "source": [
        "train_data_normalized"
      ],
      "execution_count": null,
      "outputs": [
        {
          "output_type": "execute_result",
          "data": {
            "text/plain": [
              "array([[-1.        ],\n",
              "       [-1.        ],\n",
              "       [-0.98999137],\n",
              "       ...,\n",
              "       [-1.        ],\n",
              "       [-0.52959514],\n",
              "       [-1.        ]], dtype=float32)"
            ]
          },
          "metadata": {
            "tags": []
          },
          "execution_count": 44
        }
      ]
    },
    {
      "cell_type": "code",
      "metadata": {
        "id": "JKjqfkiyU2_z"
      },
      "source": [
        "X_train = train_data_normalized.reshape(978,336,2)"
      ],
      "execution_count": null,
      "outputs": []
    },
    {
      "cell_type": "code",
      "metadata": {
        "id": "nabSY5GRLPOS"
      },
      "source": [
        "X_train[0]"
      ],
      "execution_count": null,
      "outputs": []
    },
    {
      "cell_type": "code",
      "metadata": {
        "colab": {
          "base_uri": "https://localhost:8080/"
        },
        "id": "uZCLsVZbVMs2",
        "outputId": "2a623b85-e25b-4d3c-9f27-969a95e92a37"
      },
      "source": [
        "X_test.shape"
      ],
      "execution_count": null,
      "outputs": [
        {
          "output_type": "execute_result",
          "data": {
            "text/plain": [
              "torch.Size([109, 336, 1])"
            ]
          },
          "metadata": {
            "tags": []
          },
          "execution_count": 38
        }
      ]
    },
    {
      "cell_type": "code",
      "metadata": {
        "id": "uWl21QolVAxV"
      },
      "source": [
        "data = np.array(X_test)\n",
        "scaler = MinMaxScaler(feature_range=(-1, 1))\n",
        "train_data_normalized = scaler.fit_transform(data.reshape(-1, 1))\n",
        "X_test = train_data_normalized.reshape(X_test.shape[0],X_test.shape[1])"
      ],
      "execution_count": null,
      "outputs": []
    },
    {
      "cell_type": "markdown",
      "metadata": {
        "id": "Sr9ElJR02LNQ"
      },
      "source": [
        "## variable"
      ]
    },
    {
      "cell_type": "code",
      "metadata": {
        "colab": {
          "base_uri": "https://localhost:8080/"
        },
        "id": "xWl_0NQk3aoU",
        "outputId": "dd939da5-62ae-40d7-b070-3f1076136220"
      },
      "source": [
        "from torch.autograd import Variable\n",
        "\n",
        "\n",
        "X_train = Variable(torch.Tensor(X_train))\n",
        "X_test = Variable(torch.Tensor(X_test))\n",
        "y_train = Variable(torch.Tensor(y_train))\n",
        "y_test = Variable(torch.Tensor(y_test))\n",
        "X_train = X_train.reshape(X_train.shape[0],X_train.shape[1],1)\n",
        "X_test = X_test.reshape(X_test.shape[0],X_test.shape[1],1)\n",
        "print(\"train shape is:\",X_train.size())\n",
        "print(\"train label shape is:\",y_train.size())\n",
        "print(\"test shape is:\",X_test.size())\n",
        "print(\"test label shape is:\",y_test.size())"
      ],
      "execution_count": null,
      "outputs": [
        {
          "output_type": "stream",
          "text": [
            "train shape is: torch.Size([978, 336, 1])\n",
            "train label shape is: torch.Size([978, 96])\n",
            "test shape is: torch.Size([109, 336, 1])\n",
            "test label shape is: torch.Size([109, 96])\n"
          ],
          "name": "stdout"
        }
      ]
    },
    {
      "cell_type": "markdown",
      "metadata": {
        "id": "BQIw0R038gZR"
      },
      "source": [
        "## simple LSTM"
      ]
    },
    {
      "cell_type": "code",
      "metadata": {
        "id": "N9-XHpOw8hTx"
      },
      "source": [
        "class LSTM(nn.Module):\n",
        "\n",
        "    def __init__(self, num_classes, input_size, hidden_size, num_layers):\n",
        "        super(LSTM, self).__init__()\n",
        "        \n",
        "        self.num_classes = num_classes\n",
        "        self.num_layers = num_layers\n",
        "        self.input_size = input_size\n",
        "        self.hidden_size = hidden_size\n",
        "        #self.seq_length = seq_length\n",
        "        self.dropout = nn.Dropout(p=0.2)\n",
        "        \n",
        "        self.lstm = nn.LSTM(input_size=input_size, hidden_size=hidden_size,\n",
        "                            num_layers=num_layers, batch_first=True,dropout = 0.25)\n",
        "        \n",
        "        self.fc = nn.Linear(hidden_size, num_classes)\n",
        "\n",
        "    def forward(self, x):\n",
        "        h_0 = Variable(torch.zeros(\n",
        "            self.num_layers, x.size(0), self.hidden_size).to(device))\n",
        "        \n",
        "        c_0 = Variable(torch.zeros(\n",
        "            self.num_layers, x.size(0), self.hidden_size).to(device))\n",
        "        \n",
        "        # Propagate input through LSTM\n",
        "        ula, (h_out, _) = self.lstm(x, (h_0, c_0))\n",
        "        \n",
        "        h_out = h_out.view(-1, self.hidden_size)\n",
        "        \n",
        "        out = self.fc(h_out)\n",
        "        out = self.dropout(out)\n",
        "       \n",
        "        return out"
      ],
      "execution_count": null,
      "outputs": []
    },
    {
      "cell_type": "code",
      "metadata": {
        "id": "9qRYMau_8hzo"
      },
      "source": [
        "# create a nn class (just-for-fun choice :-) \n",
        "class RMSELoss(nn.Module):\n",
        "    def __init__(self):\n",
        "        super().__init__()\n",
        "        self.mse = nn.MSELoss()\n",
        "        \n",
        "    def forward(self,yhat,y):\n",
        "        return torch.sqrt(self.mse(yhat,y))"
      ],
      "execution_count": null,
      "outputs": []
    },
    {
      "cell_type": "code",
      "metadata": {
        "colab": {
          "base_uri": "https://localhost:8080/",
          "height": 547
        },
        "id": "HpDa72SV8mkH",
        "outputId": "369ff37a-2518-43a1-cb0a-2f3dec74e2e9"
      },
      "source": [
        "#####  Parameters  ######################\n",
        "num_epochs = 1500\n",
        "learning_rate = 1e-3\n",
        "input_size = 1\n",
        "hidden_size = 512\n",
        "num_layers = 1\n",
        "num_classes = 96\n",
        "\n",
        "#####Init the Model #######################\n",
        "lstm = LSTM(num_classes, input_size, hidden_size, num_layers)\n",
        "lstm.to(device)\n",
        "\n",
        "##### Set Criterion Optimzer and scheduler ####################\n",
        "criterion = torch.nn.MSELoss().to(device)    # mean-squared error for regression\n",
        "optimizer = torch.optim.Adam(lstm.parameters(), lr=learning_rate,weight_decay=1e-5)\n",
        "scheduler = torch.optim.lr_scheduler.ReduceLROnPlateau(optimizer,  patience=100,factor =0.5 ,min_lr=1e-7, eps=1e-08)\n",
        "#optimizer = torch.optim.SGD(lstm.parameters(), lr=learning_rate)\n",
        "\n",
        "# Train the model\n",
        "\n",
        "for epoch in progress_bar(range(num_epochs)): \n",
        "    lstm.train()\n",
        "    outputs = lstm(X_train.to(device))\n",
        "    optimizer.zero_grad()\n",
        "    \n",
        "\n",
        "\n",
        "    # obtain the loss function\n",
        "    loss = criterion(outputs, y_train.to(device))\n",
        " \n",
        "    loss.backward()\n",
        "    \n",
        "    \n",
        "    optimizer.step()\n",
        "    \n",
        "\n",
        "\n",
        "    #Evaluate on test     \n",
        "    lstm.eval()\n",
        "    valid = lstm(X_test.to(device))\n",
        "    vall_loss = criterion(valid, y_test.to(device))\n",
        "    scheduler.step(vall_loss)\n",
        "    \n",
        "    if epoch % 50 == 0:\n",
        "      print(\"Epoch: %d, loss: %1.5f valid loss:  %1.5f \" %(epoch, loss.cpu().item(),vall_loss.cpu().item()))"
      ],
      "execution_count": null,
      "outputs": [
        {
          "output_type": "display_data",
          "data": {
            "text/html": [
              "\n",
              "    <div>\n",
              "        <style>\n",
              "            /* Turns off some styling */\n",
              "            progress {\n",
              "                /* gets rid of default border in Firefox and Opera. */\n",
              "                border: none;\n",
              "                /* Needs to be in here for Safari polyfill so background images work as expected. */\n",
              "                background-size: auto;\n",
              "            }\n",
              "            .progress-bar-interrupted, .progress-bar-interrupted::-webkit-progress-bar {\n",
              "                background: #F44336;\n",
              "            }\n",
              "        </style>\n",
              "      <progress value='1500' class='' max='1500' style='width:300px; height:20px; vertical-align: middle;'></progress>\n",
              "      100.00% [1500/1500 04:31<00:00]\n",
              "    </div>\n",
              "    "
            ],
            "text/plain": [
              "<IPython.core.display.HTML object>"
            ]
          },
          "metadata": {
            "tags": []
          }
        },
        {
          "output_type": "stream",
          "text": [
            "Epoch: 0, loss: 0.67896 valid loss:  0.66605 \n",
            "Epoch: 50, loss: 0.19902 valid loss:  0.11293 \n",
            "Epoch: 100, loss: 0.19816 valid loss:  0.11060 \n",
            "Epoch: 150, loss: 0.19909 valid loss:  0.11036 \n",
            "Epoch: 200, loss: 0.19926 valid loss:  0.11037 \n",
            "Epoch: 250, loss: 0.20010 valid loss:  0.11039 \n",
            "Epoch: 300, loss: 0.19740 valid loss:  0.11045 \n",
            "Epoch: 350, loss: 0.19873 valid loss:  0.11037 \n",
            "Epoch: 400, loss: 0.19889 valid loss:  0.11038 \n",
            "Epoch: 450, loss: 0.20035 valid loss:  0.11037 \n",
            "Epoch: 500, loss: 0.19926 valid loss:  0.11037 \n",
            "Epoch: 550, loss: 0.20049 valid loss:  0.11037 \n",
            "Epoch: 600, loss: 0.19795 valid loss:  0.11038 \n",
            "Epoch: 650, loss: 0.19807 valid loss:  0.11037 \n",
            "Epoch: 700, loss: 0.20016 valid loss:  0.11038 \n",
            "Epoch: 750, loss: 0.19905 valid loss:  0.11039 \n",
            "Epoch: 800, loss: 0.20170 valid loss:  0.11038 \n",
            "Epoch: 850, loss: 0.19970 valid loss:  0.11037 \n",
            "Epoch: 900, loss: 0.19823 valid loss:  0.11037 \n",
            "Epoch: 950, loss: 0.19868 valid loss:  0.11037 \n",
            "Epoch: 1000, loss: 0.20035 valid loss:  0.11038 \n",
            "Epoch: 1050, loss: 0.19792 valid loss:  0.11038 \n",
            "Epoch: 1100, loss: 0.19781 valid loss:  0.11038 \n",
            "Epoch: 1150, loss: 0.19756 valid loss:  0.11038 \n",
            "Epoch: 1200, loss: 0.19910 valid loss:  0.11038 \n",
            "Epoch: 1250, loss: 0.20022 valid loss:  0.11038 \n",
            "Epoch: 1300, loss: 0.19723 valid loss:  0.11038 \n",
            "Epoch: 1350, loss: 0.20004 valid loss:  0.11038 \n",
            "Epoch: 1400, loss: 0.19874 valid loss:  0.11038 \n",
            "Epoch: 1450, loss: 0.20031 valid loss:  0.11038 \n"
          ],
          "name": "stdout"
        }
      ]
    },
    {
      "cell_type": "code",
      "metadata": {
        "colab": {
          "base_uri": "https://localhost:8080/"
        },
        "id": "8vTiVTxSHeat",
        "outputId": "28ce4640-eb9c-4c1b-93d1-3322233ef044"
      },
      "source": [
        "y.shape"
      ],
      "execution_count": null,
      "outputs": [
        {
          "output_type": "execute_result",
          "data": {
            "text/plain": [
              "(1091, 96)"
            ]
          },
          "metadata": {
            "tags": []
          },
          "execution_count": 11
        }
      ]
    },
    {
      "cell_type": "markdown",
      "metadata": {
        "id": "XRKr4Nm7bVki"
      },
      "source": [
        "## Multi LSTM layers"
      ]
    },
    {
      "cell_type": "code",
      "metadata": {
        "id": "eZdDZpbTbW3y"
      },
      "source": [
        "## many to many 로 구현해보자\n",
        "# batch, seq, inputsize\n",
        "# input [981, 144, 1]\n",
        "# output [981, 96]\n",
        "\n",
        "#input of shape (seq_len, batch, input_size)\n",
        "\n",
        "\n",
        "\n",
        "class LSTM2(nn.Module):\n",
        "\n",
        "    def __init__(self, num_classes, input_size, hidden_size, num_layers):\n",
        "        super(LSTM2, self).__init__()\n",
        "        \n",
        "        self.num_classes = num_classes\n",
        "        self.num_layers = num_layers\n",
        "        self.input_size = input_size\n",
        "        self.hidden_size = hidden_size\n",
        "        \n",
        "        #self.seq_length = seq_length\n",
        "        \n",
        "        self.LSTM2 = nn.LSTM(input_size=input_size, hidden_size=hidden_size, \n",
        "                             num_layers=num_layers,batch_first=True)\n",
        "       \n",
        "        \n",
        "        self.fc1 = nn.Linear(hidden_size, int(num_classes))\n",
        "        # self.fc2 = nn.Linear(hidden_size, int(num_classes/2))\n",
        "        # self.fc2 = nn.Linear(1024, num_classes)\n",
        "\n",
        "        self.dropout = nn.Dropout(p=0.2)\n",
        "\n",
        "        self.count = 0\n",
        "\n",
        "        # 지금 형태는 맨마지믁 lstm에서 마지막 layer의 hidden size 만 가져와서 그대로 fc로 보내는거임\n",
        "\n",
        "    def forward(self, x):\n",
        "        # print(f'x.size(0) : {x.size(0)}') #981\n",
        "        h_1 = Variable(torch.zeros(\n",
        "            self.num_layers, x.size(0), self.hidden_size).to(device))\n",
        "        # 2, 981, 512\n",
        "        \n",
        "        c_1 = Variable(torch.zeros(\n",
        "            self.num_layers, x.size(0), self.hidden_size).to(device))\n",
        "        \n",
        "       \n",
        "        # self.count += 1\n",
        "        # print(self.count)\n",
        "\n",
        "\n",
        "        out1, (hn, cn) = self.LSTM2(x, (h_1, c_1))\n",
        "        #out1: batch_size, seq, hidden_size\n",
        "        # torch.Size([batch, seq, hidden])\n",
        "        #  1 print(out1[-1,-1,:])\n",
        "\n",
        "\n",
        "        # train\n",
        "        # hidden state shpe is: torch.Size([2, batch, hidden])\n",
        "        # final state shape is: torch.Size([981, 512])\n",
        "        # output size : torch.Size([981, 96])\n",
        "        # valid\n",
        "        # hidden state shpe is: torch.Size([2, 110, 512])\n",
        "        # final state shape is: torch.Size([110, 512])\n",
        "        # torch.Size([110, 96])\n",
        "        \n",
        "        # print(\"hidden state shpe is:\",hn.size())\n",
        "        # y = hn.view(-1, self.hidden_size)\n",
        "        \n",
        "        # final_1_state = out1[:,-2,:]\n",
        "        final_state = out1[:,-1,:]\n",
        "        \n",
        "   \n",
        "        # 2 print(final_state[-1,:]) 1 = 2\n",
        "        # print(final_state[1:10,:10])\n",
        "\n",
        "        # print(\"final state shape is:\",final_state.shape)\n",
        "        # out = F.relu(self.fc1(final_state))\n",
        "\n",
        "        out1 = self.fc1(final_state)\n",
        "        # out2 = self.fc2(final_state)\n",
        "\n",
        "        #out = self.dropout(out)\n",
        "        # print(out.size())\n",
        "        return out1\n",
        "    \n",
        " "
      ],
      "execution_count": null,
      "outputs": []
    },
    {
      "cell_type": "code",
      "metadata": {
        "id": "UQ71R61_uh11"
      },
      "source": [
        "def init_weights(m):\n",
        "    for name, param in m.named_parameters():\n",
        "        nn.init.uniform_(param.data, -0.08, 0.08)\n",
        "        # nn.init.uniform_(param.data, -0.1, 0.1)\n",
        "\n",
        "# def quantile_loss(preds, target, quantiles):\n",
        "#     assert not target.requires_grad\n",
        "#     assert preds.size(0) == target.size(0)\n",
        "#     losses = []\n",
        "#     for i, q in enumerate(quantiles):\n",
        "#         errors = target - preds[:, i]\n",
        "#         losses.append(torch.max((q - 1) * errors, q * errors).unsqueeze(1))\n",
        "#     loss = torch.mean(torch.sum(torch.cat(losses, dim=1), dim=1))\n",
        "#     return loss\n",
        "\n",
        "def quantile_loss(preds, target, q):\n",
        "  assert not target.requires_grad\n",
        "  assert preds.size(0) == target.size(0)\n",
        "  losses = []\n",
        "  errors = target - preds\n",
        "  losses.append(torch.mean(torch.max((q - 1) * errors, q * errors)))\n",
        "  loss = torch.mean(torch.stack(losses))  \n",
        "  return loss"
      ],
      "execution_count": null,
      "outputs": []
    },
    {
      "cell_type": "markdown",
      "metadata": {
        "id": "KcyVZ7w6RLdO"
      },
      "source": [
        "## early stop"
      ]
    },
    {
      "cell_type": "code",
      "metadata": {
        "id": "oJXu0P9cRK04"
      },
      "source": [
        "class EarlyStopping:\n",
        "    \"\"\"주어진 patience 이후로 validation loss가 개선되지 않으면 학습을 조기 중지\"\"\"\n",
        "    def __init__(self, patience=7, verbose=False, delta=0, path='checkpoint.pt'):\n",
        "        \"\"\"\n",
        "        Args:\n",
        "            patience (int): validation loss가 개선된 후 기다리는 기간\n",
        "                            Default: 7\n",
        "            verbose (bool): True일 경우 각 validation loss의 개선 사항 메세지 출력\n",
        "                            Default: False\n",
        "            delta (float): 개선되었다고 인정되는 monitered quantity의 최소 변화\n",
        "                            Default: 0\n",
        "            path (str): checkpoint저장 경로\n",
        "                            Default: 'checkpoint.pt'\n",
        "        \"\"\"\n",
        "        self.patience = patience\n",
        "        self.verbose = verbose\n",
        "        self.counter = 0\n",
        "        self.best_score = None\n",
        "        self.early_stop = False\n",
        "        self.val_loss_min = np.Inf\n",
        "        self.delta = delta\n",
        "        self.path = path\n",
        "\n",
        "    def __call__(self, val_loss, model):\n",
        "\n",
        "        score = -val_loss\n",
        "\n",
        "        if self.best_score is None:\n",
        "            self.best_score = score\n",
        "            self.save_checkpoint(val_loss, model)\n",
        "        elif score < self.best_score + self.delta:\n",
        "            self.counter += 1\n",
        "            # print(f'EarlyStopping counter: {self.counter} out of {self.patience}')\n",
        "            if self.counter >= self.patience:\n",
        "                self.early_stop = True\n",
        "        else:\n",
        "            self.best_score = score\n",
        "            self.save_checkpoint(val_loss, model)\n",
        "            self.counter = 0\n",
        "\n",
        "    def save_checkpoint(self, val_loss, model):\n",
        "        '''validation loss가 감소하면 모델을 저장한다.'''\n",
        "        if self.verbose:\n",
        "            pass\n",
        "            # print(f'Validation loss decreased ({self.val_loss_min:.6f} --> {val_loss:.6f}).  Saving model ...')\n",
        "        torch.save(model.state_dict(), self.path)\n",
        "        self.val_loss_min = val_loss"
      ],
      "execution_count": null,
      "outputs": []
    },
    {
      "cell_type": "markdown",
      "metadata": {
        "id": "KruG3R0FnjPu"
      },
      "source": [
        "## Train\n",
        "\n",
        "해볼거\n",
        "1. 3일이아닌 7일치데이터 넣어서 학습\n",
        "2. VALID도 다 학습\n",
        "3. LSTM 모델 수정\n",
        "4. HYPER PARAMETER 수정\n",
        "5. sgd 사용\n",
        "6. lstm weight init\n",
        "\n",
        "\n",
        "//\n",
        "num layer 늘려도 별 소용없음\n",
        "hidden size도 마찬가지 \n",
        "\n",
        "그래도 좀더 해볼것\n"
      ]
    },
    {
      "cell_type": "code",
      "metadata": {
        "id": "KINL3HjEGhU_"
      },
      "source": [
        "# ## 배치 사이즈 줄여서해보자\n",
        "\n",
        "X_train = X_train[:800,:,:]\n",
        "y_train = y_train[:800,:]"
      ],
      "execution_count": null,
      "outputs": []
    },
    {
      "cell_type": "code",
      "metadata": {
        "id": "LGLrgCqWg_CP"
      },
      "source": [
        "# X_test = X_test[:80,:,:]\n",
        "# y_test = y_test[:80,:]"
      ],
      "execution_count": null,
      "outputs": []
    },
    {
      "cell_type": "code",
      "metadata": {
        "id": "pQohqPreSdmz"
      },
      "source": [
        "X_test[0][:48]"
      ],
      "execution_count": null,
      "outputs": []
    },
    {
      "cell_type": "code",
      "metadata": {
        "id": "4y9cUft1umFz"
      },
      "source": [
        "# 0.1 Epoch: 152, loss: 1.42414 valid loss:  1.43572 \n",
        "# 0.2 Epoch: 222, loss: 2.57128 valid loss:  2.55931 \n",
        "# 0.3 Epoch: 251, loss: 3.33700 valid loss:  3.33624 \n",
        "\n",
        "# 0.4 3.41628  epoch 500 이상부터 비슷\n",
        "# 0.5 850\n",
        "# 0.6 4.15723 200이상 \n",
        "# 0.7  2.25036  500 이상\n",
        "# 0.8  2.84159  300,\n",
        "# 0.9  1.65140 250\n",
        "\n",
        "\n",
        "# for quantile in  np.arange(0.1, 1, 0.1):\n",
        "for quantile in  [0.7]:\n",
        "\n",
        "  patience = 600\n",
        "\n",
        "  early_stopping = EarlyStopping(patience = patience, verbose = True)\n",
        "\n",
        "  num_epochs = 1100\n",
        "  learning_rate = 1e-1\n",
        "  input_size = 1\n",
        "  hidden_size = 512\n",
        "  num_layers = 2\n",
        "\n",
        "  num_classes = 96\n",
        "  # quantile = 0.3\n",
        "\n",
        "\n",
        "  quantile = round(quantile, 2)\n",
        "  print(f'Quantile : {quantile}')\n",
        "\n",
        "  lstm = LSTM2(num_classes, input_size, hidden_size, num_layers)\n",
        "  lstm.to(device)\n",
        "\n",
        "\n",
        "  lstm.apply(init_weights)\n",
        "\n",
        "\n",
        "  criterion = quantile_loss    # mean-squared error for regression\n",
        "  # criterion = torch.nn.L1Loss().to(device)    # mean-squared error for regression\n",
        "  optimizer = torch.optim.Adam(lstm.parameters(), lr=learning_rate,weight_decay= 1e-5)\n",
        "  # optimizer = torch.optim.SGD(lstm.parameters(), lr=learning_rate,momentum=0.9)\n",
        "\n",
        "  # scheduler = torch.optim.lr_scheduler.ReduceLROnPlateau(optimizer,  patience= 60, \n",
        "  #           factor =0.1 ,min_lr=1e-6, eps=1e-08)\n",
        "\n",
        "  scheduler = torch.optim.lr_scheduler.MultiStepLR(optimizer, milestones=[400,700,900,1000], gamma=0.1)\n",
        "\n",
        "  for epoch in progress_bar(range(num_epochs+1)): \n",
        "\n",
        "    lstm.train()\n",
        "    outputs = lstm(X_train.to(device))\n",
        "    # out1,out2 = lstm(X_train.to(device))\n",
        "    optimizer.zero_grad()\n",
        "    # obtain the loss function\n",
        "\n",
        "    loss = criterion(outputs, y_train.to(device),quantile)\n",
        "    # loss1 = criterion(out1, y_train[:,:48].to(device),quantile)\n",
        "    # loss2 = criterion(out2, y_train[:,48:96].to(device),quantile)\n",
        "    # loss = criterion(outputs, y_train.to(device))\n",
        "\n",
        "    # loss = loss1+loss2\n",
        "    loss.backward()\n",
        "\n",
        "    scheduler.step()\n",
        "    # torch.nn.utils.clip_grad_norm_(lstm.parameters(), 10)\n",
        "\n",
        "    optimizer.step()\n",
        "\n",
        "\n",
        "    lstm.eval()\n",
        "    valid = lstm(X_test.to(device))\n",
        "    # out1,out2 = lstm(X_test.to(device))\n",
        "\n",
        "\n",
        "    #inverse\n",
        "    # valid = torch.from_numpy(scaler.inverse_transform(valid.cpu().detach().numpy()))\n",
        "\n",
        "    # vall_loss = criterion(torch.cat((out1,out2),1), y_test.to(device),quantile)\n",
        "    vall_loss = criterion(valid, y_test.to(device),quantile)\n",
        "    # vall_loss = criterion(valid, y_test.to(device))\n",
        "    if epoch % 10 == 0:\n",
        "      # print(criterion1(outputs, y_train.to(device),quantile))\n",
        "\n",
        "      print(\"Epoch: %d, loss: %1.5f valid loss:  %1.5f lr: %1.5f \" %(epoch, loss.cpu().item(),vall_loss.cpu().item(),\n",
        "                                                                     optimizer.param_groups[0][\"lr\"]))\n",
        "    # scheduler.step(vall_loss)\n",
        "\n",
        "\n",
        "    \n",
        "\n",
        "    torch.save(lstm.state_dict(), SAVEPATH+'model_weight.pth')\n",
        "    # model.load_state_dict(torch.load(SAVEPATH+'model_weight.pth'))\n",
        "\n",
        "  #   # early_stopping는 validation loss가 감소하였는지 확인이 필요하며,\n",
        "  #     # 만약 감소하였을경우 현제 모델을 checkpoint로 만든다.\n",
        "  #   early_stopping(round(vall_loss.item(),7), lstm)\n",
        "\n",
        "  #   if early_stopping.early_stop:\n",
        "  #       print(\"Early stop!!!! last Epoch: %d, loss: %1.5f valid loss:  %1.5f lr: %1.5f \" %(epoch, loss.cpu().item(),vall_loss.cpu().item(),optimizer.param_groups[0][\"lr\"]))\n",
        "  #       break\n",
        "\n",
        "  # # best model이 저장되어있는 last checkpoint를 로드한다.\n",
        "  #   lstm.load_state_dict(torch.load('checkpoint.pt'))\n",
        "\n",
        "\n",
        "  outputs = []\n",
        "  for i in range(81):\n",
        "    #test중 target만 사용\n",
        "    # normalized_df[\"TARGET\"] = z_score_normalize( df_test[i][\"TARGET\"].values)\n",
        "    # normalized_df[\"DNI\"] = z_score_normalize( df_test[i][\"DNI\"].values)\n",
        "    # normalized_df[\"DHI\"] = z_score_normalize(df_test[i][\"DHI\"].values)\n",
        "\n",
        "    # test = Variable(torch.Tensor(normalized_df[[\"DNI\",\"DHI\",\"TARGET\"]].values))\n",
        "    test = Variable(torch.Tensor(df_test[i][\"TARGET\"][-48*day:].values))\n",
        "    output = lstm(test.reshape(1,48*day,1).to(device))\n",
        "    # (output.cpu().detach().numpy()[0].reshape(-1, 1))\n",
        "    # scaler.inverse_transform(output.cpu().detach().numpy()[0].reshape(-1, 1))\n",
        "\n",
        "    outputs.append(output[0])\n",
        "\n",
        "  submission[f'q_{quantile}'] = (torch.stack(outputs).reshape(-1).cpu().detach().numpy() )\n",
        "  print(submission[f'q_{quantile}'][:96])\n"
      ],
      "execution_count": null,
      "outputs": []
    },
    {
      "cell_type": "code",
      "metadata": {
        "colab": {
          "base_uri": "https://localhost:8080/"
        },
        "id": "yuPq7A5i-_sb",
        "outputId": "d94b4abe-f64b-40cb-ae2f-d9241acb4b8d"
      },
      "source": [
        "print(day)\n",
        "outputs = []\n",
        "for i in range(81):\n",
        "  #test중 target만 사용\n",
        "  # normalized_df[\"TARGET\"] = z_score_normalize( df_test[i][\"TARGET\"].values)\n",
        "  # normalized_df[\"DNI\"] = z_score_normalize( df_test[i][\"DNI\"].values)\n",
        "  # normalized_df[\"DHI\"] = z_score_normalize(df_test[i][\"DHI\"].values)\n",
        "\n",
        "  # test = Variable(torch.Tensor(normalized_df[[\"DNI\",\"DHI\",\"TARGET\"]].values))\n",
        "  test = Variable(torch.Tensor(df_test[i][\"TARGET\"][-48*day:].values))\n",
        "  output = lstm(test.reshape(1,48*day,1).to(device))\n",
        "  # (output.cpu().detach().numpy()[0].reshape(-1, 1))\n",
        "  # scaler.inverse_transform(output.cpu().detach().numpy()[0].reshape(-1, 1))\n",
        "\n",
        "  outputs.append(output[0])\n",
        "\n",
        "submission[f'q_{quantile}'] = (torch.stack(outputs).reshape(-1).cpu().detach().numpy() )\n",
        "print(submission[f'q_{quantile}'][:96])"
      ],
      "execution_count": null,
      "outputs": [
        {
          "output_type": "stream",
          "text": [
            "5\n",
            "0     0.000273\n",
            "1    -0.000134\n",
            "2    -0.000214\n",
            "3     0.000177\n",
            "4     0.000297\n",
            "        ...   \n",
            "91   -0.000170\n",
            "92    0.000036\n",
            "93    0.000038\n",
            "94   -0.000160\n",
            "95   -0.000025\n",
            "Name: q_0.5, Length: 96, dtype: float32\n"
          ],
          "name": "stdout"
        }
      ]
    },
    {
      "cell_type": "code",
      "metadata": {
        "colab": {
          "base_uri": "https://localhost:8080/"
        },
        "id": "rsUvdJsRH-aV",
        "outputId": "7a26c046-1a85-41d8-cb35-7c5a13f137bc"
      },
      "source": [
        "valid = lstm(X_test.to(device))\n",
        "# valid = scaler.inverse_transform(valid.cpu().data.numpy())\n"
      ],
      "execution_count": null,
      "outputs": [
        {
          "output_type": "stream",
          "text": [
            "tensor([[-1.0454, -1.1624, -1.1962,  ..., -0.9884, -0.9627, -1.0567],\n",
            "        [-1.0454, -1.1624, -1.1962,  ..., -0.9884, -0.9627, -1.0567],\n",
            "        [-1.0453, -1.1624, -1.1962,  ..., -0.9884, -0.9627, -1.0566],\n",
            "        ...,\n",
            "        [-1.0453, -1.1624, -1.1962,  ..., -0.9884, -0.9627, -1.0566],\n",
            "        [-1.0453, -1.1624, -1.1961,  ..., -0.9884, -0.9627, -1.0566],\n",
            "        [-1.0453, -1.1624, -1.1962,  ..., -0.9884, -0.9627, -1.0566]],\n",
            "       device='cuda:0', grad_fn=<AddmmBackward>)\n",
            "tensor([ -2.2658,  -8.1123,  -9.7997,  -9.5316,  -5.3287,   4.8741,  -3.9554,\n",
            "          3.0132,  -1.3174,  -7.9347,  11.2503,  -0.9712,  -3.6404,   4.3413,\n",
            "          6.8301,  12.5756,  20.2354,  29.4005,  32.9436,  40.0451,  45.3615,\n",
            "         49.2281,  50.0133,  49.7319,  49.9096,  48.4559,  44.6433,  41.5174,\n",
            "         38.3073,  31.6345,  26.0573,  20.6828,  12.7632,   7.5523,   2.8976,\n",
            "         -0.1291,  -0.5744,   1.7223,   1.5254,   6.5075,   7.2917,  -5.5658,\n",
            "          0.9025,  -3.3291,  -3.2819,   0.5226,  -3.3878,   1.1444, -12.1547,\n",
            "         -6.8979,  -2.4159,   0.3066,   0.5819,  -3.7371,   0.5044,  -2.1339,\n",
            "         -1.3669,   2.0438,  -0.1439,   4.6034,   3.6062,   2.9909,   5.3357,\n",
            "         13.3597,  18.2700,  27.1439,  35.3540,  40.8035,  43.4486,  47.6637,\n",
            "         49.7384,  50.7303,  50.4475,  49.1435,  45.9507,  40.7867,  37.7407,\n",
            "         33.1427,  26.3603,  19.6723,  12.0869,   7.4931,   1.0423,   1.5418,\n",
            "          1.5832,   3.0598,  -4.1453,  -0.5163, -11.5278,  -3.0302,  -1.2137,\n",
            "         -5.5331,   2.2148,   0.5800,   1.8627,  -2.8298])\n"
          ],
          "name": "stdout"
        }
      ]
    },
    {
      "cell_type": "code",
      "metadata": {
        "colab": {
          "base_uri": "https://localhost:8080/"
        },
        "id": "ZX7uzASbGM28",
        "outputId": "cc1787a1-7317-46af-b247-6ec69b12bba6"
      },
      "source": [
        "\n",
        "outputs = []\n",
        "for i in range(81):\n",
        "  #test중 target만 사용\n",
        "  test = Variable(torch.Tensor(df_test[i][\"TARGET\"].values))\n",
        "  output = lstm(test.reshape(1,48*7,1).to(device))\n",
        "  (output.cpu().detach().numpy()[0].reshape(-1, 1))\n",
        "  # scaler.inverse_transform(output.cpu().detach().numpy()[0].reshape(-1, 1))\n",
        "\n",
        "  outputs.append(output[0])\n",
        "\n",
        "submission[f'q_{quantile}'] = (torch.stack(outputs).reshape(-1).cpu().detach().numpy() )\n",
        "print(submission[f'q_{quantile}'][:96])"
      ],
      "execution_count": null,
      "outputs": [
        {
          "output_type": "stream",
          "text": [
            "0    -0.024616\n",
            "1    -0.005030\n",
            "2    -0.023621\n",
            "3     0.001684\n",
            "4    -0.013990\n",
            "        ...   \n",
            "91    0.003248\n",
            "92   -0.014112\n",
            "93    0.002327\n",
            "94   -0.008257\n",
            "95   -0.011697\n",
            "Name: q_0.4, Length: 96, dtype: float32\n"
          ],
          "name": "stdout"
        }
      ]
    },
    {
      "cell_type": "markdown",
      "metadata": {
        "id": "KH01jiuoJrwI"
      },
      "source": [
        "## valid  시각화해보자 "
      ]
    },
    {
      "cell_type": "code",
      "metadata": {
        "colab": {
          "base_uri": "https://localhost:8080/"
        },
        "id": "bpQ_phwI6Slc",
        "outputId": "6e83d083-ee8b-42d1-80c9-267c953810d3"
      },
      "source": [
        "X_test[1,:,0]"
      ],
      "execution_count": null,
      "outputs": [
        {
          "output_type": "execute_result",
          "data": {
            "text/plain": [
              "tensor([ 0.0000,  0.0000,  0.0000,  0.0000,  0.0000,  0.0000,  0.0000,  0.0000,\n",
              "         0.0000,  0.0000,  0.0000,  0.0000,  0.0000,  0.0000,  0.0000,  1.4077,\n",
              "         7.8832, 15.5786, 23.1797, 30.0300, 35.9418, 40.7277, 44.1994, 46.2640,\n",
              "        46.9203, 35.9410, 43.8236, 40.2581, 35.3787, 29.3731, 15.8598,  9.6661,\n",
              "         4.6923,  0.0000,  0.0000,  0.0000,  0.0000,  0.0000,  0.0000,  0.0000,\n",
              "         0.0000,  0.0000,  0.0000,  0.0000,  0.0000,  0.0000,  0.0000,  0.0000,\n",
              "         0.0000,  0.0000,  0.0000,  0.0000,  0.0000,  0.0000,  0.0000,  0.0000,\n",
              "         0.0000,  0.0000,  0.0000,  0.0000,  0.0000,  0.0000,  0.0000,  0.0000,\n",
              "         8.0712, 16.0483, 23.9317, 31.0640, 37.1638, 42.0438, 45.5162, 47.5809,\n",
              "        48.2373, 47.3927, 29.6556, 32.0021,  8.4463,  7.0386,  1.8770,  0.7508,\n",
              "         0.3754,  0.0000,  0.0000,  0.0000,  0.0000,  0.0000,  0.0000,  0.0000,\n",
              "         0.0000,  0.0000,  0.0000,  0.0000,  0.0000,  0.0000,  0.0000,  0.0000,\n",
              "         0.0000,  0.0000,  0.0000,  0.0000,  0.0000,  0.0000,  0.0000,  0.0000,\n",
              "         0.0000,  0.0000,  0.0000,  0.0000,  0.0000,  0.0000,  0.0000,  0.0000,\n",
              "         8.1655, 16.3306, 24.2141, 31.4404, 37.6347, 42.6083, 46.1742, 48.3322,\n",
              "        48.8953, 48.0506, 45.6106, 41.9505, 29.9378, 30.6886, 23.4625, 11.9191,\n",
              "         5.9127,  1.0324,  0.0000,  0.0000,  0.0000,  0.0000,  0.0000,  0.0000,\n",
              "         0.0000,  0.0000,  0.0000,  0.0000,  0.0000,  0.0000,  0.0000,  0.0000])"
            ]
          },
          "metadata": {
            "tags": []
          },
          "execution_count": 12
        }
      ]
    },
    {
      "cell_type": "code",
      "metadata": {
        "colab": {
          "base_uri": "https://localhost:8080/"
        },
        "id": "4mKYKxPOagGd",
        "outputId": "f449f4d0-e0be-4911-b5e6-feef5fc6cb16"
      },
      "source": [
        "lstm = LSTM2(96, 1, 512, 2).to(device)\n",
        "lstm.eval()\n",
        "lstm(X_test.reshape(110,144,1).to(device))"
      ],
      "execution_count": null,
      "outputs": [
        {
          "output_type": "stream",
          "text": [
            "1\n",
            "hidden state shpe is: torch.Size([2, 110, 512])\n",
            "tensor([[ 0.0092, -0.0160,  0.0136, -0.0184,  0.0110,  0.0187, -0.0087,  0.0375,\n",
            "          0.0208, -0.0248],\n",
            "        [ 0.0092, -0.0160,  0.0136, -0.0183,  0.0109,  0.0187, -0.0086,  0.0375,\n",
            "          0.0209, -0.0249],\n",
            "        [ 0.0091, -0.0159,  0.0136, -0.0182,  0.0109,  0.0186, -0.0085,  0.0375,\n",
            "          0.0210, -0.0252],\n",
            "        [ 0.0092, -0.0171,  0.0137, -0.0253,  0.0133,  0.0175, -0.0117,  0.0370,\n",
            "          0.0160, -0.0178],\n",
            "        [ 0.0093, -0.0162,  0.0137, -0.0197,  0.0115,  0.0186, -0.0094,  0.0374,\n",
            "          0.0198, -0.0235],\n",
            "        [ 0.0094, -0.0164,  0.0136, -0.0201,  0.0115,  0.0186, -0.0099,  0.0373,\n",
            "          0.0193, -0.0225],\n",
            "        [ 0.0092, -0.0170,  0.0136, -0.0243,  0.0129,  0.0178, -0.0115,  0.0370,\n",
            "          0.0165, -0.0186],\n",
            "        [ 0.0094, -0.0165,  0.0137, -0.0213,  0.0120,  0.0184, -0.0103,  0.0373,\n",
            "          0.0185, -0.0216],\n",
            "        [ 0.0095, -0.0169,  0.0135, -0.0221,  0.0120,  0.0184, -0.0108,  0.0368,\n",
            "          0.0179, -0.0201]], device='cuda:0', grad_fn=<SliceBackward>)\n"
          ],
          "name": "stdout"
        },
        {
          "output_type": "execute_result",
          "data": {
            "text/plain": [
              "tensor([[ 0.0084, -0.0026, -0.0193,  ...,  0.0112, -0.0078,  0.0069],\n",
              "        [ 0.0084, -0.0027, -0.0193,  ...,  0.0112, -0.0079,  0.0069],\n",
              "        [ 0.0084, -0.0027, -0.0193,  ...,  0.0112, -0.0079,  0.0069],\n",
              "        ...,\n",
              "        [ 0.0084, -0.0028, -0.0192,  ...,  0.0112, -0.0080,  0.0068],\n",
              "        [ 0.0084, -0.0028, -0.0192,  ...,  0.0112, -0.0080,  0.0068],\n",
              "        [ 0.0084, -0.0027, -0.0193,  ...,  0.0112, -0.0079,  0.0069]],\n",
              "       device='cuda:0', grad_fn=<AddmmBackward>)"
            ]
          },
          "metadata": {
            "tags": []
          },
          "execution_count": 10
        }
      ]
    },
    {
      "cell_type": "code",
      "metadata": {
        "colab": {
          "base_uri": "https://localhost:8080/",
          "height": 315
        },
        "id": "jAW7pDRfN7ZI",
        "outputId": "a8d7c292-8804-4eb4-980a-10046a6081c2"
      },
      "source": [
        "figure(num=None, figsize=(19, 6), dpi=80, facecolor='w', edgecolor='k')\n",
        "lstm.eval()\n",
        "valid = lstm(X_test.to(device)).cpu().detach().numpy()\n",
        "y = y_test\n",
        "\n",
        "\n",
        "# Inverse Normalize \n",
        "# valid = scaler.inverse_transform(valid)\n",
        "# y = scaler.inverse_transform(y)\n",
        "\n",
        "plt.plot(valid.reshape(1,-1)[0][:500])\n",
        "\n",
        "# plt.plot(y.reshape(1,-1)[0][:1000])\n",
        "\n",
        "plt.legend(['Prediction','Time Series'],fontsize = 21)\n"
      ],
      "execution_count": null,
      "outputs": [
        {
          "output_type": "execute_result",
          "data": {
            "text/plain": [
              "<matplotlib.legend.Legend at 0x7fe3e0028da0>"
            ]
          },
          "metadata": {
            "tags": []
          },
          "execution_count": 26
        },
        {
          "output_type": "display_data",
          "data": {
            "image/png": "[encoded data removed]",
            "text/plain": [
              "<Figure size 1520x480 with 1 Axes>"
            ]
          },
          "metadata": {
            "tags": []
          }
        }
      ]
    },
    {
      "cell_type": "code",
      "metadata": {
        "colab": {
          "base_uri": "https://localhost:8080/",
          "height": 420
        },
        "id": "OYwG70pD8yPT",
        "outputId": "24e68ed4-2cc6-4bf5-fa1d-061e68a07af0"
      },
      "source": [
        "# ######Prediction###############\n",
        "\n",
        "# dataX = Variable(torch.Tensor(df['TARGET'][-(144+96):-96].values))\n",
        "# dataY = Variable(torch.Tensor(df['TARGET'][-96:].values))\n",
        "# dataX = dataX.reshape(1,dataX.shape[0],1)\n",
        "\n",
        "\n",
        "# lstm.eval()\n",
        "# train_predict = lstm(dataX.to(device))\n",
        "# data_predict = train_predict.cpu().data.numpy()\n",
        "# dataY_plot = [dataY.data.numpy()]\n",
        "# # dates_list = range\n",
        "\n",
        "\n",
        "# # Inverse Normalize \n",
        "# data_predict = scaler.inverse_transform(data_predict)\n",
        "# dataY_plot = scaler.inverse_transform(dataY_plot)\n",
        "\n",
        "\n",
        "# print(data_predict.shape)\n",
        "# print(dataY_plot.shape)\n",
        "\n",
        "\n",
        "# ## Add dates\n",
        "# df_predict = pd.DataFrame(data_predict[0])\n",
        "# # df_predict = df_predict.set_index([dates_list[:-29]])\n",
        "# df_labels = pd.DataFrame(dataY_plot[0])\n",
        "# # df_labels = df_labels.set_index([dates_list[:-29]])\n",
        "\n",
        "# # Plot \n",
        "# figure(num=None, figsize=(19, 6), dpi=80, facecolor='w', edgecolor='k')\n",
        "# # plt.axvline(x=dates_list[train_size], c='r')\n",
        "# plt.plot(df_predict)\n",
        "# plt.plot(df_labels)\n",
        "# plt.legend(['Prediction','Time Series'],fontsize = 21)\n",
        "# plt.suptitle('Time-Series Prediction Entire Set',fontsize = 23)\n",
        "# plt.xticks(fontsize=21 )\n",
        "# plt.yticks(fontsize=21 )\n",
        "# plt.ylabel(ylabel = 'Target',fontsize = 21)\n",
        "# plt.xlabel(xlabel = 'Date',fontsize = 21)\n",
        "# plt.show()"
      ],
      "execution_count": null,
      "outputs": [
        {
          "output_type": "stream",
          "text": [
            "(1, 96)\n",
            "(1, 96)\n"
          ],
          "name": "stdout"
        },
        {
          "output_type": "display_data",
          "data": {
            "image/png": "[encoded data removed]",
            "text/plain": [
              "<Figure size 1520x480 with 1 Axes>"
            ]
          },
          "metadata": {
            "tags": []
          }
        }
      ]
    },
    {
      "cell_type": "markdown",
      "metadata": {
        "id": "6GKKOZAx_nBC"
      },
      "source": [
        "## submission"
      ]
    },
    {
      "cell_type": "code",
      "metadata": {
        "id": "gIZoHvL3_oAa"
      },
      "source": [
        "\n",
        "df_test = []\n",
        "submission = pd.read_csv(path+'sample_submission.csv')\n",
        "\n",
        "## 마지막 3일치만 가져오자\n",
        "def preprocess_data(day,data):\n",
        "\ttemp = data.copy()\n",
        "\treturn temp.iloc[day * -48:, -1]\n",
        "\n",
        "for i in range(81):\n",
        "  file_path = path+'test/' + str(i) + '.csv'\n",
        "  temp = pd.read_csv(file_path)\n",
        "  temp = preprocess_data(3,temp)\n",
        "  df_test.append(temp)\n",
        "\n",
        "# # normalize\n",
        "# data = np.array(df_test)\n",
        "# scaler = MinMaxScaler(feature_range=(-1, 1))\n",
        "# train_data_normalized = scaler.fit_transform(data)"
      ],
      "execution_count": null,
      "outputs": []
    },
    {
      "cell_type": "code",
      "metadata": {
        "id": "FtkD7gc4_6Si"
      },
      "source": [
        "\n",
        "outputs = []\n",
        "for i in range(81):\n",
        "  test = Variable(torch.Tensor(df_test[i].values))\n",
        "  output = lstm(test.reshape(1,144,1).to(device))\n",
        "  (output.cpu().detach().numpy()[0].reshape(-1, 1))\n",
        "  # scaler.inverse_transform(output.cpu().detach().numpy()[0].reshape(-1, 1))\n",
        "\n",
        "  outputs.append(output[0])\n",
        "\n",
        "submission[f'q_{quantile}'] = (torch.stack(outputs).reshape(-1).cpu().detach().numpy() )\n",
        "\n",
        "\n"
      ],
      "execution_count": null,
      "outputs": []
    },
    {
      "cell_type": "code",
      "metadata": {
        "id": "FzcJUbGlFtiM"
      },
      "source": [
        " submission[:48]"
      ],
      "execution_count": null,
      "outputs": []
    },
    {
      "cell_type": "markdown",
      "metadata": {
        "id": "kpAw_xlp4dfq"
      },
      "source": [
        "## 음수인거 0으로 치환\n",
        "\n",
        "5시 19시 사이만 값 갖게하자\n"
      ]
    },
    {
      "cell_type": "code",
      "metadata": {
        "id": "DlSlNLpGzHds"
      },
      "source": [
        "submission = pd.read_csv(SAVEPATH+'filename (18).csv')"
      ],
      "execution_count": null,
      "outputs": []
    },
    {
      "cell_type": "code",
      "metadata": {
        "id": "1RH17Jzfy018"
      },
      "source": [
        "for j in range(170):  \n",
        "  for i in range(11):\n",
        "    submission.iloc[48*j+i,1:] = 0\n",
        "    submission.iloc[48*j+37+i,1:] = 0"
      ],
      "execution_count": null,
      "outputs": []
    },
    {
      "cell_type": "code",
      "metadata": {
        "id": "OkgmooWqzLiD"
      },
      "source": [
        "submission[-50:]"
      ],
      "execution_count": null,
      "outputs": []
    },
    {
      "cell_type": "code",
      "metadata": {
        "id": "JBVgGfH4wxCX"
      },
      "source": [
        "temp = submission.iloc[:,1:]\n",
        "temp[temp < 0] = 0 \n"
      ],
      "execution_count": null,
      "outputs": []
    },
    {
      "cell_type": "code",
      "metadata": {
        "id": "m2zxxdx04NNw"
      },
      "source": [
        "submission.iloc[:,1:] = temp"
      ],
      "execution_count": null,
      "outputs": []
    },
    {
      "cell_type": "code",
      "metadata": {
        "colab": {
          "base_uri": "https://localhost:8080/",
          "height": 17
        },
        "id": "nlJSOjIp4cNs",
        "outputId": "ac34b30f-c0e4-44d8-b675-23aaa8aefb71"
      },
      "source": [
        "from google.colab import files\n",
        "submission.to_csv('filename.csv', index = False) \n",
        "files.download('filename.csv')"
      ],
      "execution_count": null,
      "outputs": [
        {
          "output_type": "display_data",
          "data": {
            "application/javascript": [
              "\n",
              "    async function download(id, filename, size) {\n",
              "      if (!google.colab.kernel.accessAllowed) {\n",
              "        return;\n",
              "      }\n",
              "      const div = document.createElement('div');\n",
              "      const label = document.createElement('label');\n",
              "      label.textContent = `Downloading \"${filename}\": `;\n",
              "      div.appendChild(label);\n",
              "      const progress = document.createElement('progress');\n",
              "      progress.max = size;\n",
              "      div.appendChild(progress);\n",
              "      document.body.appendChild(div);\n",
              "\n",
              "      const buffers = [];\n",
              "      let downloaded = 0;\n",
              "\n",
              "      const channel = await google.colab.kernel.comms.open(id);\n",
              "      // Send a message to notify the kernel that we're ready.\n",
              "      channel.send({})\n",
              "\n",
              "      for await (const message of channel.messages) {\n",
              "        // Send a message to notify the kernel that we're ready.\n",
              "        channel.send({})\n",
              "        if (message.buffers) {\n",
              "          for (const buffer of message.buffers) {\n",
              "            buffers.push(buffer);\n",
              "            downloaded += buffer.byteLength;\n",
              "            progress.value = downloaded;\n",
              "          }\n",
              "        }\n",
              "      }\n",
              "      const blob = new Blob(buffers, {type: 'application/binary'});\n",
              "      const a = document.createElement('a');\n",
              "      a.href = window.URL.createObjectURL(blob);\n",
              "      a.download = filename;\n",
              "      div.appendChild(a);\n",
              "      a.click();\n",
              "      div.remove();\n",
              "    }\n",
              "  "
            ],
            "text/plain": [
              "<IPython.core.display.Javascript object>"
            ]
          },
          "metadata": {
            "tags": []
          }
        },
        {
          "output_type": "display_data",
          "data": {
            "application/javascript": [
              "download(\"download_87f21170-923b-46ae-a06d-c98b9435c0b4\", \"filename.csv\", 708115)"
            ],
            "text/plain": [
              "<IPython.core.display.Javascript object>"
            ]
          },
          "metadata": {
            "tags": []
          }
        }
      ]
    },
    {
      "cell_type": "markdown",
      "metadata": {
        "id": "mRphgk8rnU7b"
      },
      "source": [
        "0치환전에 2.88\n",
        "0으로 바꾸니까 2.27981\n"
      ]
    },
    {
      "cell_type": "code",
      "metadata": {
        "id": "mx9ruFHA4fxM",
        "colab": {
          "base_uri": "https://localhost:8080/",
          "height": 1000
        },
        "outputId": "363564ca-addd-46df-c357-8ae33d8a1a3c"
      },
      "source": [
        "submission[:50]"
      ],
      "execution_count": null,
      "outputs": [
        {
          "output_type": "execute_result",
          "data": {
            "text/html": [
              "<div>\n",
              "<style scoped>\n",
              "    .dataframe tbody tr th:only-of-type {\n",
              "        vertical-align: middle;\n",
              "    }\n",
              "\n",
              "    .dataframe tbody tr th {\n",
              "        vertical-align: top;\n",
              "    }\n",
              "\n",
              "    .dataframe thead th {\n",
              "        text-align: right;\n",
              "    }\n",
              "</style>\n",
              "<table border=\"1\" class=\"dataframe\">\n",
              "  <thead>\n",
              "    <tr style=\"text-align: right;\">\n",
              "      <th></th>\n",
              "      <th>id</th>\n",
              "      <th>q_0.1</th>\n",
              "      <th>q_0.2</th>\n",
              "      <th>q_0.3</th>\n",
              "      <th>q_0.4</th>\n",
              "      <th>q_0.5</th>\n",
              "      <th>q_0.6</th>\n",
              "      <th>q_0.7</th>\n",
              "      <th>q_0.8</th>\n",
              "      <th>q_0.9</th>\n",
              "    </tr>\n",
              "  </thead>\n",
              "  <tbody>\n",
              "    <tr>\n",
              "      <th>0</th>\n",
              "      <td>0.csv_Day7_0h00m</td>\n",
              "      <td>0.000000</td>\n",
              "      <td>0.000000</td>\n",
              "      <td>0.000000</td>\n",
              "      <td>0.000000</td>\n",
              "      <td>0.000000</td>\n",
              "      <td>0.000000</td>\n",
              "      <td>0.000000</td>\n",
              "      <td>0.000000</td>\n",
              "      <td>0.000000</td>\n",
              "    </tr>\n",
              "    <tr>\n",
              "      <th>1</th>\n",
              "      <td>0.csv_Day7_0h30m</td>\n",
              "      <td>0.000000</td>\n",
              "      <td>0.000000</td>\n",
              "      <td>0.000000</td>\n",
              "      <td>0.000000</td>\n",
              "      <td>0.000000</td>\n",
              "      <td>0.000000</td>\n",
              "      <td>0.000000</td>\n",
              "      <td>0.000000</td>\n",
              "      <td>0.000000</td>\n",
              "    </tr>\n",
              "    <tr>\n",
              "      <th>2</th>\n",
              "      <td>0.csv_Day7_1h00m</td>\n",
              "      <td>0.000000</td>\n",
              "      <td>0.000000</td>\n",
              "      <td>0.000000</td>\n",
              "      <td>0.000000</td>\n",
              "      <td>0.000000</td>\n",
              "      <td>0.000000</td>\n",
              "      <td>0.000000</td>\n",
              "      <td>0.000000</td>\n",
              "      <td>0.000000</td>\n",
              "    </tr>\n",
              "    <tr>\n",
              "      <th>3</th>\n",
              "      <td>0.csv_Day7_1h30m</td>\n",
              "      <td>0.000000</td>\n",
              "      <td>0.000000</td>\n",
              "      <td>0.000000</td>\n",
              "      <td>0.000000</td>\n",
              "      <td>0.000000</td>\n",
              "      <td>0.000000</td>\n",
              "      <td>0.000000</td>\n",
              "      <td>0.000000</td>\n",
              "      <td>0.000000</td>\n",
              "    </tr>\n",
              "    <tr>\n",
              "      <th>4</th>\n",
              "      <td>0.csv_Day7_2h00m</td>\n",
              "      <td>0.000000</td>\n",
              "      <td>0.000000</td>\n",
              "      <td>0.000000</td>\n",
              "      <td>0.000000</td>\n",
              "      <td>0.000000</td>\n",
              "      <td>0.000000</td>\n",
              "      <td>0.000000</td>\n",
              "      <td>0.000000</td>\n",
              "      <td>0.000000</td>\n",
              "    </tr>\n",
              "    <tr>\n",
              "      <th>5</th>\n",
              "      <td>0.csv_Day7_2h30m</td>\n",
              "      <td>0.000000</td>\n",
              "      <td>0.000000</td>\n",
              "      <td>0.000000</td>\n",
              "      <td>0.000000</td>\n",
              "      <td>0.000000</td>\n",
              "      <td>0.000000</td>\n",
              "      <td>0.000000</td>\n",
              "      <td>0.000000</td>\n",
              "      <td>0.000000</td>\n",
              "    </tr>\n",
              "    <tr>\n",
              "      <th>6</th>\n",
              "      <td>0.csv_Day7_3h00m</td>\n",
              "      <td>0.000000</td>\n",
              "      <td>0.000000</td>\n",
              "      <td>0.000000</td>\n",
              "      <td>0.000000</td>\n",
              "      <td>0.000000</td>\n",
              "      <td>0.000000</td>\n",
              "      <td>0.000000</td>\n",
              "      <td>0.000000</td>\n",
              "      <td>0.000000</td>\n",
              "    </tr>\n",
              "    <tr>\n",
              "      <th>7</th>\n",
              "      <td>0.csv_Day7_3h30m</td>\n",
              "      <td>0.000000</td>\n",
              "      <td>0.000000</td>\n",
              "      <td>0.000000</td>\n",
              "      <td>0.000000</td>\n",
              "      <td>0.000000</td>\n",
              "      <td>0.000000</td>\n",
              "      <td>0.000000</td>\n",
              "      <td>0.000000</td>\n",
              "      <td>0.000000</td>\n",
              "    </tr>\n",
              "    <tr>\n",
              "      <th>8</th>\n",
              "      <td>0.csv_Day7_4h00m</td>\n",
              "      <td>0.000000</td>\n",
              "      <td>0.000000</td>\n",
              "      <td>0.000000</td>\n",
              "      <td>0.000000</td>\n",
              "      <td>0.000000</td>\n",
              "      <td>0.000000</td>\n",
              "      <td>0.000000</td>\n",
              "      <td>0.000000</td>\n",
              "      <td>0.000000</td>\n",
              "    </tr>\n",
              "    <tr>\n",
              "      <th>9</th>\n",
              "      <td>0.csv_Day7_4h30m</td>\n",
              "      <td>0.000000</td>\n",
              "      <td>0.000000</td>\n",
              "      <td>0.000000</td>\n",
              "      <td>0.000000</td>\n",
              "      <td>0.000000</td>\n",
              "      <td>0.000000</td>\n",
              "      <td>0.000000</td>\n",
              "      <td>0.000000</td>\n",
              "      <td>0.000000</td>\n",
              "    </tr>\n",
              "    <tr>\n",
              "      <th>10</th>\n",
              "      <td>0.csv_Day7_5h00m</td>\n",
              "      <td>0.000000</td>\n",
              "      <td>0.000000</td>\n",
              "      <td>0.000000</td>\n",
              "      <td>0.000000</td>\n",
              "      <td>0.000000</td>\n",
              "      <td>0.000000</td>\n",
              "      <td>0.000000</td>\n",
              "      <td>0.000000</td>\n",
              "      <td>0.000000</td>\n",
              "    </tr>\n",
              "    <tr>\n",
              "      <th>11</th>\n",
              "      <td>0.csv_Day7_5h30m</td>\n",
              "      <td>0.000000</td>\n",
              "      <td>0.000000</td>\n",
              "      <td>0.000000</td>\n",
              "      <td>0.000000</td>\n",
              "      <td>0.000000</td>\n",
              "      <td>0.000000</td>\n",
              "      <td>0.156742</td>\n",
              "      <td>0.016642</td>\n",
              "      <td>0.000000</td>\n",
              "    </tr>\n",
              "    <tr>\n",
              "      <th>12</th>\n",
              "      <td>0.csv_Day7_6h00m</td>\n",
              "      <td>0.000000</td>\n",
              "      <td>0.000000</td>\n",
              "      <td>0.000000</td>\n",
              "      <td>0.000000</td>\n",
              "      <td>0.000000</td>\n",
              "      <td>0.000000</td>\n",
              "      <td>0.074506</td>\n",
              "      <td>0.015573</td>\n",
              "      <td>0.000000</td>\n",
              "    </tr>\n",
              "    <tr>\n",
              "      <th>13</th>\n",
              "      <td>0.csv_Day7_6h30m</td>\n",
              "      <td>0.000000</td>\n",
              "      <td>0.000000</td>\n",
              "      <td>0.000000</td>\n",
              "      <td>0.000000</td>\n",
              "      <td>0.000000</td>\n",
              "      <td>0.000000</td>\n",
              "      <td>0.115447</td>\n",
              "      <td>0.039893</td>\n",
              "      <td>0.000000</td>\n",
              "    </tr>\n",
              "    <tr>\n",
              "      <th>14</th>\n",
              "      <td>0.csv_Day7_7h00m</td>\n",
              "      <td>0.000000</td>\n",
              "      <td>0.000000</td>\n",
              "      <td>0.000000</td>\n",
              "      <td>0.000000</td>\n",
              "      <td>0.000000</td>\n",
              "      <td>0.000000</td>\n",
              "      <td>0.268126</td>\n",
              "      <td>0.036806</td>\n",
              "      <td>4.514423</td>\n",
              "    </tr>\n",
              "    <tr>\n",
              "      <th>15</th>\n",
              "      <td>0.csv_Day7_7h30m</td>\n",
              "      <td>0.000000</td>\n",
              "      <td>0.011432</td>\n",
              "      <td>1.590174</td>\n",
              "      <td>0.043901</td>\n",
              "      <td>2.605315</td>\n",
              "      <td>5.503511</td>\n",
              "      <td>2.707317</td>\n",
              "      <td>3.195742</td>\n",
              "      <td>10.032040</td>\n",
              "    </tr>\n",
              "    <tr>\n",
              "      <th>16</th>\n",
              "      <td>0.csv_Day7_8h00m</td>\n",
              "      <td>4.030837</td>\n",
              "      <td>5.798391</td>\n",
              "      <td>7.806082</td>\n",
              "      <td>6.396377</td>\n",
              "      <td>8.446549</td>\n",
              "      <td>12.086570</td>\n",
              "      <td>9.818316</td>\n",
              "      <td>10.286122</td>\n",
              "      <td>17.298742</td>\n",
              "    </tr>\n",
              "    <tr>\n",
              "      <th>17</th>\n",
              "      <td>0.csv_Day7_8h30m</td>\n",
              "      <td>6.464393</td>\n",
              "      <td>10.485875</td>\n",
              "      <td>14.818013</td>\n",
              "      <td>12.462799</td>\n",
              "      <td>15.866525</td>\n",
              "      <td>18.253014</td>\n",
              "      <td>17.220037</td>\n",
              "      <td>17.894238</td>\n",
              "      <td>23.639101</td>\n",
              "    </tr>\n",
              "    <tr>\n",
              "      <th>18</th>\n",
              "      <td>0.csv_Day7_9h00m</td>\n",
              "      <td>9.380474</td>\n",
              "      <td>15.681871</td>\n",
              "      <td>22.075157</td>\n",
              "      <td>19.100784</td>\n",
              "      <td>23.024954</td>\n",
              "      <td>25.266827</td>\n",
              "      <td>24.233665</td>\n",
              "      <td>24.993425</td>\n",
              "      <td>29.837729</td>\n",
              "    </tr>\n",
              "    <tr>\n",
              "      <th>19</th>\n",
              "      <td>0.csv_Day7_9h30m</td>\n",
              "      <td>12.377791</td>\n",
              "      <td>18.992100</td>\n",
              "      <td>27.360296</td>\n",
              "      <td>25.639656</td>\n",
              "      <td>29.457815</td>\n",
              "      <td>30.099976</td>\n",
              "      <td>30.921127</td>\n",
              "      <td>31.631380</td>\n",
              "      <td>36.068375</td>\n",
              "    </tr>\n",
              "    <tr>\n",
              "      <th>20</th>\n",
              "      <td>0.csv_Day7_10h00m</td>\n",
              "      <td>15.036632</td>\n",
              "      <td>23.020310</td>\n",
              "      <td>31.004234</td>\n",
              "      <td>30.956245</td>\n",
              "      <td>35.050083</td>\n",
              "      <td>35.579144</td>\n",
              "      <td>36.838450</td>\n",
              "      <td>37.478070</td>\n",
              "      <td>41.402843</td>\n",
              "    </tr>\n",
              "    <tr>\n",
              "      <th>21</th>\n",
              "      <td>0.csv_Day7_10h30m</td>\n",
              "      <td>14.937630</td>\n",
              "      <td>24.151506</td>\n",
              "      <td>33.675198</td>\n",
              "      <td>35.203210</td>\n",
              "      <td>39.423157</td>\n",
              "      <td>39.334805</td>\n",
              "      <td>41.595383</td>\n",
              "      <td>41.898870</td>\n",
              "      <td>44.902035</td>\n",
              "    </tr>\n",
              "    <tr>\n",
              "      <th>22</th>\n",
              "      <td>0.csv_Day7_11h00m</td>\n",
              "      <td>17.296570</td>\n",
              "      <td>25.136063</td>\n",
              "      <td>36.585453</td>\n",
              "      <td>38.766120</td>\n",
              "      <td>42.703530</td>\n",
              "      <td>43.088330</td>\n",
              "      <td>45.224010</td>\n",
              "      <td>45.449520</td>\n",
              "      <td>48.465942</td>\n",
              "    </tr>\n",
              "    <tr>\n",
              "      <th>23</th>\n",
              "      <td>0.csv_Day7_11h30m</td>\n",
              "      <td>17.596333</td>\n",
              "      <td>27.374104</td>\n",
              "      <td>37.644190</td>\n",
              "      <td>40.218190</td>\n",
              "      <td>43.491400</td>\n",
              "      <td>43.681644</td>\n",
              "      <td>46.807484</td>\n",
              "      <td>47.070683</td>\n",
              "      <td>49.785620</td>\n",
              "    </tr>\n",
              "    <tr>\n",
              "      <th>24</th>\n",
              "      <td>0.csv_Day7_12h00m</td>\n",
              "      <td>17.294132</td>\n",
              "      <td>26.128916</td>\n",
              "      <td>36.873270</td>\n",
              "      <td>40.984325</td>\n",
              "      <td>43.528206</td>\n",
              "      <td>43.904064</td>\n",
              "      <td>46.991016</td>\n",
              "      <td>47.504124</td>\n",
              "      <td>50.330097</td>\n",
              "    </tr>\n",
              "    <tr>\n",
              "      <th>25</th>\n",
              "      <td>0.csv_Day7_12h30m</td>\n",
              "      <td>17.211708</td>\n",
              "      <td>25.583883</td>\n",
              "      <td>34.690050</td>\n",
              "      <td>38.699783</td>\n",
              "      <td>42.315758</td>\n",
              "      <td>43.200600</td>\n",
              "      <td>46.304096</td>\n",
              "      <td>46.790207</td>\n",
              "      <td>48.844420</td>\n",
              "    </tr>\n",
              "    <tr>\n",
              "      <th>26</th>\n",
              "      <td>0.csv_Day7_13h00m</td>\n",
              "      <td>13.191748</td>\n",
              "      <td>23.265196</td>\n",
              "      <td>32.665640</td>\n",
              "      <td>36.374270</td>\n",
              "      <td>40.398426</td>\n",
              "      <td>41.135780</td>\n",
              "      <td>43.600850</td>\n",
              "      <td>44.292694</td>\n",
              "      <td>47.621870</td>\n",
              "    </tr>\n",
              "    <tr>\n",
              "      <th>27</th>\n",
              "      <td>0.csv_Day7_13h30m</td>\n",
              "      <td>13.200800</td>\n",
              "      <td>20.045970</td>\n",
              "      <td>29.291256</td>\n",
              "      <td>33.681946</td>\n",
              "      <td>36.882385</td>\n",
              "      <td>37.689693</td>\n",
              "      <td>39.876537</td>\n",
              "      <td>40.935986</td>\n",
              "      <td>44.677210</td>\n",
              "    </tr>\n",
              "    <tr>\n",
              "      <th>28</th>\n",
              "      <td>0.csv_Day7_14h00m</td>\n",
              "      <td>10.539217</td>\n",
              "      <td>18.876816</td>\n",
              "      <td>26.852633</td>\n",
              "      <td>30.467022</td>\n",
              "      <td>32.941570</td>\n",
              "      <td>33.921608</td>\n",
              "      <td>35.253826</td>\n",
              "      <td>36.336807</td>\n",
              "      <td>40.747930</td>\n",
              "    </tr>\n",
              "    <tr>\n",
              "      <th>29</th>\n",
              "      <td>0.csv_Day7_14h30m</td>\n",
              "      <td>9.498634</td>\n",
              "      <td>15.856735</td>\n",
              "      <td>22.976730</td>\n",
              "      <td>25.495646</td>\n",
              "      <td>28.412500</td>\n",
              "      <td>28.688995</td>\n",
              "      <td>29.569980</td>\n",
              "      <td>30.521233</td>\n",
              "      <td>35.706750</td>\n",
              "    </tr>\n",
              "    <tr>\n",
              "      <th>30</th>\n",
              "      <td>0.csv_Day7_15h00m</td>\n",
              "      <td>6.281549</td>\n",
              "      <td>11.943181</td>\n",
              "      <td>17.826440</td>\n",
              "      <td>19.956074</td>\n",
              "      <td>21.950733</td>\n",
              "      <td>22.805607</td>\n",
              "      <td>23.216057</td>\n",
              "      <td>23.981480</td>\n",
              "      <td>29.378270</td>\n",
              "    </tr>\n",
              "    <tr>\n",
              "      <th>31</th>\n",
              "      <td>0.csv_Day7_15h30m</td>\n",
              "      <td>5.219861</td>\n",
              "      <td>9.366996</td>\n",
              "      <td>12.896894</td>\n",
              "      <td>13.379281</td>\n",
              "      <td>14.920498</td>\n",
              "      <td>16.391891</td>\n",
              "      <td>16.288025</td>\n",
              "      <td>17.143679</td>\n",
              "      <td>22.615088</td>\n",
              "    </tr>\n",
              "    <tr>\n",
              "      <th>32</th>\n",
              "      <td>0.csv_Day7_16h00m</td>\n",
              "      <td>2.931879</td>\n",
              "      <td>4.943964</td>\n",
              "      <td>6.657937</td>\n",
              "      <td>6.432282</td>\n",
              "      <td>7.942073</td>\n",
              "      <td>9.964199</td>\n",
              "      <td>9.513328</td>\n",
              "      <td>9.936147</td>\n",
              "      <td>16.053642</td>\n",
              "    </tr>\n",
              "    <tr>\n",
              "      <th>33</th>\n",
              "      <td>0.csv_Day7_16h30m</td>\n",
              "      <td>0.000000</td>\n",
              "      <td>0.000000</td>\n",
              "      <td>0.915741</td>\n",
              "      <td>0.000000</td>\n",
              "      <td>2.159277</td>\n",
              "      <td>4.171272</td>\n",
              "      <td>3.011972</td>\n",
              "      <td>3.576943</td>\n",
              "      <td>8.626908</td>\n",
              "    </tr>\n",
              "    <tr>\n",
              "      <th>34</th>\n",
              "      <td>0.csv_Day7_17h00m</td>\n",
              "      <td>0.000000</td>\n",
              "      <td>0.000000</td>\n",
              "      <td>0.000000</td>\n",
              "      <td>0.000000</td>\n",
              "      <td>0.000000</td>\n",
              "      <td>0.000000</td>\n",
              "      <td>0.196840</td>\n",
              "      <td>0.035281</td>\n",
              "      <td>1.328553</td>\n",
              "    </tr>\n",
              "    <tr>\n",
              "      <th>35</th>\n",
              "      <td>0.csv_Day7_17h30m</td>\n",
              "      <td>0.000000</td>\n",
              "      <td>0.001292</td>\n",
              "      <td>0.000000</td>\n",
              "      <td>0.000916</td>\n",
              "      <td>0.000000</td>\n",
              "      <td>0.000000</td>\n",
              "      <td>0.124759</td>\n",
              "      <td>0.027488</td>\n",
              "      <td>0.000000</td>\n",
              "    </tr>\n",
              "    <tr>\n",
              "      <th>36</th>\n",
              "      <td>0.csv_Day7_18h00m</td>\n",
              "      <td>0.000000</td>\n",
              "      <td>0.000000</td>\n",
              "      <td>0.000000</td>\n",
              "      <td>0.000599</td>\n",
              "      <td>0.000000</td>\n",
              "      <td>0.000000</td>\n",
              "      <td>0.059107</td>\n",
              "      <td>0.016741</td>\n",
              "      <td>0.000000</td>\n",
              "    </tr>\n",
              "    <tr>\n",
              "      <th>37</th>\n",
              "      <td>0.csv_Day7_18h30m</td>\n",
              "      <td>0.000000</td>\n",
              "      <td>0.000000</td>\n",
              "      <td>0.000000</td>\n",
              "      <td>0.000000</td>\n",
              "      <td>0.000000</td>\n",
              "      <td>0.000000</td>\n",
              "      <td>0.000000</td>\n",
              "      <td>0.000000</td>\n",
              "      <td>0.000000</td>\n",
              "    </tr>\n",
              "    <tr>\n",
              "      <th>38</th>\n",
              "      <td>0.csv_Day7_19h00m</td>\n",
              "      <td>0.000000</td>\n",
              "      <td>0.000000</td>\n",
              "      <td>0.000000</td>\n",
              "      <td>0.000000</td>\n",
              "      <td>0.000000</td>\n",
              "      <td>0.000000</td>\n",
              "      <td>0.000000</td>\n",
              "      <td>0.000000</td>\n",
              "      <td>0.000000</td>\n",
              "    </tr>\n",
              "    <tr>\n",
              "      <th>39</th>\n",
              "      <td>0.csv_Day7_19h30m</td>\n",
              "      <td>0.000000</td>\n",
              "      <td>0.000000</td>\n",
              "      <td>0.000000</td>\n",
              "      <td>0.000000</td>\n",
              "      <td>0.000000</td>\n",
              "      <td>0.000000</td>\n",
              "      <td>0.000000</td>\n",
              "      <td>0.000000</td>\n",
              "      <td>0.000000</td>\n",
              "    </tr>\n",
              "    <tr>\n",
              "      <th>40</th>\n",
              "      <td>0.csv_Day7_20h00m</td>\n",
              "      <td>0.000000</td>\n",
              "      <td>0.000000</td>\n",
              "      <td>0.000000</td>\n",
              "      <td>0.000000</td>\n",
              "      <td>0.000000</td>\n",
              "      <td>0.000000</td>\n",
              "      <td>0.000000</td>\n",
              "      <td>0.000000</td>\n",
              "      <td>0.000000</td>\n",
              "    </tr>\n",
              "    <tr>\n",
              "      <th>41</th>\n",
              "      <td>0.csv_Day7_20h30m</td>\n",
              "      <td>0.000000</td>\n",
              "      <td>0.000000</td>\n",
              "      <td>0.000000</td>\n",
              "      <td>0.000000</td>\n",
              "      <td>0.000000</td>\n",
              "      <td>0.000000</td>\n",
              "      <td>0.000000</td>\n",
              "      <td>0.000000</td>\n",
              "      <td>0.000000</td>\n",
              "    </tr>\n",
              "    <tr>\n",
              "      <th>42</th>\n",
              "      <td>0.csv_Day7_21h00m</td>\n",
              "      <td>0.000000</td>\n",
              "      <td>0.000000</td>\n",
              "      <td>0.000000</td>\n",
              "      <td>0.000000</td>\n",
              "      <td>0.000000</td>\n",
              "      <td>0.000000</td>\n",
              "      <td>0.000000</td>\n",
              "      <td>0.000000</td>\n",
              "      <td>0.000000</td>\n",
              "    </tr>\n",
              "    <tr>\n",
              "      <th>43</th>\n",
              "      <td>0.csv_Day7_21h30m</td>\n",
              "      <td>0.000000</td>\n",
              "      <td>0.000000</td>\n",
              "      <td>0.000000</td>\n",
              "      <td>0.000000</td>\n",
              "      <td>0.000000</td>\n",
              "      <td>0.000000</td>\n",
              "      <td>0.000000</td>\n",
              "      <td>0.000000</td>\n",
              "      <td>0.000000</td>\n",
              "    </tr>\n",
              "    <tr>\n",
              "      <th>44</th>\n",
              "      <td>0.csv_Day7_22h00m</td>\n",
              "      <td>0.000000</td>\n",
              "      <td>0.000000</td>\n",
              "      <td>0.000000</td>\n",
              "      <td>0.000000</td>\n",
              "      <td>0.000000</td>\n",
              "      <td>0.000000</td>\n",
              "      <td>0.000000</td>\n",
              "      <td>0.000000</td>\n",
              "      <td>0.000000</td>\n",
              "    </tr>\n",
              "    <tr>\n",
              "      <th>45</th>\n",
              "      <td>0.csv_Day7_22h30m</td>\n",
              "      <td>0.000000</td>\n",
              "      <td>0.000000</td>\n",
              "      <td>0.000000</td>\n",
              "      <td>0.000000</td>\n",
              "      <td>0.000000</td>\n",
              "      <td>0.000000</td>\n",
              "      <td>0.000000</td>\n",
              "      <td>0.000000</td>\n",
              "      <td>0.000000</td>\n",
              "    </tr>\n",
              "    <tr>\n",
              "      <th>46</th>\n",
              "      <td>0.csv_Day7_23h00m</td>\n",
              "      <td>0.000000</td>\n",
              "      <td>0.000000</td>\n",
              "      <td>0.000000</td>\n",
              "      <td>0.000000</td>\n",
              "      <td>0.000000</td>\n",
              "      <td>0.000000</td>\n",
              "      <td>0.000000</td>\n",
              "      <td>0.000000</td>\n",
              "      <td>0.000000</td>\n",
              "    </tr>\n",
              "    <tr>\n",
              "      <th>47</th>\n",
              "      <td>0.csv_Day7_23h30m</td>\n",
              "      <td>0.000000</td>\n",
              "      <td>0.000000</td>\n",
              "      <td>0.000000</td>\n",
              "      <td>0.000000</td>\n",
              "      <td>0.000000</td>\n",
              "      <td>0.000000</td>\n",
              "      <td>0.000000</td>\n",
              "      <td>0.000000</td>\n",
              "      <td>0.000000</td>\n",
              "    </tr>\n",
              "    <tr>\n",
              "      <th>48</th>\n",
              "      <td>0.csv_Day8_0h00m</td>\n",
              "      <td>0.000000</td>\n",
              "      <td>0.000000</td>\n",
              "      <td>0.000000</td>\n",
              "      <td>0.000000</td>\n",
              "      <td>0.000000</td>\n",
              "      <td>0.000000</td>\n",
              "      <td>0.000000</td>\n",
              "      <td>0.000000</td>\n",
              "      <td>0.000000</td>\n",
              "    </tr>\n",
              "    <tr>\n",
              "      <th>49</th>\n",
              "      <td>0.csv_Day8_0h30m</td>\n",
              "      <td>0.000000</td>\n",
              "      <td>0.000000</td>\n",
              "      <td>0.000000</td>\n",
              "      <td>0.000000</td>\n",
              "      <td>0.000000</td>\n",
              "      <td>0.000000</td>\n",
              "      <td>0.000000</td>\n",
              "      <td>0.000000</td>\n",
              "      <td>0.000000</td>\n",
              "    </tr>\n",
              "  </tbody>\n",
              "</table>\n",
              "</div>"
            ],
            "text/plain": [
              "                   id      q_0.1      q_0.2  ...      q_0.7      q_0.8      q_0.9\n",
              "0    0.csv_Day7_0h00m   0.000000   0.000000  ...   0.000000   0.000000   0.000000\n",
              "1    0.csv_Day7_0h30m   0.000000   0.000000  ...   0.000000   0.000000   0.000000\n",
              "2    0.csv_Day7_1h00m   0.000000   0.000000  ...   0.000000   0.000000   0.000000\n",
              "3    0.csv_Day7_1h30m   0.000000   0.000000  ...   0.000000   0.000000   0.000000\n",
              "4    0.csv_Day7_2h00m   0.000000   0.000000  ...   0.000000   0.000000   0.000000\n",
              "5    0.csv_Day7_2h30m   0.000000   0.000000  ...   0.000000   0.000000   0.000000\n",
              "6    0.csv_Day7_3h00m   0.000000   0.000000  ...   0.000000   0.000000   0.000000\n",
              "7    0.csv_Day7_3h30m   0.000000   0.000000  ...   0.000000   0.000000   0.000000\n",
              "8    0.csv_Day7_4h00m   0.000000   0.000000  ...   0.000000   0.000000   0.000000\n",
              "9    0.csv_Day7_4h30m   0.000000   0.000000  ...   0.000000   0.000000   0.000000\n",
              "10   0.csv_Day7_5h00m   0.000000   0.000000  ...   0.000000   0.000000   0.000000\n",
              "11   0.csv_Day7_5h30m   0.000000   0.000000  ...   0.156742   0.016642   0.000000\n",
              "12   0.csv_Day7_6h00m   0.000000   0.000000  ...   0.074506   0.015573   0.000000\n",
              "13   0.csv_Day7_6h30m   0.000000   0.000000  ...   0.115447   0.039893   0.000000\n",
              "14   0.csv_Day7_7h00m   0.000000   0.000000  ...   0.268126   0.036806   4.514423\n",
              "15   0.csv_Day7_7h30m   0.000000   0.011432  ...   2.707317   3.195742  10.032040\n",
              "16   0.csv_Day7_8h00m   4.030837   5.798391  ...   9.818316  10.286122  17.298742\n",
              "17   0.csv_Day7_8h30m   6.464393  10.485875  ...  17.220037  17.894238  23.639101\n",
              "18   0.csv_Day7_9h00m   9.380474  15.681871  ...  24.233665  24.993425  29.837729\n",
              "19   0.csv_Day7_9h30m  12.377791  18.992100  ...  30.921127  31.631380  36.068375\n",
              "20  0.csv_Day7_10h00m  15.036632  23.020310  ...  36.838450  37.478070  41.402843\n",
              "21  0.csv_Day7_10h30m  14.937630  24.151506  ...  41.595383  41.898870  44.902035\n",
              "22  0.csv_Day7_11h00m  17.296570  25.136063  ...  45.224010  45.449520  48.465942\n",
              "23  0.csv_Day7_11h30m  17.596333  27.374104  ...  46.807484  47.070683  49.785620\n",
              "24  0.csv_Day7_12h00m  17.294132  26.128916  ...  46.991016  47.504124  50.330097\n",
              "25  0.csv_Day7_12h30m  17.211708  25.583883  ...  46.304096  46.790207  48.844420\n",
              "26  0.csv_Day7_13h00m  13.191748  23.265196  ...  43.600850  44.292694  47.621870\n",
              "27  0.csv_Day7_13h30m  13.200800  20.045970  ...  39.876537  40.935986  44.677210\n",
              "28  0.csv_Day7_14h00m  10.539217  18.876816  ...  35.253826  36.336807  40.747930\n",
              "29  0.csv_Day7_14h30m   9.498634  15.856735  ...  29.569980  30.521233  35.706750\n",
              "30  0.csv_Day7_15h00m   6.281549  11.943181  ...  23.216057  23.981480  29.378270\n",
              "31  0.csv_Day7_15h30m   5.219861   9.366996  ...  16.288025  17.143679  22.615088\n",
              "32  0.csv_Day7_16h00m   2.931879   4.943964  ...   9.513328   9.936147  16.053642\n",
              "33  0.csv_Day7_16h30m   0.000000   0.000000  ...   3.011972   3.576943   8.626908\n",
              "34  0.csv_Day7_17h00m   0.000000   0.000000  ...   0.196840   0.035281   1.328553\n",
              "35  0.csv_Day7_17h30m   0.000000   0.001292  ...   0.124759   0.027488   0.000000\n",
              "36  0.csv_Day7_18h00m   0.000000   0.000000  ...   0.059107   0.016741   0.000000\n",
              "37  0.csv_Day7_18h30m   0.000000   0.000000  ...   0.000000   0.000000   0.000000\n",
              "38  0.csv_Day7_19h00m   0.000000   0.000000  ...   0.000000   0.000000   0.000000\n",
              "39  0.csv_Day7_19h30m   0.000000   0.000000  ...   0.000000   0.000000   0.000000\n",
              "40  0.csv_Day7_20h00m   0.000000   0.000000  ...   0.000000   0.000000   0.000000\n",
              "41  0.csv_Day7_20h30m   0.000000   0.000000  ...   0.000000   0.000000   0.000000\n",
              "42  0.csv_Day7_21h00m   0.000000   0.000000  ...   0.000000   0.000000   0.000000\n",
              "43  0.csv_Day7_21h30m   0.000000   0.000000  ...   0.000000   0.000000   0.000000\n",
              "44  0.csv_Day7_22h00m   0.000000   0.000000  ...   0.000000   0.000000   0.000000\n",
              "45  0.csv_Day7_22h30m   0.000000   0.000000  ...   0.000000   0.000000   0.000000\n",
              "46  0.csv_Day7_23h00m   0.000000   0.000000  ...   0.000000   0.000000   0.000000\n",
              "47  0.csv_Day7_23h30m   0.000000   0.000000  ...   0.000000   0.000000   0.000000\n",
              "48   0.csv_Day8_0h00m   0.000000   0.000000  ...   0.000000   0.000000   0.000000\n",
              "49   0.csv_Day8_0h30m   0.000000   0.000000  ...   0.000000   0.000000   0.000000\n",
              "\n",
              "[50 rows x 10 columns]"
            ]
          },
          "metadata": {
            "tags": []
          },
          "execution_count": 87
        }
      ]
    }
  ]
}