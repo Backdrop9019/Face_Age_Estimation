{
  "nbformat": 4,
  "nbformat_minor": 0,
  "metadata": {
    "colab": {
      "name": "covid_lstm.ipynb",
      "provenance": [],
      "collapsed_sections": []
    },
    "kernelspec": {
      "name": "python3",
      "display_name": "Python 3"
    }
  },
  "cells": [
    {
      "cell_type": "markdown",
      "metadata": {
        "id": "zoQLKCYdN0rA"
      },
      "source": [
        "#Covid-19 Forecasting with an RNN\n",
        "\n",
        "https://www.kaggle.com/frlemarchand/covid-19-forecasting-with-an-rnn"
      ]
    },
    {
      "cell_type": "code",
      "metadata": {
        "id": "0BnTvN-9Nwlt"
      },
      "source": [
        "import numpy as np\n",
        "import pandas as pd\n",
        "import geopandas as gpd\n",
        "from shapely.geometry import Point\n",
        "import os\n",
        "import tensorflow as tf\n",
        "from tqdm import tqdm\n",
        "from sklearn.utils import shuffle\n",
        "from sklearn.metrics import mean_squared_log_error\n",
        "\n",
        "from datetime import datetime\n",
        "from datetime import timedelta\n",
        "\n",
        "from tensorflow.keras import layers\n",
        "from tensorflow.keras import Input\n",
        "from tensorflow.keras.models import Model\n",
        "from tensorflow.keras.callbacks import ModelCheckpoint, ReduceLROnPlateau, EarlyStopping\n",
        "\n",
        "import matplotlib.pyplot as plt\n",
        "import seaborn as sns\n",
        "sns.set()\n",
        "\n",
        "\n"
      ],
      "execution_count": null,
      "outputs": []
    },
    {
      "cell_type": "code",
      "metadata": {
        "colab": {
          "base_uri": "https://localhost:8080/"
        },
        "id": "dlNvM24tzze8",
        "outputId": "f4496707-d19b-4a27-f625-bc7b78f199c9"
      },
      "source": [
        "# pip install geopandas"
      ],
      "execution_count": null,
      "outputs": [
        {
          "output_type": "stream",
          "text": [
            "Collecting geopandas\n",
            "\u001b[?25l  Downloading https://files.pythonhosted.org/packages/f7/a4/e66aafbefcbb717813bf3a355c8c4fc3ed04ea1dd7feb2920f2f4f868921/geopandas-0.8.1-py2.py3-none-any.whl (962kB)\n",
            "\u001b[K     |████████████████████████████████| 972kB 9.5MB/s \n",
            "\u001b[?25hCollecting pyproj>=2.2.0\n",
            "\u001b[?25l  Downloading https://files.pythonhosted.org/packages/e4/ab/280e80a67cfc109d15428c0ec56391fc03a65857b7727cf4e6e6f99a4204/pyproj-3.0.0.post1-cp36-cp36m-manylinux2010_x86_64.whl (6.4MB)\n",
            "\u001b[K     |████████████████████████████████| 6.5MB 20.5MB/s \n",
            "\u001b[?25hCollecting fiona\n",
            "\u001b[?25l  Downloading https://files.pythonhosted.org/packages/37/94/4910fd55246c1d963727b03885ead6ef1cd3748a465f7b0239ab25dfc9a3/Fiona-1.8.18-cp36-cp36m-manylinux1_x86_64.whl (14.8MB)\n",
            "\u001b[K     |████████████████████████████████| 14.8MB 304kB/s \n",
            "\u001b[?25hRequirement already satisfied: pandas>=0.23.0 in /usr/local/lib/python3.6/dist-packages (from geopandas) (1.1.5)\n",
            "Requirement already satisfied: shapely in /usr/local/lib/python3.6/dist-packages (from geopandas) (1.7.1)\n",
            "Requirement already satisfied: certifi in /usr/local/lib/python3.6/dist-packages (from pyproj>=2.2.0->geopandas) (2020.12.5)\n",
            "Collecting cligj>=0.5\n",
            "  Downloading https://files.pythonhosted.org/packages/42/1e/947eadf10d6804bf276eb8a038bd5307996dceaaa41cfd21b7a15ec62f5d/cligj-0.7.1-py3-none-any.whl\n",
            "Requirement already satisfied: attrs>=17 in /usr/local/lib/python3.6/dist-packages (from fiona->geopandas) (20.3.0)\n",
            "Requirement already satisfied: click<8,>=4.0 in /usr/local/lib/python3.6/dist-packages (from fiona->geopandas) (7.1.2)\n",
            "Requirement already satisfied: six>=1.7 in /usr/local/lib/python3.6/dist-packages (from fiona->geopandas) (1.15.0)\n",
            "Collecting click-plugins>=1.0\n",
            "  Downloading https://files.pythonhosted.org/packages/e9/da/824b92d9942f4e472702488857914bdd50f73021efea15b4cad9aca8ecef/click_plugins-1.1.1-py2.py3-none-any.whl\n",
            "Collecting munch\n",
            "  Downloading https://files.pythonhosted.org/packages/cc/ab/85d8da5c9a45e072301beb37ad7f833cd344e04c817d97e0cc75681d248f/munch-2.5.0-py2.py3-none-any.whl\n",
            "Requirement already satisfied: python-dateutil>=2.7.3 in /usr/local/lib/python3.6/dist-packages (from pandas>=0.23.0->geopandas) (2.8.1)\n",
            "Requirement already satisfied: numpy>=1.15.4 in /usr/local/lib/python3.6/dist-packages (from pandas>=0.23.0->geopandas) (1.19.5)\n",
            "Requirement already satisfied: pytz>=2017.2 in /usr/local/lib/python3.6/dist-packages (from pandas>=0.23.0->geopandas) (2018.9)\n",
            "Installing collected packages: pyproj, cligj, click-plugins, munch, fiona, geopandas\n",
            "Successfully installed click-plugins-1.1.1 cligj-0.7.1 fiona-1.8.18 geopandas-0.8.1 munch-2.5.0 pyproj-3.0.0.post1\n"
          ],
          "name": "stdout"
        }
      ]
    },
    {
      "cell_type": "code",
      "metadata": {
        "colab": {
          "base_uri": "https://localhost:8080/"
        },
        "id": "jT9ajGKIz47_",
        "outputId": "59e2fd99-e094-4d4c-c024-056160266915"
      },
      "source": [
        "from google.colab import drive\n",
        "drive.mount('/content/drive')\n",
        "path = '/content/drive/My Drive/Colab Notebooks/data/'\n",
        "\n",
        "train_df = gpd.read_file(path+\"COVID19 Global Forecasting/train.csv\")\n"
      ],
      "execution_count": null,
      "outputs": [
        {
          "output_type": "stream",
          "text": [
            "Drive already mounted at /content/drive; to attempt to forcibly remount, call drive.mount(\"/content/drive\", force_remount=True).\n"
          ],
          "name": "stdout"
        },
        {
          "output_type": "stream",
          "text": [
            "/usr/local/lib/python3.6/dist-packages/geopandas/geodataframe.py:422: RuntimeWarning: Sequential read of iterator was interrupted. Resetting iterator. This can negatively impact the performance.\n",
            "  for feature in features_lst:\n"
          ],
          "name": "stderr"
        }
      ]
    },
    {
      "cell_type": "code",
      "metadata": {
        "colab": {
          "base_uri": "https://localhost:8080/"
        },
        "id": "b9R3J9bw0tim",
        "outputId": "814591a6-a9ae-4db2-95d0-88be9d6bf487"
      },
      "source": [
        "train_df.info()\n"
      ],
      "execution_count": null,
      "outputs": [
        {
          "output_type": "stream",
          "text": [
            "<class 'geopandas.geodataframe.GeoDataFrame'>\n",
            "RangeIndex: 35995 entries, 0 to 35994\n",
            "Data columns (total 7 columns):\n",
            " #   Column          Non-Null Count  Dtype   \n",
            "---  ------          --------------  -----   \n",
            " 0   Id              35995 non-null  object  \n",
            " 1   Province_State  35995 non-null  object  \n",
            " 2   Country_Region  35995 non-null  object  \n",
            " 3   Date            35995 non-null  object  \n",
            " 4   ConfirmedCases  35995 non-null  object  \n",
            " 5   Fatalities      35995 non-null  object  \n",
            " 6   geometry        0 non-null      geometry\n",
            "dtypes: geometry(1), object(6)\n",
            "memory usage: 1.9+ MB\n"
          ],
          "name": "stdout"
        }
      ]
    },
    {
      "cell_type": "code",
      "metadata": {
        "colab": {
          "base_uri": "https://localhost:8080/"
        },
        "id": "dzSjY6Je1MDz",
        "outputId": "8fb250d1-e7b2-4dda-a52d-e19902952ab9"
      },
      "source": [
        "\n",
        "train_df[\"ConfirmedCases\"] = train_df[\"ConfirmedCases\"].astype(\"float\")\n",
        "train_df[\"Fatalities\"] = train_df[\"Fatalities\"].astype(\"float\")\n",
        "#The country_region got modified in the enriched dataset by @optimo, \n",
        "# so we have to apply the same change to this Dataframe to facilitate the merge.\n",
        "train_df[\"Country_Region\"] = [ row.Country_Region.replace(\"'\",\"\").strip(\" \")  if row.Province_State==\"\" else str(row.Country_Region+\"_\"+row.Province_State).replace(\"'\",\"\").strip(\" \") for idx,row in train_df.iterrows()]\n",
        "train_df.info()"
      ],
      "execution_count": null,
      "outputs": [
        {
          "output_type": "stream",
          "text": [
            "<class 'geopandas.geodataframe.GeoDataFrame'>\n",
            "RangeIndex: 35995 entries, 0 to 35994\n",
            "Data columns (total 7 columns):\n",
            " #   Column          Non-Null Count  Dtype   \n",
            "---  ------          --------------  -----   \n",
            " 0   Id              35995 non-null  object  \n",
            " 1   Province_State  35995 non-null  object  \n",
            " 2   Country_Region  35995 non-null  object  \n",
            " 3   Date            35995 non-null  object  \n",
            " 4   ConfirmedCases  35995 non-null  float64 \n",
            " 5   Fatalities      35995 non-null  float64 \n",
            " 6   geometry        0 non-null      geometry\n",
            "dtypes: float64(2), geometry(1), object(4)\n",
            "memory usage: 1.9+ MB\n"
          ],
          "name": "stdout"
        }
      ]
    },
    {
      "cell_type": "code",
      "metadata": {
        "colab": {
          "base_uri": "https://localhost:8080/",
          "height": 334
        },
        "id": "gQK-WJ9J1ih8",
        "outputId": "137722c6-4142-47a0-8501-f1246c37e04e"
      },
      "source": [
        "#3/25일까지 추가 정보\n",
        "\n",
        "extra_data_df = gpd.read_file(path+\"COVID19 Global Forecasting/enriched_covid_19_week_2.csv\")\n",
        "extra_data_df[\"Country_Region\"] = [country_name.replace(\"'\",\"\") for country_name in extra_data_df[\"Country_Region\"]]\n",
        "extra_data_df[\"restrictions\"] = extra_data_df[\"restrictions\"].astype(\"int\")\n",
        "extra_data_df[\"quarantine\"] = extra_data_df[\"quarantine\"].astype(\"int\")\n",
        "extra_data_df[\"schools\"] = extra_data_df[\"schools\"].astype(\"int\")\n",
        "extra_data_df[\"total_pop\"] = extra_data_df[\"total_pop\"].astype(\"float\")\n",
        "extra_data_df[\"density\"] = extra_data_df[\"density\"].astype(\"float\")\n",
        "extra_data_df[\"hospibed\"] = extra_data_df[\"hospibed\"].astype(\"float\")\n",
        "extra_data_df[\"lung\"] = extra_data_df[\"lung\"].astype(\"float\")\n",
        "extra_data_df[\"total_pop\"] = extra_data_df[\"total_pop\"]/max(extra_data_df[\"total_pop\"])\n",
        "extra_data_df[\"density\"] = extra_data_df[\"density\"]/max(extra_data_df[\"density\"])\n",
        "extra_data_df[\"hospibed\"] = extra_data_df[\"hospibed\"]/max(extra_data_df[\"hospibed\"])\n",
        "extra_data_df[\"lung\"] = extra_data_df[\"lung\"]/max(extra_data_df[\"lung\"])\n",
        "extra_data_df[\"age_100+\"] = extra_data_df[\"age_100+\"].astype(\"float\")\n",
        "extra_data_df[\"age_100+\"] = extra_data_df[\"age_100+\"]/max(extra_data_df[\"age_100+\"])\n",
        "\n",
        "extra_data_df = extra_data_df[[\"Country_Region\",\"Date\",\"restrictions\",\"quarantine\",\"schools\",\"hospibed\",\"lung\",\"total_pop\",\"density\",\"age_100+\"]]\n",
        "extra_data_df.head()"
      ],
      "execution_count": null,
      "outputs": [
        {
          "output_type": "stream",
          "text": [
            "/usr/local/lib/python3.6/dist-packages/geopandas/geodataframe.py:422: RuntimeWarning: Sequential read of iterator was interrupted. Resetting iterator. This can negatively impact the performance.\n",
            "  for feature in features_lst:\n"
          ],
          "name": "stderr"
        },
        {
          "output_type": "execute_result",
          "data": {
            "text/html": [
              "<div>\n",
              "<style scoped>\n",
              "    .dataframe tbody tr th:only-of-type {\n",
              "        vertical-align: middle;\n",
              "    }\n",
              "\n",
              "    .dataframe tbody tr th {\n",
              "        vertical-align: top;\n",
              "    }\n",
              "\n",
              "    .dataframe thead th {\n",
              "        text-align: right;\n",
              "    }\n",
              "</style>\n",
              "<table border=\"1\" class=\"dataframe\">\n",
              "  <thead>\n",
              "    <tr style=\"text-align: right;\">\n",
              "      <th></th>\n",
              "      <th>Country_Region</th>\n",
              "      <th>Date</th>\n",
              "      <th>restrictions</th>\n",
              "      <th>quarantine</th>\n",
              "      <th>schools</th>\n",
              "      <th>hospibed</th>\n",
              "      <th>lung</th>\n",
              "      <th>total_pop</th>\n",
              "      <th>density</th>\n",
              "      <th>age_100+</th>\n",
              "    </tr>\n",
              "  </thead>\n",
              "  <tbody>\n",
              "    <tr>\n",
              "      <th>0</th>\n",
              "      <td>Afghanistan</td>\n",
              "      <td>2020-01-22</td>\n",
              "      <td>0</td>\n",
              "      <td>0</td>\n",
              "      <td>0</td>\n",
              "      <td>0.036232</td>\n",
              "      <td>0.329191</td>\n",
              "      <td>0.027046</td>\n",
              "      <td>0.002278</td>\n",
              "      <td>0.001411</td>\n",
              "    </tr>\n",
              "    <tr>\n",
              "      <th>1</th>\n",
              "      <td>Afghanistan</td>\n",
              "      <td>2020-01-23</td>\n",
              "      <td>0</td>\n",
              "      <td>0</td>\n",
              "      <td>0</td>\n",
              "      <td>0.036232</td>\n",
              "      <td>0.329191</td>\n",
              "      <td>0.027046</td>\n",
              "      <td>0.002278</td>\n",
              "      <td>0.001411</td>\n",
              "    </tr>\n",
              "    <tr>\n",
              "      <th>2</th>\n",
              "      <td>Afghanistan</td>\n",
              "      <td>2020-01-24</td>\n",
              "      <td>0</td>\n",
              "      <td>0</td>\n",
              "      <td>0</td>\n",
              "      <td>0.036232</td>\n",
              "      <td>0.329191</td>\n",
              "      <td>0.027046</td>\n",
              "      <td>0.002278</td>\n",
              "      <td>0.001411</td>\n",
              "    </tr>\n",
              "    <tr>\n",
              "      <th>3</th>\n",
              "      <td>Afghanistan</td>\n",
              "      <td>2020-01-25</td>\n",
              "      <td>0</td>\n",
              "      <td>0</td>\n",
              "      <td>0</td>\n",
              "      <td>0.036232</td>\n",
              "      <td>0.329191</td>\n",
              "      <td>0.027046</td>\n",
              "      <td>0.002278</td>\n",
              "      <td>0.001411</td>\n",
              "    </tr>\n",
              "    <tr>\n",
              "      <th>4</th>\n",
              "      <td>Afghanistan</td>\n",
              "      <td>2020-01-26</td>\n",
              "      <td>0</td>\n",
              "      <td>0</td>\n",
              "      <td>0</td>\n",
              "      <td>0.036232</td>\n",
              "      <td>0.329191</td>\n",
              "      <td>0.027046</td>\n",
              "      <td>0.002278</td>\n",
              "      <td>0.001411</td>\n",
              "    </tr>\n",
              "  </tbody>\n",
              "</table>\n",
              "</div>"
            ],
            "text/plain": [
              "  Country_Region        Date  restrictions  ...  total_pop   density  age_100+\n",
              "0    Afghanistan  2020-01-22             0  ...   0.027046  0.002278  0.001411\n",
              "1    Afghanistan  2020-01-23             0  ...   0.027046  0.002278  0.001411\n",
              "2    Afghanistan  2020-01-24             0  ...   0.027046  0.002278  0.001411\n",
              "3    Afghanistan  2020-01-25             0  ...   0.027046  0.002278  0.001411\n",
              "4    Afghanistan  2020-01-26             0  ...   0.027046  0.002278  0.001411\n",
              "\n",
              "[5 rows x 10 columns]"
            ]
          },
          "metadata": {
            "tags": []
          },
          "execution_count": 61
        }
      ]
    },
    {
      "cell_type": "code",
      "metadata": {
        "colab": {
          "base_uri": "https://localhost:8080/",
          "height": 299
        },
        "id": "lbCCL9wT594j",
        "outputId": "e4ade6e1-f142-48d3-cef1-5c204159595d"
      },
      "source": [
        "train_df = train_df.merge(extra_data_df, how=\"left\", on=['Country_Region','Date']).drop_duplicates()\n",
        "train_df.head()"
      ],
      "execution_count": null,
      "outputs": [
        {
          "output_type": "execute_result",
          "data": {
            "text/html": [
              "<div>\n",
              "<style scoped>\n",
              "    .dataframe tbody tr th:only-of-type {\n",
              "        vertical-align: middle;\n",
              "    }\n",
              "\n",
              "    .dataframe tbody tr th {\n",
              "        vertical-align: top;\n",
              "    }\n",
              "\n",
              "    .dataframe thead th {\n",
              "        text-align: right;\n",
              "    }\n",
              "</style>\n",
              "<table border=\"1\" class=\"dataframe\">\n",
              "  <thead>\n",
              "    <tr style=\"text-align: right;\">\n",
              "      <th></th>\n",
              "      <th>Id</th>\n",
              "      <th>Province_State</th>\n",
              "      <th>Country_Region</th>\n",
              "      <th>Date</th>\n",
              "      <th>ConfirmedCases</th>\n",
              "      <th>Fatalities</th>\n",
              "      <th>geometry</th>\n",
              "      <th>restrictions</th>\n",
              "      <th>quarantine</th>\n",
              "      <th>schools</th>\n",
              "      <th>hospibed</th>\n",
              "      <th>lung</th>\n",
              "      <th>total_pop</th>\n",
              "      <th>density</th>\n",
              "      <th>age_100+</th>\n",
              "    </tr>\n",
              "  </thead>\n",
              "  <tbody>\n",
              "    <tr>\n",
              "      <th>0</th>\n",
              "      <td>1</td>\n",
              "      <td></td>\n",
              "      <td>Afghanistan</td>\n",
              "      <td>2020-01-22</td>\n",
              "      <td>0.0</td>\n",
              "      <td>0.0</td>\n",
              "      <td>None</td>\n",
              "      <td>0.0</td>\n",
              "      <td>0.0</td>\n",
              "      <td>0.0</td>\n",
              "      <td>0.036232</td>\n",
              "      <td>0.329191</td>\n",
              "      <td>0.027046</td>\n",
              "      <td>0.002278</td>\n",
              "      <td>0.001411</td>\n",
              "    </tr>\n",
              "    <tr>\n",
              "      <th>1</th>\n",
              "      <td>2</td>\n",
              "      <td></td>\n",
              "      <td>Afghanistan</td>\n",
              "      <td>2020-01-23</td>\n",
              "      <td>0.0</td>\n",
              "      <td>0.0</td>\n",
              "      <td>None</td>\n",
              "      <td>0.0</td>\n",
              "      <td>0.0</td>\n",
              "      <td>0.0</td>\n",
              "      <td>0.036232</td>\n",
              "      <td>0.329191</td>\n",
              "      <td>0.027046</td>\n",
              "      <td>0.002278</td>\n",
              "      <td>0.001411</td>\n",
              "    </tr>\n",
              "    <tr>\n",
              "      <th>2</th>\n",
              "      <td>3</td>\n",
              "      <td></td>\n",
              "      <td>Afghanistan</td>\n",
              "      <td>2020-01-24</td>\n",
              "      <td>0.0</td>\n",
              "      <td>0.0</td>\n",
              "      <td>None</td>\n",
              "      <td>0.0</td>\n",
              "      <td>0.0</td>\n",
              "      <td>0.0</td>\n",
              "      <td>0.036232</td>\n",
              "      <td>0.329191</td>\n",
              "      <td>0.027046</td>\n",
              "      <td>0.002278</td>\n",
              "      <td>0.001411</td>\n",
              "    </tr>\n",
              "    <tr>\n",
              "      <th>3</th>\n",
              "      <td>4</td>\n",
              "      <td></td>\n",
              "      <td>Afghanistan</td>\n",
              "      <td>2020-01-25</td>\n",
              "      <td>0.0</td>\n",
              "      <td>0.0</td>\n",
              "      <td>None</td>\n",
              "      <td>0.0</td>\n",
              "      <td>0.0</td>\n",
              "      <td>0.0</td>\n",
              "      <td>0.036232</td>\n",
              "      <td>0.329191</td>\n",
              "      <td>0.027046</td>\n",
              "      <td>0.002278</td>\n",
              "      <td>0.001411</td>\n",
              "    </tr>\n",
              "    <tr>\n",
              "      <th>4</th>\n",
              "      <td>5</td>\n",
              "      <td></td>\n",
              "      <td>Afghanistan</td>\n",
              "      <td>2020-01-26</td>\n",
              "      <td>0.0</td>\n",
              "      <td>0.0</td>\n",
              "      <td>None</td>\n",
              "      <td>0.0</td>\n",
              "      <td>0.0</td>\n",
              "      <td>0.0</td>\n",
              "      <td>0.036232</td>\n",
              "      <td>0.329191</td>\n",
              "      <td>0.027046</td>\n",
              "      <td>0.002278</td>\n",
              "      <td>0.001411</td>\n",
              "    </tr>\n",
              "  </tbody>\n",
              "</table>\n",
              "</div>"
            ],
            "text/plain": [
              "  Id Province_State Country_Region  ... total_pop   density  age_100+\n",
              "0  1                   Afghanistan  ...  0.027046  0.002278  0.001411\n",
              "1  2                   Afghanistan  ...  0.027046  0.002278  0.001411\n",
              "2  3                   Afghanistan  ...  0.027046  0.002278  0.001411\n",
              "3  4                   Afghanistan  ...  0.027046  0.002278  0.001411\n",
              "4  5                   Afghanistan  ...  0.027046  0.002278  0.001411\n",
              "\n",
              "[5 rows x 15 columns]"
            ]
          },
          "metadata": {
            "tags": []
          },
          "execution_count": 62
        }
      ]
    },
    {
      "cell_type": "code",
      "metadata": {
        "id": "XN0-a4Wk7vDR"
      },
      "source": [
        "for country_region in train_df.Country_Region.unique():\n",
        "    query_df = train_df.query(\"Country_Region=='\"+country_region+\"' and Date=='2020-03-25'\")\n",
        "    train_df.loc[(train_df[\"Country_Region\"]==country_region) & (train_df[\"Date\"]>\"2020-03-25\"),\"total_pop\"] = query_df.total_pop.values[0]\n",
        "    train_df.loc[(train_df[\"Country_Region\"]==country_region) & (train_df[\"Date\"]>\"2020-03-25\"),\"hospibed\"] = query_df.hospibed.values[0]\n",
        "    train_df.loc[(train_df[\"Country_Region\"]==country_region) & (train_df[\"Date\"]>\"2020-03-25\"),\"density\"] = query_df.density.values[0]\n",
        "    train_df.loc[(train_df[\"Country_Region\"]==country_region) & (train_df[\"Date\"]>\"2020-03-25\"),\"lung\"] = query_df.lung.values[0]\n",
        "    train_df.loc[(train_df[\"Country_Region\"]==country_region) & (train_df[\"Date\"]>\"2020-03-25\"),\"age_100+\"] = query_df[\"age_100+\"].values[0]\n",
        "    train_df.loc[(train_df[\"Country_Region\"]==country_region) & (train_df[\"Date\"]>\"2020-03-25\"),\"restrictions\"] = query_df.restrictions.values[0]\n",
        "    train_df.loc[(train_df[\"Country_Region\"]==country_region) & (train_df[\"Date\"]>\"2020-03-25\"),\"quarantine\"] = query_df.quarantine.values[0]\n",
        "    train_df.loc[(train_df[\"Country_Region\"]==country_region) & (train_df[\"Date\"]>\"2020-03-25\"),\"schools\"] = query_df.schools.values[0]"
      ],
      "execution_count": null,
      "outputs": []
    },
    {
      "cell_type": "code",
      "metadata": {
        "colab": {
          "base_uri": "https://localhost:8080/"
        },
        "id": "B_4Zt-NK7wxI",
        "outputId": "6067e0de-9d45-40af-df08-54bc2c75b678"
      },
      "source": [
        "median_pop = np.median(extra_data_df.total_pop)\n",
        "median_hospibed = np.median(extra_data_df.hospibed)\n",
        "median_density = np.median(extra_data_df.density)\n",
        "median_lung = np.median(extra_data_df.lung)\n",
        "median_centenarian_pop = np.median(extra_data_df[\"age_100+\"])\n",
        "#need to replace that with a joint using Pandas\n",
        "print(\"The missing countries/region are:\")\n",
        "for country_region in train_df.Country_Region.unique():\n",
        "    if extra_data_df.query(\"Country_Region=='\"+country_region+\"'\").empty:\n",
        "        print(country_region)\n",
        "        \n",
        "        train_df.loc[train_df[\"Country_Region\"]==country_region,\"total_pop\"] = median_pop\n",
        "        train_df.loc[train_df[\"Country_Region\"]==country_region,\"hospibed\"] = median_hospibed\n",
        "        train_df.loc[train_df[\"Country_Region\"]==country_region,\"density\"] = median_density\n",
        "        train_df.loc[train_df[\"Country_Region\"]==country_region,\"lung\"] = median_lung\n",
        "        train_df.loc[train_df[\"Country_Region\"]==country_region,\"age_100+\"] = median_centenarian_pop\n",
        "        train_df.loc[train_df[\"Country_Region\"]==country_region,\"restrictions\"] = 0\n",
        "        train_df.loc[train_df[\"Country_Region\"]==country_region,\"quarantine\"] = 0\n",
        "        train_df.loc[train_df[\"Country_Region\"]==country_region,\"schools\"] = 0"
      ],
      "execution_count": null,
      "outputs": [
        {
          "output_type": "stream",
          "text": [
            "The missing countries/region are:\n",
            "Botswana\n",
            "Burma\n",
            "Burundi\n",
            "Canada_Northwest Territories\n",
            "Canada_Yukon\n",
            "France_Saint Pierre and Miquelon\n",
            "Kosovo\n",
            "MS Zaandam\n",
            "Malawi\n",
            "Netherlands_Bonaire, Sint Eustatius and Saba\n",
            "Sao Tome and Principe\n",
            "Sierra Leone\n",
            "South Sudan\n",
            "United Kingdom_Anguilla\n",
            "United Kingdom_British Virgin Islands\n",
            "United Kingdom_Falkland Islands (Malvinas)\n",
            "United Kingdom_Turks and Caicos Islands\n",
            "West Bank and Gaza\n",
            "Western Sahara\n"
          ],
          "name": "stdout"
        }
      ]
    },
    {
      "cell_type": "code",
      "metadata": {
        "colab": {
          "base_uri": "https://localhost:8080/"
        },
        "id": "GbJGhou29Sng",
        "outputId": "e2e61530-05a5-4694-cfda-0ed933b04d51"
      },
      "source": [
        "train_df.shape"
      ],
      "execution_count": null,
      "outputs": [
        {
          "output_type": "execute_result",
          "data": {
            "text/plain": [
              "(35995, 15)"
            ]
          },
          "metadata": {
            "tags": []
          },
          "execution_count": 65
        }
      ]
    },
    {
      "cell_type": "code",
      "metadata": {
        "id": "EYPGOVXc86-l"
      },
      "source": [
        "trend_df = pd.DataFrame(columns={\"infection_trend\",\"fatality_trend\",\"quarantine_trend\",\"school_trend\",\"total_population\",\"expected_cases\",\"expected_fatalities\"})"
      ],
      "execution_count": null,
      "outputs": []
    },
    {
      "cell_type": "code",
      "metadata": {
        "colab": {
          "base_uri": "https://localhost:8080/",
          "height": 67
        },
        "id": "GJNd3xj493X2",
        "outputId": "27b3a331-b201-4205-cb1b-9dcb552f9661"
      },
      "source": [
        "trend_df"
      ],
      "execution_count": null,
      "outputs": [
        {
          "output_type": "execute_result",
          "data": {
            "text/html": [
              "<div>\n",
              "<style scoped>\n",
              "    .dataframe tbody tr th:only-of-type {\n",
              "        vertical-align: middle;\n",
              "    }\n",
              "\n",
              "    .dataframe tbody tr th {\n",
              "        vertical-align: top;\n",
              "    }\n",
              "\n",
              "    .dataframe thead th {\n",
              "        text-align: right;\n",
              "    }\n",
              "</style>\n",
              "<table border=\"1\" class=\"dataframe\">\n",
              "  <thead>\n",
              "    <tr style=\"text-align: right;\">\n",
              "      <th></th>\n",
              "      <th>expected_fatalities</th>\n",
              "      <th>school_trend</th>\n",
              "      <th>infection_trend</th>\n",
              "      <th>quarantine_trend</th>\n",
              "      <th>total_population</th>\n",
              "      <th>expected_cases</th>\n",
              "      <th>fatality_trend</th>\n",
              "    </tr>\n",
              "  </thead>\n",
              "  <tbody>\n",
              "  </tbody>\n",
              "</table>\n",
              "</div>"
            ],
            "text/plain": [
              "Empty DataFrame\n",
              "Columns: [expected_fatalities, school_trend, infection_trend, quarantine_trend, total_population, expected_cases, fatality_trend]\n",
              "Index: []"
            ]
          },
          "metadata": {
            "tags": []
          },
          "execution_count": 67
        }
      ]
    },
    {
      "cell_type": "code",
      "metadata": {
        "colab": {
          "base_uri": "https://localhost:8080/"
        },
        "id": "xIsE1HYF73WQ",
        "outputId": "4338bb54-5624-4386-bcd2-a5c9decdc3ab"
      },
      "source": [
        "#Just getting rid of the first days to have a multiple of 7\n",
        "#Makes it easier to generate the sequences\n",
        "train_df = train_df.query(\"Date>'2020-01-22'and Date<'2020-04-01'\")\n",
        "days_in_sequence = 21\n",
        "\n",
        "trend_list = []\n",
        "\n",
        "with tqdm(total=len(list(train_df.Country_Region.unique()))) as pbar:\n",
        "    for country in train_df.Country_Region.unique():\n",
        "        for province in train_df.query(f\"Country_Region=='{country}'\").Province_State.unique():\n",
        "            province_df = train_df.query(f\"Country_Region=='{country}' and Province_State=='{province}'\")\n",
        "            \n",
        "            #I added a quick hack to double the number of sequences\n",
        "            #Warning: This will later create a minor leakage from the \n",
        "            # training set into the validation set.\n",
        "            for i in range(0,len(province_df),int(days_in_sequence/3)):\n",
        "                if i+days_in_sequence<=len(province_df):\n",
        "                    #prepare all the temporal inputs\n",
        "                    infection_trend = [float(x) for x in province_df[i:i+days_in_sequence-1].ConfirmedCases.values]\n",
        "                    fatality_trend = [float(x) for x in province_df[i:i+days_in_sequence-1].Fatalities.values]\n",
        "                    restriction_trend = [float(x) for x in province_df[i:i+days_in_sequence-1].restrictions.values]\n",
        "                    quarantine_trend = [float(x) for x in province_df[i:i+days_in_sequence-1].quarantine.values]\n",
        "                    school_trend = [float(x) for x in province_df[i:i+days_in_sequence-1].schools.values]\n",
        "\n",
        "                    #preparing all the demographic inputs\n",
        "                    total_population = float(province_df.iloc[i].total_pop)\n",
        "                    density = float(province_df.iloc[i].density)\n",
        "                    hospibed = float(province_df.iloc[i].hospibed)\n",
        "                    lung = float(province_df.iloc[i].lung)\n",
        "                    centenarian_pop = float(province_df.iloc[i][\"age_100+\"])\n",
        "\n",
        "                    expected_cases = float(province_df.iloc[i+days_in_sequence-1].ConfirmedCases)\n",
        "                    expected_fatalities = float(province_df.iloc[i+days_in_sequence-1].Fatalities)\n",
        "\n",
        "                    trend_list.append({\"infection_trend\":infection_trend,\n",
        "                                     \"fatality_trend\":fatality_trend,\n",
        "                                     \"restriction_trend\":restriction_trend,\n",
        "                                     \"quarantine_trend\":quarantine_trend,\n",
        "                                     \"school_trend\":school_trend,\n",
        "                                     \"demographic_inputs\":[total_population,density,hospibed,lung,centenarian_pop],\n",
        "                                     \"expected_cases\":expected_cases,\n",
        "                                     \"expected_fatalities\":expected_fatalities})\n",
        "        pbar.update(1)\n",
        "trend_df = pd.DataFrame(trend_list)"
      ],
      "execution_count": null,
      "outputs": [
        {
          "output_type": "stream",
          "text": [
            "100%|██████████| 313/313 [00:13<00:00, 23.97it/s]\n"
          ],
          "name": "stderr"
        }
      ]
    },
    {
      "cell_type": "code",
      "metadata": {
        "colab": {
          "base_uri": "https://localhost:8080/",
          "height": 383
        },
        "id": "wa2EGjdo9HwG",
        "outputId": "59fbdfd4-3a11-4f27-be89-5f360337d4b2"
      },
      "source": [
        "trend_df[\"temporal_inputs\"] = [np.asarray([trends[\"infection_trend\"],trends[\"fatality_trend\"],trends[\"restriction_trend\"],trends[\"quarantine_trend\"],trends[\"school_trend\"]]) for idx,trends in trend_df.iterrows()]\n",
        "\n",
        "trend_df = shuffle(trend_df)\n",
        "trend_df.head()\n"
      ],
      "execution_count": null,
      "outputs": [
        {
          "output_type": "execute_result",
          "data": {
            "text/html": [
              "<div>\n",
              "<style scoped>\n",
              "    .dataframe tbody tr th:only-of-type {\n",
              "        vertical-align: middle;\n",
              "    }\n",
              "\n",
              "    .dataframe tbody tr th {\n",
              "        vertical-align: top;\n",
              "    }\n",
              "\n",
              "    .dataframe thead th {\n",
              "        text-align: right;\n",
              "    }\n",
              "</style>\n",
              "<table border=\"1\" class=\"dataframe\">\n",
              "  <thead>\n",
              "    <tr style=\"text-align: right;\">\n",
              "      <th></th>\n",
              "      <th>infection_trend</th>\n",
              "      <th>fatality_trend</th>\n",
              "      <th>restriction_trend</th>\n",
              "      <th>quarantine_trend</th>\n",
              "      <th>school_trend</th>\n",
              "      <th>demographic_inputs</th>\n",
              "      <th>expected_cases</th>\n",
              "      <th>expected_fatalities</th>\n",
              "      <th>temporal_inputs</th>\n",
              "    </tr>\n",
              "  </thead>\n",
              "  <tbody>\n",
              "    <tr>\n",
              "      <th>1086</th>\n",
              "      <td>[0.0, 0.0, 0.0, 0.0, 0.0, 0.0, 0.0, 0.0, 0.0, ...</td>\n",
              "      <td>[0.0, 0.0, 0.0, 0.0, 0.0, 0.0, 0.0, 0.0, 0.0, ...</td>\n",
              "      <td>[0.0, 0.0, 0.0, 0.0, 0.0, 0.0, 0.0, 0.0, 0.0, ...</td>\n",
              "      <td>[0.0, 0.0, 0.0, 0.0, 0.0, 0.0, 0.0, 0.0, 0.0, ...</td>\n",
              "      <td>[0.0, 0.0, 0.0, 0.0, 0.0, 0.0, 0.0, 0.0, 0.0, ...</td>\n",
              "      <td>[0.004532816811514711, 0.0012909594866537572, ...</td>\n",
              "      <td>0.0</td>\n",
              "      <td>0.0</td>\n",
              "      <td>[[0.0, 0.0, 0.0, 0.0, 0.0, 0.0, 0.0, 0.0, 0.0,...</td>\n",
              "    </tr>\n",
              "    <tr>\n",
              "      <th>427</th>\n",
              "      <td>[3.0, 3.0, 4.0, 5.0, 7.0, 9.0, 9.0, 12.0, 29.0...</td>\n",
              "      <td>[0.0, 0.0, 0.0, 0.0, 0.0, 0.0, 0.0, 0.0, 0.0, ...</td>\n",
              "      <td>[0.0, 0.0, 0.0, 0.0, 0.0, 0.0, 0.0, 0.0, 0.0, ...</td>\n",
              "      <td>[0.0, 0.0, 0.0, 0.0, 0.0, 0.0, 0.0, 0.0, 0.0, ...</td>\n",
              "      <td>[0.0, 0.0, 0.0, 0.0, 0.0, 0.0, 0.0, 0.0, 0.0, ...</td>\n",
              "      <td>[1.0, 0.003607092683297262, 0.1956521739130435...</td>\n",
              "      <td>133.0</td>\n",
              "      <td>1.0</td>\n",
              "      <td>[[3.0, 3.0, 4.0, 5.0, 7.0, 9.0, 9.0, 12.0, 29....</td>\n",
              "    </tr>\n",
              "    <tr>\n",
              "      <th>1574</th>\n",
              "      <td>[0.0, 0.0, 0.0, 0.0, 0.0, 0.0, 0.0, 0.0, 1.0, ...</td>\n",
              "      <td>[0.0, 0.0, 0.0, 0.0, 0.0, 0.0, 0.0, 0.0, 1.0, ...</td>\n",
              "      <td>[0.0, 0.0, 0.0, 0.0, 0.0, 0.0, 0.0, 0.0, 0.0, ...</td>\n",
              "      <td>[0.0, 0.0, 0.0, 0.0, 0.0, 0.0, 0.0, 0.0, 0.0, ...</td>\n",
              "      <td>[0.0, 0.0, 0.0, 0.0, 0.0, 0.0, 0.0, 0.0, 0.0, ...</td>\n",
              "      <td>[0.030465187744477568, 0.0009492349166571743, ...</td>\n",
              "      <td>3.0</td>\n",
              "      <td>1.0</td>\n",
              "      <td>[[0.0, 0.0, 0.0, 0.0, 0.0, 0.0, 0.0, 0.0, 1.0,...</td>\n",
              "    </tr>\n",
              "    <tr>\n",
              "      <th>1759</th>\n",
              "      <td>[0.0, 0.0, 0.0, 0.0, 0.0, 0.0, 0.0, 0.0, 0.0, ...</td>\n",
              "      <td>[0.0, 0.0, 0.0, 0.0, 0.0, 0.0, 0.0, 0.0, 0.0, ...</td>\n",
              "      <td>[0.0, 0.0, 0.0, 0.0, 0.0, 0.0, 0.0, 0.0, 0.0, ...</td>\n",
              "      <td>[0.0, 0.0, 0.0, 0.0, 0.0, 0.0, 0.0, 0.0, 0.0, ...</td>\n",
              "      <td>[0.0, 0.0, 0.0, 0.0, 0.0, 0.0, 0.0, 0.0, 0.0, ...</td>\n",
              "      <td>[0.2322267255206195, 0.003607092683297262, 0.1...</td>\n",
              "      <td>0.0</td>\n",
              "      <td>0.0</td>\n",
              "      <td>[[0.0, 0.0, 0.0, 0.0, 0.0, 0.0, 0.0, 0.0, 0.0,...</td>\n",
              "    </tr>\n",
              "    <tr>\n",
              "      <th>1310</th>\n",
              "      <td>[0.0, 0.0, 0.0, 0.0, 0.0, 0.0, 0.0, 0.0, 0.0, ...</td>\n",
              "      <td>[0.0, 0.0, 0.0, 0.0, 0.0, 0.0, 0.0, 0.0, 0.0, ...</td>\n",
              "      <td>[0.0, 0.0, 0.0, 0.0, 0.0, 0.0, 0.0, 0.0, 0.0, ...</td>\n",
              "      <td>[0.0, 0.0, 0.0, 0.0, 0.0, 0.0, 0.0, 0.0, 0.0, ...</td>\n",
              "      <td>[0.0, 0.0, 0.0, 0.0, 0.0, 0.0, 0.0, 0.0, 0.0, ...</td>\n",
              "      <td>[0.0033503462439160685, 0.0006834491399931655,...</td>\n",
              "      <td>0.0</td>\n",
              "      <td>0.0</td>\n",
              "      <td>[[0.0, 0.0, 0.0, 0.0, 0.0, 0.0, 0.0, 0.0, 0.0,...</td>\n",
              "    </tr>\n",
              "  </tbody>\n",
              "</table>\n",
              "</div>"
            ],
            "text/plain": [
              "                                        infection_trend  ...                                    temporal_inputs\n",
              "1086  [0.0, 0.0, 0.0, 0.0, 0.0, 0.0, 0.0, 0.0, 0.0, ...  ...  [[0.0, 0.0, 0.0, 0.0, 0.0, 0.0, 0.0, 0.0, 0.0,...\n",
              "427   [3.0, 3.0, 4.0, 5.0, 7.0, 9.0, 9.0, 12.0, 29.0...  ...  [[3.0, 3.0, 4.0, 5.0, 7.0, 9.0, 9.0, 12.0, 29....\n",
              "1574  [0.0, 0.0, 0.0, 0.0, 0.0, 0.0, 0.0, 0.0, 1.0, ...  ...  [[0.0, 0.0, 0.0, 0.0, 0.0, 0.0, 0.0, 0.0, 1.0,...\n",
              "1759  [0.0, 0.0, 0.0, 0.0, 0.0, 0.0, 0.0, 0.0, 0.0, ...  ...  [[0.0, 0.0, 0.0, 0.0, 0.0, 0.0, 0.0, 0.0, 0.0,...\n",
              "1310  [0.0, 0.0, 0.0, 0.0, 0.0, 0.0, 0.0, 0.0, 0.0, ...  ...  [[0.0, 0.0, 0.0, 0.0, 0.0, 0.0, 0.0, 0.0, 0.0,...\n",
              "\n",
              "[5 rows x 9 columns]"
            ]
          },
          "metadata": {
            "tags": []
          },
          "execution_count": 69
        }
      ]
    },
    {
      "cell_type": "code",
      "metadata": {
        "id": "BvMHkGU8CUd1"
      },
      "source": [
        "i=0\n",
        "temp_df = pd.DataFrame()\n",
        "for idx,row in trend_df.iterrows():\n",
        "    if sum(row.infection_trend)>0:\n",
        "        temp_df = temp_df.append(row)\n",
        "    else:\n",
        "        if i<25:\n",
        "            temp_df = temp_df.append(row)\n",
        "            i+=1\n",
        "trend_df = temp_df"
      ],
      "execution_count": null,
      "outputs": []
    },
    {
      "cell_type": "code",
      "metadata": {
        "colab": {
          "base_uri": "https://localhost:8080/",
          "height": 383
        },
        "id": "fmTwM2Y4Cpqu",
        "outputId": "2d4ec093-4b45-4213-c19d-d920a6de6b8f"
      },
      "source": [
        "trend_df.head()"
      ],
      "execution_count": null,
      "outputs": [
        {
          "output_type": "execute_result",
          "data": {
            "text/html": [
              "<div>\n",
              "<style scoped>\n",
              "    .dataframe tbody tr th:only-of-type {\n",
              "        vertical-align: middle;\n",
              "    }\n",
              "\n",
              "    .dataframe tbody tr th {\n",
              "        vertical-align: top;\n",
              "    }\n",
              "\n",
              "    .dataframe thead th {\n",
              "        text-align: right;\n",
              "    }\n",
              "</style>\n",
              "<table border=\"1\" class=\"dataframe\">\n",
              "  <thead>\n",
              "    <tr style=\"text-align: right;\">\n",
              "      <th></th>\n",
              "      <th>demographic_inputs</th>\n",
              "      <th>expected_cases</th>\n",
              "      <th>expected_fatalities</th>\n",
              "      <th>fatality_trend</th>\n",
              "      <th>infection_trend</th>\n",
              "      <th>quarantine_trend</th>\n",
              "      <th>restriction_trend</th>\n",
              "      <th>school_trend</th>\n",
              "      <th>temporal_inputs</th>\n",
              "    </tr>\n",
              "  </thead>\n",
              "  <tbody>\n",
              "    <tr>\n",
              "      <th>1086</th>\n",
              "      <td>[0.004532816811514711, 0.0012909594866537572, ...</td>\n",
              "      <td>0.0</td>\n",
              "      <td>0.0</td>\n",
              "      <td>[0.0, 0.0, 0.0, 0.0, 0.0, 0.0, 0.0, 0.0, 0.0, ...</td>\n",
              "      <td>[0.0, 0.0, 0.0, 0.0, 0.0, 0.0, 0.0, 0.0, 0.0, ...</td>\n",
              "      <td>[0.0, 0.0, 0.0, 0.0, 0.0, 0.0, 0.0, 0.0, 0.0, ...</td>\n",
              "      <td>[0.0, 0.0, 0.0, 0.0, 0.0, 0.0, 0.0, 0.0, 0.0, ...</td>\n",
              "      <td>[0.0, 0.0, 0.0, 0.0, 0.0, 0.0, 0.0, 0.0, 0.0, ...</td>\n",
              "      <td>[[0.0, 0.0, 0.0, 0.0, 0.0, 0.0, 0.0, 0.0, 0.0,...</td>\n",
              "    </tr>\n",
              "    <tr>\n",
              "      <th>427</th>\n",
              "      <td>[1.0, 0.003607092683297262, 0.1956521739130435...</td>\n",
              "      <td>133.0</td>\n",
              "      <td>1.0</td>\n",
              "      <td>[0.0, 0.0, 0.0, 0.0, 0.0, 0.0, 0.0, 0.0, 0.0, ...</td>\n",
              "      <td>[3.0, 3.0, 4.0, 5.0, 7.0, 9.0, 9.0, 12.0, 29.0...</td>\n",
              "      <td>[0.0, 0.0, 0.0, 0.0, 0.0, 0.0, 0.0, 0.0, 0.0, ...</td>\n",
              "      <td>[0.0, 0.0, 0.0, 0.0, 0.0, 0.0, 0.0, 0.0, 0.0, ...</td>\n",
              "      <td>[0.0, 0.0, 0.0, 0.0, 0.0, 0.0, 0.0, 0.0, 0.0, ...</td>\n",
              "      <td>[[3.0, 3.0, 4.0, 5.0, 7.0, 9.0, 9.0, 12.0, 29....</td>\n",
              "    </tr>\n",
              "    <tr>\n",
              "      <th>1574</th>\n",
              "      <td>[0.030465187744477568, 0.0009492349166571743, ...</td>\n",
              "      <td>3.0</td>\n",
              "      <td>1.0</td>\n",
              "      <td>[0.0, 0.0, 0.0, 0.0, 0.0, 0.0, 0.0, 0.0, 1.0, ...</td>\n",
              "      <td>[0.0, 0.0, 0.0, 0.0, 0.0, 0.0, 0.0, 0.0, 1.0, ...</td>\n",
              "      <td>[0.0, 0.0, 0.0, 0.0, 0.0, 0.0, 0.0, 0.0, 0.0, ...</td>\n",
              "      <td>[0.0, 0.0, 0.0, 0.0, 0.0, 0.0, 0.0, 0.0, 0.0, ...</td>\n",
              "      <td>[0.0, 0.0, 0.0, 0.0, 0.0, 0.0, 0.0, 0.0, 0.0, ...</td>\n",
              "      <td>[[0.0, 0.0, 0.0, 0.0, 0.0, 0.0, 0.0, 0.0, 1.0,...</td>\n",
              "    </tr>\n",
              "    <tr>\n",
              "      <th>1759</th>\n",
              "      <td>[0.2322267255206195, 0.003607092683297262, 0.1...</td>\n",
              "      <td>0.0</td>\n",
              "      <td>0.0</td>\n",
              "      <td>[0.0, 0.0, 0.0, 0.0, 0.0, 0.0, 0.0, 0.0, 0.0, ...</td>\n",
              "      <td>[0.0, 0.0, 0.0, 0.0, 0.0, 0.0, 0.0, 0.0, 0.0, ...</td>\n",
              "      <td>[0.0, 0.0, 0.0, 0.0, 0.0, 0.0, 0.0, 0.0, 0.0, ...</td>\n",
              "      <td>[0.0, 0.0, 0.0, 0.0, 0.0, 0.0, 0.0, 0.0, 0.0, ...</td>\n",
              "      <td>[0.0, 0.0, 0.0, 0.0, 0.0, 0.0, 0.0, 0.0, 0.0, ...</td>\n",
              "      <td>[[0.0, 0.0, 0.0, 0.0, 0.0, 0.0, 0.0, 0.0, 0.0,...</td>\n",
              "    </tr>\n",
              "    <tr>\n",
              "      <th>1310</th>\n",
              "      <td>[0.0033503462439160685, 0.0006834491399931655,...</td>\n",
              "      <td>0.0</td>\n",
              "      <td>0.0</td>\n",
              "      <td>[0.0, 0.0, 0.0, 0.0, 0.0, 0.0, 0.0, 0.0, 0.0, ...</td>\n",
              "      <td>[0.0, 0.0, 0.0, 0.0, 0.0, 0.0, 0.0, 0.0, 0.0, ...</td>\n",
              "      <td>[0.0, 0.0, 0.0, 0.0, 0.0, 0.0, 0.0, 0.0, 0.0, ...</td>\n",
              "      <td>[0.0, 0.0, 0.0, 0.0, 0.0, 0.0, 0.0, 0.0, 0.0, ...</td>\n",
              "      <td>[0.0, 0.0, 0.0, 0.0, 0.0, 0.0, 0.0, 0.0, 0.0, ...</td>\n",
              "      <td>[[0.0, 0.0, 0.0, 0.0, 0.0, 0.0, 0.0, 0.0, 0.0,...</td>\n",
              "    </tr>\n",
              "  </tbody>\n",
              "</table>\n",
              "</div>"
            ],
            "text/plain": [
              "                                     demographic_inputs  ...                                    temporal_inputs\n",
              "1086  [0.004532816811514711, 0.0012909594866537572, ...  ...  [[0.0, 0.0, 0.0, 0.0, 0.0, 0.0, 0.0, 0.0, 0.0,...\n",
              "427   [1.0, 0.003607092683297262, 0.1956521739130435...  ...  [[3.0, 3.0, 4.0, 5.0, 7.0, 9.0, 9.0, 12.0, 29....\n",
              "1574  [0.030465187744477568, 0.0009492349166571743, ...  ...  [[0.0, 0.0, 0.0, 0.0, 0.0, 0.0, 0.0, 0.0, 1.0,...\n",
              "1759  [0.2322267255206195, 0.003607092683297262, 0.1...  ...  [[0.0, 0.0, 0.0, 0.0, 0.0, 0.0, 0.0, 0.0, 0.0,...\n",
              "1310  [0.0033503462439160685, 0.0006834491399931655,...  ...  [[0.0, 0.0, 0.0, 0.0, 0.0, 0.0, 0.0, 0.0, 0.0,...\n",
              "\n",
              "[5 rows x 9 columns]"
            ]
          },
          "metadata": {
            "tags": []
          },
          "execution_count": 71
        }
      ]
    },
    {
      "cell_type": "code",
      "metadata": {
        "id": "Ts7Ri9WsDpr-"
      },
      "source": [
        "sequence_length = 20\n",
        "training_percentage = 0.9"
      ],
      "execution_count": null,
      "outputs": []
    },
    {
      "cell_type": "code",
      "metadata": {
        "id": "W8lv_nX6DqFx"
      },
      "source": [
        "training_item_count = int(len(trend_df)*training_percentage)\n",
        "validation_item_count = len(trend_df)-int(len(trend_df)*training_percentage)\n",
        "training_df = trend_df[:training_item_count]\n",
        "validation_df = trend_df[training_item_count:]"
      ],
      "execution_count": null,
      "outputs": []
    },
    {
      "cell_type": "code",
      "metadata": {
        "id": "eAd2rv-QDr_B"
      },
      "source": [
        "X_temporal_train = np.asarray(np.transpose(np.reshape(np.asarray([np.asarray(x) for x in training_df[\"temporal_inputs\"].values]),(training_item_count,5,sequence_length)),(0,2,1) )).astype(np.float32)\n",
        "X_demographic_train = np.asarray([np.asarray(x) for x in training_df[\"demographic_inputs\"]]).astype(np.float32)\n",
        "Y_cases_train = np.asarray([np.asarray(x) for x in training_df[\"expected_cases\"]]).astype(np.float32)\n",
        "Y_fatalities_train = np.asarray([np.asarray(x) for x in training_df[\"expected_fatalities\"]]).astype(np.float32)"
      ],
      "execution_count": null,
      "outputs": []
    },
    {
      "cell_type": "code",
      "metadata": {
        "id": "0TBT6TCzLoot"
      },
      "source": [
        "X_temporal_test = np.asarray(np.transpose(np.reshape(np.asarray([np.asarray(x) for x in validation_df[\"temporal_inputs\"]]),(validation_item_count,5,sequence_length)),(0,2,1)) ).astype(np.float32)\n",
        "X_demographic_test = np.asarray([np.asarray(x) for x in validation_df[\"demographic_inputs\"]]).astype(np.float32)\n",
        "Y_cases_test = np.asarray([np.asarray(x) for x in validation_df[\"expected_cases\"]]).astype(np.float32)\n",
        "Y_fatalities_test = np.asarray([np.asarray(x) for x in validation_df[\"expected_fatalities\"]]).astype(np.float32)"
      ],
      "execution_count": null,
      "outputs": []
    },
    {
      "cell_type": "code",
      "metadata": {
        "colab": {
          "base_uri": "https://localhost:8080/"
        },
        "id": "qHDxE_hTLXJf",
        "outputId": "1087ac9b-4f67-4c60-c645-1c97b857e1fa"
      },
      "source": [
        "Y_fatalities_train[0]"
      ],
      "execution_count": null,
      "outputs": [
        {
          "output_type": "execute_result",
          "data": {
            "text/plain": [
              "0.0"
            ]
          },
          "metadata": {
            "tags": []
          },
          "execution_count": 76
        }
      ]
    },
    {
      "cell_type": "markdown",
      "metadata": {
        "id": "tNLhKGkNEMUk"
      },
      "source": [
        "## input output\n",
        "input\n",
        "\n",
        "number of cases for 20 days\n",
        "\n",
        "number of fatalities for 20 days\n",
        "\n",
        "restrictions applied for the area in the past 20 days\n",
        "\n",
        "quarantine applied for the area in the past 20 days\n",
        "\n",
        "school opened or closed for the area in the past 20 days\n",
        "\n",
        "additional information related to the area (population, density, number of hospital beds, lung measurement, number of centenarian people) \n",
        "\n",
        "X_temporal이 2주동안 데이터고 \n",
        "X_demographic이 인구 밀집도 등등 데이터\n",
        "\n",
        "X_temporal이 sequence데이터니까 lstm넣고 그외 데이터 그냥 layer로 쌓아서 합치는구조\n",
        "\n",
        "as outputs:\n",
        "\n",
        "number of cases for the 21th day\n",
        "\n",
        "number of fatalities for the 21th day"
      ]
    },
    {
      "cell_type": "code",
      "metadata": {
        "colab": {
          "base_uri": "https://localhost:8080/"
        },
        "id": "ddt96tE3DwaH",
        "outputId": "8018b5b3-430b-4fe7-9e96-961b7a942d24"
      },
      "source": [
        "#temporal input branch\n",
        "temporal_input_layer = Input(shape=(sequence_length,5))\n",
        "main_rnn_layer = layers.LSTM(64, return_sequences=True, recurrent_dropout=0.2)(temporal_input_layer)\n",
        "\n",
        "#demographic input branch\n",
        "demographic_input_layer = Input(shape=(5))\n",
        "demographic_dense = layers.Dense(16)(demographic_input_layer)\n",
        "demographic_dropout = layers.Dropout(0.2)(demographic_dense)\n",
        "\n",
        "#cases output branch\n",
        "rnn_c = layers.LSTM(32)(main_rnn_layer)\n",
        "merge_c = layers.Concatenate(axis=-1)([rnn_c,demographic_dropout])\n",
        "dense_c = layers.Dense(128)(merge_c)\n",
        "dropout_c = layers.Dropout(0.3)(dense_c)\n",
        "cases = layers.Dense(1, activation=layers.LeakyReLU(alpha=0.1),name=\"cases\")(dropout_c)\n",
        "\n",
        "#fatality output branch\n",
        "rnn_f = layers.LSTM(32)(main_rnn_layer)\n",
        "merge_f = layers.Concatenate(axis=-1)([rnn_f,demographic_dropout])\n",
        "dense_f = layers.Dense(128)(merge_f)\n",
        "dropout_f = layers.Dropout(0.3)(dense_f)\n",
        "fatalities = layers.Dense(1, activation=layers.LeakyReLU(alpha=0.1), name=\"fatalities\")(dropout_f)\n",
        "\n",
        "\n",
        "model = Model([temporal_input_layer,demographic_input_layer], [cases,fatalities])\n",
        "\n",
        "model.summary()\n"
      ],
      "execution_count": null,
      "outputs": [
        {
          "output_type": "stream",
          "text": [
            "Model: \"model_3\"\n",
            "__________________________________________________________________________________________________\n",
            "Layer (type)                    Output Shape         Param #     Connected to                     \n",
            "==================================================================================================\n",
            "input_5 (InputLayer)            [(None, 20, 5)]      0                                            \n",
            "__________________________________________________________________________________________________\n",
            "input_6 (InputLayer)            [(None, 5)]          0                                            \n",
            "__________________________________________________________________________________________________\n",
            "lstm_3 (LSTM)                   (None, 20, 64)       17920       input_5[0][0]                    \n",
            "__________________________________________________________________________________________________\n",
            "dense_9 (Dense)                 (None, 16)           96          input_6[0][0]                    \n",
            "__________________________________________________________________________________________________\n",
            "lstm_4 (LSTM)                   (None, 32)           12416       lstm_3[0][0]                     \n",
            "__________________________________________________________________________________________________\n",
            "dropout_3 (Dropout)             (None, 16)           0           dense_9[0][0]                    \n",
            "__________________________________________________________________________________________________\n",
            "lstm_5 (LSTM)                   (None, 32)           12416       lstm_3[0][0]                     \n",
            "__________________________________________________________________________________________________\n",
            "concatenate_2 (Concatenate)     (None, 48)           0           lstm_4[0][0]                     \n",
            "                                                                 dropout_3[0][0]                  \n",
            "__________________________________________________________________________________________________\n",
            "concatenate_3 (Concatenate)     (None, 48)           0           lstm_5[0][0]                     \n",
            "                                                                 dropout_3[0][0]                  \n",
            "__________________________________________________________________________________________________\n",
            "dense_10 (Dense)                (None, 128)          6272        concatenate_2[0][0]              \n",
            "__________________________________________________________________________________________________\n",
            "dense_11 (Dense)                (None, 128)          6272        concatenate_3[0][0]              \n",
            "__________________________________________________________________________________________________\n",
            "dropout_4 (Dropout)             (None, 128)          0           dense_10[0][0]                   \n",
            "__________________________________________________________________________________________________\n",
            "dropout_5 (Dropout)             (None, 128)          0           dense_11[0][0]                   \n",
            "__________________________________________________________________________________________________\n",
            "cases (Dense)                   (None, 1)            129         dropout_4[0][0]                  \n",
            "__________________________________________________________________________________________________\n",
            "fatalities (Dense)              (None, 1)            129         dropout_5[0][0]                  \n",
            "==================================================================================================\n",
            "Total params: 55,650\n",
            "Trainable params: 55,650\n",
            "Non-trainable params: 0\n",
            "__________________________________________________________________________________________________\n"
          ],
          "name": "stdout"
        }
      ]
    },
    {
      "cell_type": "code",
      "metadata": {
        "colab": {
          "base_uri": "https://localhost:8080/",
          "height": 661
        },
        "id": "2l_myzEAf3n2",
        "outputId": "a43be335-6e6c-439b-f220-206bc94804e8"
      },
      "source": [
        "from tensorflow import keras\n",
        "\n",
        "keras.utils.plot_model(model, \"my_first_model.png\")\n"
      ],
      "execution_count": null,
      "outputs": [
        {
          "output_type": "execute_result",
          "data": {
            "image/png": "[encoded data removed]",
            "text/plain": [
              "<IPython.core.display.Image object>"
            ]
          },
          "metadata": {
            "tags": []
          },
          "execution_count": 79
        }
      ]
    },
    {
      "cell_type": "code",
      "metadata": {
        "id": "YItuEId2RxXc"
      },
      "source": [
        "##EARLY STOP 등등 제어기능\n",
        "callbacks = [ReduceLROnPlateau(monitor='val_loss', patience=4, verbose=1, factor=0.6),\n",
        "             EarlyStopping(monitor='val_loss', patience=20),\n",
        "             ModelCheckpoint(filepath='best_model.h5', monitor='val_loss', save_best_only=True)]\n",
        "model.compile(loss=[tf.keras.losses.MeanSquaredLogarithmicError(),tf.keras.losses.MeanSquaredLogarithmicError()], optimizer=\"adam\")"
      ],
      "execution_count": null,
      "outputs": []
    },
    {
      "cell_type": "code",
      "metadata": {
        "colab": {
          "base_uri": "https://localhost:8080/"
        },
        "id": "8oetVzwGie-W",
        "outputId": "64182790-5b79-4d1a-c510-7024226e2f73"
      },
      "source": [
        "history = model.fit([X_temporal_train,X_demographic_train], [Y_cases_train, Y_fatalities_train], \n",
        "          epochs = 250, \n",
        "          batch_size = 16, \n",
        "          validation_data=([X_temporal_test,X_demographic_test],  [Y_cases_test, Y_fatalities_test]), \n",
        "          callbacks=callbacks)"
      ],
      "execution_count": null,
      "outputs": [
        {
          "output_type": "stream",
          "text": [
            "Epoch 1/250\n",
            "61/61 [==============================] - 8s 48ms/step - loss: 13.2660 - cases_loss: 11.8016 - fatalities_loss: 1.4645 - val_loss: 7.4308 - val_cases_loss: 5.9982 - val_fatalities_loss: 1.4326\n",
            "Epoch 2/250\n",
            "61/61 [==============================] - 2s 31ms/step - loss: 5.3236 - cases_loss: 4.3765 - fatalities_loss: 0.9471 - val_loss: 5.1543 - val_cases_loss: 3.9160 - val_fatalities_loss: 1.2383\n",
            "Epoch 3/250\n",
            "61/61 [==============================] - 2s 31ms/step - loss: 3.0614 - cases_loss: 2.5147 - fatalities_loss: 0.5466 - val_loss: 3.8599 - val_cases_loss: 3.0066 - val_fatalities_loss: 0.8533\n",
            "Epoch 4/250\n",
            "61/61 [==============================] - 2s 30ms/step - loss: 2.8745 - cases_loss: 2.2738 - fatalities_loss: 0.6007 - val_loss: 2.9973 - val_cases_loss: 2.4996 - val_fatalities_loss: 0.4977\n",
            "Epoch 5/250\n",
            "61/61 [==============================] - 2s 30ms/step - loss: 2.4109 - cases_loss: 1.9302 - fatalities_loss: 0.4807 - val_loss: 2.6940 - val_cases_loss: 2.1474 - val_fatalities_loss: 0.5466\n",
            "Epoch 6/250\n",
            "61/61 [==============================] - 2s 31ms/step - loss: 1.4375 - cases_loss: 1.1773 - fatalities_loss: 0.2602 - val_loss: 2.4045 - val_cases_loss: 1.9384 - val_fatalities_loss: 0.4661\n",
            "Epoch 7/250\n",
            "61/61 [==============================] - 2s 30ms/step - loss: 1.9296 - cases_loss: 1.4889 - fatalities_loss: 0.4407 - val_loss: 2.1476 - val_cases_loss: 1.7205 - val_fatalities_loss: 0.4271\n",
            "Epoch 8/250\n",
            "61/61 [==============================] - 2s 32ms/step - loss: 1.7362 - cases_loss: 1.3394 - fatalities_loss: 0.3968 - val_loss: 2.0030 - val_cases_loss: 1.6032 - val_fatalities_loss: 0.3998\n",
            "Epoch 9/250\n",
            "61/61 [==============================] - 2s 30ms/step - loss: 1.8381 - cases_loss: 1.4234 - fatalities_loss: 0.4147 - val_loss: 1.8070 - val_cases_loss: 1.4475 - val_fatalities_loss: 0.3594\n",
            "Epoch 10/250\n",
            "61/61 [==============================] - 2s 32ms/step - loss: 1.5019 - cases_loss: 1.1639 - fatalities_loss: 0.3380 - val_loss: 1.6224 - val_cases_loss: 1.3268 - val_fatalities_loss: 0.2957\n",
            "Epoch 11/250\n",
            "61/61 [==============================] - 2s 30ms/step - loss: 1.4133 - cases_loss: 1.1012 - fatalities_loss: 0.3122 - val_loss: 1.6097 - val_cases_loss: 1.2547 - val_fatalities_loss: 0.3550\n",
            "Epoch 12/250\n",
            "61/61 [==============================] - 2s 30ms/step - loss: 1.3563 - cases_loss: 1.0160 - fatalities_loss: 0.3403 - val_loss: 1.4353 - val_cases_loss: 1.1709 - val_fatalities_loss: 0.2644\n",
            "Epoch 13/250\n",
            "61/61 [==============================] - 2s 30ms/step - loss: 1.1568 - cases_loss: 0.8706 - fatalities_loss: 0.2862 - val_loss: 1.4092 - val_cases_loss: 1.1024 - val_fatalities_loss: 0.3068\n",
            "Epoch 14/250\n",
            "61/61 [==============================] - 2s 30ms/step - loss: 1.2132 - cases_loss: 0.8782 - fatalities_loss: 0.3350 - val_loss: 1.2979 - val_cases_loss: 1.0303 - val_fatalities_loss: 0.2676\n",
            "Epoch 15/250\n",
            "61/61 [==============================] - 2s 30ms/step - loss: 1.3237 - cases_loss: 0.9824 - fatalities_loss: 0.3412 - val_loss: 1.3057 - val_cases_loss: 0.9826 - val_fatalities_loss: 0.3231\n",
            "Epoch 16/250\n",
            "61/61 [==============================] - 2s 32ms/step - loss: 1.1686 - cases_loss: 0.8517 - fatalities_loss: 0.3168 - val_loss: 1.1589 - val_cases_loss: 0.9467 - val_fatalities_loss: 0.2122\n",
            "Epoch 17/250\n",
            "61/61 [==============================] - 2s 30ms/step - loss: 0.9821 - cases_loss: 0.7490 - fatalities_loss: 0.2331 - val_loss: 1.1526 - val_cases_loss: 0.8923 - val_fatalities_loss: 0.2604\n",
            "Epoch 18/250\n",
            "61/61 [==============================] - 2s 31ms/step - loss: 1.0584 - cases_loss: 0.7944 - fatalities_loss: 0.2640 - val_loss: 1.0565 - val_cases_loss: 0.8394 - val_fatalities_loss: 0.2171\n",
            "Epoch 19/250\n",
            "61/61 [==============================] - 2s 30ms/step - loss: 0.8970 - cases_loss: 0.6903 - fatalities_loss: 0.2067 - val_loss: 1.0155 - val_cases_loss: 0.8056 - val_fatalities_loss: 0.2098\n",
            "Epoch 20/250\n",
            "61/61 [==============================] - 2s 31ms/step - loss: 0.8707 - cases_loss: 0.6588 - fatalities_loss: 0.2118 - val_loss: 0.9891 - val_cases_loss: 0.7705 - val_fatalities_loss: 0.2187\n",
            "Epoch 21/250\n",
            "61/61 [==============================] - 2s 31ms/step - loss: 0.9419 - cases_loss: 0.7028 - fatalities_loss: 0.2390 - val_loss: 0.9300 - val_cases_loss: 0.7561 - val_fatalities_loss: 0.1739\n",
            "Epoch 22/250\n",
            "61/61 [==============================] - 2s 30ms/step - loss: 0.8626 - cases_loss: 0.6532 - fatalities_loss: 0.2094 - val_loss: 0.8948 - val_cases_loss: 0.7311 - val_fatalities_loss: 0.1637\n",
            "Epoch 23/250\n",
            "61/61 [==============================] - 2s 30ms/step - loss: 0.9766 - cases_loss: 0.7262 - fatalities_loss: 0.2503 - val_loss: 0.8575 - val_cases_loss: 0.7133 - val_fatalities_loss: 0.1441\n",
            "Epoch 24/250\n",
            "61/61 [==============================] - 2s 31ms/step - loss: 0.8938 - cases_loss: 0.6696 - fatalities_loss: 0.2242 - val_loss: 0.8636 - val_cases_loss: 0.7174 - val_fatalities_loss: 0.1463\n",
            "Epoch 25/250\n",
            "61/61 [==============================] - 2s 31ms/step - loss: 0.7263 - cases_loss: 0.5447 - fatalities_loss: 0.1817 - val_loss: 0.7846 - val_cases_loss: 0.6491 - val_fatalities_loss: 0.1356\n",
            "Epoch 26/250\n",
            "61/61 [==============================] - 2s 31ms/step - loss: 0.9868 - cases_loss: 0.7213 - fatalities_loss: 0.2655 - val_loss: 0.7814 - val_cases_loss: 0.6394 - val_fatalities_loss: 0.1420\n",
            "Epoch 27/250\n",
            "61/61 [==============================] - 2s 30ms/step - loss: 0.7570 - cases_loss: 0.5740 - fatalities_loss: 0.1830 - val_loss: 0.9725 - val_cases_loss: 0.6087 - val_fatalities_loss: 0.3639\n",
            "Epoch 28/250\n",
            "61/61 [==============================] - 2s 31ms/step - loss: 0.6397 - cases_loss: 0.4096 - fatalities_loss: 0.2300 - val_loss: 0.7508 - val_cases_loss: 0.5880 - val_fatalities_loss: 0.1628\n",
            "Epoch 29/250\n",
            "61/61 [==============================] - 2s 30ms/step - loss: 0.7588 - cases_loss: 0.5438 - fatalities_loss: 0.2150 - val_loss: 0.7900 - val_cases_loss: 0.6027 - val_fatalities_loss: 0.1873\n",
            "Epoch 30/250\n",
            "61/61 [==============================] - 2s 31ms/step - loss: 0.7706 - cases_loss: 0.5679 - fatalities_loss: 0.2027 - val_loss: 0.7496 - val_cases_loss: 0.5984 - val_fatalities_loss: 0.1512\n",
            "Epoch 31/250\n",
            "61/61 [==============================] - 2s 34ms/step - loss: 0.7228 - cases_loss: 0.5190 - fatalities_loss: 0.2039 - val_loss: 0.7102 - val_cases_loss: 0.5541 - val_fatalities_loss: 0.1561\n",
            "Epoch 32/250\n",
            "61/61 [==============================] - 2s 30ms/step - loss: 0.6914 - cases_loss: 0.4960 - fatalities_loss: 0.1953 - val_loss: 0.7458 - val_cases_loss: 0.5364 - val_fatalities_loss: 0.2094\n",
            "Epoch 33/250\n",
            "61/61 [==============================] - 2s 31ms/step - loss: 0.6118 - cases_loss: 0.4403 - fatalities_loss: 0.1715 - val_loss: 0.6267 - val_cases_loss: 0.5182 - val_fatalities_loss: 0.1085\n",
            "Epoch 34/250\n",
            "61/61 [==============================] - 2s 30ms/step - loss: 0.5739 - cases_loss: 0.4417 - fatalities_loss: 0.1322 - val_loss: 0.6146 - val_cases_loss: 0.5011 - val_fatalities_loss: 0.1135\n",
            "Epoch 35/250\n",
            "61/61 [==============================] - 2s 30ms/step - loss: 0.5753 - cases_loss: 0.3928 - fatalities_loss: 0.1825 - val_loss: 0.7069 - val_cases_loss: 0.4948 - val_fatalities_loss: 0.2121\n",
            "Epoch 36/250\n",
            "61/61 [==============================] - 2s 30ms/step - loss: 0.6846 - cases_loss: 0.4464 - fatalities_loss: 0.2382 - val_loss: 0.6655 - val_cases_loss: 0.4776 - val_fatalities_loss: 0.1879\n",
            "Epoch 37/250\n",
            "61/61 [==============================] - 2s 30ms/step - loss: 0.7032 - cases_loss: 0.5173 - fatalities_loss: 0.1859 - val_loss: 0.6075 - val_cases_loss: 0.4683 - val_fatalities_loss: 0.1391\n",
            "Epoch 38/250\n",
            "61/61 [==============================] - 2s 30ms/step - loss: 0.5500 - cases_loss: 0.3809 - fatalities_loss: 0.1691 - val_loss: 0.6463 - val_cases_loss: 0.5190 - val_fatalities_loss: 0.1273\n",
            "Epoch 39/250\n",
            "61/61 [==============================] - 2s 30ms/step - loss: 0.6182 - cases_loss: 0.4681 - fatalities_loss: 0.1501 - val_loss: 0.5772 - val_cases_loss: 0.4607 - val_fatalities_loss: 0.1165\n",
            "Epoch 40/250\n",
            "61/61 [==============================] - 2s 29ms/step - loss: 0.5682 - cases_loss: 0.4156 - fatalities_loss: 0.1526 - val_loss: 0.5925 - val_cases_loss: 0.4424 - val_fatalities_loss: 0.1501\n",
            "Epoch 41/250\n",
            "61/61 [==============================] - 2s 30ms/step - loss: 0.5646 - cases_loss: 0.3871 - fatalities_loss: 0.1775 - val_loss: 0.5358 - val_cases_loss: 0.4289 - val_fatalities_loss: 0.1069\n",
            "Epoch 42/250\n",
            "61/61 [==============================] - 2s 30ms/step - loss: 0.5986 - cases_loss: 0.4494 - fatalities_loss: 0.1492 - val_loss: 0.5493 - val_cases_loss: 0.4272 - val_fatalities_loss: 0.1222\n",
            "Epoch 43/250\n",
            "61/61 [==============================] - 2s 31ms/step - loss: 0.6757 - cases_loss: 0.4411 - fatalities_loss: 0.2346 - val_loss: 0.5585 - val_cases_loss: 0.4331 - val_fatalities_loss: 0.1254\n",
            "Epoch 44/250\n",
            "61/61 [==============================] - 2s 30ms/step - loss: 0.4747 - cases_loss: 0.3375 - fatalities_loss: 0.1371 - val_loss: 0.4919 - val_cases_loss: 0.3934 - val_fatalities_loss: 0.0985\n",
            "Epoch 45/250\n",
            "61/61 [==============================] - 2s 30ms/step - loss: 0.5784 - cases_loss: 0.3574 - fatalities_loss: 0.2210 - val_loss: 0.5960 - val_cases_loss: 0.4100 - val_fatalities_loss: 0.1860\n",
            "Epoch 46/250\n",
            "61/61 [==============================] - 2s 30ms/step - loss: 0.5223 - cases_loss: 0.3714 - fatalities_loss: 0.1509 - val_loss: 0.5438 - val_cases_loss: 0.3854 - val_fatalities_loss: 0.1584\n",
            "Epoch 47/250\n",
            "61/61 [==============================] - 2s 30ms/step - loss: 0.5092 - cases_loss: 0.3629 - fatalities_loss: 0.1464 - val_loss: 0.6315 - val_cases_loss: 0.4629 - val_fatalities_loss: 0.1686\n",
            "Epoch 48/250\n",
            "61/61 [==============================] - 2s 30ms/step - loss: 0.6898 - cases_loss: 0.4777 - fatalities_loss: 0.2121 - val_loss: 0.6048 - val_cases_loss: 0.4504 - val_fatalities_loss: 0.1544\n",
            "\n",
            "Epoch 00048: ReduceLROnPlateau reducing learning rate to 0.0006000000284984708.\n",
            "Epoch 49/250\n",
            "61/61 [==============================] - 2s 30ms/step - loss: 0.3790 - cases_loss: 0.2726 - fatalities_loss: 0.1064 - val_loss: 0.4913 - val_cases_loss: 0.3782 - val_fatalities_loss: 0.1132\n",
            "Epoch 50/250\n",
            "61/61 [==============================] - 2s 30ms/step - loss: 0.4970 - cases_loss: 0.3639 - fatalities_loss: 0.1330 - val_loss: 0.4570 - val_cases_loss: 0.3633 - val_fatalities_loss: 0.0937\n",
            "Epoch 51/250\n",
            "61/61 [==============================] - 2s 30ms/step - loss: 0.3866 - cases_loss: 0.2870 - fatalities_loss: 0.0996 - val_loss: 0.4499 - val_cases_loss: 0.3615 - val_fatalities_loss: 0.0884\n",
            "Epoch 52/250\n",
            "61/61 [==============================] - 2s 30ms/step - loss: 0.4299 - cases_loss: 0.3346 - fatalities_loss: 0.0953 - val_loss: 0.4428 - val_cases_loss: 0.3525 - val_fatalities_loss: 0.0903\n",
            "Epoch 53/250\n",
            "61/61 [==============================] - 2s 31ms/step - loss: 0.5883 - cases_loss: 0.4387 - fatalities_loss: 0.1496 - val_loss: 0.4249 - val_cases_loss: 0.3461 - val_fatalities_loss: 0.0788\n",
            "Epoch 54/250\n",
            "61/61 [==============================] - 2s 30ms/step - loss: 0.4457 - cases_loss: 0.3261 - fatalities_loss: 0.1196 - val_loss: 0.6429 - val_cases_loss: 0.3880 - val_fatalities_loss: 0.2549\n",
            "Epoch 55/250\n",
            "61/61 [==============================] - 2s 29ms/step - loss: 0.4902 - cases_loss: 0.3203 - fatalities_loss: 0.1699 - val_loss: 0.4955 - val_cases_loss: 0.3386 - val_fatalities_loss: 0.1569\n",
            "Epoch 56/250\n",
            "61/61 [==============================] - 2s 30ms/step - loss: 0.6070 - cases_loss: 0.4081 - fatalities_loss: 0.1989 - val_loss: 0.4551 - val_cases_loss: 0.3401 - val_fatalities_loss: 0.1150\n",
            "Epoch 57/250\n",
            "61/61 [==============================] - 2s 30ms/step - loss: 0.5320 - cases_loss: 0.3842 - fatalities_loss: 0.1478 - val_loss: 0.4935 - val_cases_loss: 0.3482 - val_fatalities_loss: 0.1454\n",
            "\n",
            "Epoch 00057: ReduceLROnPlateau reducing learning rate to 0.0003600000170990825.\n",
            "Epoch 58/250\n",
            "61/61 [==============================] - 2s 30ms/step - loss: 0.5301 - cases_loss: 0.3888 - fatalities_loss: 0.1412 - val_loss: 0.4521 - val_cases_loss: 0.3501 - val_fatalities_loss: 0.1021\n",
            "Epoch 59/250\n",
            "61/61 [==============================] - 2s 31ms/step - loss: 0.4923 - cases_loss: 0.3125 - fatalities_loss: 0.1798 - val_loss: 0.4261 - val_cases_loss: 0.3380 - val_fatalities_loss: 0.0881\n",
            "Epoch 60/250\n",
            "61/61 [==============================] - 2s 30ms/step - loss: 0.4793 - cases_loss: 0.3643 - fatalities_loss: 0.1149 - val_loss: 0.4249 - val_cases_loss: 0.3332 - val_fatalities_loss: 0.0917\n",
            "Epoch 61/250\n",
            "61/61 [==============================] - 2s 31ms/step - loss: 0.4724 - cases_loss: 0.3626 - fatalities_loss: 0.1098 - val_loss: 0.4077 - val_cases_loss: 0.3211 - val_fatalities_loss: 0.0865\n",
            "Epoch 62/250\n",
            "61/61 [==============================] - 2s 30ms/step - loss: 0.3332 - cases_loss: 0.2522 - fatalities_loss: 0.0809 - val_loss: 0.3967 - val_cases_loss: 0.3094 - val_fatalities_loss: 0.0873\n",
            "Epoch 63/250\n",
            "61/61 [==============================] - 2s 31ms/step - loss: 0.6020 - cases_loss: 0.4584 - fatalities_loss: 0.1436 - val_loss: 0.3916 - val_cases_loss: 0.3065 - val_fatalities_loss: 0.0851\n",
            "Epoch 64/250\n",
            "61/61 [==============================] - 2s 30ms/step - loss: 0.4425 - cases_loss: 0.3466 - fatalities_loss: 0.0959 - val_loss: 0.3793 - val_cases_loss: 0.3040 - val_fatalities_loss: 0.0753\n",
            "Epoch 65/250\n",
            "61/61 [==============================] - 2s 30ms/step - loss: 0.4497 - cases_loss: 0.3408 - fatalities_loss: 0.1089 - val_loss: 0.3841 - val_cases_loss: 0.3013 - val_fatalities_loss: 0.0829\n",
            "Epoch 66/250\n",
            "61/61 [==============================] - 2s 30ms/step - loss: 0.4077 - cases_loss: 0.3220 - fatalities_loss: 0.0856 - val_loss: 0.3940 - val_cases_loss: 0.2968 - val_fatalities_loss: 0.0972\n",
            "Epoch 67/250\n",
            "61/61 [==============================] - 2s 30ms/step - loss: 0.4411 - cases_loss: 0.3475 - fatalities_loss: 0.0935 - val_loss: 0.3859 - val_cases_loss: 0.2975 - val_fatalities_loss: 0.0884\n",
            "Epoch 68/250\n",
            "61/61 [==============================] - 2s 33ms/step - loss: 0.4463 - cases_loss: 0.3401 - fatalities_loss: 0.1063 - val_loss: 0.3873 - val_cases_loss: 0.2919 - val_fatalities_loss: 0.0954\n",
            "\n",
            "Epoch 00068: ReduceLROnPlateau reducing learning rate to 0.00021600000327453016.\n",
            "Epoch 69/250\n",
            "61/61 [==============================] - 2s 30ms/step - loss: 0.3338 - cases_loss: 0.2644 - fatalities_loss: 0.0694 - val_loss: 0.3829 - val_cases_loss: 0.2885 - val_fatalities_loss: 0.0944\n",
            "Epoch 70/250\n",
            "61/61 [==============================] - 2s 31ms/step - loss: 0.3564 - cases_loss: 0.2786 - fatalities_loss: 0.0778 - val_loss: 0.3769 - val_cases_loss: 0.2867 - val_fatalities_loss: 0.0902\n",
            "Epoch 71/250\n",
            "61/61 [==============================] - 2s 30ms/step - loss: 0.4275 - cases_loss: 0.3362 - fatalities_loss: 0.0913 - val_loss: 0.3871 - val_cases_loss: 0.2846 - val_fatalities_loss: 0.1024\n",
            "Epoch 72/250\n",
            "61/61 [==============================] - 2s 30ms/step - loss: 0.3749 - cases_loss: 0.2799 - fatalities_loss: 0.0950 - val_loss: 0.3709 - val_cases_loss: 0.2826 - val_fatalities_loss: 0.0883\n",
            "Epoch 73/250\n",
            "61/61 [==============================] - 2s 30ms/step - loss: 0.3282 - cases_loss: 0.2560 - fatalities_loss: 0.0723 - val_loss: 0.3686 - val_cases_loss: 0.2811 - val_fatalities_loss: 0.0875\n",
            "Epoch 74/250\n",
            "61/61 [==============================] - 2s 30ms/step - loss: 0.3972 - cases_loss: 0.3141 - fatalities_loss: 0.0831 - val_loss: 0.3696 - val_cases_loss: 0.2821 - val_fatalities_loss: 0.0875\n",
            "Epoch 75/250\n",
            "61/61 [==============================] - 2s 30ms/step - loss: 0.3656 - cases_loss: 0.2951 - fatalities_loss: 0.0705 - val_loss: 0.3919 - val_cases_loss: 0.2787 - val_fatalities_loss: 0.1132\n",
            "Epoch 76/250\n",
            "61/61 [==============================] - 2s 30ms/step - loss: 0.3899 - cases_loss: 0.3045 - fatalities_loss: 0.0854 - val_loss: 0.3653 - val_cases_loss: 0.2764 - val_fatalities_loss: 0.0889\n",
            "Epoch 77/250\n",
            "61/61 [==============================] - 2s 30ms/step - loss: 0.5270 - cases_loss: 0.4250 - fatalities_loss: 0.1020 - val_loss: 0.3692 - val_cases_loss: 0.2743 - val_fatalities_loss: 0.0949\n",
            "Epoch 78/250\n",
            "61/61 [==============================] - 2s 30ms/step - loss: 0.4179 - cases_loss: 0.3321 - fatalities_loss: 0.0858 - val_loss: 0.3592 - val_cases_loss: 0.2734 - val_fatalities_loss: 0.0858\n",
            "Epoch 79/250\n",
            "61/61 [==============================] - 2s 29ms/step - loss: 0.3226 - cases_loss: 0.2532 - fatalities_loss: 0.0694 - val_loss: 0.3644 - val_cases_loss: 0.2727 - val_fatalities_loss: 0.0917\n",
            "Epoch 80/250\n",
            "61/61 [==============================] - 2s 31ms/step - loss: 0.3568 - cases_loss: 0.2821 - fatalities_loss: 0.0747 - val_loss: 0.3733 - val_cases_loss: 0.2727 - val_fatalities_loss: 0.1006\n",
            "Epoch 81/250\n",
            "61/61 [==============================] - 2s 30ms/step - loss: 0.3018 - cases_loss: 0.2394 - fatalities_loss: 0.0623 - val_loss: 0.3726 - val_cases_loss: 0.2753 - val_fatalities_loss: 0.0972\n",
            "Epoch 82/250\n",
            "61/61 [==============================] - 2s 30ms/step - loss: 0.5025 - cases_loss: 0.3948 - fatalities_loss: 0.1076 - val_loss: 0.3694 - val_cases_loss: 0.2682 - val_fatalities_loss: 0.1012\n",
            "\n",
            "Epoch 00082: ReduceLROnPlateau reducing learning rate to 0.00012960000021848827.\n",
            "Epoch 83/250\n",
            "61/61 [==============================] - 2s 30ms/step - loss: 0.4131 - cases_loss: 0.3356 - fatalities_loss: 0.0775 - val_loss: 0.3541 - val_cases_loss: 0.2657 - val_fatalities_loss: 0.0883\n",
            "Epoch 84/250\n",
            "61/61 [==============================] - 2s 30ms/step - loss: 0.3309 - cases_loss: 0.2625 - fatalities_loss: 0.0684 - val_loss: 0.3496 - val_cases_loss: 0.2616 - val_fatalities_loss: 0.0880\n",
            "Epoch 85/250\n",
            "61/61 [==============================] - 2s 30ms/step - loss: 0.4551 - cases_loss: 0.3645 - fatalities_loss: 0.0906 - val_loss: 0.3463 - val_cases_loss: 0.2613 - val_fatalities_loss: 0.0849\n",
            "Epoch 86/250\n",
            "61/61 [==============================] - 2s 31ms/step - loss: 0.3920 - cases_loss: 0.3194 - fatalities_loss: 0.0726 - val_loss: 0.3553 - val_cases_loss: 0.2603 - val_fatalities_loss: 0.0949\n",
            "Epoch 87/250\n",
            "61/61 [==============================] - 2s 30ms/step - loss: 0.3212 - cases_loss: 0.2489 - fatalities_loss: 0.0723 - val_loss: 0.3468 - val_cases_loss: 0.2589 - val_fatalities_loss: 0.0878\n",
            "Epoch 88/250\n",
            "61/61 [==============================] - 2s 30ms/step - loss: 0.3151 - cases_loss: 0.2500 - fatalities_loss: 0.0651 - val_loss: 0.3509 - val_cases_loss: 0.2596 - val_fatalities_loss: 0.0913\n",
            "Epoch 89/250\n",
            "61/61 [==============================] - 2s 30ms/step - loss: 0.3565 - cases_loss: 0.2739 - fatalities_loss: 0.0826 - val_loss: 0.3495 - val_cases_loss: 0.2599 - val_fatalities_loss: 0.0896\n",
            "\n",
            "Epoch 00089: ReduceLROnPlateau reducing learning rate to 7.775999838486313e-05.\n",
            "Epoch 90/250\n",
            "61/61 [==============================] - 2s 30ms/step - loss: 0.3386 - cases_loss: 0.2634 - fatalities_loss: 0.0752 - val_loss: 0.3414 - val_cases_loss: 0.2561 - val_fatalities_loss: 0.0853\n",
            "Epoch 91/250\n",
            "61/61 [==============================] - 2s 32ms/step - loss: 0.3845 - cases_loss: 0.3071 - fatalities_loss: 0.0775 - val_loss: 0.3415 - val_cases_loss: 0.2554 - val_fatalities_loss: 0.0861\n",
            "Epoch 92/250\n",
            "61/61 [==============================] - 2s 30ms/step - loss: 0.3801 - cases_loss: 0.2997 - fatalities_loss: 0.0805 - val_loss: 0.3396 - val_cases_loss: 0.2543 - val_fatalities_loss: 0.0853\n",
            "Epoch 93/250\n",
            "61/61 [==============================] - 2s 30ms/step - loss: 0.3801 - cases_loss: 0.2977 - fatalities_loss: 0.0824 - val_loss: 0.3415 - val_cases_loss: 0.2534 - val_fatalities_loss: 0.0881\n",
            "Epoch 94/250\n",
            "61/61 [==============================] - 2s 31ms/step - loss: 0.3326 - cases_loss: 0.2561 - fatalities_loss: 0.0765 - val_loss: 0.3466 - val_cases_loss: 0.2559 - val_fatalities_loss: 0.0907\n",
            "Epoch 95/250\n",
            "61/61 [==============================] - 2s 31ms/step - loss: 0.3403 - cases_loss: 0.2689 - fatalities_loss: 0.0714 - val_loss: 0.3363 - val_cases_loss: 0.2522 - val_fatalities_loss: 0.0841\n",
            "Epoch 96/250\n",
            "61/61 [==============================] - 2s 30ms/step - loss: 0.3708 - cases_loss: 0.2909 - fatalities_loss: 0.0799 - val_loss: 0.3373 - val_cases_loss: 0.2513 - val_fatalities_loss: 0.0860\n",
            "Epoch 97/250\n",
            "61/61 [==============================] - 2s 30ms/step - loss: 0.3932 - cases_loss: 0.3220 - fatalities_loss: 0.0712 - val_loss: 0.3334 - val_cases_loss: 0.2526 - val_fatalities_loss: 0.0808\n",
            "Epoch 98/250\n",
            "61/61 [==============================] - 2s 30ms/step - loss: 0.3717 - cases_loss: 0.2906 - fatalities_loss: 0.0810 - val_loss: 0.3431 - val_cases_loss: 0.2498 - val_fatalities_loss: 0.0933\n",
            "Epoch 99/250\n",
            "61/61 [==============================] - 2s 30ms/step - loss: 0.3082 - cases_loss: 0.2481 - fatalities_loss: 0.0601 - val_loss: 0.3360 - val_cases_loss: 0.2523 - val_fatalities_loss: 0.0837\n",
            "Epoch 100/250\n",
            "61/61 [==============================] - 2s 30ms/step - loss: 0.3815 - cases_loss: 0.3011 - fatalities_loss: 0.0804 - val_loss: 0.3303 - val_cases_loss: 0.2481 - val_fatalities_loss: 0.0822\n",
            "Epoch 101/250\n",
            "61/61 [==============================] - 2s 30ms/step - loss: 0.3231 - cases_loss: 0.2577 - fatalities_loss: 0.0654 - val_loss: 0.3374 - val_cases_loss: 0.2490 - val_fatalities_loss: 0.0884\n",
            "Epoch 102/250\n",
            "61/61 [==============================] - 2s 30ms/step - loss: 0.3335 - cases_loss: 0.2649 - fatalities_loss: 0.0686 - val_loss: 0.3340 - val_cases_loss: 0.2469 - val_fatalities_loss: 0.0871\n",
            "Epoch 103/250\n",
            "61/61 [==============================] - 2s 31ms/step - loss: 0.2889 - cases_loss: 0.2195 - fatalities_loss: 0.0694 - val_loss: 0.3356 - val_cases_loss: 0.2464 - val_fatalities_loss: 0.0891\n",
            "Epoch 104/250\n",
            "61/61 [==============================] - 2s 29ms/step - loss: 0.4174 - cases_loss: 0.3408 - fatalities_loss: 0.0766 - val_loss: 0.3309 - val_cases_loss: 0.2454 - val_fatalities_loss: 0.0855\n",
            "\n",
            "Epoch 00104: ReduceLROnPlateau reducing learning rate to 4.6655999904032795e-05.\n",
            "Epoch 105/250\n",
            "61/61 [==============================] - 2s 30ms/step - loss: 0.4192 - cases_loss: 0.3343 - fatalities_loss: 0.0849 - val_loss: 0.3303 - val_cases_loss: 0.2451 - val_fatalities_loss: 0.0853\n",
            "Epoch 106/250\n",
            "61/61 [==============================] - 2s 30ms/step - loss: 0.3556 - cases_loss: 0.2819 - fatalities_loss: 0.0737 - val_loss: 0.3296 - val_cases_loss: 0.2443 - val_fatalities_loss: 0.0854\n",
            "Epoch 107/250\n",
            "61/61 [==============================] - 2s 30ms/step - loss: 0.3464 - cases_loss: 0.2806 - fatalities_loss: 0.0658 - val_loss: 0.3335 - val_cases_loss: 0.2436 - val_fatalities_loss: 0.0899\n",
            "Epoch 108/250\n",
            "61/61 [==============================] - 2s 30ms/step - loss: 0.3380 - cases_loss: 0.2712 - fatalities_loss: 0.0668 - val_loss: 0.3323 - val_cases_loss: 0.2448 - val_fatalities_loss: 0.0875\n",
            "Epoch 109/250\n",
            "61/61 [==============================] - 2s 30ms/step - loss: 0.4181 - cases_loss: 0.3322 - fatalities_loss: 0.0859 - val_loss: 0.3336 - val_cases_loss: 0.2460 - val_fatalities_loss: 0.0876\n",
            "Epoch 110/250\n",
            "61/61 [==============================] - 2s 30ms/step - loss: 0.4553 - cases_loss: 0.3650 - fatalities_loss: 0.0902 - val_loss: 0.3355 - val_cases_loss: 0.2494 - val_fatalities_loss: 0.0861\n",
            "\n",
            "Epoch 00110: ReduceLROnPlateau reducing learning rate to 2.799360081553459e-05.\n",
            "Epoch 111/250\n",
            "61/61 [==============================] - 2s 30ms/step - loss: 0.3831 - cases_loss: 0.3092 - fatalities_loss: 0.0738 - val_loss: 0.3334 - val_cases_loss: 0.2440 - val_fatalities_loss: 0.0894\n",
            "Epoch 112/250\n",
            "61/61 [==============================] - 2s 30ms/step - loss: 0.2918 - cases_loss: 0.2339 - fatalities_loss: 0.0579 - val_loss: 0.3295 - val_cases_loss: 0.2436 - val_fatalities_loss: 0.0860\n",
            "Epoch 113/250\n",
            "61/61 [==============================] - 2s 30ms/step - loss: 0.2762 - cases_loss: 0.2268 - fatalities_loss: 0.0494 - val_loss: 0.3324 - val_cases_loss: 0.2420 - val_fatalities_loss: 0.0903\n",
            "Epoch 114/250\n",
            "61/61 [==============================] - 2s 30ms/step - loss: 0.3990 - cases_loss: 0.3177 - fatalities_loss: 0.0813 - val_loss: 0.3313 - val_cases_loss: 0.2439 - val_fatalities_loss: 0.0874\n",
            "\n",
            "Epoch 00114: ReduceLROnPlateau reducing learning rate to 1.6796160707599483e-05.\n",
            "Epoch 115/250\n",
            "61/61 [==============================] - 2s 32ms/step - loss: 0.3520 - cases_loss: 0.2837 - fatalities_loss: 0.0683 - val_loss: 0.3288 - val_cases_loss: 0.2414 - val_fatalities_loss: 0.0873\n",
            "Epoch 116/250\n",
            "61/61 [==============================] - 2s 30ms/step - loss: 0.3359 - cases_loss: 0.2664 - fatalities_loss: 0.0694 - val_loss: 0.3280 - val_cases_loss: 0.2411 - val_fatalities_loss: 0.0868\n",
            "Epoch 117/250\n",
            "61/61 [==============================] - 2s 32ms/step - loss: 0.3239 - cases_loss: 0.2578 - fatalities_loss: 0.0661 - val_loss: 0.3290 - val_cases_loss: 0.2409 - val_fatalities_loss: 0.0881\n",
            "Epoch 118/250\n",
            "61/61 [==============================] - 2s 31ms/step - loss: 0.3395 - cases_loss: 0.2699 - fatalities_loss: 0.0696 - val_loss: 0.3306 - val_cases_loss: 0.2416 - val_fatalities_loss: 0.0890\n",
            "Epoch 119/250\n",
            "61/61 [==============================] - 2s 31ms/step - loss: 0.4452 - cases_loss: 0.3575 - fatalities_loss: 0.0876 - val_loss: 0.3300 - val_cases_loss: 0.2402 - val_fatalities_loss: 0.0898\n",
            "Epoch 120/250\n",
            "61/61 [==============================] - 2s 31ms/step - loss: 0.2830 - cases_loss: 0.2224 - fatalities_loss: 0.0606 - val_loss: 0.3285 - val_cases_loss: 0.2403 - val_fatalities_loss: 0.0882\n",
            "\n",
            "Epoch 00120: ReduceLROnPlateau reducing learning rate to 1.007769642455969e-05.\n",
            "Epoch 121/250\n",
            "61/61 [==============================] - 2s 33ms/step - loss: 0.3965 - cases_loss: 0.3183 - fatalities_loss: 0.0782 - val_loss: 0.3280 - val_cases_loss: 0.2400 - val_fatalities_loss: 0.0880\n",
            "Epoch 122/250\n",
            "61/61 [==============================] - 2s 31ms/step - loss: 0.4947 - cases_loss: 0.3850 - fatalities_loss: 0.1096 - val_loss: 0.3283 - val_cases_loss: 0.2398 - val_fatalities_loss: 0.0885\n",
            "Epoch 123/250\n",
            "61/61 [==============================] - 2s 31ms/step - loss: 0.2832 - cases_loss: 0.2333 - fatalities_loss: 0.0499 - val_loss: 0.3280 - val_cases_loss: 0.2397 - val_fatalities_loss: 0.0883\n",
            "Epoch 124/250\n",
            "61/61 [==============================] - 2s 30ms/step - loss: 0.4289 - cases_loss: 0.3335 - fatalities_loss: 0.0954 - val_loss: 0.3278 - val_cases_loss: 0.2396 - val_fatalities_loss: 0.0882\n",
            "Epoch 125/250\n",
            "61/61 [==============================] - 2s 30ms/step - loss: 0.3369 - cases_loss: 0.2697 - fatalities_loss: 0.0673 - val_loss: 0.3269 - val_cases_loss: 0.2396 - val_fatalities_loss: 0.0873\n",
            "Epoch 126/250\n",
            "61/61 [==============================] - 2s 30ms/step - loss: 0.5528 - cases_loss: 0.4343 - fatalities_loss: 0.1185 - val_loss: 0.3272 - val_cases_loss: 0.2394 - val_fatalities_loss: 0.0879\n",
            "Epoch 127/250\n",
            "61/61 [==============================] - 2s 30ms/step - loss: 0.3002 - cases_loss: 0.2364 - fatalities_loss: 0.0638 - val_loss: 0.3266 - val_cases_loss: 0.2390 - val_fatalities_loss: 0.0875\n",
            "Epoch 128/250\n",
            "61/61 [==============================] - 2s 31ms/step - loss: 0.2647 - cases_loss: 0.2065 - fatalities_loss: 0.0582 - val_loss: 0.3260 - val_cases_loss: 0.2389 - val_fatalities_loss: 0.0871\n",
            "Epoch 129/250\n",
            "61/61 [==============================] - 2s 31ms/step - loss: 0.3038 - cases_loss: 0.2351 - fatalities_loss: 0.0687 - val_loss: 0.3262 - val_cases_loss: 0.2386 - val_fatalities_loss: 0.0876\n",
            "Epoch 130/250\n",
            "61/61 [==============================] - 2s 31ms/step - loss: 0.3621 - cases_loss: 0.2927 - fatalities_loss: 0.0694 - val_loss: 0.3272 - val_cases_loss: 0.2388 - val_fatalities_loss: 0.0884\n",
            "Epoch 131/250\n",
            "61/61 [==============================] - 2s 31ms/step - loss: 0.2333 - cases_loss: 0.1838 - fatalities_loss: 0.0495 - val_loss: 0.3268 - val_cases_loss: 0.2386 - val_fatalities_loss: 0.0883\n",
            "Epoch 132/250\n",
            "61/61 [==============================] - 2s 30ms/step - loss: 0.3224 - cases_loss: 0.2532 - fatalities_loss: 0.0692 - val_loss: 0.3266 - val_cases_loss: 0.2387 - val_fatalities_loss: 0.0880\n",
            "\n",
            "Epoch 00132: ReduceLROnPlateau reducing learning rate to 6.046617636457085e-06.\n",
            "Epoch 133/250\n",
            "61/61 [==============================] - 2s 31ms/step - loss: 0.3812 - cases_loss: 0.3138 - fatalities_loss: 0.0674 - val_loss: 0.3266 - val_cases_loss: 0.2385 - val_fatalities_loss: 0.0881\n",
            "Epoch 134/250\n",
            "61/61 [==============================] - 2s 31ms/step - loss: 0.3816 - cases_loss: 0.3065 - fatalities_loss: 0.0751 - val_loss: 0.3263 - val_cases_loss: 0.2385 - val_fatalities_loss: 0.0878\n",
            "Epoch 135/250\n",
            "61/61 [==============================] - 2s 31ms/step - loss: 0.3372 - cases_loss: 0.2663 - fatalities_loss: 0.0709 - val_loss: 0.3264 - val_cases_loss: 0.2383 - val_fatalities_loss: 0.0882\n",
            "Epoch 136/250\n",
            "61/61 [==============================] - 2s 31ms/step - loss: 0.3251 - cases_loss: 0.2640 - fatalities_loss: 0.0611 - val_loss: 0.3262 - val_cases_loss: 0.2386 - val_fatalities_loss: 0.0876\n",
            "\n",
            "Epoch 00136: ReduceLROnPlateau reducing learning rate to 3.6279706364439334e-06.\n",
            "Epoch 137/250\n",
            "61/61 [==============================] - 2s 31ms/step - loss: 0.3252 - cases_loss: 0.2759 - fatalities_loss: 0.0493 - val_loss: 0.3266 - val_cases_loss: 0.2385 - val_fatalities_loss: 0.0882\n",
            "Epoch 138/250\n",
            "61/61 [==============================] - 2s 31ms/step - loss: 0.3127 - cases_loss: 0.2503 - fatalities_loss: 0.0624 - val_loss: 0.3263 - val_cases_loss: 0.2385 - val_fatalities_loss: 0.0878\n",
            "Epoch 139/250\n",
            "61/61 [==============================] - 2s 31ms/step - loss: 0.3493 - cases_loss: 0.2825 - fatalities_loss: 0.0668 - val_loss: 0.3257 - val_cases_loss: 0.2382 - val_fatalities_loss: 0.0875\n",
            "Epoch 140/250\n",
            "61/61 [==============================] - 2s 32ms/step - loss: 0.2892 - cases_loss: 0.2310 - fatalities_loss: 0.0582 - val_loss: 0.3260 - val_cases_loss: 0.2383 - val_fatalities_loss: 0.0877\n",
            "Epoch 141/250\n",
            "61/61 [==============================] - 2s 31ms/step - loss: 0.4008 - cases_loss: 0.3291 - fatalities_loss: 0.0717 - val_loss: 0.3263 - val_cases_loss: 0.2383 - val_fatalities_loss: 0.0880\n",
            "Epoch 142/250\n",
            "61/61 [==============================] - 2s 31ms/step - loss: 0.3243 - cases_loss: 0.2531 - fatalities_loss: 0.0712 - val_loss: 0.3259 - val_cases_loss: 0.2382 - val_fatalities_loss: 0.0877\n",
            "Epoch 143/250\n",
            "61/61 [==============================] - 2s 30ms/step - loss: 0.3890 - cases_loss: 0.3037 - fatalities_loss: 0.0853 - val_loss: 0.3260 - val_cases_loss: 0.2381 - val_fatalities_loss: 0.0878\n",
            "\n",
            "Epoch 00143: ReduceLROnPlateau reducing learning rate to 2.1767824364360423e-06.\n",
            "Epoch 144/250\n",
            "61/61 [==============================] - 2s 31ms/step - loss: 0.4085 - cases_loss: 0.3321 - fatalities_loss: 0.0764 - val_loss: 0.3257 - val_cases_loss: 0.2380 - val_fatalities_loss: 0.0877\n",
            "Epoch 145/250\n",
            "61/61 [==============================] - 2s 31ms/step - loss: 0.3037 - cases_loss: 0.2389 - fatalities_loss: 0.0648 - val_loss: 0.3258 - val_cases_loss: 0.2380 - val_fatalities_loss: 0.0878\n",
            "Epoch 146/250\n",
            "61/61 [==============================] - 2s 31ms/step - loss: 0.2785 - cases_loss: 0.2175 - fatalities_loss: 0.0610 - val_loss: 0.3255 - val_cases_loss: 0.2379 - val_fatalities_loss: 0.0876\n",
            "Epoch 147/250\n",
            "61/61 [==============================] - 2s 31ms/step - loss: 0.2960 - cases_loss: 0.2265 - fatalities_loss: 0.0695 - val_loss: 0.3257 - val_cases_loss: 0.2378 - val_fatalities_loss: 0.0879\n",
            "Epoch 148/250\n",
            "61/61 [==============================] - 2s 30ms/step - loss: 0.2931 - cases_loss: 0.2370 - fatalities_loss: 0.0561 - val_loss: 0.3256 - val_cases_loss: 0.2378 - val_fatalities_loss: 0.0878\n",
            "Epoch 149/250\n",
            "61/61 [==============================] - 2s 30ms/step - loss: 0.3366 - cases_loss: 0.2702 - fatalities_loss: 0.0664 - val_loss: 0.3255 - val_cases_loss: 0.2376 - val_fatalities_loss: 0.0879\n",
            "Epoch 150/250\n",
            "61/61 [==============================] - 2s 30ms/step - loss: 0.4176 - cases_loss: 0.3359 - fatalities_loss: 0.0816 - val_loss: 0.3251 - val_cases_loss: 0.2375 - val_fatalities_loss: 0.0876\n",
            "Epoch 151/250\n",
            "61/61 [==============================] - 2s 31ms/step - loss: 0.3262 - cases_loss: 0.2520 - fatalities_loss: 0.0742 - val_loss: 0.3251 - val_cases_loss: 0.2377 - val_fatalities_loss: 0.0875\n",
            "Epoch 152/250\n",
            "61/61 [==============================] - 2s 31ms/step - loss: 0.3339 - cases_loss: 0.2728 - fatalities_loss: 0.0611 - val_loss: 0.3255 - val_cases_loss: 0.2378 - val_fatalities_loss: 0.0878\n",
            "Epoch 153/250\n",
            "61/61 [==============================] - 2s 32ms/step - loss: 0.2779 - cases_loss: 0.2274 - fatalities_loss: 0.0505 - val_loss: 0.3255 - val_cases_loss: 0.2377 - val_fatalities_loss: 0.0879\n",
            "Epoch 154/250\n",
            "61/61 [==============================] - 2s 32ms/step - loss: 0.2883 - cases_loss: 0.2208 - fatalities_loss: 0.0675 - val_loss: 0.3255 - val_cases_loss: 0.2376 - val_fatalities_loss: 0.0879\n",
            "\n",
            "Epoch 00154: ReduceLROnPlateau reducing learning rate to 1.3060694072919432e-06.\n",
            "Epoch 155/250\n",
            "61/61 [==============================] - 2s 30ms/step - loss: 0.3403 - cases_loss: 0.2652 - fatalities_loss: 0.0751 - val_loss: 0.3251 - val_cases_loss: 0.2375 - val_fatalities_loss: 0.0876\n",
            "Epoch 156/250\n",
            "61/61 [==============================] - 2s 30ms/step - loss: 0.2824 - cases_loss: 0.2208 - fatalities_loss: 0.0616 - val_loss: 0.3252 - val_cases_loss: 0.2375 - val_fatalities_loss: 0.0877\n",
            "Epoch 157/250\n",
            "61/61 [==============================] - 2s 31ms/step - loss: 0.3217 - cases_loss: 0.2534 - fatalities_loss: 0.0683 - val_loss: 0.3252 - val_cases_loss: 0.2375 - val_fatalities_loss: 0.0877\n",
            "Epoch 158/250\n",
            "61/61 [==============================] - 2s 32ms/step - loss: 0.4982 - cases_loss: 0.3972 - fatalities_loss: 0.1010 - val_loss: 0.3251 - val_cases_loss: 0.2375 - val_fatalities_loss: 0.0876\n",
            "\n",
            "Epoch 00158: ReduceLROnPlateau reducing learning rate to 7.836416443751659e-07.\n",
            "Epoch 159/250\n",
            "61/61 [==============================] - 2s 30ms/step - loss: 0.4214 - cases_loss: 0.3383 - fatalities_loss: 0.0831 - val_loss: 0.3251 - val_cases_loss: 0.2375 - val_fatalities_loss: 0.0876\n",
            "Epoch 160/250\n",
            "61/61 [==============================] - 2s 30ms/step - loss: 0.3858 - cases_loss: 0.3029 - fatalities_loss: 0.0829 - val_loss: 0.3251 - val_cases_loss: 0.2374 - val_fatalities_loss: 0.0876\n",
            "Epoch 161/250\n",
            "61/61 [==============================] - 2s 31ms/step - loss: 0.3328 - cases_loss: 0.2643 - fatalities_loss: 0.0685 - val_loss: 0.3251 - val_cases_loss: 0.2374 - val_fatalities_loss: 0.0877\n",
            "Epoch 162/250\n",
            "61/61 [==============================] - 2s 31ms/step - loss: 0.2665 - cases_loss: 0.2211 - fatalities_loss: 0.0454 - val_loss: 0.3251 - val_cases_loss: 0.2374 - val_fatalities_loss: 0.0876\n",
            "\n",
            "Epoch 00162: ReduceLROnPlateau reducing learning rate to 4.701850002675201e-07.\n",
            "Epoch 163/250\n",
            "61/61 [==============================] - 2s 31ms/step - loss: 0.3187 - cases_loss: 0.2574 - fatalities_loss: 0.0613 - val_loss: 0.3250 - val_cases_loss: 0.2374 - val_fatalities_loss: 0.0876\n",
            "Epoch 164/250\n",
            "61/61 [==============================] - 2s 34ms/step - loss: 0.3171 - cases_loss: 0.2472 - fatalities_loss: 0.0699 - val_loss: 0.3250 - val_cases_loss: 0.2374 - val_fatalities_loss: 0.0877\n",
            "Epoch 165/250\n",
            "61/61 [==============================] - 2s 30ms/step - loss: 0.3225 - cases_loss: 0.2598 - fatalities_loss: 0.0627 - val_loss: 0.3250 - val_cases_loss: 0.2373 - val_fatalities_loss: 0.0877\n",
            "Epoch 166/250\n",
            "61/61 [==============================] - 2s 31ms/step - loss: 0.3055 - cases_loss: 0.2444 - fatalities_loss: 0.0611 - val_loss: 0.3251 - val_cases_loss: 0.2374 - val_fatalities_loss: 0.0877\n",
            "Epoch 167/250\n",
            "61/61 [==============================] - 2s 30ms/step - loss: 0.3900 - cases_loss: 0.3058 - fatalities_loss: 0.0843 - val_loss: 0.3251 - val_cases_loss: 0.2374 - val_fatalities_loss: 0.0877\n",
            "\n",
            "Epoch 00167: ReduceLROnPlateau reducing learning rate to 2.8211100016051206e-07.\n",
            "Epoch 168/250\n",
            "61/61 [==============================] - 2s 31ms/step - loss: 0.2528 - cases_loss: 0.2039 - fatalities_loss: 0.0489 - val_loss: 0.3251 - val_cases_loss: 0.2374 - val_fatalities_loss: 0.0877\n",
            "Epoch 169/250\n",
            "61/61 [==============================] - 2s 31ms/step - loss: 0.3316 - cases_loss: 0.2679 - fatalities_loss: 0.0637 - val_loss: 0.3251 - val_cases_loss: 0.2374 - val_fatalities_loss: 0.0878\n",
            "Epoch 170/250\n",
            "61/61 [==============================] - 2s 31ms/step - loss: 0.2525 - cases_loss: 0.1980 - fatalities_loss: 0.0545 - val_loss: 0.3251 - val_cases_loss: 0.2374 - val_fatalities_loss: 0.0878\n",
            "Epoch 171/250\n",
            "61/61 [==============================] - 2s 32ms/step - loss: 0.3435 - cases_loss: 0.2797 - fatalities_loss: 0.0638 - val_loss: 0.3251 - val_cases_loss: 0.2374 - val_fatalities_loss: 0.0877\n",
            "\n",
            "Epoch 00171: ReduceLROnPlateau reducing learning rate to 1.6926659327509696e-07.\n",
            "Epoch 172/250\n",
            "61/61 [==============================] - 2s 33ms/step - loss: 0.3024 - cases_loss: 0.2366 - fatalities_loss: 0.0658 - val_loss: 0.3251 - val_cases_loss: 0.2374 - val_fatalities_loss: 0.0878\n",
            "Epoch 173/250\n",
            "61/61 [==============================] - 2s 31ms/step - loss: 0.2281 - cases_loss: 0.1705 - fatalities_loss: 0.0577 - val_loss: 0.3251 - val_cases_loss: 0.2374 - val_fatalities_loss: 0.0878\n",
            "Epoch 174/250\n",
            "61/61 [==============================] - 2s 31ms/step - loss: 0.2688 - cases_loss: 0.2132 - fatalities_loss: 0.0556 - val_loss: 0.3251 - val_cases_loss: 0.2374 - val_fatalities_loss: 0.0878\n",
            "Epoch 175/250\n",
            "61/61 [==============================] - 2s 30ms/step - loss: 0.3669 - cases_loss: 0.2936 - fatalities_loss: 0.0733 - val_loss: 0.3251 - val_cases_loss: 0.2373 - val_fatalities_loss: 0.0878\n",
            "\n",
            "Epoch 00175: ReduceLROnPlateau reducing learning rate to 1.0155995937566331e-07.\n",
            "Epoch 176/250\n",
            "61/61 [==============================] - 2s 30ms/step - loss: 0.2376 - cases_loss: 0.1848 - fatalities_loss: 0.0528 - val_loss: 0.3251 - val_cases_loss: 0.2373 - val_fatalities_loss: 0.0878\n",
            "Epoch 177/250\n",
            "61/61 [==============================] - 2s 33ms/step - loss: 0.3684 - cases_loss: 0.2909 - fatalities_loss: 0.0775 - val_loss: 0.3251 - val_cases_loss: 0.2373 - val_fatalities_loss: 0.0878\n",
            "Epoch 178/250\n",
            "61/61 [==============================] - 2s 31ms/step - loss: 0.2365 - cases_loss: 0.1885 - fatalities_loss: 0.0480 - val_loss: 0.3251 - val_cases_loss: 0.2373 - val_fatalities_loss: 0.0878\n",
            "Epoch 179/250\n",
            "61/61 [==============================] - 2s 33ms/step - loss: 0.3562 - cases_loss: 0.2880 - fatalities_loss: 0.0682 - val_loss: 0.3251 - val_cases_loss: 0.2373 - val_fatalities_loss: 0.0878\n",
            "\n",
            "Epoch 00179: ReduceLROnPlateau reducing learning rate to 6.093597733070056e-08.\n",
            "Epoch 180/250\n",
            "61/61 [==============================] - 2s 31ms/step - loss: 0.2653 - cases_loss: 0.2071 - fatalities_loss: 0.0582 - val_loss: 0.3251 - val_cases_loss: 0.2373 - val_fatalities_loss: 0.0878\n",
            "Epoch 181/250\n",
            "61/61 [==============================] - 2s 31ms/step - loss: 0.2980 - cases_loss: 0.2335 - fatalities_loss: 0.0645 - val_loss: 0.3251 - val_cases_loss: 0.2373 - val_fatalities_loss: 0.0878\n",
            "Epoch 182/250\n",
            "61/61 [==============================] - 2s 31ms/step - loss: 0.2931 - cases_loss: 0.2350 - fatalities_loss: 0.0581 - val_loss: 0.3251 - val_cases_loss: 0.2373 - val_fatalities_loss: 0.0878\n",
            "Epoch 183/250\n",
            "61/61 [==============================] - 2s 31ms/step - loss: 0.4151 - cases_loss: 0.3345 - fatalities_loss: 0.0806 - val_loss: 0.3251 - val_cases_loss: 0.2373 - val_fatalities_loss: 0.0878\n",
            "\n",
            "Epoch 00183: ReduceLROnPlateau reducing learning rate to 3.656158469311776e-08.\n",
            "Epoch 184/250\n",
            "61/61 [==============================] - 2s 31ms/step - loss: 0.3848 - cases_loss: 0.3044 - fatalities_loss: 0.0804 - val_loss: 0.3251 - val_cases_loss: 0.2373 - val_fatalities_loss: 0.0878\n",
            "Epoch 185/250\n",
            "61/61 [==============================] - 2s 31ms/step - loss: 0.3887 - cases_loss: 0.3123 - fatalities_loss: 0.0764 - val_loss: 0.3251 - val_cases_loss: 0.2373 - val_fatalities_loss: 0.0878\n"
          ],
          "name": "stdout"
        }
      ]
    },
    {
      "cell_type": "code",
      "metadata": {
        "colab": {
          "base_uri": "https://localhost:8080/",
          "height": 301
        },
        "id": "i8d4mTlfiiA6",
        "outputId": "f2939405-9f35-47e7-ae31-1a84ee3c662c"
      },
      "source": [
        "plt.plot(history.history['loss'])\n",
        "plt.plot(history.history['val_loss'])\n",
        "plt.title('Loss over epochs')\n",
        "plt.ylabel('Loss')\n",
        "plt.xlabel('Epoch')\n",
        "plt.legend(['Train', 'Validation'], loc='best')\n",
        "plt.show()"
      ],
      "execution_count": null,
      "outputs": [
        {
          "output_type": "display_data",
          "data": {
            "image/png": "[encoded data removed]",
            "text/plain": [
              "<Figure size 432x288 with 1 Axes>"
            ]
          },
          "metadata": {
            "tags": []
          }
        }
      ]
    },
    {
      "cell_type": "code",
      "metadata": {
        "colab": {
          "base_uri": "https://localhost:8080/",
          "height": 301
        },
        "id": "Ke1KS1rAldrZ",
        "outputId": "6337efdb-2bf9-496b-8448-4b8ff472b489"
      },
      "source": [
        "plt.plot(history.history['cases_loss'])\n",
        "plt.plot(history.history['val_cases_loss'])\n",
        "plt.title('Loss over epochs for the number of cases')\n",
        "plt.ylabel('Loss')\n",
        "plt.xlabel('Epoch')\n",
        "plt.legend(['Train', 'Validation'], loc='best')\n",
        "plt.show()"
      ],
      "execution_count": null,
      "outputs": [
        {
          "output_type": "display_data",
          "data": {
            "image/png": "[encoded data removed]",
            "text/plain": [
              "<Figure size 432x288 with 1 Axes>"
            ]
          },
          "metadata": {
            "tags": []
          }
        }
      ]
    },
    {
      "cell_type": "code",
      "metadata": {
        "colab": {
          "base_uri": "https://localhost:8080/",
          "height": 301
        },
        "id": "HXLJV43-lhpD",
        "outputId": "e0503102-5997-4101-b537-f5f29878c507"
      },
      "source": [
        "plt.plot(history.history['fatalities_loss'])\n",
        "plt.plot(history.history['val_fatalities_loss'])\n",
        "plt.title('Loss over epochs for the number of fatalities')\n",
        "plt.ylabel('Loss')\n",
        "plt.xlabel('Epoch')\n",
        "plt.legend(['Train', 'Validation'], loc='best')\n",
        "plt.show()"
      ],
      "execution_count": null,
      "outputs": [
        {
          "output_type": "display_data",
          "data": {
            "image/png": "[encoded data removed]",
            "text/plain": [
              "<Figure size 432x288 with 1 Axes>"
            ]
          },
          "metadata": {
            "tags": []
          }
        }
      ]
    },
    {
      "cell_type": "markdown",
      "metadata": {
        "id": "qo6mNBiNljtb"
      },
      "source": [
        "## Test predict 만들기"
      ]
    },
    {
      "cell_type": "code",
      "metadata": {
        "id": "69ygmdA6liPL"
      },
      "source": [
        "model.load_weights(\"best_model.h5\")\n",
        "predictions = model.predict([X_temporal_test,X_demographic_test])\n"
      ],
      "execution_count": null,
      "outputs": []
    },
    {
      "cell_type": "code",
      "metadata": {
        "id": "m4DQ42-nlwKz"
      },
      "source": [
        "display_limit = 30\n",
        "for inputs, pred_cases, exp_cases, pred_fatalities, exp_fatalities in zip(X_temporal_test,predictions[0][:display_limit], Y_cases_test[:display_limit], predictions[1][:display_limit], Y_fatalities_test[:display_limit]):\n",
        "    print(\"================================================\")\n",
        "    print(inputs)\n",
        "    print(\"Expected cases:\", exp_cases, \" Prediction:\", pred_cases[0], \"Expected fatalities:\", exp_fatalities, \" Prediction:\", pred_fatalities[0] )"
      ],
      "execution_count": null,
      "outputs": []
    }
  ]
}