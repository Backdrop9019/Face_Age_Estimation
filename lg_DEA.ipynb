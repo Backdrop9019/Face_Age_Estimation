{
  "nbformat": 4,
  "nbformat_minor": 0,
  "metadata": {
    "colab": {
      "name": "lg_DEA.ipynb",
      "provenance": [],
      "collapsed_sections": [],
      "machine_shape": "hm"
    },
    "kernelspec": {
      "name": "python3",
      "display_name": "Python 3"
    }
  },
  "cells": [
    {
      "cell_type": "markdown",
      "metadata": {
        "id": "WZ8T5QtXXklA"
      },
      "source": [
        "https://dacon.io/competitions/official/235687/overview/description/\n",
        "\n",
        "EDA 분석을 해보자\n"
      ]
    },
    {
      "cell_type": "code",
      "metadata": {
        "id": "wZuIqdGhQbDu"
      },
      "source": [
        "!pip install pycaret"
      ],
      "execution_count": null,
      "outputs": []
    },
    {
      "cell_type": "code",
      "metadata": {
        "colab": {
          "base_uri": "https://localhost:8080/"
        },
        "id": "yJkBK_2MRJ6h",
        "outputId": "3cdd2bc9-af85-4b15-f3ad-101600f7fd26"
      },
      "source": [
        "# from pycaret.classification import *\n",
        "import pandas as pd\n",
        "import numpy as np\n",
        "import datetime as dt\n",
        "import matplotlib.pyplot as plt\n",
        "from tqdm import tqdm\n",
        "import seaborn as sns\n",
        "\n",
        "import gc\n",
        "import random\n",
        "import lightgbm as lgb\n",
        "import re\n",
        "from sklearn.metrics import *\n",
        "from sklearn.model_selection import KFold\n",
        "import warnings\n",
        "warnings.filterwarnings(action='ignore')\n",
        "\n",
        "from google.colab import drive\n",
        "\n",
        "drive.mount('/content/drive')\n",
        "\n",
        "\n",
        "PATH = '/content/drive/My Drive/Colab Notebooks/data/시스템품질변화/'"
      ],
      "execution_count": null,
      "outputs": [
        {
          "output_type": "stream",
          "text": [
            "Mounted at /content/drive\n"
          ],
          "name": "stdout"
        }
      ]
    },
    {
      "cell_type": "code",
      "metadata": {
        "id": "VV5nQR1bS-Lh"
      },
      "source": [
        "train_err  = pd.read_csv(PATH+'train/train_err_data.csv')\n",
        "train_quality  = pd.read_csv(PATH+'train/train_quality_data.csv')\n",
        "train_problem  = pd.read_csv(PATH+'train/train_problem_data.csv')\n",
        "submission  = pd.read_csv(PATH+'sample_submission.csv ')\n",
        "\n",
        "test_err  = pd.read_csv(PATH+'test/test_err_data.csv')\n",
        "test_quality  = pd.read_csv(PATH+'test/test_quality_data.csv')"
      ],
      "execution_count": null,
      "outputs": []
    },
    {
      "cell_type": "code",
      "metadata": {
        "id": "JXxJDbAgxRGn"
      },
      "source": [
        "submission  = pd.read_csv(PATH+'sample_submission.csv')\n"
      ],
      "execution_count": null,
      "outputs": []
    },
    {
      "cell_type": "code",
      "metadata": {
        "colab": {
          "base_uri": "https://localhost:8080/"
        },
        "id": "h7nnSe_uUcga",
        "outputId": "2ae12d94-f4cb-4a04-82e1-5b8f77ce0a44"
      },
      "source": [
        "# train_err\n",
        "print(\"-- Size -- \")\n",
        "print(f\"train_err : {train_err.shape}\")\n",
        "print(f\"test_err  : {test_err.shape}\")\n",
        "\n",
        "# train_quality\n",
        "print(\"-- Size -- \")\n",
        "print(f\"train_quality : {train_quality.shape}\")\n",
        "print(f\"test_quality  : {test_quality.shape}\")"
      ],
      "execution_count": null,
      "outputs": [
        {
          "output_type": "stream",
          "text": [
            "-- Size -- \n",
            "train_err : (16554663, 6)\n",
            "test_err  : (16532648, 6)\n",
            "-- Size -- \n",
            "train_quality : (828624, 16)\n",
            "test_quality  : (747972, 16)\n"
          ],
          "name": "stdout"
        }
      ]
    },
    {
      "cell_type": "code",
      "metadata": {
        "colab": {
          "base_uri": "https://localhost:8080/",
          "height": 381
        },
        "id": "2nFYpjd8X5sE",
        "outputId": "d29ad4bb-d990-40f5-a00c-c2ad8d42a74b"
      },
      "source": [
        "# Train/Test-set은 어떻게 분리되었을까?\n",
        "display(train_err.head(2))\n",
        "display(train_err.tail(2))\n",
        "display(test_err.head(2))\n",
        "display(test_err.tail(2))"
      ],
      "execution_count": null,
      "outputs": [
        {
          "output_type": "display_data",
          "data": {
            "text/html": [
              "<div>\n",
              "<style scoped>\n",
              "    .dataframe tbody tr th:only-of-type {\n",
              "        vertical-align: middle;\n",
              "    }\n",
              "\n",
              "    .dataframe tbody tr th {\n",
              "        vertical-align: top;\n",
              "    }\n",
              "\n",
              "    .dataframe thead th {\n",
              "        text-align: right;\n",
              "    }\n",
              "</style>\n",
              "<table border=\"1\" class=\"dataframe\">\n",
              "  <thead>\n",
              "    <tr style=\"text-align: right;\">\n",
              "      <th></th>\n",
              "      <th>user_id</th>\n",
              "      <th>time</th>\n",
              "      <th>model_nm</th>\n",
              "      <th>fwver</th>\n",
              "      <th>errtype</th>\n",
              "      <th>errcode</th>\n",
              "    </tr>\n",
              "  </thead>\n",
              "  <tbody>\n",
              "    <tr>\n",
              "      <th>0</th>\n",
              "      <td>10000</td>\n",
              "      <td>20201101025616</td>\n",
              "      <td>model_3</td>\n",
              "      <td>05.15.2138</td>\n",
              "      <td>15</td>\n",
              "      <td>1</td>\n",
              "    </tr>\n",
              "    <tr>\n",
              "      <th>1</th>\n",
              "      <td>10000</td>\n",
              "      <td>20201101030309</td>\n",
              "      <td>model_3</td>\n",
              "      <td>05.15.2138</td>\n",
              "      <td>12</td>\n",
              "      <td>1</td>\n",
              "    </tr>\n",
              "  </tbody>\n",
              "</table>\n",
              "</div>"
            ],
            "text/plain": [
              "   user_id            time model_nm       fwver  errtype errcode\n",
              "0    10000  20201101025616  model_3  05.15.2138       15       1\n",
              "1    10000  20201101030309  model_3  05.15.2138       12       1"
            ]
          },
          "metadata": {
            "tags": []
          }
        },
        {
          "output_type": "display_data",
          "data": {
            "text/html": [
              "<div>\n",
              "<style scoped>\n",
              "    .dataframe tbody tr th:only-of-type {\n",
              "        vertical-align: middle;\n",
              "    }\n",
              "\n",
              "    .dataframe tbody tr th {\n",
              "        vertical-align: top;\n",
              "    }\n",
              "\n",
              "    .dataframe thead th {\n",
              "        text-align: right;\n",
              "    }\n",
              "</style>\n",
              "<table border=\"1\" class=\"dataframe\">\n",
              "  <thead>\n",
              "    <tr style=\"text-align: right;\">\n",
              "      <th></th>\n",
              "      <th>user_id</th>\n",
              "      <th>time</th>\n",
              "      <th>model_nm</th>\n",
              "      <th>fwver</th>\n",
              "      <th>errtype</th>\n",
              "      <th>errcode</th>\n",
              "    </tr>\n",
              "  </thead>\n",
              "  <tbody>\n",
              "    <tr>\n",
              "      <th>16554661</th>\n",
              "      <td>24999</td>\n",
              "      <td>20201130172631</td>\n",
              "      <td>model_3</td>\n",
              "      <td>05.15.2138</td>\n",
              "      <td>4</td>\n",
              "      <td>0</td>\n",
              "    </tr>\n",
              "    <tr>\n",
              "      <th>16554662</th>\n",
              "      <td>24999</td>\n",
              "      <td>20201130210625</td>\n",
              "      <td>model_3</td>\n",
              "      <td>05.15.2138</td>\n",
              "      <td>15</td>\n",
              "      <td>1</td>\n",
              "    </tr>\n",
              "  </tbody>\n",
              "</table>\n",
              "</div>"
            ],
            "text/plain": [
              "          user_id            time model_nm       fwver  errtype errcode\n",
              "16554661    24999  20201130172631  model_3  05.15.2138        4       0\n",
              "16554662    24999  20201130210625  model_3  05.15.2138       15       1"
            ]
          },
          "metadata": {
            "tags": []
          }
        },
        {
          "output_type": "display_data",
          "data": {
            "text/html": [
              "<div>\n",
              "<style scoped>\n",
              "    .dataframe tbody tr th:only-of-type {\n",
              "        vertical-align: middle;\n",
              "    }\n",
              "\n",
              "    .dataframe tbody tr th {\n",
              "        vertical-align: top;\n",
              "    }\n",
              "\n",
              "    .dataframe thead th {\n",
              "        text-align: right;\n",
              "    }\n",
              "</style>\n",
              "<table border=\"1\" class=\"dataframe\">\n",
              "  <thead>\n",
              "    <tr style=\"text-align: right;\">\n",
              "      <th></th>\n",
              "      <th>user_id</th>\n",
              "      <th>time</th>\n",
              "      <th>model_nm</th>\n",
              "      <th>fwver</th>\n",
              "      <th>errtype</th>\n",
              "      <th>errcode</th>\n",
              "    </tr>\n",
              "  </thead>\n",
              "  <tbody>\n",
              "    <tr>\n",
              "      <th>0</th>\n",
              "      <td>30000</td>\n",
              "      <td>20201101030227</td>\n",
              "      <td>model_1</td>\n",
              "      <td>04.16.3553</td>\n",
              "      <td>31</td>\n",
              "      <td>1</td>\n",
              "    </tr>\n",
              "    <tr>\n",
              "      <th>1</th>\n",
              "      <td>30000</td>\n",
              "      <td>20201101030227</td>\n",
              "      <td>model_1</td>\n",
              "      <td>04.16.3553</td>\n",
              "      <td>33</td>\n",
              "      <td>2</td>\n",
              "    </tr>\n",
              "  </tbody>\n",
              "</table>\n",
              "</div>"
            ],
            "text/plain": [
              "   user_id            time model_nm       fwver  errtype errcode\n",
              "0    30000  20201101030227  model_1  04.16.3553       31       1\n",
              "1    30000  20201101030227  model_1  04.16.3553       33       2"
            ]
          },
          "metadata": {
            "tags": []
          }
        },
        {
          "output_type": "display_data",
          "data": {
            "text/html": [
              "<div>\n",
              "<style scoped>\n",
              "    .dataframe tbody tr th:only-of-type {\n",
              "        vertical-align: middle;\n",
              "    }\n",
              "\n",
              "    .dataframe tbody tr th {\n",
              "        vertical-align: top;\n",
              "    }\n",
              "\n",
              "    .dataframe thead th {\n",
              "        text-align: right;\n",
              "    }\n",
              "</style>\n",
              "<table border=\"1\" class=\"dataframe\">\n",
              "  <thead>\n",
              "    <tr style=\"text-align: right;\">\n",
              "      <th></th>\n",
              "      <th>user_id</th>\n",
              "      <th>time</th>\n",
              "      <th>model_nm</th>\n",
              "      <th>fwver</th>\n",
              "      <th>errtype</th>\n",
              "      <th>errcode</th>\n",
              "    </tr>\n",
              "  </thead>\n",
              "  <tbody>\n",
              "    <tr>\n",
              "      <th>16532646</th>\n",
              "      <td>44998</td>\n",
              "      <td>20201130212259</td>\n",
              "      <td>model_1</td>\n",
              "      <td>04.16.3553</td>\n",
              "      <td>16</td>\n",
              "      <td>1</td>\n",
              "    </tr>\n",
              "    <tr>\n",
              "      <th>16532647</th>\n",
              "      <td>44998</td>\n",
              "      <td>20201130212316</td>\n",
              "      <td>model_1</td>\n",
              "      <td>04.16.3553</td>\n",
              "      <td>31</td>\n",
              "      <td>0</td>\n",
              "    </tr>\n",
              "  </tbody>\n",
              "</table>\n",
              "</div>"
            ],
            "text/plain": [
              "          user_id            time model_nm       fwver  errtype errcode\n",
              "16532646    44998  20201130212259  model_1  04.16.3553       16       1\n",
              "16532647    44998  20201130212316  model_1  04.16.3553       31       0"
            ]
          },
          "metadata": {
            "tags": []
          }
        }
      ]
    },
    {
      "cell_type": "code",
      "metadata": {
        "colab": {
          "base_uri": "https://localhost:8080/",
          "height": 217
        },
        "id": "UWa8QCHubYFT",
        "outputId": "803d65ba-689e-4385-cc3a-ab4c1b27a274"
      },
      "source": [
        "# train_err / test_err의 user_id는?\n",
        "display(\"train_err\", train_err['user_id'].agg(['min','max']) )\n",
        "print(f'Size : {len(train_err)}')\n",
        "\n",
        "print('='* 80)\n",
        "\n",
        "display(\"test_err\",  test_err['user_id'].agg(['min','max']) )\n",
        "print(f'Size : {len(test_err)}')"
      ],
      "execution_count": null,
      "outputs": [
        {
          "output_type": "display_data",
          "data": {
            "application/vnd.google.colaboratory.intrinsic+json": {
              "type": "string"
            },
            "text/plain": [
              "'train_err'"
            ]
          },
          "metadata": {
            "tags": []
          }
        },
        {
          "output_type": "display_data",
          "data": {
            "text/plain": [
              "min    10000\n",
              "max    24999\n",
              "Name: user_id, dtype: int64"
            ]
          },
          "metadata": {
            "tags": []
          }
        },
        {
          "output_type": "stream",
          "text": [
            "Size : 16554663\n",
            "================================================================================\n"
          ],
          "name": "stdout"
        },
        {
          "output_type": "display_data",
          "data": {
            "application/vnd.google.colaboratory.intrinsic+json": {
              "type": "string"
            },
            "text/plain": [
              "'test_err'"
            ]
          },
          "metadata": {
            "tags": []
          }
        },
        {
          "output_type": "display_data",
          "data": {
            "text/plain": [
              "min    30000\n",
              "max    44998\n",
              "Name: user_id, dtype: int64"
            ]
          },
          "metadata": {
            "tags": []
          }
        },
        {
          "output_type": "stream",
          "text": [
            "Size : 16532648\n"
          ],
          "name": "stdout"
        }
      ]
    },
    {
      "cell_type": "code",
      "metadata": {
        "colab": {
          "base_uri": "https://localhost:8080/",
          "height": 217
        },
        "id": "bWvb3Dtvb85T",
        "outputId": "b64779c5-08e3-4eae-c2b2-370cc6c2475b"
      },
      "source": [
        "# train_quality / test_quality 의 user_id는?\n",
        "display(\"train_quality\", train_quality['user_id'].agg(['min','max']) )\n",
        "print(f'Size : {len(train_quality)}')\n",
        "\n",
        "print('='* 80)\n",
        "display(\"test_quality\",  test_quality['user_id'].agg(['min','max']) )\n",
        "print(f'Size : {len(test_quality)}')"
      ],
      "execution_count": null,
      "outputs": [
        {
          "output_type": "display_data",
          "data": {
            "application/vnd.google.colaboratory.intrinsic+json": {
              "type": "string"
            },
            "text/plain": [
              "'train_quality'"
            ]
          },
          "metadata": {
            "tags": []
          }
        },
        {
          "output_type": "display_data",
          "data": {
            "text/plain": [
              "min    10000\n",
              "max    24997\n",
              "Name: user_id, dtype: int64"
            ]
          },
          "metadata": {
            "tags": []
          }
        },
        {
          "output_type": "stream",
          "text": [
            "Size : 828624\n",
            "================================================================================\n"
          ],
          "name": "stdout"
        },
        {
          "output_type": "display_data",
          "data": {
            "application/vnd.google.colaboratory.intrinsic+json": {
              "type": "string"
            },
            "text/plain": [
              "'test_quality'"
            ]
          },
          "metadata": {
            "tags": []
          }
        },
        {
          "output_type": "display_data",
          "data": {
            "text/plain": [
              "min    30000\n",
              "max    44997\n",
              "Name: user_id, dtype: int64"
            ]
          },
          "metadata": {
            "tags": []
          }
        },
        {
          "output_type": "stream",
          "text": [
            "Size : 747972\n"
          ],
          "name": "stdout"
        }
      ]
    },
    {
      "cell_type": "code",
      "metadata": {
        "colab": {
          "base_uri": "https://localhost:8080/",
          "height": 217
        },
        "id": "whikOiVPcAoT",
        "outputId": "f846dd08-e60f-4f35-d6ba-0e057ea522eb"
      },
      "source": [
        "# train_err / test_err 의 time는?\n",
        "display(\"train_err\",  train_err['time'].agg(['min','max']) )\n",
        "print(f'Size : {len(train_err)}')\n",
        "\n",
        "print('='* 80)\n",
        "\n",
        "display(\"test_err\",  test_err['time'].agg(['min','max']) )\n",
        "print(f'Size : {len(test_err)}')"
      ],
      "execution_count": null,
      "outputs": [
        {
          "output_type": "display_data",
          "data": {
            "application/vnd.google.colaboratory.intrinsic+json": {
              "type": "string"
            },
            "text/plain": [
              "'train_err'"
            ]
          },
          "metadata": {
            "tags": []
          }
        },
        {
          "output_type": "display_data",
          "data": {
            "text/plain": [
              "min    20201031235959\n",
              "max    20201202185152\n",
              "Name: time, dtype: int64"
            ]
          },
          "metadata": {
            "tags": []
          }
        },
        {
          "output_type": "stream",
          "text": [
            "Size : 16554663\n",
            "================================================================================\n"
          ],
          "name": "stdout"
        },
        {
          "output_type": "display_data",
          "data": {
            "application/vnd.google.colaboratory.intrinsic+json": {
              "type": "string"
            },
            "text/plain": [
              "'test_err'"
            ]
          },
          "metadata": {
            "tags": []
          }
        },
        {
          "output_type": "display_data",
          "data": {
            "text/plain": [
              "min    20201031235959\n",
              "max    20201214120118\n",
              "Name: time, dtype: int64"
            ]
          },
          "metadata": {
            "tags": []
          }
        },
        {
          "output_type": "stream",
          "text": [
            "Size : 16532648\n"
          ],
          "name": "stdout"
        }
      ]
    },
    {
      "cell_type": "code",
      "metadata": {
        "colab": {
          "base_uri": "https://localhost:8080/",
          "height": 217
        },
        "id": "qtjK73DOcPoa",
        "outputId": "b9fdf6a8-d6db-415a-f79f-a8e3c5d5511b"
      },
      "source": [
        "# train_quality / test_quality 의 date는?\n",
        "display(\"train_quality\",  train_quality['time'].agg(['min','max']) )\n",
        "print(f'Size : {len(train_quality)}')\n",
        "\n",
        "print('='* 80)\n",
        "\n",
        "display(\"test_quality\",  test_quality['time'].agg(['min','max']) )\n",
        "print(f'Size : {len(test_quality)}')"
      ],
      "execution_count": null,
      "outputs": [
        {
          "output_type": "display_data",
          "data": {
            "application/vnd.google.colaboratory.intrinsic+json": {
              "type": "string"
            },
            "text/plain": [
              "'train_quality'"
            ]
          },
          "metadata": {
            "tags": []
          }
        },
        {
          "output_type": "display_data",
          "data": {
            "text/plain": [
              "min    20201031235000\n",
              "max    20201130234000\n",
              "Name: time, dtype: int64"
            ]
          },
          "metadata": {
            "tags": []
          }
        },
        {
          "output_type": "stream",
          "text": [
            "Size : 828624\n",
            "================================================================================\n"
          ],
          "name": "stdout"
        },
        {
          "output_type": "display_data",
          "data": {
            "application/vnd.google.colaboratory.intrinsic+json": {
              "type": "string"
            },
            "text/plain": [
              "'test_quality'"
            ]
          },
          "metadata": {
            "tags": []
          }
        },
        {
          "output_type": "display_data",
          "data": {
            "text/plain": [
              "min    20201031235000\n",
              "max    20201130234000\n",
              "Name: time, dtype: int64"
            ]
          },
          "metadata": {
            "tags": []
          }
        },
        {
          "output_type": "stream",
          "text": [
            "Size : 747972\n"
          ],
          "name": "stdout"
        }
      ]
    },
    {
      "cell_type": "markdown",
      "metadata": {
        "id": "y3srsVYfdyDr"
      },
      "source": [
        "시간별로 얼마나 data나왔나"
      ]
    },
    {
      "cell_type": "code",
      "metadata": {
        "colab": {
          "base_uri": "https://localhost:8080/",
          "height": 513
        },
        "id": "4YT6kc77c3uT",
        "outputId": "a4aa9444-7fac-4af4-934d-fe24879b6198"
      },
      "source": [
        "# train_err / test_err - time\n",
        "# Figure을 정의\n",
        "plt.figure(figsize = (12,8))\n",
        "\n",
        "# Train/Test-set 각각에서 특정 date가 몇 번 등장했는지 시각화 시킴\n",
        "train_err['time'].value_counts().sort_index().plot(color='b', lw=2, label='train')\n",
        "test_err['time'].value_counts().sort_index().plot(color='r',  lw=2, label='test')\n",
        "\n",
        "plt.legend()\n",
        "plt.xlabel(\"time\")\n",
        "plt.ylabel(\"# of rows\")\n",
        "plt.title(\"Distribution of date in Train/Test-ERR\");"
      ],
      "execution_count": null,
      "outputs": [
        {
          "output_type": "display_data",
          "data": {
            "image/png": "[encoded data removed]",
            "text/plain": [
              "<Figure size 864x576 with 1 Axes>"
            ]
          },
          "metadata": {
            "tags": [],
            "needs_background": "light"
          }
        }
      ]
    },
    {
      "cell_type": "code",
      "metadata": {
        "colab": {
          "base_uri": "https://localhost:8080/",
          "height": 658
        },
        "id": "q7x81MVQdAhz",
        "outputId": "6a718a11-2fca-463b-e745-afa011025800"
      },
      "source": [
        "# train_quality / test_quality - time\n",
        "# Figure을 정의\n",
        "plt.figure(figsize = (12,8))\n",
        "\n",
        "# Train/Test-set 각각에서 특정 date가 몇 번 등장했는지 시각화 시킴\n",
        "train_quality['time'].alue_counts().sort_index().plot(color='b', lw=2, label='train')\n",
        "test_quality['time'].value_counts().sort_index().plot(color='r',  lw=2, label='test')\n",
        "\n",
        "plt.legend()\n",
        "plt.xlabel(\"time\")\n",
        "plt.ylabel(\"# of rows\")\n",
        "plt.title(\"Distribution of date in Train/Test-Quality\");"
      ],
      "execution_count": null,
      "outputs": [
        {
          "output_type": "stream",
          "text": [
            "Train-set에 있는 고유한 user_id 개수 : 15000\n",
            "Test-set에 있는 고유한 user_id 개수 : 14998\n",
            "================================================================================\n",
            "Train/Test-set에 공통으로 포함되어 있는 user_id 개수 : 0\n",
            "================================================================================\n",
            "Train-set에만 있는 user_id 총 15000개 입니다.\n",
            "================================================================================\n",
            "Test-set에만 있는 user_id 총 14998개 입니다.\n"
          ],
          "name": "stdout"
        },
        {
          "output_type": "display_data",
          "data": {
            "image/png": "[encoded data removed]",
            "text/plain": [
              "<Figure size 864x576 with 1 Axes>"
            ]
          },
          "metadata": {
            "tags": [],
            "needs_background": "light"
          }
        }
      ]
    },
    {
      "cell_type": "markdown",
      "metadata": {
        "id": "e3ZtRWjxeikz"
      },
      "source": [
        "id 겹치는거 있나 보기\n"
      ]
    },
    {
      "cell_type": "code",
      "metadata": {
        "colab": {
          "base_uri": "https://localhost:8080/",
          "height": 264
        },
        "id": "xgjZU51oerzD",
        "outputId": "cd43f108-0cc6-45e8-fe2f-8e9a38f55bed"
      },
      "source": [
        "# Train/Test-set의 고유한 user_id 구함.\n",
        "train_err_errtype_set = set(train_err['user_id'])\n",
        "test_err_errtype_set  = set(test_err['user_id'])\n",
        "\n",
        "\n",
        "# Train/Test-set 고유한 user_id 개수를 구함.\n",
        "print(f\"Train-set에 있는 고유한 user_id 개수 : { len(train_err_errtype_set) }\")\n",
        "print(f\"Test-set에 있는 고유한 user_id 개수 : { len(test_err_errtype_set) }\")\n",
        "\n",
        "# Train/Test-set 모두에 포함되어있는 user_id 구함.\n",
        "print('='* 80)\n",
        "common_errtype = train_err_errtype_set.intersection(test_err_errtype_set)\n",
        "print(f\"Train/Test-set에 공통으로 포함되어 있는 user_id 개수 : {len(common_errtype)}\")\n",
        "\n",
        "# Train-set에만 있는 user_id 구함.\n",
        "print('='* 80)\n",
        "only_train_err_errtype = train_err_errtype_set.difference(test_err_errtype_set)\n",
        "print(f\"Train-set에만 있는 user_id 총 { len(only_train_err_errtype) }개 입니다.\")\n",
        "#print(f\"Train-set에만 있는 user_id : { sorted(only_train_err_errtype ) }\")\n",
        "\n",
        "# Test-set에만 있는 user_id 구함.\n",
        "print('='* 80)\n",
        "only_test_err_errtype = test_err_errtype_set.difference(train_err_errtype_set)\n",
        "print(f\"Test-set에만 있는 user_id 총 { len(only_test_err_errtype) }개 입니다.\")\n",
        "#print(f\"Test-set에만 있는 user_id : { sorted( only_test_err_errtype ) }\")"
      ],
      "execution_count": null,
      "outputs": [
        {
          "output_type": "stream",
          "text": [
            "Train-set에 있는 고유한 user_id 개수 : 15000\n"
          ],
          "name": "stdout"
        },
        {
          "output_type": "error",
          "ename": "TypeError",
          "evalue": "ignored",
          "traceback": [
            "\u001b[0;31m---------------------------------------------------------------------------\u001b[0m",
            "\u001b[0;31mTypeError\u001b[0m                                 Traceback (most recent call last)",
            "\u001b[0;32m<ipython-input-43-420091b4235e>\u001b[0m in \u001b[0;36m<module>\u001b[0;34m()\u001b[0m\n\u001b[1;32m      6\u001b[0m \u001b[0;31m# Train/Test-set 고유한 user_id 개수를 구함.\u001b[0m\u001b[0;34m\u001b[0m\u001b[0;34m\u001b[0m\u001b[0;34m\u001b[0m\u001b[0m\n\u001b[1;32m      7\u001b[0m \u001b[0mprint\u001b[0m\u001b[0;34m(\u001b[0m\u001b[0;34mf\"Train-set에 있는 고유한 user_id 개수 : { len(train_err_errtype_set) }\"\u001b[0m\u001b[0;34m)\u001b[0m\u001b[0;34m\u001b[0m\u001b[0;34m\u001b[0m\u001b[0m\n\u001b[0;32m----> 8\u001b[0;31m \u001b[0mprint\u001b[0m\u001b[0;34m(\u001b[0m\u001b[0;34mf\"Test-set에 있는 고유한 user_id 개수 : { len(test_err_errtype_set) }\"\u001b[0m\u001b[0;34m)\u001b[0m\u001b[0;34m\u001b[0m\u001b[0;34m\u001b[0m\u001b[0m\n\u001b[0m\u001b[1;32m      9\u001b[0m \u001b[0;34m\u001b[0m\u001b[0m\n\u001b[1;32m     10\u001b[0m \u001b[0;31m# Train/Test-set 모두에 포함되어있는 user_id 구함.\u001b[0m\u001b[0;34m\u001b[0m\u001b[0;34m\u001b[0m\u001b[0;34m\u001b[0m\u001b[0m\n",
            "\u001b[0;31mTypeError\u001b[0m: object of type 'int' has no len()"
          ]
        }
      ]
    },
    {
      "cell_type": "markdown",
      "metadata": {
        "id": "Mvv0adMHfnZ7"
      },
      "source": [
        "model_nm"
      ]
    },
    {
      "cell_type": "code",
      "metadata": {
        "colab": {
          "base_uri": "https://localhost:8080/"
        },
        "id": "7PdixfNyesUL",
        "outputId": "44b96ed1-6bb6-4550-d3cd-f6488b391242"
      },
      "source": [
        "# Train/Test-set의 고유한 model_nm 구함.\n",
        "train_err_errtype_set = set(train_err['model_nm'])\n",
        "test_err_errtype_set  = set(test_err['model_nm'])\n",
        "\n",
        "\n",
        "# Train/Test-set 고유한 model_nm 개수를 구함.\n",
        "print(f\"Train-set에 있는 고유한 model_nm 개수 : { len(train_err_errtype_set) }\")\n",
        "print(f\"Test-set에 있는 고유한 model_nm 개수 : { len(test_err_errtype_set) }\")\n",
        "\n",
        "# Train/Test-set 모두에 포함되어있는 model_nm 구함.\n",
        "print('='* 80)\n",
        "common_errtype = train_err_errtype_set.intersection(test_err_errtype_set)\n",
        "print(f\"Train/Test-set에 공통으로 포함되어 있는 model_nm 개수 : {len(common_errtype)}\")\n",
        "\n",
        "# Train-set에만 있는 model_nm 구함.\n",
        "print('='* 80)\n",
        "only_train_err_errtype = train_err_errtype_set.difference(test_err_errtype_set)\n",
        "print(f\"Train-set에만 있는 model_nm 총 { len(only_train_err_errtype) }개 입니다.\")\n",
        "print(f\"Train-set에만 있는 model_nm : { sorted(only_train_err_errtype ) }\")\n",
        "\n",
        "# Test-set에만 있는 model_nm 구함.\n",
        "print('='* 80)\n",
        "only_test_err_errtype = test_err_errtype_set.difference(train_err_errtype_set)\n",
        "print(f\"Test-set에만 있는 model_nm 총 { len(only_test_err_errtype) }개 입니다.\")\n",
        "print(f\"Test-set에만 있는 model_nm : { sorted( only_test_err_errtype ) }\")"
      ],
      "execution_count": null,
      "outputs": [
        {
          "output_type": "stream",
          "text": [
            "Train-set에 있는 고유한 model_nm 개수 : 9\n",
            "Test-set에 있는 고유한 model_nm 개수 : 9\n",
            "================================================================================\n",
            "Train/Test-set에 공통으로 포함되어 있는 model_nm 개수 : 9\n",
            "================================================================================\n",
            "Train-set에만 있는 model_nm 총 0개 입니다.\n",
            "Train-set에만 있는 model_nm : []\n",
            "================================================================================\n",
            "Test-set에만 있는 model_nm 총 0개 입니다.\n",
            "Test-set에만 있는 model_nm : []\n"
          ],
          "name": "stdout"
        }
      ]
    },
    {
      "cell_type": "code",
      "metadata": {
        "colab": {
          "base_uri": "https://localhost:8080/"
        },
        "id": "uWuCZrPPfxCj",
        "outputId": "17c1254e-39a3-4970-d7d2-e353c933c318"
      },
      "source": [
        "# Train/Test-set의 고유한 errcode 구함.\n",
        "train_err_errtype_set = set(train_err['errcode'])\n",
        "test_err_errtype_set  = set(test_err['errcode'])\n",
        "\n",
        "\n",
        "# Train/Test-set 고유한 errcode 개수를 구함.\n",
        "print(f\"Train-set에 있는 고유한 errcode 개수 : { len(train_err_errtype_set) }\")\n",
        "print(f\"Test-set에 있는 고유한 errcode 개수 : { len(test_err_errtype_set) }\")\n",
        "\n",
        "# Train/Test-set 모두에 포함되어있는 errcode 구함.\n",
        "print('='* 80)\n",
        "common_errtype = train_err_errtype_set.intersection(test_err_errtype_set)\n",
        "print(f\"Train/Test-set에 공통으로 포함되어 있는 errcode 개수 : {len(common_errtype)}\")\n",
        "\n",
        "# Train-set에만 있는 errcode 구함.\n",
        "print('='* 80)\n",
        "only_train_err_errtype = train_err_errtype_set.difference(test_err_errtype_set)\n",
        "print(f\"Train-set에만 있는 errcode 총 { len(only_train_err_errtype) }개 입니다.\")\n",
        "#print(f\"Train-set에만 있는 errcode : { sorted(only_train_err_errtype ) }\")\n",
        "\n",
        "# Test-set에만 있는 errcode 구함.\n",
        "print('='* 80)\n",
        "only_test_err_errtype = test_err_errtype_set.difference(train_err_errtype_set)\n",
        "print(f\"Test-set에만 있는 errcode 총 { len(only_test_err_errtype) }개 입니다.\")\n",
        "#print(f\"Test-set에만 있는 errcode : { sorted( only_test_err_errtype ) }\")"
      ],
      "execution_count": null,
      "outputs": [
        {
          "output_type": "stream",
          "text": [
            "Train-set에 있는 고유한 errcode 개수 : 2806\n",
            "Test-set에 있는 고유한 errcode 개수 : 2956\n",
            "================================================================================\n",
            "Train/Test-set에 공통으로 포함되어 있는 errcode 개수 : 1408\n",
            "================================================================================\n",
            "Train-set에만 있는 errcode 총 1398개 입니다.\n",
            "================================================================================\n",
            "Test-set에만 있는 errcode 총 1548개 입니다.\n"
          ],
          "name": "stdout"
        }
      ]
    },
    {
      "cell_type": "markdown",
      "metadata": {
        "id": "dGCVhLuXg2GU"
      },
      "source": [
        "missing value"
      ]
    },
    {
      "cell_type": "code",
      "metadata": {
        "colab": {
          "base_uri": "https://localhost:8080/",
          "height": 702
        },
        "id": "lbnkJQOegz-1",
        "outputId": "c8017aef-37fa-4dac-ef64-6a460adbf51c"
      },
      "source": [
        "import missingno as msno\n",
        "\n",
        "# Missing Values\n",
        "msno.matrix(train_err)"
      ],
      "execution_count": null,
      "outputs": [
        {
          "output_type": "execute_result",
          "data": {
            "text/plain": [
              "<matplotlib.axes._subplots.AxesSubplot at 0x7fbc6508ccf8>"
            ]
          },
          "metadata": {
            "tags": []
          },
          "execution_count": 4
        },
        {
          "output_type": "display_data",
          "data": {
            "image/png": "[encoded data removed]",
            "text/plain": [
              "<Figure size 1800x720 with 2 Axes>"
            ]
          },
          "metadata": {
            "tags": [],
            "needs_background": "light"
          }
        }
      ]
    },
    {
      "cell_type": "code",
      "metadata": {
        "colab": {
          "base_uri": "https://localhost:8080/",
          "height": 353
        },
        "id": "hYzTt1iAg1F8",
        "outputId": "6c180bdc-41b9-4f68-b9c3-fe039c6decc0"
      },
      "source": [
        "msno.matrix(test_err)"
      ],
      "execution_count": null,
      "outputs": [
        {
          "output_type": "execute_result",
          "data": {
            "text/plain": [
              "<matplotlib.axes._subplots.AxesSubplot at 0x7fbc3c6bd7b8>"
            ]
          },
          "metadata": {
            "tags": []
          },
          "execution_count": 5
        },
        {
          "output_type": "display_data",
          "data": {
            "image/png": "[encoded data removed]",
            "text/plain": [
              "<Figure size 1800x720 with 2 Axes>"
            ]
          },
          "metadata": {
            "tags": [],
            "needs_background": "light"
          }
        }
      ]
    },
    {
      "cell_type": "code",
      "metadata": {
        "colab": {
          "base_uri": "https://localhost:8080/",
          "height": 198
        },
        "id": "gjKnY8pyvoYC",
        "outputId": "546d7ac8-b079-40aa-938a-f6463c9529dc"
      },
      "source": [
        "train_problem.head()"
      ],
      "execution_count": null,
      "outputs": [
        {
          "output_type": "execute_result",
          "data": {
            "text/html": [
              "<div>\n",
              "<style scoped>\n",
              "    .dataframe tbody tr th:only-of-type {\n",
              "        vertical-align: middle;\n",
              "    }\n",
              "\n",
              "    .dataframe tbody tr th {\n",
              "        vertical-align: top;\n",
              "    }\n",
              "\n",
              "    .dataframe thead th {\n",
              "        text-align: right;\n",
              "    }\n",
              "</style>\n",
              "<table border=\"1\" class=\"dataframe\">\n",
              "  <thead>\n",
              "    <tr style=\"text-align: right;\">\n",
              "      <th></th>\n",
              "      <th>user_id</th>\n",
              "      <th>time</th>\n",
              "    </tr>\n",
              "  </thead>\n",
              "  <tbody>\n",
              "    <tr>\n",
              "      <th>0</th>\n",
              "      <td>19224</td>\n",
              "      <td>20201102200000</td>\n",
              "    </tr>\n",
              "    <tr>\n",
              "      <th>1</th>\n",
              "      <td>23664</td>\n",
              "      <td>20201116140000</td>\n",
              "    </tr>\n",
              "    <tr>\n",
              "      <th>2</th>\n",
              "      <td>15166</td>\n",
              "      <td>20201114130000</td>\n",
              "    </tr>\n",
              "    <tr>\n",
              "      <th>3</th>\n",
              "      <td>12590</td>\n",
              "      <td>20201108210000</td>\n",
              "    </tr>\n",
              "    <tr>\n",
              "      <th>4</th>\n",
              "      <td>15932</td>\n",
              "      <td>20201103210000</td>\n",
              "    </tr>\n",
              "  </tbody>\n",
              "</table>\n",
              "</div>"
            ],
            "text/plain": [
              "   user_id            time\n",
              "0    19224  20201102200000\n",
              "1    23664  20201116140000\n",
              "2    15166  20201114130000\n",
              "3    12590  20201108210000\n",
              "4    15932  20201103210000"
            ]
          },
          "metadata": {
            "tags": []
          },
          "execution_count": 14
        }
      ]
    },
    {
      "cell_type": "code",
      "metadata": {
        "colab": {
          "base_uri": "https://localhost:8080/"
        },
        "id": "FHaR4D9vyxK5",
        "outputId": "0a1a8f2d-5582-41bb-8dd6-d6abbe907088"
      },
      "source": [
        "train_problem['user_id'].value_counts().sort_index()\n"
      ],
      "execution_count": null,
      "outputs": [
        {
          "output_type": "execute_result",
          "data": {
            "text/plain": [
              "10001    1\n",
              "10004    1\n",
              "10005    1\n",
              "10006    3\n",
              "10008    1\n",
              "        ..\n",
              "24983    2\n",
              "24984    1\n",
              "24990    1\n",
              "24997    1\n",
              "24998    1\n",
              "Name: user_id, Length: 5000, dtype: int64"
            ]
          },
          "metadata": {
            "tags": []
          },
          "execution_count": 16
        }
      ]
    },
    {
      "cell_type": "markdown",
      "metadata": {
        "id": "u0IFkE7O0n3v"
      },
      "source": [
        "user_id 가 10001인 예시를 보면"
      ]
    },
    {
      "cell_type": "code",
      "metadata": {
        "colab": {
          "base_uri": "https://localhost:8080/",
          "height": 407
        },
        "id": "mVYU5m440nRg",
        "outputId": "b769ccbc-e4c8-44e9-a70e-7abbb3ef344b"
      },
      "source": [
        "train_err.loc[train_err[\"user_id\"] == 10001]"
      ],
      "execution_count": null,
      "outputs": [
        {
          "output_type": "execute_result",
          "data": {
            "text/html": [
              "<div>\n",
              "<style scoped>\n",
              "    .dataframe tbody tr th:only-of-type {\n",
              "        vertical-align: middle;\n",
              "    }\n",
              "\n",
              "    .dataframe tbody tr th {\n",
              "        vertical-align: top;\n",
              "    }\n",
              "\n",
              "    .dataframe thead th {\n",
              "        text-align: right;\n",
              "    }\n",
              "</style>\n",
              "<table border=\"1\" class=\"dataframe\">\n",
              "  <thead>\n",
              "    <tr style=\"text-align: right;\">\n",
              "      <th></th>\n",
              "      <th>user_id</th>\n",
              "      <th>time</th>\n",
              "      <th>model_nm</th>\n",
              "      <th>fwver</th>\n",
              "      <th>errtype</th>\n",
              "      <th>errcode</th>\n",
              "    </tr>\n",
              "  </thead>\n",
              "  <tbody>\n",
              "    <tr>\n",
              "      <th>317</th>\n",
              "      <td>10001</td>\n",
              "      <td>20201101020415</td>\n",
              "      <td>model_2</td>\n",
              "      <td>04.33.1185</td>\n",
              "      <td>15</td>\n",
              "      <td>1</td>\n",
              "    </tr>\n",
              "    <tr>\n",
              "      <th>318</th>\n",
              "      <td>10001</td>\n",
              "      <td>20201101020415</td>\n",
              "      <td>model_2</td>\n",
              "      <td>04.33.1185</td>\n",
              "      <td>15</td>\n",
              "      <td>1</td>\n",
              "    </tr>\n",
              "    <tr>\n",
              "      <th>319</th>\n",
              "      <td>10001</td>\n",
              "      <td>20201101020415</td>\n",
              "      <td>model_2</td>\n",
              "      <td>04.33.1185</td>\n",
              "      <td>31</td>\n",
              "      <td>1</td>\n",
              "    </tr>\n",
              "    <tr>\n",
              "      <th>320</th>\n",
              "      <td>10001</td>\n",
              "      <td>20201101020415</td>\n",
              "      <td>model_2</td>\n",
              "      <td>04.33.1185</td>\n",
              "      <td>33</td>\n",
              "      <td>2</td>\n",
              "    </tr>\n",
              "    <tr>\n",
              "      <th>321</th>\n",
              "      <td>10001</td>\n",
              "      <td>20201101020421</td>\n",
              "      <td>model_2</td>\n",
              "      <td>04.33.1185</td>\n",
              "      <td>12</td>\n",
              "      <td>1</td>\n",
              "    </tr>\n",
              "    <tr>\n",
              "      <th>...</th>\n",
              "      <td>...</td>\n",
              "      <td>...</td>\n",
              "      <td>...</td>\n",
              "      <td>...</td>\n",
              "      <td>...</td>\n",
              "      <td>...</td>\n",
              "    </tr>\n",
              "    <tr>\n",
              "      <th>2677</th>\n",
              "      <td>10001</td>\n",
              "      <td>20201130193649</td>\n",
              "      <td>model_2</td>\n",
              "      <td>04.33.1261</td>\n",
              "      <td>41</td>\n",
              "      <td>NFANDROID2</td>\n",
              "    </tr>\n",
              "    <tr>\n",
              "      <th>2678</th>\n",
              "      <td>10001</td>\n",
              "      <td>20201130214026</td>\n",
              "      <td>model_2</td>\n",
              "      <td>04.33.1261</td>\n",
              "      <td>15</td>\n",
              "      <td>1</td>\n",
              "    </tr>\n",
              "    <tr>\n",
              "      <th>2679</th>\n",
              "      <td>10001</td>\n",
              "      <td>20201130222625</td>\n",
              "      <td>model_2</td>\n",
              "      <td>04.33.1261</td>\n",
              "      <td>16</td>\n",
              "      <td>1</td>\n",
              "    </tr>\n",
              "    <tr>\n",
              "      <th>2680</th>\n",
              "      <td>10001</td>\n",
              "      <td>20201130222626</td>\n",
              "      <td>model_2</td>\n",
              "      <td>04.33.1261</td>\n",
              "      <td>31</td>\n",
              "      <td>1</td>\n",
              "    </tr>\n",
              "    <tr>\n",
              "      <th>2681</th>\n",
              "      <td>10001</td>\n",
              "      <td>20201130222646</td>\n",
              "      <td>model_2</td>\n",
              "      <td>04.33.1261</td>\n",
              "      <td>31</td>\n",
              "      <td>0</td>\n",
              "    </tr>\n",
              "  </tbody>\n",
              "</table>\n",
              "<p>2365 rows × 6 columns</p>\n",
              "</div>"
            ],
            "text/plain": [
              "      user_id            time model_nm       fwver  errtype     errcode\n",
              "317     10001  20201101020415  model_2  04.33.1185       15           1\n",
              "318     10001  20201101020415  model_2  04.33.1185       15           1\n",
              "319     10001  20201101020415  model_2  04.33.1185       31           1\n",
              "320     10001  20201101020415  model_2  04.33.1185       33           2\n",
              "321     10001  20201101020421  model_2  04.33.1185       12           1\n",
              "...       ...             ...      ...         ...      ...         ...\n",
              "2677    10001  20201130193649  model_2  04.33.1261       41  NFANDROID2\n",
              "2678    10001  20201130214026  model_2  04.33.1261       15           1\n",
              "2679    10001  20201130222625  model_2  04.33.1261       16           1\n",
              "2680    10001  20201130222626  model_2  04.33.1261       31           1\n",
              "2681    10001  20201130222646  model_2  04.33.1261       31           0\n",
              "\n",
              "[2365 rows x 6 columns]"
            ]
          },
          "metadata": {
            "tags": []
          },
          "execution_count": 20
        }
      ]
    },
    {
      "cell_type": "code",
      "metadata": {
        "id": "SdhfFDGe4kI7"
      },
      "source": [
        "set(train_err[\"errtype\"])"
      ],
      "execution_count": null,
      "outputs": []
    },
    {
      "cell_type": "code",
      "metadata": {
        "colab": {
          "base_uri": "https://localhost:8080/",
          "height": 469
        },
        "id": "2npaoxdD40Ho",
        "outputId": "814d6e27-054a-4a79-ee68-7da5d29556bd"
      },
      "source": [
        "# 전체 데이터에 대한 상관관계 HeatMap 시각화\n",
        "display(train_err.columns)\n",
        "corr = train_err.corr()\n",
        "cmap = sns.color_palette(\"Blues\")\n",
        "f, ax = plt.subplots(figsize=(10, 7))\n",
        "sns.heatmap(corr, cmap=cmap)"
      ],
      "execution_count": null,
      "outputs": [
        {
          "output_type": "display_data",
          "data": {
            "text/plain": [
              "Index(['user_id', 'time', 'model_nm', 'fwver', 'errtype', 'errcode'], dtype='object')"
            ]
          },
          "metadata": {
            "tags": []
          }
        },
        {
          "output_type": "execute_result",
          "data": {
            "text/plain": [
              "<matplotlib.axes._subplots.AxesSubplot at 0x7fbc5c280da0>"
            ]
          },
          "metadata": {
            "tags": []
          },
          "execution_count": 24
        },
        {
          "output_type": "display_data",
          "data": {
            "image/png": "[encoded data removed]",
            "text/plain": [
              "<Figure size 720x504 with 2 Axes>"
            ]
          },
          "metadata": {
            "tags": [],
            "needs_background": "light"
          }
        }
      ]
    },
    {
      "cell_type": "code",
      "metadata": {
        "colab": {
          "base_uri": "https://localhost:8080/",
          "height": 138
        },
        "id": "OrSuf1eY4-7Q",
        "outputId": "3cc953b3-0b63-44aa-9dcd-9759a4e551e4"
      },
      "source": [
        " train_err.corr()"
      ],
      "execution_count": null,
      "outputs": [
        {
          "output_type": "execute_result",
          "data": {
            "text/html": [
              "<div>\n",
              "<style scoped>\n",
              "    .dataframe tbody tr th:only-of-type {\n",
              "        vertical-align: middle;\n",
              "    }\n",
              "\n",
              "    .dataframe tbody tr th {\n",
              "        vertical-align: top;\n",
              "    }\n",
              "\n",
              "    .dataframe thead th {\n",
              "        text-align: right;\n",
              "    }\n",
              "</style>\n",
              "<table border=\"1\" class=\"dataframe\">\n",
              "  <thead>\n",
              "    <tr style=\"text-align: right;\">\n",
              "      <th></th>\n",
              "      <th>user_id</th>\n",
              "      <th>time</th>\n",
              "      <th>errtype</th>\n",
              "    </tr>\n",
              "  </thead>\n",
              "  <tbody>\n",
              "    <tr>\n",
              "      <th>user_id</th>\n",
              "      <td>1.000000</td>\n",
              "      <td>0.004574</td>\n",
              "      <td>0.020254</td>\n",
              "    </tr>\n",
              "    <tr>\n",
              "      <th>time</th>\n",
              "      <td>0.004574</td>\n",
              "      <td>1.000000</td>\n",
              "      <td>-0.017023</td>\n",
              "    </tr>\n",
              "    <tr>\n",
              "      <th>errtype</th>\n",
              "      <td>0.020254</td>\n",
              "      <td>-0.017023</td>\n",
              "      <td>1.000000</td>\n",
              "    </tr>\n",
              "  </tbody>\n",
              "</table>\n",
              "</div>"
            ],
            "text/plain": [
              "          user_id      time   errtype\n",
              "user_id  1.000000  0.004574  0.020254\n",
              "time     0.004574  1.000000 -0.017023\n",
              "errtype  0.020254 -0.017023  1.000000"
            ]
          },
          "metadata": {
            "tags": []
          },
          "execution_count": 27
        }
      ]
    },
    {
      "cell_type": "code",
      "metadata": {
        "colab": {
          "base_uri": "https://localhost:8080/"
        },
        "id": "vp2jT-Uz6M0_",
        "outputId": "bfc12ad8-3e83-42f4-e889-9cc3d3c4c221"
      },
      "source": [
        "set(train_err[\"fwver\"])"
      ],
      "execution_count": null,
      "outputs": [
        {
          "output_type": "execute_result",
          "data": {
            "text/plain": [
              "{'03.11.1141',\n",
              " '03.11.1149',\n",
              " '03.11.1167',\n",
              " '04.16.2641',\n",
              " '04.16.3345',\n",
              " '04.16.3439',\n",
              " '04.16.3553',\n",
              " '04.16.3569',\n",
              " '04.16.3571',\n",
              " '04.22.1442',\n",
              " '04.22.1656',\n",
              " '04.22.1666',\n",
              " '04.22.1684',\n",
              " '04.22.1750',\n",
              " '04.22.1778',\n",
              " '04.33.1095',\n",
              " '04.33.1125',\n",
              " '04.33.1149',\n",
              " '04.33.1171',\n",
              " '04.33.1185',\n",
              " '04.33.1261',\n",
              " '04.73.2237',\n",
              " '04.73.2571',\n",
              " '04.82.1684',\n",
              " '04.82.1730',\n",
              " '04.82.1778',\n",
              " '05.15.2090',\n",
              " '05.15.2092',\n",
              " '05.15.2114',\n",
              " '05.15.2120',\n",
              " '05.15.2122',\n",
              " '05.15.2138',\n",
              " '05.15.3104',\n",
              " '05.66.3237',\n",
              " '05.66.3571',\n",
              " '10',\n",
              " '8.5.3'}"
            ]
          },
          "metadata": {
            "tags": []
          },
          "execution_count": 34
        }
      ]
    },
    {
      "cell_type": "code",
      "metadata": {
        "id": "21gQyuwV6hrp"
      },
      "source": [
        "set(train_err[\"errcode\"])"
      ],
      "execution_count": null,
      "outputs": []
    },
    {
      "cell_type": "code",
      "metadata": {
        "colab": {
          "base_uri": "https://localhost:8080/",
          "height": 182
        },
        "id": "DaW8mdDu8pPD",
        "outputId": "8fd31f83-94c6-48cc-ac9c-5b22caeaf103"
      },
      "source": [
        "# model_nm\n",
        "fig = plt.figure(figsize=(18,9))\n",
        "plt.subplots_adjust(hspace=.5)\n",
        "\n",
        "plt.subplot2grid((3,3), (0,0), colspan = 3)\n",
        "train_err['model_nm'].value_counts()[:100].plot(kind='bar', alpha=0.7)\n",
        "plt.title('type Values in the Training Set - train ()')"
      ],
      "execution_count": null,
      "outputs": [
        {
          "output_type": "execute_result",
          "data": {
            "text/plain": [
              "Text(0.5, 1.0, 'type Values in the Training Set - train ()')"
            ]
          },
          "metadata": {
            "tags": []
          },
          "execution_count": 37
        },
        {
          "output_type": "display_data",
          "data": {
            "image/png": "[encoded data removed]",
            "text/plain": [
              "<Figure size 1296x648 with 1 Axes>"
            ]
          },
          "metadata": {
            "tags": [],
            "needs_background": "light"
          }
        }
      ]
    },
    {
      "cell_type": "markdown",
      "metadata": {
        "id": "52OkwS6y_xG5"
      },
      "source": [
        ""
      ]
    },
    {
      "cell_type": "code",
      "metadata": {
        "colab": {
          "base_uri": "https://localhost:8080/",
          "height": 1000
        },
        "id": "wLy_G6jh6SlH",
        "outputId": "6ad265b3-7b77-4bf7-d5b5-705a68acb2eb"
      },
      "source": [
        "def func(user_id):\n",
        "  display(train_err.loc[train_err[\"user_id\"] == user_id])\n",
        "  display(train_quality.loc[train_quality[\"user_id\"] == user_id])\n",
        "  display(train_problem.loc[train_problem[\"user_id\"] == user_id])\n",
        "# display(train_quality.loc[train_quality[\"user_id\"]==10003])\n",
        "\n",
        "func(10004)"
      ],
      "execution_count": null,
      "outputs": [
        {
          "output_type": "display_data",
          "data": {
            "text/html": [
              "<div>\n",
              "<style scoped>\n",
              "    .dataframe tbody tr th:only-of-type {\n",
              "        vertical-align: middle;\n",
              "    }\n",
              "\n",
              "    .dataframe tbody tr th {\n",
              "        vertical-align: top;\n",
              "    }\n",
              "\n",
              "    .dataframe thead th {\n",
              "        text-align: right;\n",
              "    }\n",
              "</style>\n",
              "<table border=\"1\" class=\"dataframe\">\n",
              "  <thead>\n",
              "    <tr style=\"text-align: right;\">\n",
              "      <th></th>\n",
              "      <th>user_id</th>\n",
              "      <th>time</th>\n",
              "      <th>model_nm</th>\n",
              "      <th>fwver</th>\n",
              "      <th>errtype</th>\n",
              "      <th>errcode</th>\n",
              "    </tr>\n",
              "  </thead>\n",
              "  <tbody>\n",
              "    <tr>\n",
              "      <th>3294</th>\n",
              "      <td>10004</td>\n",
              "      <td>20201101024647</td>\n",
              "      <td>model_0</td>\n",
              "      <td>04.22.1750</td>\n",
              "      <td>13</td>\n",
              "      <td>1</td>\n",
              "    </tr>\n",
              "    <tr>\n",
              "      <th>3295</th>\n",
              "      <td>10004</td>\n",
              "      <td>20201101024647</td>\n",
              "      <td>model_0</td>\n",
              "      <td>04.22.1750</td>\n",
              "      <td>12</td>\n",
              "      <td>1</td>\n",
              "    </tr>\n",
              "    <tr>\n",
              "      <th>3296</th>\n",
              "      <td>10004</td>\n",
              "      <td>20201101024652</td>\n",
              "      <td>model_0</td>\n",
              "      <td>04.22.1750</td>\n",
              "      <td>14</td>\n",
              "      <td>13</td>\n",
              "    </tr>\n",
              "    <tr>\n",
              "      <th>3297</th>\n",
              "      <td>10004</td>\n",
              "      <td>20201101024746</td>\n",
              "      <td>model_0</td>\n",
              "      <td>04.22.1750</td>\n",
              "      <td>6</td>\n",
              "      <td>14</td>\n",
              "    </tr>\n",
              "    <tr>\n",
              "      <th>3298</th>\n",
              "      <td>10004</td>\n",
              "      <td>20201101024747</td>\n",
              "      <td>model_0</td>\n",
              "      <td>04.22.1750</td>\n",
              "      <td>7</td>\n",
              "      <td>14</td>\n",
              "    </tr>\n",
              "    <tr>\n",
              "      <th>...</th>\n",
              "      <td>...</td>\n",
              "      <td>...</td>\n",
              "      <td>...</td>\n",
              "      <td>...</td>\n",
              "      <td>...</td>\n",
              "      <td>...</td>\n",
              "    </tr>\n",
              "    <tr>\n",
              "      <th>4066</th>\n",
              "      <td>10004</td>\n",
              "      <td>20201130214621</td>\n",
              "      <td>model_0</td>\n",
              "      <td>04.22.1778</td>\n",
              "      <td>31</td>\n",
              "      <td>1</td>\n",
              "    </tr>\n",
              "    <tr>\n",
              "      <th>4067</th>\n",
              "      <td>10004</td>\n",
              "      <td>20201130214639</td>\n",
              "      <td>model_0</td>\n",
              "      <td>04.22.1778</td>\n",
              "      <td>31</td>\n",
              "      <td>0</td>\n",
              "    </tr>\n",
              "    <tr>\n",
              "      <th>4068</th>\n",
              "      <td>10004</td>\n",
              "      <td>20201130221620</td>\n",
              "      <td>model_0</td>\n",
              "      <td>04.22.1778</td>\n",
              "      <td>23</td>\n",
              "      <td>active</td>\n",
              "    </tr>\n",
              "    <tr>\n",
              "      <th>4069</th>\n",
              "      <td>10004</td>\n",
              "      <td>20201130221633</td>\n",
              "      <td>model_0</td>\n",
              "      <td>04.22.1778</td>\n",
              "      <td>22</td>\n",
              "      <td>1</td>\n",
              "    </tr>\n",
              "    <tr>\n",
              "      <th>4070</th>\n",
              "      <td>10004</td>\n",
              "      <td>20201130230630</td>\n",
              "      <td>model_0</td>\n",
              "      <td>04.22.1778</td>\n",
              "      <td>15</td>\n",
              "      <td>1</td>\n",
              "    </tr>\n",
              "  </tbody>\n",
              "</table>\n",
              "<p>777 rows × 6 columns</p>\n",
              "</div>"
            ],
            "text/plain": [
              "      user_id            time model_nm       fwver  errtype errcode\n",
              "3294    10004  20201101024647  model_0  04.22.1750       13       1\n",
              "3295    10004  20201101024647  model_0  04.22.1750       12       1\n",
              "3296    10004  20201101024652  model_0  04.22.1750       14      13\n",
              "3297    10004  20201101024746  model_0  04.22.1750        6      14\n",
              "3298    10004  20201101024747  model_0  04.22.1750        7      14\n",
              "...       ...             ...      ...         ...      ...     ...\n",
              "4066    10004  20201130214621  model_0  04.22.1778       31       1\n",
              "4067    10004  20201130214639  model_0  04.22.1778       31       0\n",
              "4068    10004  20201130221620  model_0  04.22.1778       23  active\n",
              "4069    10004  20201130221633  model_0  04.22.1778       22       1\n",
              "4070    10004  20201130230630  model_0  04.22.1778       15       1\n",
              "\n",
              "[777 rows x 6 columns]"
            ]
          },
          "metadata": {
            "tags": []
          }
        },
        {
          "output_type": "display_data",
          "data": {
            "text/html": [
              "<div>\n",
              "<style scoped>\n",
              "    .dataframe tbody tr th:only-of-type {\n",
              "        vertical-align: middle;\n",
              "    }\n",
              "\n",
              "    .dataframe tbody tr th {\n",
              "        vertical-align: top;\n",
              "    }\n",
              "\n",
              "    .dataframe thead th {\n",
              "        text-align: right;\n",
              "    }\n",
              "</style>\n",
              "<table border=\"1\" class=\"dataframe\">\n",
              "  <thead>\n",
              "    <tr style=\"text-align: right;\">\n",
              "      <th></th>\n",
              "      <th>time</th>\n",
              "      <th>user_id</th>\n",
              "      <th>fwver</th>\n",
              "      <th>quality_0</th>\n",
              "      <th>quality_1</th>\n",
              "      <th>quality_2</th>\n",
              "      <th>quality_3</th>\n",
              "      <th>quality_4</th>\n",
              "      <th>quality_5</th>\n",
              "      <th>quality_6</th>\n",
              "      <th>quality_7</th>\n",
              "      <th>quality_8</th>\n",
              "      <th>quality_9</th>\n",
              "      <th>quality_10</th>\n",
              "      <th>quality_11</th>\n",
              "      <th>quality_12</th>\n",
              "    </tr>\n",
              "  </thead>\n",
              "  <tbody>\n",
              "    <tr>\n",
              "      <th>120</th>\n",
              "      <td>20201102232000</td>\n",
              "      <td>10004</td>\n",
              "      <td>04.22.1750</td>\n",
              "      <td>0.0</td>\n",
              "      <td>0</td>\n",
              "      <td>0.0</td>\n",
              "      <td>0</td>\n",
              "      <td>0</td>\n",
              "      <td>0</td>\n",
              "      <td>0</td>\n",
              "      <td>0</td>\n",
              "      <td>0</td>\n",
              "      <td>0</td>\n",
              "      <td>3</td>\n",
              "      <td>0</td>\n",
              "      <td>0</td>\n",
              "    </tr>\n",
              "    <tr>\n",
              "      <th>121</th>\n",
              "      <td>20201102232000</td>\n",
              "      <td>10004</td>\n",
              "      <td>04.22.1750</td>\n",
              "      <td>0.0</td>\n",
              "      <td>0</td>\n",
              "      <td>0.0</td>\n",
              "      <td>0</td>\n",
              "      <td>0</td>\n",
              "      <td>1</td>\n",
              "      <td>0</td>\n",
              "      <td>0</td>\n",
              "      <td>0</td>\n",
              "      <td>0</td>\n",
              "      <td>3</td>\n",
              "      <td>0</td>\n",
              "      <td>0</td>\n",
              "    </tr>\n",
              "    <tr>\n",
              "      <th>122</th>\n",
              "      <td>20201102232000</td>\n",
              "      <td>10004</td>\n",
              "      <td>04.22.1750</td>\n",
              "      <td>0.0</td>\n",
              "      <td>0</td>\n",
              "      <td>0.0</td>\n",
              "      <td>0</td>\n",
              "      <td>0</td>\n",
              "      <td>0</td>\n",
              "      <td>0</td>\n",
              "      <td>0</td>\n",
              "      <td>0</td>\n",
              "      <td>0</td>\n",
              "      <td>3</td>\n",
              "      <td>0</td>\n",
              "      <td>0</td>\n",
              "    </tr>\n",
              "    <tr>\n",
              "      <th>123</th>\n",
              "      <td>20201102232000</td>\n",
              "      <td>10004</td>\n",
              "      <td>04.22.1750</td>\n",
              "      <td>0.0</td>\n",
              "      <td>0</td>\n",
              "      <td>0.0</td>\n",
              "      <td>0</td>\n",
              "      <td>0</td>\n",
              "      <td>0</td>\n",
              "      <td>0</td>\n",
              "      <td>0</td>\n",
              "      <td>0</td>\n",
              "      <td>0</td>\n",
              "      <td>3</td>\n",
              "      <td>0</td>\n",
              "      <td>0</td>\n",
              "    </tr>\n",
              "    <tr>\n",
              "      <th>124</th>\n",
              "      <td>20201102232000</td>\n",
              "      <td>10004</td>\n",
              "      <td>04.22.1750</td>\n",
              "      <td>0.0</td>\n",
              "      <td>0</td>\n",
              "      <td>0.0</td>\n",
              "      <td>0</td>\n",
              "      <td>0</td>\n",
              "      <td>2</td>\n",
              "      <td>0</td>\n",
              "      <td>0</td>\n",
              "      <td>0</td>\n",
              "      <td>0</td>\n",
              "      <td>3</td>\n",
              "      <td>0</td>\n",
              "      <td>0</td>\n",
              "    </tr>\n",
              "    <tr>\n",
              "      <th>125</th>\n",
              "      <td>20201102232000</td>\n",
              "      <td>10004</td>\n",
              "      <td>04.22.1750</td>\n",
              "      <td>0.0</td>\n",
              "      <td>0</td>\n",
              "      <td>0.0</td>\n",
              "      <td>0</td>\n",
              "      <td>0</td>\n",
              "      <td>0</td>\n",
              "      <td>0</td>\n",
              "      <td>0</td>\n",
              "      <td>0</td>\n",
              "      <td>0</td>\n",
              "      <td>3</td>\n",
              "      <td>0</td>\n",
              "      <td>0</td>\n",
              "    </tr>\n",
              "    <tr>\n",
              "      <th>126</th>\n",
              "      <td>20201102232000</td>\n",
              "      <td>10004</td>\n",
              "      <td>04.22.1750</td>\n",
              "      <td>0.0</td>\n",
              "      <td>0</td>\n",
              "      <td>0.0</td>\n",
              "      <td>0</td>\n",
              "      <td>0</td>\n",
              "      <td>0</td>\n",
              "      <td>0</td>\n",
              "      <td>0</td>\n",
              "      <td>0</td>\n",
              "      <td>0</td>\n",
              "      <td>3</td>\n",
              "      <td>0</td>\n",
              "      <td>0</td>\n",
              "    </tr>\n",
              "    <tr>\n",
              "      <th>127</th>\n",
              "      <td>20201102232000</td>\n",
              "      <td>10004</td>\n",
              "      <td>04.22.1750</td>\n",
              "      <td>0.0</td>\n",
              "      <td>0</td>\n",
              "      <td>0.0</td>\n",
              "      <td>0</td>\n",
              "      <td>0</td>\n",
              "      <td>0</td>\n",
              "      <td>0</td>\n",
              "      <td>0</td>\n",
              "      <td>0</td>\n",
              "      <td>0</td>\n",
              "      <td>3</td>\n",
              "      <td>0</td>\n",
              "      <td>0</td>\n",
              "    </tr>\n",
              "    <tr>\n",
              "      <th>128</th>\n",
              "      <td>20201102232000</td>\n",
              "      <td>10004</td>\n",
              "      <td>04.22.1750</td>\n",
              "      <td>0.0</td>\n",
              "      <td>0</td>\n",
              "      <td>0.0</td>\n",
              "      <td>0</td>\n",
              "      <td>0</td>\n",
              "      <td>0</td>\n",
              "      <td>0</td>\n",
              "      <td>0</td>\n",
              "      <td>0</td>\n",
              "      <td>0</td>\n",
              "      <td>3</td>\n",
              "      <td>0</td>\n",
              "      <td>0</td>\n",
              "    </tr>\n",
              "    <tr>\n",
              "      <th>129</th>\n",
              "      <td>20201102232000</td>\n",
              "      <td>10004</td>\n",
              "      <td>04.22.1750</td>\n",
              "      <td>0.0</td>\n",
              "      <td>0</td>\n",
              "      <td>0.0</td>\n",
              "      <td>0</td>\n",
              "      <td>0</td>\n",
              "      <td>0</td>\n",
              "      <td>0</td>\n",
              "      <td>0</td>\n",
              "      <td>0</td>\n",
              "      <td>0</td>\n",
              "      <td>3</td>\n",
              "      <td>0</td>\n",
              "      <td>0</td>\n",
              "    </tr>\n",
              "    <tr>\n",
              "      <th>130</th>\n",
              "      <td>20201102232000</td>\n",
              "      <td>10004</td>\n",
              "      <td>04.22.1750</td>\n",
              "      <td>-1.0</td>\n",
              "      <td>-1</td>\n",
              "      <td>-1.0</td>\n",
              "      <td>0</td>\n",
              "      <td>0</td>\n",
              "      <td>-1</td>\n",
              "      <td>-1</td>\n",
              "      <td>0</td>\n",
              "      <td>0</td>\n",
              "      <td>0</td>\n",
              "      <td>3</td>\n",
              "      <td>-1</td>\n",
              "      <td>0</td>\n",
              "    </tr>\n",
              "    <tr>\n",
              "      <th>131</th>\n",
              "      <td>20201102232000</td>\n",
              "      <td>10004</td>\n",
              "      <td>04.22.1750</td>\n",
              "      <td>-1.0</td>\n",
              "      <td>-1</td>\n",
              "      <td>-1.0</td>\n",
              "      <td>0</td>\n",
              "      <td>0</td>\n",
              "      <td>-1</td>\n",
              "      <td>-1</td>\n",
              "      <td>0</td>\n",
              "      <td>0</td>\n",
              "      <td>0</td>\n",
              "      <td>3</td>\n",
              "      <td>-1</td>\n",
              "      <td>0</td>\n",
              "    </tr>\n",
              "    <tr>\n",
              "      <th>132</th>\n",
              "      <td>20201104123000</td>\n",
              "      <td>10004</td>\n",
              "      <td>04.22.1750</td>\n",
              "      <td>0.0</td>\n",
              "      <td>0</td>\n",
              "      <td>0.0</td>\n",
              "      <td>0</td>\n",
              "      <td>0</td>\n",
              "      <td>0</td>\n",
              "      <td>0</td>\n",
              "      <td>87</td>\n",
              "      <td>0</td>\n",
              "      <td>0</td>\n",
              "      <td>1</td>\n",
              "      <td>0</td>\n",
              "      <td>0</td>\n",
              "    </tr>\n",
              "    <tr>\n",
              "      <th>133</th>\n",
              "      <td>20201104123000</td>\n",
              "      <td>10004</td>\n",
              "      <td>04.22.1750</td>\n",
              "      <td>0.0</td>\n",
              "      <td>0</td>\n",
              "      <td>0.0</td>\n",
              "      <td>0</td>\n",
              "      <td>0</td>\n",
              "      <td>0</td>\n",
              "      <td>0</td>\n",
              "      <td>87</td>\n",
              "      <td>0</td>\n",
              "      <td>0</td>\n",
              "      <td>1</td>\n",
              "      <td>0</td>\n",
              "      <td>0</td>\n",
              "    </tr>\n",
              "    <tr>\n",
              "      <th>134</th>\n",
              "      <td>20201104123000</td>\n",
              "      <td>10004</td>\n",
              "      <td>04.22.1750</td>\n",
              "      <td>0.0</td>\n",
              "      <td>0</td>\n",
              "      <td>0.0</td>\n",
              "      <td>0</td>\n",
              "      <td>0</td>\n",
              "      <td>0</td>\n",
              "      <td>0</td>\n",
              "      <td>87</td>\n",
              "      <td>0</td>\n",
              "      <td>0</td>\n",
              "      <td>1</td>\n",
              "      <td>0</td>\n",
              "      <td>0</td>\n",
              "    </tr>\n",
              "    <tr>\n",
              "      <th>135</th>\n",
              "      <td>20201104123000</td>\n",
              "      <td>10004</td>\n",
              "      <td>04.22.1750</td>\n",
              "      <td>0.0</td>\n",
              "      <td>0</td>\n",
              "      <td>0.0</td>\n",
              "      <td>0</td>\n",
              "      <td>0</td>\n",
              "      <td>0</td>\n",
              "      <td>0</td>\n",
              "      <td>87</td>\n",
              "      <td>0</td>\n",
              "      <td>0</td>\n",
              "      <td>1</td>\n",
              "      <td>0</td>\n",
              "      <td>0</td>\n",
              "    </tr>\n",
              "    <tr>\n",
              "      <th>136</th>\n",
              "      <td>20201104123000</td>\n",
              "      <td>10004</td>\n",
              "      <td>04.22.1750</td>\n",
              "      <td>0.0</td>\n",
              "      <td>0</td>\n",
              "      <td>0.0</td>\n",
              "      <td>0</td>\n",
              "      <td>0</td>\n",
              "      <td>0</td>\n",
              "      <td>0</td>\n",
              "      <td>87</td>\n",
              "      <td>0</td>\n",
              "      <td>0</td>\n",
              "      <td>1</td>\n",
              "      <td>0</td>\n",
              "      <td>0</td>\n",
              "    </tr>\n",
              "    <tr>\n",
              "      <th>137</th>\n",
              "      <td>20201104123000</td>\n",
              "      <td>10004</td>\n",
              "      <td>04.22.1750</td>\n",
              "      <td>0.0</td>\n",
              "      <td>0</td>\n",
              "      <td>0.0</td>\n",
              "      <td>0</td>\n",
              "      <td>0</td>\n",
              "      <td>1</td>\n",
              "      <td>87</td>\n",
              "      <td>87</td>\n",
              "      <td>0</td>\n",
              "      <td>0</td>\n",
              "      <td>1</td>\n",
              "      <td>0</td>\n",
              "      <td>0</td>\n",
              "    </tr>\n",
              "    <tr>\n",
              "      <th>138</th>\n",
              "      <td>20201104123000</td>\n",
              "      <td>10004</td>\n",
              "      <td>04.22.1750</td>\n",
              "      <td>0.0</td>\n",
              "      <td>0</td>\n",
              "      <td>0.0</td>\n",
              "      <td>0</td>\n",
              "      <td>0</td>\n",
              "      <td>0</td>\n",
              "      <td>0</td>\n",
              "      <td>87</td>\n",
              "      <td>0</td>\n",
              "      <td>0</td>\n",
              "      <td>1</td>\n",
              "      <td>0</td>\n",
              "      <td>0</td>\n",
              "    </tr>\n",
              "    <tr>\n",
              "      <th>139</th>\n",
              "      <td>20201104123000</td>\n",
              "      <td>10004</td>\n",
              "      <td>04.22.1750</td>\n",
              "      <td>0.0</td>\n",
              "      <td>0</td>\n",
              "      <td>0.0</td>\n",
              "      <td>0</td>\n",
              "      <td>0</td>\n",
              "      <td>0</td>\n",
              "      <td>0</td>\n",
              "      <td>87</td>\n",
              "      <td>0</td>\n",
              "      <td>0</td>\n",
              "      <td>1</td>\n",
              "      <td>0</td>\n",
              "      <td>0</td>\n",
              "    </tr>\n",
              "    <tr>\n",
              "      <th>140</th>\n",
              "      <td>20201104123000</td>\n",
              "      <td>10004</td>\n",
              "      <td>04.22.1750</td>\n",
              "      <td>0.0</td>\n",
              "      <td>0</td>\n",
              "      <td>0.0</td>\n",
              "      <td>0</td>\n",
              "      <td>0</td>\n",
              "      <td>0</td>\n",
              "      <td>0</td>\n",
              "      <td>87</td>\n",
              "      <td>0</td>\n",
              "      <td>0</td>\n",
              "      <td>1</td>\n",
              "      <td>0</td>\n",
              "      <td>0</td>\n",
              "    </tr>\n",
              "    <tr>\n",
              "      <th>141</th>\n",
              "      <td>20201104123000</td>\n",
              "      <td>10004</td>\n",
              "      <td>04.22.1750</td>\n",
              "      <td>0.0</td>\n",
              "      <td>0</td>\n",
              "      <td>0.0</td>\n",
              "      <td>0</td>\n",
              "      <td>0</td>\n",
              "      <td>0</td>\n",
              "      <td>0</td>\n",
              "      <td>87</td>\n",
              "      <td>0</td>\n",
              "      <td>0</td>\n",
              "      <td>1</td>\n",
              "      <td>0</td>\n",
              "      <td>0</td>\n",
              "    </tr>\n",
              "    <tr>\n",
              "      <th>142</th>\n",
              "      <td>20201104123000</td>\n",
              "      <td>10004</td>\n",
              "      <td>04.22.1750</td>\n",
              "      <td>0.0</td>\n",
              "      <td>0</td>\n",
              "      <td>0.0</td>\n",
              "      <td>0</td>\n",
              "      <td>0</td>\n",
              "      <td>0</td>\n",
              "      <td>0</td>\n",
              "      <td>87</td>\n",
              "      <td>0</td>\n",
              "      <td>0</td>\n",
              "      <td>1</td>\n",
              "      <td>0</td>\n",
              "      <td>0</td>\n",
              "    </tr>\n",
              "    <tr>\n",
              "      <th>143</th>\n",
              "      <td>20201104123000</td>\n",
              "      <td>10004</td>\n",
              "      <td>04.22.1750</td>\n",
              "      <td>0.0</td>\n",
              "      <td>0</td>\n",
              "      <td>0.0</td>\n",
              "      <td>0</td>\n",
              "      <td>0</td>\n",
              "      <td>0</td>\n",
              "      <td>0</td>\n",
              "      <td>87</td>\n",
              "      <td>0</td>\n",
              "      <td>0</td>\n",
              "      <td>1</td>\n",
              "      <td>0</td>\n",
              "      <td>0</td>\n",
              "    </tr>\n",
              "  </tbody>\n",
              "</table>\n",
              "</div>"
            ],
            "text/plain": [
              "               time  user_id       fwver  ...  quality_10  quality_11  quality_12\n",
              "120  20201102232000    10004  04.22.1750  ...           3           0           0\n",
              "121  20201102232000    10004  04.22.1750  ...           3           0           0\n",
              "122  20201102232000    10004  04.22.1750  ...           3           0           0\n",
              "123  20201102232000    10004  04.22.1750  ...           3           0           0\n",
              "124  20201102232000    10004  04.22.1750  ...           3           0           0\n",
              "125  20201102232000    10004  04.22.1750  ...           3           0           0\n",
              "126  20201102232000    10004  04.22.1750  ...           3           0           0\n",
              "127  20201102232000    10004  04.22.1750  ...           3           0           0\n",
              "128  20201102232000    10004  04.22.1750  ...           3           0           0\n",
              "129  20201102232000    10004  04.22.1750  ...           3           0           0\n",
              "130  20201102232000    10004  04.22.1750  ...           3          -1           0\n",
              "131  20201102232000    10004  04.22.1750  ...           3          -1           0\n",
              "132  20201104123000    10004  04.22.1750  ...           1           0           0\n",
              "133  20201104123000    10004  04.22.1750  ...           1           0           0\n",
              "134  20201104123000    10004  04.22.1750  ...           1           0           0\n",
              "135  20201104123000    10004  04.22.1750  ...           1           0           0\n",
              "136  20201104123000    10004  04.22.1750  ...           1           0           0\n",
              "137  20201104123000    10004  04.22.1750  ...           1           0           0\n",
              "138  20201104123000    10004  04.22.1750  ...           1           0           0\n",
              "139  20201104123000    10004  04.22.1750  ...           1           0           0\n",
              "140  20201104123000    10004  04.22.1750  ...           1           0           0\n",
              "141  20201104123000    10004  04.22.1750  ...           1           0           0\n",
              "142  20201104123000    10004  04.22.1750  ...           1           0           0\n",
              "143  20201104123000    10004  04.22.1750  ...           1           0           0\n",
              "\n",
              "[24 rows x 16 columns]"
            ]
          },
          "metadata": {
            "tags": []
          }
        },
        {
          "output_type": "display_data",
          "data": {
            "text/html": [
              "<div>\n",
              "<style scoped>\n",
              "    .dataframe tbody tr th:only-of-type {\n",
              "        vertical-align: middle;\n",
              "    }\n",
              "\n",
              "    .dataframe tbody tr th {\n",
              "        vertical-align: top;\n",
              "    }\n",
              "\n",
              "    .dataframe thead th {\n",
              "        text-align: right;\n",
              "    }\n",
              "</style>\n",
              "<table border=\"1\" class=\"dataframe\">\n",
              "  <thead>\n",
              "    <tr style=\"text-align: right;\">\n",
              "      <th></th>\n",
              "      <th>user_id</th>\n",
              "      <th>time</th>\n",
              "    </tr>\n",
              "  </thead>\n",
              "  <tbody>\n",
              "    <tr>\n",
              "      <th>492</th>\n",
              "      <td>10004</td>\n",
              "      <td>20201104120000</td>\n",
              "    </tr>\n",
              "  </tbody>\n",
              "</table>\n",
              "</div>"
            ],
            "text/plain": [
              "     user_id            time\n",
              "492    10004  20201104120000"
            ]
          },
          "metadata": {
            "tags": []
          }
        }
      ]
    },
    {
      "cell_type": "code",
      "metadata": {
        "colab": {
          "base_uri": "https://localhost:8080/"
        },
        "id": "v3csQeoy-1FQ",
        "outputId": "55a44d50-45ee-4735-c121-c586565c61fa"
      },
      "source": [
        "\n",
        "\n",
        "train_problem[\"user_id\"].is_unique\n",
        "\n",
        "\n"
      ],
      "execution_count": null,
      "outputs": [
        {
          "output_type": "execute_result",
          "data": {
            "text/plain": [
              "False"
            ]
          },
          "metadata": {
            "tags": []
          },
          "execution_count": 51
        }
      ]
    },
    {
      "cell_type": "code",
      "metadata": {
        "colab": {
          "base_uri": "https://localhost:8080/"
        },
        "id": "JXEgjg9G_XDp",
        "outputId": "7d6836a4-8d60-44d0-c7ed-c4ced399666e"
      },
      "source": [
        "pd.DataFrame(np.array([1,2,3]))[0].is_unique"
      ],
      "execution_count": null,
      "outputs": [
        {
          "output_type": "execute_result",
          "data": {
            "text/plain": [
              "True"
            ]
          },
          "metadata": {
            "tags": []
          },
          "execution_count": 61
        }
      ]
    },
    {
      "cell_type": "markdown",
      "metadata": {
        "id": "_2p6Aaok_yKh"
      },
      "source": [
        "## 보니까 \n",
        "train_err : 시스템에 발생한 에러 로그\n",
        "\n",
        "train_quality : 시스템 퀄리티 로그\n",
        "\n",
        "위에 두개보고 에러났는지 파악\n",
        "\n",
        "train_problem 에서 불만 접수시간 있음. 근데 불만 확률을 예측하는게 문제임\n",
        "\n",
        "train_problem는 한사용자가 여러 불만을 접수 할 수도 있음\n",
        "\n"
      ]
    },
    {
      "cell_type": "code",
      "metadata": {
        "colab": {
          "base_uri": "https://localhost:8080/",
          "height": 817
        },
        "id": "vxBlAPryAKCm",
        "outputId": "da1431f6-8220-446a-fcdb-c776eaa0afc1"
      },
      "source": [
        "display(test_err)\n",
        "test_quality"
      ],
      "execution_count": null,
      "outputs": [
        {
          "output_type": "display_data",
          "data": {
            "text/html": [
              "<div>\n",
              "<style scoped>\n",
              "    .dataframe tbody tr th:only-of-type {\n",
              "        vertical-align: middle;\n",
              "    }\n",
              "\n",
              "    .dataframe tbody tr th {\n",
              "        vertical-align: top;\n",
              "    }\n",
              "\n",
              "    .dataframe thead th {\n",
              "        text-align: right;\n",
              "    }\n",
              "</style>\n",
              "<table border=\"1\" class=\"dataframe\">\n",
              "  <thead>\n",
              "    <tr style=\"text-align: right;\">\n",
              "      <th></th>\n",
              "      <th>user_id</th>\n",
              "      <th>time</th>\n",
              "      <th>model_nm</th>\n",
              "      <th>fwver</th>\n",
              "      <th>errtype</th>\n",
              "      <th>errcode</th>\n",
              "    </tr>\n",
              "  </thead>\n",
              "  <tbody>\n",
              "    <tr>\n",
              "      <th>0</th>\n",
              "      <td>30000</td>\n",
              "      <td>20201101030227</td>\n",
              "      <td>model_1</td>\n",
              "      <td>04.16.3553</td>\n",
              "      <td>31</td>\n",
              "      <td>1</td>\n",
              "    </tr>\n",
              "    <tr>\n",
              "      <th>1</th>\n",
              "      <td>30000</td>\n",
              "      <td>20201101030227</td>\n",
              "      <td>model_1</td>\n",
              "      <td>04.16.3553</td>\n",
              "      <td>33</td>\n",
              "      <td>2</td>\n",
              "    </tr>\n",
              "    <tr>\n",
              "      <th>2</th>\n",
              "      <td>30000</td>\n",
              "      <td>20201101030228</td>\n",
              "      <td>model_1</td>\n",
              "      <td>04.16.3553</td>\n",
              "      <td>15</td>\n",
              "      <td>1</td>\n",
              "    </tr>\n",
              "    <tr>\n",
              "      <th>3</th>\n",
              "      <td>30000</td>\n",
              "      <td>20201101030256</td>\n",
              "      <td>model_1</td>\n",
              "      <td>04.16.3553</td>\n",
              "      <td>22</td>\n",
              "      <td>1</td>\n",
              "    </tr>\n",
              "    <tr>\n",
              "      <th>4</th>\n",
              "      <td>30000</td>\n",
              "      <td>20201101030300</td>\n",
              "      <td>model_1</td>\n",
              "      <td>04.16.3553</td>\n",
              "      <td>11</td>\n",
              "      <td>1</td>\n",
              "    </tr>\n",
              "    <tr>\n",
              "      <th>...</th>\n",
              "      <td>...</td>\n",
              "      <td>...</td>\n",
              "      <td>...</td>\n",
              "      <td>...</td>\n",
              "      <td>...</td>\n",
              "      <td>...</td>\n",
              "    </tr>\n",
              "    <tr>\n",
              "      <th>16532643</th>\n",
              "      <td>44998</td>\n",
              "      <td>20201130210050</td>\n",
              "      <td>model_1</td>\n",
              "      <td>04.16.3553</td>\n",
              "      <td>40</td>\n",
              "      <td>0</td>\n",
              "    </tr>\n",
              "    <tr>\n",
              "      <th>16532644</th>\n",
              "      <td>44998</td>\n",
              "      <td>20201130211831</td>\n",
              "      <td>model_1</td>\n",
              "      <td>04.16.3553</td>\n",
              "      <td>31</td>\n",
              "      <td>1</td>\n",
              "    </tr>\n",
              "    <tr>\n",
              "      <th>16532645</th>\n",
              "      <td>44998</td>\n",
              "      <td>20201130211832</td>\n",
              "      <td>model_1</td>\n",
              "      <td>04.16.3553</td>\n",
              "      <td>15</td>\n",
              "      <td>1</td>\n",
              "    </tr>\n",
              "    <tr>\n",
              "      <th>16532646</th>\n",
              "      <td>44998</td>\n",
              "      <td>20201130212259</td>\n",
              "      <td>model_1</td>\n",
              "      <td>04.16.3553</td>\n",
              "      <td>16</td>\n",
              "      <td>1</td>\n",
              "    </tr>\n",
              "    <tr>\n",
              "      <th>16532647</th>\n",
              "      <td>44998</td>\n",
              "      <td>20201130212316</td>\n",
              "      <td>model_1</td>\n",
              "      <td>04.16.3553</td>\n",
              "      <td>31</td>\n",
              "      <td>0</td>\n",
              "    </tr>\n",
              "  </tbody>\n",
              "</table>\n",
              "<p>16532648 rows × 6 columns</p>\n",
              "</div>"
            ],
            "text/plain": [
              "          user_id            time model_nm       fwver  errtype errcode\n",
              "0           30000  20201101030227  model_1  04.16.3553       31       1\n",
              "1           30000  20201101030227  model_1  04.16.3553       33       2\n",
              "2           30000  20201101030228  model_1  04.16.3553       15       1\n",
              "3           30000  20201101030256  model_1  04.16.3553       22       1\n",
              "4           30000  20201101030300  model_1  04.16.3553       11       1\n",
              "...           ...             ...      ...         ...      ...     ...\n",
              "16532643    44998  20201130210050  model_1  04.16.3553       40       0\n",
              "16532644    44998  20201130211831  model_1  04.16.3553       31       1\n",
              "16532645    44998  20201130211832  model_1  04.16.3553       15       1\n",
              "16532646    44998  20201130212259  model_1  04.16.3553       16       1\n",
              "16532647    44998  20201130212316  model_1  04.16.3553       31       0\n",
              "\n",
              "[16532648 rows x 6 columns]"
            ]
          },
          "metadata": {
            "tags": []
          }
        },
        {
          "output_type": "execute_result",
          "data": {
            "text/html": [
              "<div>\n",
              "<style scoped>\n",
              "    .dataframe tbody tr th:only-of-type {\n",
              "        vertical-align: middle;\n",
              "    }\n",
              "\n",
              "    .dataframe tbody tr th {\n",
              "        vertical-align: top;\n",
              "    }\n",
              "\n",
              "    .dataframe thead th {\n",
              "        text-align: right;\n",
              "    }\n",
              "</style>\n",
              "<table border=\"1\" class=\"dataframe\">\n",
              "  <thead>\n",
              "    <tr style=\"text-align: right;\">\n",
              "      <th></th>\n",
              "      <th>time</th>\n",
              "      <th>user_id</th>\n",
              "      <th>fwver</th>\n",
              "      <th>quality_0</th>\n",
              "      <th>quality_1</th>\n",
              "      <th>quality_2</th>\n",
              "      <th>quality_3</th>\n",
              "      <th>quality_4</th>\n",
              "      <th>quality_5</th>\n",
              "      <th>quality_6</th>\n",
              "      <th>quality_7</th>\n",
              "      <th>quality_8</th>\n",
              "      <th>quality_9</th>\n",
              "      <th>quality_10</th>\n",
              "      <th>quality_11</th>\n",
              "      <th>quality_12</th>\n",
              "    </tr>\n",
              "  </thead>\n",
              "  <tbody>\n",
              "    <tr>\n",
              "      <th>0</th>\n",
              "      <td>20201128195000</td>\n",
              "      <td>30000</td>\n",
              "      <td>04.33.1261</td>\n",
              "      <td>0.0</td>\n",
              "      <td>0</td>\n",
              "      <td>0.0</td>\n",
              "      <td>0</td>\n",
              "      <td>0</td>\n",
              "      <td>0</td>\n",
              "      <td>0</td>\n",
              "      <td>5</td>\n",
              "      <td>0</td>\n",
              "      <td>0</td>\n",
              "      <td>2</td>\n",
              "      <td>0</td>\n",
              "      <td>0</td>\n",
              "    </tr>\n",
              "    <tr>\n",
              "      <th>1</th>\n",
              "      <td>20201128195000</td>\n",
              "      <td>30000</td>\n",
              "      <td>04.33.1261</td>\n",
              "      <td>0.0</td>\n",
              "      <td>0</td>\n",
              "      <td>0.0</td>\n",
              "      <td>0</td>\n",
              "      <td>0</td>\n",
              "      <td>0</td>\n",
              "      <td>0</td>\n",
              "      <td>5</td>\n",
              "      <td>0</td>\n",
              "      <td>0</td>\n",
              "      <td>2</td>\n",
              "      <td>0</td>\n",
              "      <td>0</td>\n",
              "    </tr>\n",
              "    <tr>\n",
              "      <th>2</th>\n",
              "      <td>20201128195000</td>\n",
              "      <td>30000</td>\n",
              "      <td>04.33.1261</td>\n",
              "      <td>0.0</td>\n",
              "      <td>0</td>\n",
              "      <td>0.0</td>\n",
              "      <td>0</td>\n",
              "      <td>0</td>\n",
              "      <td>0</td>\n",
              "      <td>0</td>\n",
              "      <td>5</td>\n",
              "      <td>0</td>\n",
              "      <td>0</td>\n",
              "      <td>2</td>\n",
              "      <td>0</td>\n",
              "      <td>0</td>\n",
              "    </tr>\n",
              "    <tr>\n",
              "      <th>3</th>\n",
              "      <td>20201128195000</td>\n",
              "      <td>30000</td>\n",
              "      <td>04.33.1261</td>\n",
              "      <td>0.0</td>\n",
              "      <td>0</td>\n",
              "      <td>0.0</td>\n",
              "      <td>0</td>\n",
              "      <td>0</td>\n",
              "      <td>0</td>\n",
              "      <td>0</td>\n",
              "      <td>5</td>\n",
              "      <td>0</td>\n",
              "      <td>0</td>\n",
              "      <td>2</td>\n",
              "      <td>0</td>\n",
              "      <td>0</td>\n",
              "    </tr>\n",
              "    <tr>\n",
              "      <th>4</th>\n",
              "      <td>20201128195000</td>\n",
              "      <td>30000</td>\n",
              "      <td>04.33.1261</td>\n",
              "      <td>0.0</td>\n",
              "      <td>0</td>\n",
              "      <td>0.0</td>\n",
              "      <td>0</td>\n",
              "      <td>0</td>\n",
              "      <td>0</td>\n",
              "      <td>0</td>\n",
              "      <td>5</td>\n",
              "      <td>0</td>\n",
              "      <td>0</td>\n",
              "      <td>2</td>\n",
              "      <td>0</td>\n",
              "      <td>0</td>\n",
              "    </tr>\n",
              "    <tr>\n",
              "      <th>...</th>\n",
              "      <td>...</td>\n",
              "      <td>...</td>\n",
              "      <td>...</td>\n",
              "      <td>...</td>\n",
              "      <td>...</td>\n",
              "      <td>...</td>\n",
              "      <td>...</td>\n",
              "      <td>...</td>\n",
              "      <td>...</td>\n",
              "      <td>...</td>\n",
              "      <td>...</td>\n",
              "      <td>...</td>\n",
              "      <td>...</td>\n",
              "      <td>...</td>\n",
              "      <td>...</td>\n",
              "      <td>...</td>\n",
              "    </tr>\n",
              "    <tr>\n",
              "      <th>747967</th>\n",
              "      <td>20201125180000</td>\n",
              "      <td>44997</td>\n",
              "      <td>04.22.1750</td>\n",
              "      <td>0.0</td>\n",
              "      <td>0</td>\n",
              "      <td>0.0</td>\n",
              "      <td>0</td>\n",
              "      <td>0</td>\n",
              "      <td>2</td>\n",
              "      <td>0</td>\n",
              "      <td>0</td>\n",
              "      <td>0</td>\n",
              "      <td>0</td>\n",
              "      <td>3</td>\n",
              "      <td>0</td>\n",
              "      <td>0</td>\n",
              "    </tr>\n",
              "    <tr>\n",
              "      <th>747968</th>\n",
              "      <td>20201125180000</td>\n",
              "      <td>44997</td>\n",
              "      <td>04.22.1750</td>\n",
              "      <td>0.0</td>\n",
              "      <td>0</td>\n",
              "      <td>0.0</td>\n",
              "      <td>0</td>\n",
              "      <td>0</td>\n",
              "      <td>0</td>\n",
              "      <td>0</td>\n",
              "      <td>0</td>\n",
              "      <td>0</td>\n",
              "      <td>0</td>\n",
              "      <td>3</td>\n",
              "      <td>0</td>\n",
              "      <td>0</td>\n",
              "    </tr>\n",
              "    <tr>\n",
              "      <th>747969</th>\n",
              "      <td>20201125180000</td>\n",
              "      <td>44997</td>\n",
              "      <td>04.22.1750</td>\n",
              "      <td>0.0</td>\n",
              "      <td>0</td>\n",
              "      <td>0.0</td>\n",
              "      <td>0</td>\n",
              "      <td>0</td>\n",
              "      <td>0</td>\n",
              "      <td>0</td>\n",
              "      <td>0</td>\n",
              "      <td>0</td>\n",
              "      <td>0</td>\n",
              "      <td>3</td>\n",
              "      <td>0</td>\n",
              "      <td>0</td>\n",
              "    </tr>\n",
              "    <tr>\n",
              "      <th>747970</th>\n",
              "      <td>20201125180000</td>\n",
              "      <td>44997</td>\n",
              "      <td>04.22.1750</td>\n",
              "      <td>0.0</td>\n",
              "      <td>0</td>\n",
              "      <td>0.0</td>\n",
              "      <td>0</td>\n",
              "      <td>0</td>\n",
              "      <td>0</td>\n",
              "      <td>0</td>\n",
              "      <td>0</td>\n",
              "      <td>0</td>\n",
              "      <td>0</td>\n",
              "      <td>3</td>\n",
              "      <td>0</td>\n",
              "      <td>0</td>\n",
              "    </tr>\n",
              "    <tr>\n",
              "      <th>747971</th>\n",
              "      <td>20201125180000</td>\n",
              "      <td>44997</td>\n",
              "      <td>04.22.1750</td>\n",
              "      <td>0.0</td>\n",
              "      <td>0</td>\n",
              "      <td>0.0</td>\n",
              "      <td>0</td>\n",
              "      <td>0</td>\n",
              "      <td>0</td>\n",
              "      <td>0</td>\n",
              "      <td>0</td>\n",
              "      <td>0</td>\n",
              "      <td>0</td>\n",
              "      <td>3</td>\n",
              "      <td>0</td>\n",
              "      <td>0</td>\n",
              "    </tr>\n",
              "  </tbody>\n",
              "</table>\n",
              "<p>747972 rows × 16 columns</p>\n",
              "</div>"
            ],
            "text/plain": [
              "                  time  user_id       fwver  ...  quality_10 quality_11  quality_12\n",
              "0       20201128195000    30000  04.33.1261  ...           2          0           0\n",
              "1       20201128195000    30000  04.33.1261  ...           2          0           0\n",
              "2       20201128195000    30000  04.33.1261  ...           2          0           0\n",
              "3       20201128195000    30000  04.33.1261  ...           2          0           0\n",
              "4       20201128195000    30000  04.33.1261  ...           2          0           0\n",
              "...                ...      ...         ...  ...         ...        ...         ...\n",
              "747967  20201125180000    44997  04.22.1750  ...           3          0           0\n",
              "747968  20201125180000    44997  04.22.1750  ...           3          0           0\n",
              "747969  20201125180000    44997  04.22.1750  ...           3          0           0\n",
              "747970  20201125180000    44997  04.22.1750  ...           3          0           0\n",
              "747971  20201125180000    44997  04.22.1750  ...           3          0           0\n",
              "\n",
              "[747972 rows x 16 columns]"
            ]
          },
          "metadata": {
            "tags": []
          },
          "execution_count": 64
        }
      ]
    }
  ]
}